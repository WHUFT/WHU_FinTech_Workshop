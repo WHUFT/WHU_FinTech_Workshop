{
 "cells": [
  {
   "cell_type": "markdown",
   "id": "6d2503c9",
   "metadata": {},
   "source": [
    "# Ensemble Learning Based on Tree 基于树的集成学习算法"
   ]
  },
  {
   "cell_type": "markdown",
   "id": "d7bf26ef",
   "metadata": {},
   "source": [
    "## (一)集成学习基本原理"
   ]
  },
  {
   "cell_type": "markdown",
   "id": "afa29a65",
   "metadata": {},
   "source": [
    "### 1、集成学习是什么？\n",
    "\n",
    "集成学习（Ensemble Learning）是训练出完成统一任务的多个不同的基模型，并综合这些基模型的预测结果做出最终预测，来获得比单独使用任何一种模型更好的预测性能。\n",
    "\n",
    "每个机器学习模型都构建了一个基于一组假设的某种模型。当假设在数据上不成立时，这种归纳偏倚将导致误差。机器学习是一个不固定的过程，在有限的数据上，每个模型都可能收敛到不同的解。一般来说，我们可以通过性能调节使一个模型尽可能达到最高的准确率，但是调节本身就是一个复杂的任务，并且对最好的算法而言，也存在实例使其不能足够准确的可能。因此，单个模型可能会学得不够好（欠拟合/偏差高）或者太容易被训练集干扰（过拟合/方差高）。为了解决上述问题，可以采用组合不同机器学习模型的方式。不同的实例有各自匹配适用的模型，将多个模型组合起来可以互相弥补弱点，克服仅使用单一机器学习算法的弊端，从而在很大程度上提高整个模型的性能。特别是当单个模型的训练结果存在显著差异时，集成学习算法往往会产生更好的结果。"
   ]
  },
  {
   "cell_type": "markdown",
   "id": "dc4b92a5",
   "metadata": {},
   "source": [
    "### 2、集成学习算法类型\n",
    "\n",
    "常见的集成学习框架可以分为三种：装袋法（Bagging）、提升法（Boosting）和堆叠法（Stacking）。"
   ]
  },
  {
   "cell_type": "markdown",
   "id": "d8f31eec",
   "metadata": {},
   "source": [
    "|集成学习框架|Bagging|Boosting|Stacking|\n",
    "|---|---|---|---|\n",
    "|思路策略|并行训练多个弱模型→平均或投票|串行训练多个弱模型→逐步纠正错误→加权叠加|不同模型并行训练→融合输出|\n",
    "|目的|更稳定、减少方差、不容易过拟合|更精细、减少偏差、逼近复杂模式|提升整体预测能力|\n",
    "|数据采样|有放回随机采样|全量或加权采样|通常使用原始数据|\n",
    "|基模型|一般相同（如树）|相同（如树）|可以完全不同（如SVM+NN+RF）|\n",
    "|模型关系|并行、独立|串行、依赖|分层结构、顶层融合|\n",
    "|训练方式|每个模型单独训练|每个模型拟合前面模型的错误|并行训练多个不同模型|\n",
    "|最终输出|多数投票/平均|加权累加|元模型预测|\n",
    "|典型算法|Random Forest|AdaBoost、GBDT、XGBoost|StackingClassifier、blender|"
   ]
  },
  {
   "cell_type": "markdown",
   "id": "69ddf2df",
   "metadata": {},
   "source": [
    "装袋法（Bagging）是构建许多独立的学习器，通过模型平均的方式组合使用（如加权平均，按多数票规则投票，归一化平均）。该技术为每个模型使用随机抽样，所以每个模型都不太一样。每个模型的输人使用有放回的抽样，所以模型的训练样本各不相同，进而通过不相关的学习器减少预测方差来降低误差。\n",
    "\n",
    "提升法（Boosting）在对模型进行集成学习时，各个基学习器不是独立的，而是串行的，该方法串行地建立一些学习器，通过一定策略提升弱分类器效果，组合得到强分类器。该技术使用的逻辑是，后面预测器学习的是前面预测器的误差。每个学习器都在前一个学习器训练结果的基础上进行学习，以纠正前面模型的错误。因此，提升法通过叠加多个串行的学习器结果来逼近精细的复杂模式，从而减少预测偏差。\n",
    "\n",
    "堆叠法（Stacking）是当初始训练数据学习出若干个基学习器后，将这几个学习器的预测结果作为新的训练集，来学习一个新的学习器。堆叠法的基础层通常包括不同的学习算法，可以有效改进预测。"
   ]
  },
  {
   "cell_type": "markdown",
   "id": "bfe141d3",
   "metadata": {},
   "source": [
    "## （二）集成学习的偏差与方差"
   ]
  },
  {
   "cell_type": "markdown",
   "id": "588c3f9a",
   "metadata": {},
   "source": [
    "### 1、模型的方差和偏差\n",
    "\n",
    "设样本容量为$n$的训练集为$k$维随机变量的集合$(X_{1}, X_{2}, ..., X{k})_{n}$，那么机器学习模型是以这些随机变量为输入的随机变量函数，预测的结果也是随机变量$F_{n}(X_{1}, X_{2}, ..., X{k})$。训练样本的随机性带来了模型的随机性。\n",
    "\n",
    "通常来说，强模型在训练集上预测准确度高（偏差低），但容易过拟合（方差高），而弱模型是在训练集上准确度低（偏差高），但防止过拟合能力强（方差低）。在Bagging和 Stacking中的基模型为强模型，而Boosting中的基模型为弱模型。"
   ]
  },
  {
   "cell_type": "markdown",
   "id": "a3ada40b",
   "metadata": {},
   "source": [
    "在集成学习Bagging和Boosting框架中，通过计算基模型的期望和方差我们可以得到集成模型整体的期望和方差。为了简化模型，我们假设基模型的期望为$\\mu$，方差$\\sigma^2$ ，基模型$i$的权重为$r_i$，两两模型间的相关系数$\\rho$相等。由于Bagging和Boosting的基模型都是线性组成的，那么有：\n",
    "\n",
    "集成模型的总体期望：\n",
    "$$\n",
    "\\begin{aligned}\n",
    "E(F) &=E\\left(\\sum_{i}^{m} r_{i} f_{i}\\right) \\\\\n",
    "&=\\sum_{i}^{m} r_{i} E\\left(f_{i}\\right)\n",
    "\\end{aligned}\n",
    "$$\n",
    "集成模型的总体方差：\n",
    "$$\n",
    "\\begin{aligned}\n",
    "\\operatorname{Var}(F) &=\\operatorname{Var}\\left(\\sum_{i}^{m} r_{i} f_{i}\\right) \\\\\n",
    "&=\\sum_{i}^{m} \\operatorname{Var}\\left(r_{i} f_{i}\\right)+\\sum_{i \\neq j}^{m} \\operatorname{Cov}\\left(r_{i} f_{i}, r_{j} f_{j}\\right) \\\\\n",
    "&=\\sum_{i}^{m} r_{i}^{2} \\operatorname{Var}\\left(f_{i}\\right)+\\sum_{i \\neq j}^{m} \\rho r_{i} r_{j} \\sqrt{\\operatorname{Var}\\left(f_{i}\\right)} \\sqrt{\\operatorname{Var}\\left(f_{j}\\right)} \\\\\n",
    "&=m r^{2} \\sigma^{2}+m(m-1) \\rho r^{2} \\sigma^{2}\\\\\n",
    "&=m r^{2} \\sigma^{2}(1-\\rho)+m^{2}r^{2}\\sigma^{2}\\rho\n",
    "\\end{aligned}\n",
    "$$\n",
    "\n",
    "而集成模型的准确度可由偏差和方差共同决定：\n",
    "$$\n",
    "\\text { Error }=\\text { bias }^{2}+\\text { var }+\\xi\n",
    "$$"
   ]
  },
  {
   "cell_type": "markdown",
   "id": "4ff910e1",
   "metadata": {},
   "source": [
    "### 2、Bagging的偏差和方差\n",
    "\n",
    "对于Bagging而言，每个基模型的权重等于$r = \\frac{1}{m}$，且期望近似相等，故我们可以得到：\n",
    "$$\n",
    "\\begin{aligned}\n",
    "E(F) &=\\sum_{i}^{m} r_{i} E\\left(f_{i}\\right) \\\\\n",
    "&=m \\frac{1}{m} \\mu \\\\\n",
    "&=\\mu\n",
    "\\end{aligned}\n",
    "$$\n",
    "\n",
    "$$\n",
    "\\begin{aligned}\n",
    "\\operatorname{Var}(F) &=m r^{2} \\sigma^{2}+m(m-1) \\rho r^{2} \\sigma^{2}\\\\\n",
    "&=\\frac{\\sigma^{2}(1-\\rho)}{m}+\\sigma^{2}\\rho\n",
    "\\end{aligned}\n",
    "$$\n",
    "\n",
    "Bagging集成模型的期望近似于基模型的期望，这也就意味着Bagging集成模型的偏差和基模型的偏差近似。\n",
    "\n",
    "Bagging集成模型的方差小于等于基模型的方差（当且仅当$m=1$时取等号）。随着基模型数量$m$的增多，集成模型的方差减少，从而防止过拟合的能力增强，模型的准确度得到提高。但当基模型数增加到一定程度时，方差会趋近于$\\sigma^{2}\\rho$，防止过拟合的能力达到极限。\n",
    "\n",
    "由此可见，Bagging适用于强模型（偏差低，方差高），能通过随机抽样取平均的方式，降低其方差。"
   ]
  },
  {
   "cell_type": "markdown",
   "id": "4cd136c3",
   "metadata": {},
   "source": [
    "### 3、Boosting的偏差和方差\n",
    "\n",
    "对于Boosting来说，由于基模型共用同一套训练集，所以基模型间具有强相关性，故模型间的相关系数近似等于1，针对Boosting化简公式为：\n",
    "$$\n",
    "E(F)=\\sum_{i}^{m} r_{i} E\\left(f_{i}\\right)\n",
    "$$\n",
    "$$\n",
    "\\begin{aligned}\n",
    "\\operatorname{Var}(F) &=m r^{2} \\sigma^{2}(1-\\rho)+m^{2} r^{2} \\sigma^{2} \\rho \\\\\n",
    "&=mr^{2} \\sigma^{2}(1-1)+m^{2} r^{2} \\sigma^{2} 1 \\\\\n",
    "&=m^{2} r^{2} \\sigma^{2}\n",
    "\\end{aligned}\n",
    "$$\n",
    "\n",
    "通过观察Boosting方差表达式我们容易发现，若Boosting基模型不是弱模型，其方差相对较大，这将导致整体模型的方差很大，即无法达到防止过拟合的效果。因此，Boosting框架中的基模型必须为弱模型。\n",
    "\n",
    "基模型为弱模型，每个基模型的准确度都不是很高。但Boosting框架中采用基于贪心策略的前向加法，集成模型的期望由基模型的期望累加而成，所以随着基模型数的增多，集成模型的期望值偏差减小，集成模型的准确度提高，更接近真实值。\n",
    "\n",
    "但是集成模型的准确度也不会随着基模型数量的增加而单调上升，因为随着训练的进行，Boosting集成的方差会变大，使得集成模型防止过拟合的能力变弱，最终导致了准确度反而有所下降。"
   ]
  },
  {
   "cell_type": "markdown",
   "id": "9a9396e5",
   "metadata": {},
   "source": [
    "## （三）Bagging and Random Forest"
   ]
  },
  {
   "cell_type": "markdown",
   "id": "e20fe034",
   "metadata": {},
   "source": [
    "### 1、随机森林算法的原理\n",
    "决策树对训练数据有很好的分类能力，但对未知的测试数据未必有好的分类能力，泛化能力弱，即可能发生过拟合现象。为了防止过拟合情况的发生，通常的解决方法是剪枝和随机森林。\n",
    "\n",
    "如果想要得到较好的泛化性能，集成学习的基学习器应该尽可能的相互独立，而这可以通过对训练样本的进行采样，产生出若干个不同的数据集，从每个数据集中训练出一个基学习器，但如果每个基学习器只用到了一部分数据，可能会不足以产生有效的学习效果，因此需要相互有交叠的采样子集，这便是Bagging方法（Bootstrap AGGregatING）的思想。\n"
   ]
  },
  {
   "cell_type": "markdown",
   "id": "39de1dad",
   "metadata": {},
   "source": [
    "![图示](Bagging.png)"
   ]
  },
  {
   "cell_type": "markdown",
   "id": "d422b94f",
   "metadata": {},
   "source": [
    "随机森林作为Bagging方法的扩展变体，是用随机的方式建立一个森林，里面有很多决策树，随机森林的每一棵决策树之间是没有关联的。在得到森林之后，当有一个新的输入样本进入时，森林中的每一棵决策树分别判断样本特征，观测者根据决策树的判断结果预测样本类别。\n",
    "\n",
    "随机森林的基本逻辑和步骤如下：\n",
    "\n",
    "第一步，从样本集中用有放回抽样的方式随机选出$n$个样本。\n",
    "\n",
    "第二步，从所有属性中随机选择$p$个属性（假设共有$m$个属性），选择最佳分割属性作为节点建立决策树，该过程中不需要剪枝。不剪枝的好处是能够减少偏差。\n",
    "\n",
    "第三步，重复以上两步$t$次，即建立$t$棵决策树，这$m$棵决策树形成随机森林，通过投票表决结果，决定数据属于哪一类。\n",
    "\n",
    "随机森林之所以可以取得更好的泛化性能，是因为子树构建时并未用到所有特征，仅随机选取部分变量（$p$个变量）作为候选的分裂变量。每次只随机抽样一部分特征变量，会增大偏差，但不同树被强迫使用不同的特征分裂，可以降低树之间的相关性，从而减少方差。森林中多数不相关的树预测的结果涵盖所有的情况，这些预测结果将会彼此抵消，而少数优秀树的预测的结果会从“噪音”中脱颖而出，做出好的预测。在偏差和方差的权衡中，随机森林以牺牲少量偏差为代价，换取更小的方差，从而降低模型总误差，提高预测性能。"
   ]
  },
  {
   "cell_type": "markdown",
   "id": "7214ed84",
   "metadata": {},
   "source": [
    "![图示](RF.png)"
   ]
  },
  {
   "cell_type": "markdown",
   "id": "902b7dbf",
   "metadata": {},
   "source": [
    "### 2、随机森林算法实践"
   ]
  },
  {
   "cell_type": "code",
   "execution_count": null,
   "id": "9607af0f",
   "metadata": {},
   "outputs": [],
   "source": [
    "## 导入需要的库\n",
    "import pandas as pd\n",
    "import numpy as np\n",
    "from collections import defaultdict\n",
    "import datetime\n",
    "from sklearn.tree import DecisionTreeClassifier \n",
    "from sklearn.ensemble import RandomForestClassifier, RandomForestRegressor\n",
    "from sklearn.model_selection import cross_val_score\n",
    "from sklearn.metrics import precision_score, recall_score, roc_auc_score, roc_curve, accuracy_score\n",
    "from sklearn.model_selection import GridSearchCV\n",
    "from sklearn.model_selection import train_test_split"
   ]
  },
  {
   "cell_type": "markdown",
   "id": "0e48c71c",
   "metadata": {},
   "source": [
    "### （1）产品召回预测"
   ]
  },
  {
   "cell_type": "markdown",
   "id": "e1f265d2",
   "metadata": {},
   "source": [
    "数据为某产品召回前调查，出于敏感信息保密原则，具体字段名称做了一定的替换。主要的字段有四个渠道的消费和时长以及和客服沟通的次数等。下面我们使用随机森林算法，根据产品召回前调查情况预测产品是否会被召回。"
   ]
  },
  {
   "cell_type": "code",
   "execution_count": null,
   "id": "d9d905bf",
   "metadata": {},
   "outputs": [
    {
     "data": {
      "text/html": [
       "<div>\n",
       "<style scoped>\n",
       "    .dataframe tbody tr th:only-of-type {\n",
       "        vertical-align: middle;\n",
       "    }\n",
       "\n",
       "    .dataframe tbody tr th {\n",
       "        vertical-align: top;\n",
       "    }\n",
       "\n",
       "    .dataframe thead th {\n",
       "        text-align: right;\n",
       "    }\n",
       "</style>\n",
       "<table border=\"1\" class=\"dataframe\">\n",
       "  <thead>\n",
       "    <tr style=\"text-align: right;\">\n",
       "      <th></th>\n",
       "      <th>业务1使用次数</th>\n",
       "      <th>渠道1时长</th>\n",
       "      <th>渠道1访问次数</th>\n",
       "      <th>渠道1消费</th>\n",
       "      <th>渠道2时长</th>\n",
       "      <th>渠道2访问次数</th>\n",
       "      <th>渠道2消费</th>\n",
       "      <th>渠道3时长</th>\n",
       "      <th>渠道3访问次数</th>\n",
       "      <th>渠道3消费</th>\n",
       "      <th>渠道4时长</th>\n",
       "      <th>渠道4访问次数</th>\n",
       "      <th>渠道4消费</th>\n",
       "      <th>与客服沟通次数</th>\n",
       "      <th>isrun</th>\n",
       "    </tr>\n",
       "  </thead>\n",
       "  <tbody>\n",
       "    <tr>\n",
       "      <th>0</th>\n",
       "      <td>25</td>\n",
       "      <td>265.1</td>\n",
       "      <td>110</td>\n",
       "      <td>45.07</td>\n",
       "      <td>197.4</td>\n",
       "      <td>99</td>\n",
       "      <td>16.78</td>\n",
       "      <td>244.7</td>\n",
       "      <td>91</td>\n",
       "      <td>11.01</td>\n",
       "      <td>10.0</td>\n",
       "      <td>3</td>\n",
       "      <td>2.70</td>\n",
       "      <td>1</td>\n",
       "      <td>False</td>\n",
       "    </tr>\n",
       "    <tr>\n",
       "      <th>1</th>\n",
       "      <td>26</td>\n",
       "      <td>161.6</td>\n",
       "      <td>123</td>\n",
       "      <td>27.47</td>\n",
       "      <td>195.5</td>\n",
       "      <td>103</td>\n",
       "      <td>16.62</td>\n",
       "      <td>254.4</td>\n",
       "      <td>103</td>\n",
       "      <td>11.45</td>\n",
       "      <td>13.7</td>\n",
       "      <td>3</td>\n",
       "      <td>3.70</td>\n",
       "      <td>1</td>\n",
       "      <td>False</td>\n",
       "    </tr>\n",
       "    <tr>\n",
       "      <th>2</th>\n",
       "      <td>0</td>\n",
       "      <td>243.4</td>\n",
       "      <td>114</td>\n",
       "      <td>41.38</td>\n",
       "      <td>121.2</td>\n",
       "      <td>110</td>\n",
       "      <td>10.30</td>\n",
       "      <td>162.6</td>\n",
       "      <td>104</td>\n",
       "      <td>7.32</td>\n",
       "      <td>12.2</td>\n",
       "      <td>5</td>\n",
       "      <td>3.29</td>\n",
       "      <td>0</td>\n",
       "      <td>False</td>\n",
       "    </tr>\n",
       "    <tr>\n",
       "      <th>3</th>\n",
       "      <td>0</td>\n",
       "      <td>299.4</td>\n",
       "      <td>71</td>\n",
       "      <td>50.90</td>\n",
       "      <td>61.9</td>\n",
       "      <td>88</td>\n",
       "      <td>5.26</td>\n",
       "      <td>196.9</td>\n",
       "      <td>89</td>\n",
       "      <td>8.86</td>\n",
       "      <td>6.6</td>\n",
       "      <td>7</td>\n",
       "      <td>1.78</td>\n",
       "      <td>2</td>\n",
       "      <td>False</td>\n",
       "    </tr>\n",
       "    <tr>\n",
       "      <th>4</th>\n",
       "      <td>0</td>\n",
       "      <td>166.7</td>\n",
       "      <td>113</td>\n",
       "      <td>28.34</td>\n",
       "      <td>148.3</td>\n",
       "      <td>122</td>\n",
       "      <td>12.61</td>\n",
       "      <td>186.9</td>\n",
       "      <td>121</td>\n",
       "      <td>8.41</td>\n",
       "      <td>10.1</td>\n",
       "      <td>3</td>\n",
       "      <td>2.73</td>\n",
       "      <td>3</td>\n",
       "      <td>False</td>\n",
       "    </tr>\n",
       "  </tbody>\n",
       "</table>\n",
       "</div>"
      ],
      "text/plain": [
       "   业务1使用次数  渠道1时长  渠道1访问次数  渠道1消费  渠道2时长  渠道2访问次数  渠道2消费  渠道3时长  渠道3访问次数  \\\n",
       "0       25  265.1      110  45.07  197.4       99  16.78  244.7       91   \n",
       "1       26  161.6      123  27.47  195.5      103  16.62  254.4      103   \n",
       "2        0  243.4      114  41.38  121.2      110  10.30  162.6      104   \n",
       "3        0  299.4       71  50.90   61.9       88   5.26  196.9       89   \n",
       "4        0  166.7      113  28.34  148.3      122  12.61  186.9      121   \n",
       "\n",
       "   渠道3消费  渠道4时长  渠道4访问次数  渠道4消费  与客服沟通次数  isrun  \n",
       "0  11.01   10.0        3   2.70        1  False  \n",
       "1  11.45   13.7        3   3.70        1  False  \n",
       "2   7.32   12.2        5   3.29        0  False  \n",
       "3   8.86    6.6        7   1.78        2  False  \n",
       "4   8.41   10.1        3   2.73        3  False  "
      ]
     },
     "execution_count": 69,
     "metadata": {},
     "output_type": "execute_result"
    }
   ],
   "source": [
    "## 读取数据\n",
    "data = pd.read_csv('ProductRecall.csv', encoding='gbk')\n",
    "data.head()"
   ]
  },
  {
   "cell_type": "code",
   "execution_count": 70,
   "id": "3f05c171",
   "metadata": {},
   "outputs": [],
   "source": [
    "## 划分数据集\n",
    "labels = np.array(data.pop(\"isrun\"))\n",
    "train, test, train_labels, test_labels = train_test_split(data, labels,\n",
    "                                                          stratify = labels,\n",
    "                                                          test_size = 0.3, # 按照训练集测试集7：3进行划分\n",
    "                                                          random_state = 114)\n",
    "train = train.fillna(train.mean())\n",
    "test = test.fillna(test.mean()) # 以均值填充缺失\n",
    "features = list(train.columns)"
   ]
  },
  {
   "cell_type": "code",
   "execution_count": null,
   "id": "fc086a38",
   "metadata": {},
   "outputs": [
    {
     "data": {
      "text/html": [
       "<style>#sk-container-id-6 {\n",
       "  /* Definition of color scheme common for light and dark mode */\n",
       "  --sklearn-color-text: black;\n",
       "  --sklearn-color-line: gray;\n",
       "  /* Definition of color scheme for unfitted estimators */\n",
       "  --sklearn-color-unfitted-level-0: #fff5e6;\n",
       "  --sklearn-color-unfitted-level-1: #f6e4d2;\n",
       "  --sklearn-color-unfitted-level-2: #ffe0b3;\n",
       "  --sklearn-color-unfitted-level-3: chocolate;\n",
       "  /* Definition of color scheme for fitted estimators */\n",
       "  --sklearn-color-fitted-level-0: #f0f8ff;\n",
       "  --sklearn-color-fitted-level-1: #d4ebff;\n",
       "  --sklearn-color-fitted-level-2: #b3dbfd;\n",
       "  --sklearn-color-fitted-level-3: cornflowerblue;\n",
       "\n",
       "  /* Specific color for light theme */\n",
       "  --sklearn-color-text-on-default-background: var(--sg-text-color, var(--theme-code-foreground, var(--jp-content-font-color1, black)));\n",
       "  --sklearn-color-background: var(--sg-background-color, var(--theme-background, var(--jp-layout-color0, white)));\n",
       "  --sklearn-color-border-box: var(--sg-text-color, var(--theme-code-foreground, var(--jp-content-font-color1, black)));\n",
       "  --sklearn-color-icon: #696969;\n",
       "\n",
       "  @media (prefers-color-scheme: dark) {\n",
       "    /* Redefinition of color scheme for dark theme */\n",
       "    --sklearn-color-text-on-default-background: var(--sg-text-color, var(--theme-code-foreground, var(--jp-content-font-color1, white)));\n",
       "    --sklearn-color-background: var(--sg-background-color, var(--theme-background, var(--jp-layout-color0, #111)));\n",
       "    --sklearn-color-border-box: var(--sg-text-color, var(--theme-code-foreground, var(--jp-content-font-color1, white)));\n",
       "    --sklearn-color-icon: #878787;\n",
       "  }\n",
       "}\n",
       "\n",
       "#sk-container-id-6 {\n",
       "  color: var(--sklearn-color-text);\n",
       "}\n",
       "\n",
       "#sk-container-id-6 pre {\n",
       "  padding: 0;\n",
       "}\n",
       "\n",
       "#sk-container-id-6 input.sk-hidden--visually {\n",
       "  border: 0;\n",
       "  clip: rect(1px 1px 1px 1px);\n",
       "  clip: rect(1px, 1px, 1px, 1px);\n",
       "  height: 1px;\n",
       "  margin: -1px;\n",
       "  overflow: hidden;\n",
       "  padding: 0;\n",
       "  position: absolute;\n",
       "  width: 1px;\n",
       "}\n",
       "\n",
       "#sk-container-id-6 div.sk-dashed-wrapped {\n",
       "  border: 1px dashed var(--sklearn-color-line);\n",
       "  margin: 0 0.4em 0.5em 0.4em;\n",
       "  box-sizing: border-box;\n",
       "  padding-bottom: 0.4em;\n",
       "  background-color: var(--sklearn-color-background);\n",
       "}\n",
       "\n",
       "#sk-container-id-6 div.sk-container {\n",
       "  /* jupyter's `normalize.less` sets `[hidden] { display: none; }`\n",
       "     but bootstrap.min.css set `[hidden] { display: none !important; }`\n",
       "     so we also need the `!important` here to be able to override the\n",
       "     default hidden behavior on the sphinx rendered scikit-learn.org.\n",
       "     See: https://github.com/scikit-learn/scikit-learn/issues/21755 */\n",
       "  display: inline-block !important;\n",
       "  position: relative;\n",
       "}\n",
       "\n",
       "#sk-container-id-6 div.sk-text-repr-fallback {\n",
       "  display: none;\n",
       "}\n",
       "\n",
       "div.sk-parallel-item,\n",
       "div.sk-serial,\n",
       "div.sk-item {\n",
       "  /* draw centered vertical line to link estimators */\n",
       "  background-image: linear-gradient(var(--sklearn-color-text-on-default-background), var(--sklearn-color-text-on-default-background));\n",
       "  background-size: 2px 100%;\n",
       "  background-repeat: no-repeat;\n",
       "  background-position: center center;\n",
       "}\n",
       "\n",
       "/* Parallel-specific style estimator block */\n",
       "\n",
       "#sk-container-id-6 div.sk-parallel-item::after {\n",
       "  content: \"\";\n",
       "  width: 100%;\n",
       "  border-bottom: 2px solid var(--sklearn-color-text-on-default-background);\n",
       "  flex-grow: 1;\n",
       "}\n",
       "\n",
       "#sk-container-id-6 div.sk-parallel {\n",
       "  display: flex;\n",
       "  align-items: stretch;\n",
       "  justify-content: center;\n",
       "  background-color: var(--sklearn-color-background);\n",
       "  position: relative;\n",
       "}\n",
       "\n",
       "#sk-container-id-6 div.sk-parallel-item {\n",
       "  display: flex;\n",
       "  flex-direction: column;\n",
       "}\n",
       "\n",
       "#sk-container-id-6 div.sk-parallel-item:first-child::after {\n",
       "  align-self: flex-end;\n",
       "  width: 50%;\n",
       "}\n",
       "\n",
       "#sk-container-id-6 div.sk-parallel-item:last-child::after {\n",
       "  align-self: flex-start;\n",
       "  width: 50%;\n",
       "}\n",
       "\n",
       "#sk-container-id-6 div.sk-parallel-item:only-child::after {\n",
       "  width: 0;\n",
       "}\n",
       "\n",
       "/* Serial-specific style estimator block */\n",
       "\n",
       "#sk-container-id-6 div.sk-serial {\n",
       "  display: flex;\n",
       "  flex-direction: column;\n",
       "  align-items: center;\n",
       "  background-color: var(--sklearn-color-background);\n",
       "  padding-right: 1em;\n",
       "  padding-left: 1em;\n",
       "}\n",
       "\n",
       "\n",
       "/* Toggleable style: style used for estimator/Pipeline/ColumnTransformer box that is\n",
       "clickable and can be expanded/collapsed.\n",
       "- Pipeline and ColumnTransformer use this feature and define the default style\n",
       "- Estimators will overwrite some part of the style using the `sk-estimator` class\n",
       "*/\n",
       "\n",
       "/* Pipeline and ColumnTransformer style (default) */\n",
       "\n",
       "#sk-container-id-6 div.sk-toggleable {\n",
       "  /* Default theme specific background. It is overwritten whether we have a\n",
       "  specific estimator or a Pipeline/ColumnTransformer */\n",
       "  background-color: var(--sklearn-color-background);\n",
       "}\n",
       "\n",
       "/* Toggleable label */\n",
       "#sk-container-id-6 label.sk-toggleable__label {\n",
       "  cursor: pointer;\n",
       "  display: block;\n",
       "  width: 100%;\n",
       "  margin-bottom: 0;\n",
       "  padding: 0.5em;\n",
       "  box-sizing: border-box;\n",
       "  text-align: center;\n",
       "}\n",
       "\n",
       "#sk-container-id-6 label.sk-toggleable__label-arrow:before {\n",
       "  /* Arrow on the left of the label */\n",
       "  content: \"▸\";\n",
       "  float: left;\n",
       "  margin-right: 0.25em;\n",
       "  color: var(--sklearn-color-icon);\n",
       "}\n",
       "\n",
       "#sk-container-id-6 label.sk-toggleable__label-arrow:hover:before {\n",
       "  color: var(--sklearn-color-text);\n",
       "}\n",
       "\n",
       "/* Toggleable content - dropdown */\n",
       "\n",
       "#sk-container-id-6 div.sk-toggleable__content {\n",
       "  max-height: 0;\n",
       "  max-width: 0;\n",
       "  overflow: hidden;\n",
       "  text-align: left;\n",
       "  /* unfitted */\n",
       "  background-color: var(--sklearn-color-unfitted-level-0);\n",
       "}\n",
       "\n",
       "#sk-container-id-6 div.sk-toggleable__content.fitted {\n",
       "  /* fitted */\n",
       "  background-color: var(--sklearn-color-fitted-level-0);\n",
       "}\n",
       "\n",
       "#sk-container-id-6 div.sk-toggleable__content pre {\n",
       "  margin: 0.2em;\n",
       "  border-radius: 0.25em;\n",
       "  color: var(--sklearn-color-text);\n",
       "  /* unfitted */\n",
       "  background-color: var(--sklearn-color-unfitted-level-0);\n",
       "}\n",
       "\n",
       "#sk-container-id-6 div.sk-toggleable__content.fitted pre {\n",
       "  /* unfitted */\n",
       "  background-color: var(--sklearn-color-fitted-level-0);\n",
       "}\n",
       "\n",
       "#sk-container-id-6 input.sk-toggleable__control:checked~div.sk-toggleable__content {\n",
       "  /* Expand drop-down */\n",
       "  max-height: 200px;\n",
       "  max-width: 100%;\n",
       "  overflow: auto;\n",
       "}\n",
       "\n",
       "#sk-container-id-6 input.sk-toggleable__control:checked~label.sk-toggleable__label-arrow:before {\n",
       "  content: \"▾\";\n",
       "}\n",
       "\n",
       "/* Pipeline/ColumnTransformer-specific style */\n",
       "\n",
       "#sk-container-id-6 div.sk-label input.sk-toggleable__control:checked~label.sk-toggleable__label {\n",
       "  color: var(--sklearn-color-text);\n",
       "  background-color: var(--sklearn-color-unfitted-level-2);\n",
       "}\n",
       "\n",
       "#sk-container-id-6 div.sk-label.fitted input.sk-toggleable__control:checked~label.sk-toggleable__label {\n",
       "  background-color: var(--sklearn-color-fitted-level-2);\n",
       "}\n",
       "\n",
       "/* Estimator-specific style */\n",
       "\n",
       "/* Colorize estimator box */\n",
       "#sk-container-id-6 div.sk-estimator input.sk-toggleable__control:checked~label.sk-toggleable__label {\n",
       "  /* unfitted */\n",
       "  background-color: var(--sklearn-color-unfitted-level-2);\n",
       "}\n",
       "\n",
       "#sk-container-id-6 div.sk-estimator.fitted input.sk-toggleable__control:checked~label.sk-toggleable__label {\n",
       "  /* fitted */\n",
       "  background-color: var(--sklearn-color-fitted-level-2);\n",
       "}\n",
       "\n",
       "#sk-container-id-6 div.sk-label label.sk-toggleable__label,\n",
       "#sk-container-id-6 div.sk-label label {\n",
       "  /* The background is the default theme color */\n",
       "  color: var(--sklearn-color-text-on-default-background);\n",
       "}\n",
       "\n",
       "/* On hover, darken the color of the background */\n",
       "#sk-container-id-6 div.sk-label:hover label.sk-toggleable__label {\n",
       "  color: var(--sklearn-color-text);\n",
       "  background-color: var(--sklearn-color-unfitted-level-2);\n",
       "}\n",
       "\n",
       "/* Label box, darken color on hover, fitted */\n",
       "#sk-container-id-6 div.sk-label.fitted:hover label.sk-toggleable__label.fitted {\n",
       "  color: var(--sklearn-color-text);\n",
       "  background-color: var(--sklearn-color-fitted-level-2);\n",
       "}\n",
       "\n",
       "/* Estimator label */\n",
       "\n",
       "#sk-container-id-6 div.sk-label label {\n",
       "  font-family: monospace;\n",
       "  font-weight: bold;\n",
       "  display: inline-block;\n",
       "  line-height: 1.2em;\n",
       "}\n",
       "\n",
       "#sk-container-id-6 div.sk-label-container {\n",
       "  text-align: center;\n",
       "}\n",
       "\n",
       "/* Estimator-specific */\n",
       "#sk-container-id-6 div.sk-estimator {\n",
       "  font-family: monospace;\n",
       "  border: 1px dotted var(--sklearn-color-border-box);\n",
       "  border-radius: 0.25em;\n",
       "  box-sizing: border-box;\n",
       "  margin-bottom: 0.5em;\n",
       "  /* unfitted */\n",
       "  background-color: var(--sklearn-color-unfitted-level-0);\n",
       "}\n",
       "\n",
       "#sk-container-id-6 div.sk-estimator.fitted {\n",
       "  /* fitted */\n",
       "  background-color: var(--sklearn-color-fitted-level-0);\n",
       "}\n",
       "\n",
       "/* on hover */\n",
       "#sk-container-id-6 div.sk-estimator:hover {\n",
       "  /* unfitted */\n",
       "  background-color: var(--sklearn-color-unfitted-level-2);\n",
       "}\n",
       "\n",
       "#sk-container-id-6 div.sk-estimator.fitted:hover {\n",
       "  /* fitted */\n",
       "  background-color: var(--sklearn-color-fitted-level-2);\n",
       "}\n",
       "\n",
       "/* Specification for estimator info (e.g. \"i\" and \"?\") */\n",
       "\n",
       "/* Common style for \"i\" and \"?\" */\n",
       "\n",
       ".sk-estimator-doc-link,\n",
       "a:link.sk-estimator-doc-link,\n",
       "a:visited.sk-estimator-doc-link {\n",
       "  float: right;\n",
       "  font-size: smaller;\n",
       "  line-height: 1em;\n",
       "  font-family: monospace;\n",
       "  background-color: var(--sklearn-color-background);\n",
       "  border-radius: 1em;\n",
       "  height: 1em;\n",
       "  width: 1em;\n",
       "  text-decoration: none !important;\n",
       "  margin-left: 1ex;\n",
       "  /* unfitted */\n",
       "  border: var(--sklearn-color-unfitted-level-1) 1pt solid;\n",
       "  color: var(--sklearn-color-unfitted-level-1);\n",
       "}\n",
       "\n",
       ".sk-estimator-doc-link.fitted,\n",
       "a:link.sk-estimator-doc-link.fitted,\n",
       "a:visited.sk-estimator-doc-link.fitted {\n",
       "  /* fitted */\n",
       "  border: var(--sklearn-color-fitted-level-1) 1pt solid;\n",
       "  color: var(--sklearn-color-fitted-level-1);\n",
       "}\n",
       "\n",
       "/* On hover */\n",
       "div.sk-estimator:hover .sk-estimator-doc-link:hover,\n",
       ".sk-estimator-doc-link:hover,\n",
       "div.sk-label-container:hover .sk-estimator-doc-link:hover,\n",
       ".sk-estimator-doc-link:hover {\n",
       "  /* unfitted */\n",
       "  background-color: var(--sklearn-color-unfitted-level-3);\n",
       "  color: var(--sklearn-color-background);\n",
       "  text-decoration: none;\n",
       "}\n",
       "\n",
       "div.sk-estimator.fitted:hover .sk-estimator-doc-link.fitted:hover,\n",
       ".sk-estimator-doc-link.fitted:hover,\n",
       "div.sk-label-container:hover .sk-estimator-doc-link.fitted:hover,\n",
       ".sk-estimator-doc-link.fitted:hover {\n",
       "  /* fitted */\n",
       "  background-color: var(--sklearn-color-fitted-level-3);\n",
       "  color: var(--sklearn-color-background);\n",
       "  text-decoration: none;\n",
       "}\n",
       "\n",
       "/* Span, style for the box shown on hovering the info icon */\n",
       ".sk-estimator-doc-link span {\n",
       "  display: none;\n",
       "  z-index: 9999;\n",
       "  position: relative;\n",
       "  font-weight: normal;\n",
       "  right: .2ex;\n",
       "  padding: .5ex;\n",
       "  margin: .5ex;\n",
       "  width: min-content;\n",
       "  min-width: 20ex;\n",
       "  max-width: 50ex;\n",
       "  color: var(--sklearn-color-text);\n",
       "  box-shadow: 2pt 2pt 4pt #999;\n",
       "  /* unfitted */\n",
       "  background: var(--sklearn-color-unfitted-level-0);\n",
       "  border: .5pt solid var(--sklearn-color-unfitted-level-3);\n",
       "}\n",
       "\n",
       ".sk-estimator-doc-link.fitted span {\n",
       "  /* fitted */\n",
       "  background: var(--sklearn-color-fitted-level-0);\n",
       "  border: var(--sklearn-color-fitted-level-3);\n",
       "}\n",
       "\n",
       ".sk-estimator-doc-link:hover span {\n",
       "  display: block;\n",
       "}\n",
       "\n",
       "/* \"?\"-specific style due to the `<a>` HTML tag */\n",
       "\n",
       "#sk-container-id-6 a.estimator_doc_link {\n",
       "  float: right;\n",
       "  font-size: 1rem;\n",
       "  line-height: 1em;\n",
       "  font-family: monospace;\n",
       "  background-color: var(--sklearn-color-background);\n",
       "  border-radius: 1rem;\n",
       "  height: 1rem;\n",
       "  width: 1rem;\n",
       "  text-decoration: none;\n",
       "  /* unfitted */\n",
       "  color: var(--sklearn-color-unfitted-level-1);\n",
       "  border: var(--sklearn-color-unfitted-level-1) 1pt solid;\n",
       "}\n",
       "\n",
       "#sk-container-id-6 a.estimator_doc_link.fitted {\n",
       "  /* fitted */\n",
       "  border: var(--sklearn-color-fitted-level-1) 1pt solid;\n",
       "  color: var(--sklearn-color-fitted-level-1);\n",
       "}\n",
       "\n",
       "/* On hover */\n",
       "#sk-container-id-6 a.estimator_doc_link:hover {\n",
       "  /* unfitted */\n",
       "  background-color: var(--sklearn-color-unfitted-level-3);\n",
       "  color: var(--sklearn-color-background);\n",
       "  text-decoration: none;\n",
       "}\n",
       "\n",
       "#sk-container-id-6 a.estimator_doc_link.fitted:hover {\n",
       "  /* fitted */\n",
       "  background-color: var(--sklearn-color-fitted-level-3);\n",
       "}\n",
       "</style><div id=\"sk-container-id-6\" class=\"sk-top-container\"><div class=\"sk-text-repr-fallback\"><pre>RandomForestClassifier(n_estimators=20, random_state=114)</pre><b>In a Jupyter environment, please rerun this cell to show the HTML representation or trust the notebook. <br />On GitHub, the HTML representation is unable to render, please try loading this page with nbviewer.org.</b></div><div class=\"sk-container\" hidden><div class=\"sk-item\"><div class=\"sk-estimator fitted sk-toggleable\"><input class=\"sk-toggleable__control sk-hidden--visually\" id=\"sk-estimator-id-6\" type=\"checkbox\" checked><label for=\"sk-estimator-id-6\" class=\"sk-toggleable__label fitted sk-toggleable__label-arrow fitted\">&nbsp;&nbsp;RandomForestClassifier<a class=\"sk-estimator-doc-link fitted\" rel=\"noreferrer\" target=\"_blank\" href=\"https://scikit-learn.org/1.4/modules/generated/sklearn.ensemble.RandomForestClassifier.html\">?<span>Documentation for RandomForestClassifier</span></a><span class=\"sk-estimator-doc-link fitted\">i<span>Fitted</span></span></label><div class=\"sk-toggleable__content fitted\"><pre>RandomForestClassifier(n_estimators=20, random_state=114)</pre></div> </div></div></div></div>"
      ],
      "text/plain": [
       "RandomForestClassifier(n_estimators=20, random_state=114)"
      ]
     },
     "execution_count": 71,
     "metadata": {},
     "output_type": "execute_result"
    }
   ],
   "source": [
    "## 建立随机森林模型\n",
    "trees = RandomForestClassifier(\n",
    "    n_estimators=20, # 树的数量为20\n",
    "    random_state=114, # 设置随机种子\n",
    "    criterion='gini', # 使用基尼系数作为划分标准\n",
    "    max_features = 'sqrt' # 每棵树分裂时考虑的最大特征数为总特征数的平方根（提升整体模型的泛化能力）\n",
    "    )\n",
    "trees.fit(train, train_labels)"
   ]
  },
  {
   "cell_type": "code",
   "execution_count": 72,
   "id": "3664f5a4",
   "metadata": {},
   "outputs": [
    {
     "name": "stdout",
     "output_type": "stream",
     "text": [
      "Average number of nodes 379\n",
      "Average maximum depth 19\n"
     ]
    }
   ],
   "source": [
    "## 查看建立的随机森林的具体信息\n",
    "# 用于存储每棵树的节点数量和最大深度\n",
    "n_nodes = []\n",
    "max_depths = []\n",
    "# 遍历随机森林中的每棵树\n",
    "for ind_tree in trees.estimators_:\n",
    "    n_nodes.append(ind_tree.tree_.node_count) # 获取该树的节点总数\n",
    "    max_depths.append(ind_tree.tree_.max_depth) # 获取该树的最大深度\n",
    "# 输出每棵树的节点数量和最大深度\n",
    "print(f'Average number of nodes {int(np.mean(n_nodes))}')\n",
    "print(f'Average maximum depth {int(np.mean(max_depths))}')"
   ]
  },
  {
   "cell_type": "markdown",
   "id": "8635c54c",
   "metadata": {},
   "source": [
    "森林中每棵树平均有379个节点，平均最大深度为19。"
   ]
  },
  {
   "cell_type": "code",
   "execution_count": 73,
   "id": "6d468e62",
   "metadata": {},
   "outputs": [
    {
     "name": "stdout",
     "output_type": "stream",
     "text": [
      "Test ACC Score: 0.906\n",
      "Test ROC AUC Score: 0.821895543456342\n"
     ]
    }
   ],
   "source": [
    "## 查看评价标准\n",
    "# 获取预测为正类的概率\n",
    "probs = trees.predict_proba(test)[:, 1]\n",
    "# 获取最终的分类预测结果\n",
    "predictions = trees.predict(test)\n",
    "print(f'Test ACC Score: {accuracy_score(predictions, test_labels)}')\n",
    "print(f'Test ROC AUC Score: {roc_auc_score(test_labels, probs)}')"
   ]
  },
  {
   "cell_type": "markdown",
   "id": "131a37eb",
   "metadata": {},
   "source": [
    "这里选用准确度和AUC作为评估标准，可以看到，随机森林预测的准确率为90.6%，AUC为0.821。"
   ]
  },
  {
   "cell_type": "code",
   "execution_count": null,
   "id": "f59280d5",
   "metadata": {},
   "outputs": [
    {
     "data": {
      "text/html": [
       "<div>\n",
       "<style scoped>\n",
       "    .dataframe tbody tr th:only-of-type {\n",
       "        vertical-align: middle;\n",
       "    }\n",
       "\n",
       "    .dataframe tbody tr th {\n",
       "        vertical-align: top;\n",
       "    }\n",
       "\n",
       "    .dataframe thead th {\n",
       "        text-align: right;\n",
       "    }\n",
       "</style>\n",
       "<table border=\"1\" class=\"dataframe\">\n",
       "  <thead>\n",
       "    <tr style=\"text-align: right;\">\n",
       "      <th></th>\n",
       "      <th>feature</th>\n",
       "      <th>importance</th>\n",
       "    </tr>\n",
       "  </thead>\n",
       "  <tbody>\n",
       "    <tr>\n",
       "      <th>1</th>\n",
       "      <td>渠道1时长</td>\n",
       "      <td>0.149806</td>\n",
       "    </tr>\n",
       "    <tr>\n",
       "      <th>3</th>\n",
       "      <td>渠道1消费</td>\n",
       "      <td>0.148304</td>\n",
       "    </tr>\n",
       "    <tr>\n",
       "      <th>13</th>\n",
       "      <td>与客服沟通次数</td>\n",
       "      <td>0.132728</td>\n",
       "    </tr>\n",
       "    <tr>\n",
       "      <th>4</th>\n",
       "      <td>渠道2时长</td>\n",
       "      <td>0.078845</td>\n",
       "    </tr>\n",
       "    <tr>\n",
       "      <th>6</th>\n",
       "      <td>渠道2消费</td>\n",
       "      <td>0.078460</td>\n",
       "    </tr>\n",
       "    <tr>\n",
       "      <th>7</th>\n",
       "      <td>渠道3时长</td>\n",
       "      <td>0.056919</td>\n",
       "    </tr>\n",
       "    <tr>\n",
       "      <th>12</th>\n",
       "      <td>渠道4消费</td>\n",
       "      <td>0.051537</td>\n",
       "    </tr>\n",
       "    <tr>\n",
       "      <th>2</th>\n",
       "      <td>渠道1访问次数</td>\n",
       "      <td>0.048397</td>\n",
       "    </tr>\n",
       "    <tr>\n",
       "      <th>8</th>\n",
       "      <td>渠道3访问次数</td>\n",
       "      <td>0.047986</td>\n",
       "    </tr>\n",
       "    <tr>\n",
       "      <th>10</th>\n",
       "      <td>渠道4时长</td>\n",
       "      <td>0.045726</td>\n",
       "    </tr>\n",
       "  </tbody>\n",
       "</table>\n",
       "</div>"
      ],
      "text/plain": [
       "    feature  importance\n",
       "1     渠道1时长    0.149806\n",
       "3     渠道1消费    0.148304\n",
       "13  与客服沟通次数    0.132728\n",
       "4     渠道2时长    0.078845\n",
       "6     渠道2消费    0.078460\n",
       "7     渠道3时长    0.056919\n",
       "12    渠道4消费    0.051537\n",
       "2   渠道1访问次数    0.048397\n",
       "8   渠道3访问次数    0.047986\n",
       "10    渠道4时长    0.045726"
      ]
     },
     "execution_count": 74,
     "metadata": {},
     "output_type": "execute_result"
    }
   ],
   "source": [
    "# 查看特征重要性\n",
    "fi_model = pd.DataFrame({\n",
    "    'feature': features,\n",
    "    'importance': trees.feature_importances_\n",
    "    })\n",
    "# 按importance降序排列，并显示前10个最重要的特征\n",
    "fi_model = fi_model.sort_values('importance', ascending = False)\n",
    "fi_model.head(10)"
   ]
  },
  {
   "cell_type": "markdown",
   "id": "2be7dd66",
   "metadata": {},
   "source": [
    "这是对因该变量分裂而导致的节点不纯度总减少量的相对度量，并对所有树进行平均。\n",
    "\n",
    "对于产品是否需要被召回，影响最大的因子是“渠道1”的两个影响因素“时长”和“消费”，其次是“与客服沟通次数”。如果之后再有统一批次的数据，就可以通过上述训练的模型，判断是否需要召回商品。"
   ]
  },
  {
   "cell_type": "markdown",
   "id": "00ea582b",
   "metadata": {},
   "source": [
    "### （2）姓名预测性别"
   ]
  },
  {
   "cell_type": "markdown",
   "id": "ef9fb6d4",
   "metadata": {},
   "source": [
    "使用某个竞赛网站的数据，主要包含两列，name列是参赛者姓名，gender列是参赛者的性别，其中1表示男性，0表示女性。下面我们使用随机森林算法，根据参赛者的姓名预测性别，最后再和真实的性别比对。"
   ]
  },
  {
   "cell_type": "code",
   "execution_count": null,
   "id": "f75c2321",
   "metadata": {},
   "outputs": [
    {
     "name": "stdout",
     "output_type": "stream",
     "text": [
      "(120000, 3)\n",
      "随机挑选一部分进行建模： (700, 3)\n"
     ]
    }
   ],
   "source": [
    "## 读取数据\n",
    "path = \"D:\\\\VSCode\\\\Python_project\\\\机器学习\\\\name_and_gender\\\\\"\n",
    "f = open(path+'train.txt',encoding='utf-8')\n",
    "data = pd.read_csv(f,header=0,sep=',') # 一个竞赛网站12万样本\n",
    "data['name'] = data['name'].astype(str)\n",
    "data['gender'] = data['gender'].astype(int)\n",
    "print(data.shape)\n",
    "data.head(10)\n",
    "# 将data前1000行作为示例数据，并对其划分训练集和测试集 \n",
    "data = data[0:1000]\n",
    "data_train, data_test = train_test_split(data, test_size=0.3, random_state=666)  \n",
    "print(\"随机挑选一部分进行建模：\", data_train.shape)"
   ]
  },
  {
   "cell_type": "code",
   "execution_count": 76,
   "id": "da915ad0",
   "metadata": {},
   "outputs": [
    {
     "name": "stdout",
     "output_type": "stream",
     "text": [
      "语料库原始总字数： 1390\n",
      "不重复字样本量： 780\n",
      "剔除稀缺字后不重复字样本量： 17\n",
      "不重复姓名用字举例: ['春', '海', '子', '佳', '希', '嘉', '雪', '文', '鹏', '昭', '涵', '清', '彩', '轩', '雨', '妍', '明']\n"
     ]
    }
   ],
   "source": [
    "## 提取数据中关于name的相关信息\n",
    "# 将姓名转换为向量：所有姓名合并在一起，去重后构造姓名用字池向量\n",
    "name_vec_total = list(data_train['name']) # 获取所有训练集中的姓名\n",
    "name_vec_total = list(''.join(name_vec_total)) # 合并成一个长字符串\n",
    "print(\"语料库原始总字数：\", len(name_vec_total))\n",
    "print(\"不重复字样本量：\", len(set(name_vec_total)))\n",
    "# 统计每个字的频率\n",
    "freq = defaultdict(int)\n",
    "for w in name_vec_total:\n",
    "    freq[w] += 1\n",
    "name_vec_total = [w  for w in name_vec_total if freq[w]>5] # 只保留频率大于5的字，去除低频字\n",
    "name_vec_total = list(set(name_vec_total)) # 去重\n",
    "print(\"剔除稀缺字后不重复字样本量：\",len(set(name_vec_total)))\n",
    "print(\"不重复姓名用字举例:\",name_vec_total[0:20])\n",
    "f = open(path+'name_vec_total_rf.txt','w',encoding='utf8')\n",
    "f.write(';'.join(name_vec_total))\n",
    "f.close()"
   ]
  },
  {
   "cell_type": "code",
   "execution_count": 77,
   "id": "4631cc88",
   "metadata": {},
   "outputs": [],
   "source": [
    "## 具体姓名的用字以姓名用字池向量表示\n",
    "def words2vec(inputSet):\n",
    "    returnVec = [0] * len(name_vec_total) # 初始化一个与姓名字池等长的0向量\n",
    "    for word in inputSet:\n",
    "        if word in name_vec_total:\n",
    "            returnVec[name_vec_total.index(word)] += 1 #如果字在字池中，找到其对应位置，将该位置+1\n",
    "    return returnVec\n",
    "\n",
    "name = list(data_train['name']) # 获取所有训练集中的姓名并转换成列表\n",
    "name_vec = [words2vec(n) for n in name]  # 将所有姓名转为对应的姓名向量（嵌套列表）\n",
    "gender_vec = list(data_train['gender'])"
   ]
  },
  {
   "cell_type": "code",
   "execution_count": 78,
   "id": "a9e0ffa0",
   "metadata": {},
   "outputs": [
    {
     "name": "stdout",
     "output_type": "stream",
     "text": [
      "{'n_estimators': 3}\n",
      "{'max_depth': 7, 'min_samples_split': 5}\n",
      "{'min_samples_leaf': 10, 'min_samples_split': 80}\n",
      "{'max_features': 3}\n",
      "验证集预测准确率: 0.5428571428571428\n"
     ]
    }
   ],
   "source": [
    "## 对模型超参数依次进行搜索和调参，并检验训练集预测准确率\n",
    "\n",
    "# 调参树的数量（n_estimators）\n",
    "param_test1 = {\n",
    "   'n_estimators':list(range(3,50,2))\n",
    "   }\n",
    "gsearch1 = GridSearchCV(\n",
    "   estimator = RandomForestClassifier(\n",
    "      oob_score=True,   # 使用OOB分数（袋外数据）来估计泛化能力\n",
    "      random_state=10\n",
    "      ),\n",
    "   param_grid = param_test1, # 网格搜索的参数范围\n",
    "   scoring='roc_auc', # 用AUC值作为评分标准\n",
    "   cv=5, # 5折交叉验证\n",
    "   n_jobs=-1 # 使用所有CPU核心并行运算\n",
    "   )\n",
    "gsearch1.fit(name_vec,gender_vec)\n",
    "print(gsearch1.best_params_) # 输出最优树的数量\n",
    "\n",
    "# 调参树的最大深度（max_depth）和内部节点再划分所需最小样本数（min_samples_split）\n",
    "param_test2 = {\n",
    "   'max_depth':list(range(1,14,2)),\n",
    "   'min_samples_split':list(range(5,201,20))\n",
    "   }\n",
    "gsearch2 = GridSearchCV(\n",
    "   estimator = RandomForestClassifier(\n",
    "      n_estimators=27,  # 树的数量设置为上一步的最优值\n",
    "      oob_score=True,\n",
    "      random_state=10\n",
    "      ), \n",
    "   param_grid = param_test2,\n",
    "   scoring='roc_auc', cv=5, n_jobs=-1\n",
    "   )\n",
    "gsearch2.fit(name_vec,gender_vec)\n",
    "print(gsearch2.best_params_) # 输出最优max_depth和min_samples_split\n",
    "\n",
    "# 调参内部节点再划分所需最小样本数（min_samples_split）和叶子节点最少样本数（min_samples_leaf）\n",
    "# min_samples_split暂时无法确定，因为与决策树其他的参数存在关联。\n",
    "param_test3 = {\n",
    "   'min_samples_split':list(range(80,150,20)),\n",
    "   'min_samples_leaf':list(range(10,60,10))\n",
    "   }\n",
    "gsearch3 = GridSearchCV(\n",
    "   estimator = RandomForestClassifier(\n",
    "      n_estimators=27,\n",
    "      max_depth=13, # 树的最大深度设置为上一步的最优值\n",
    "      max_features='sqrt',\n",
    "      oob_score=True,\n",
    "      random_state=10\n",
    "      ),\n",
    "   param_grid = param_test3,\n",
    "   scoring='roc_auc', cv=5, n_jobs=-1\n",
    "   )\n",
    "gsearch3.fit(name_vec,gender_vec)\n",
    "print(gsearch3.best_params_)\n",
    "\n",
    "# 调参最大特征数（max_features）\n",
    "param_test4 = {\n",
    "   'max_features':list(range(3,20,2))\n",
    "   }\n",
    "gsearch4 = GridSearchCV(\n",
    "   estimator = RandomForestClassifier(\n",
    "      n_estimators=27,\n",
    "      max_depth=13,\n",
    "      min_samples_split=80,\n",
    "      min_samples_leaf=10,\n",
    "      oob_score=True,\n",
    "      random_state=10\n",
    "      ),\n",
    "   param_grid = param_test4,\n",
    "   scoring='roc_auc', cv=5, n_jobs=-1)\n",
    "gsearch4.fit(name_vec,gender_vec)\n",
    "print(gsearch4.best_params_)\n",
    "\n",
    "# 依次调参最优模型\n",
    "rf_clf_sequently = RandomForestClassifier(\n",
    "   n_estimators=27,\n",
    "   max_depth=13,\n",
    "   min_samples_split=80,\n",
    "   min_samples_leaf=10,\n",
    "   max_features=3,\n",
    "   oob_score=True,\n",
    "   random_state=10\n",
    "   )\n",
    "rf_clf_sequently.fit(name_vec,gender_vec)\n",
    "# 使用OOB数据估计训练集预测准确率\n",
    "print(\"验证集预测准确率:\",rf_clf_sequently.oob_score_)"
   ]
  },
  {
   "cell_type": "code",
   "execution_count": 79,
   "id": "b24ae495",
   "metadata": {},
   "outputs": [
    {
     "name": "stdout",
     "output_type": "stream",
     "text": [
      "随机森林测试集准确率 57.67%\n"
     ]
    }
   ],
   "source": [
    "## 在测试集测试\n",
    "name_new = list(data_test['name']) \n",
    "x_test = [words2vec(n) for n in name_new]   \n",
    "y_test = list(data_test['gender'])\n",
    "# 使用训练好的随机森林模型进行预测\n",
    "y_pred_new = rf_clf_sequently.predict(x_test)\n",
    "print(\"随机森林测试集准确率 {:05.2f}%\".format(100 * accuracy_score(y_test, y_pred_new)))"
   ]
  },
  {
   "cell_type": "code",
   "execution_count": 80,
   "id": "cd1e509d",
   "metadata": {},
   "outputs": [
    {
     "name": "stdout",
     "output_type": "stream",
     "text": [
      "{'max_depth': 1, 'max_features': 3, 'min_samples_leaf': 10, 'min_samples_split': 5, 'n_estimators': 3}\n",
      "验证集预测准确率: 0.5257142857142857\n"
     ]
    }
   ],
   "source": [
    "## 网格搜索\n",
    "param_test6 = {\n",
    "    'n_estimators':list(range(3,50,2)), # 树的数量，从3到49，步长2\n",
    "    'max_depth':list(range(1,14,2)), # 每棵树最大深度，从1到13\n",
    "    'min_samples_split':list(range(5,201,10)), # 内部节点再划分所需最小样本数，从5到200\n",
    "    'min_samples_leaf':list(range(10,60,10)), # 叶子节点最小样本数，从10到50\n",
    "    'max_features':list(range(3,20,2)) # 每棵树随机选择的最大特征数，从3到19\n",
    "    }\n",
    "gsearch6 = GridSearchCV(\n",
    "    estimator = RandomForestClassifier(oob_score=True, random_state=33),\n",
    "    param_grid = param_test6, # 搜索的参数网格\n",
    "    scoring='roc_auc',cv=5, n_jobs=-1\n",
    "    )\n",
    "gsearch6.fit(name_vec,gender_vec)\n",
    "print(gsearch6.best_params_)\n",
    "\n",
    "# 网格调参最优模型\n",
    "best_params = gsearch6.best_params_\n",
    "rf_clf_gridly = RandomForestClassifier(\n",
    "    oob_score=True,\n",
    "    random_state=10,\n",
    "    **best_params  # 自动解包最优参数\n",
    ")\n",
    "rf_clf_gridly.fit(name_vec, gender_vec)\n",
    "print(\"验证集预测准确率:\", rf_clf_gridly.oob_score_)"
   ]
  },
  {
   "cell_type": "code",
   "execution_count": 81,
   "id": "8e74b7b9",
   "metadata": {},
   "outputs": [
    {
     "name": "stdout",
     "output_type": "stream",
     "text": [
      "随机森林测试集准确率 57.67%\n"
     ]
    }
   ],
   "source": [
    "# 在测试集进行预测\n",
    "y_pred_new = rf_clf_gridly.predict(x_test)\n",
    "print(\"随机森林测试集准确率 {:05.2f}%\".format(100 * accuracy_score(y_test, y_pred_new)))"
   ]
  },
  {
   "cell_type": "markdown",
   "id": "d10f8411",
   "metadata": {},
   "source": [
    "## (四)Boosting and AdaBoost, GBDT, XGBoost"
   ]
  },
  {
   "cell_type": "markdown",
   "id": "1d4896cf",
   "metadata": {},
   "source": [
    "### 1、AdaBoost算法的原理\n",
    "\n",
    "AdaBoost（Adaptive Boosting）是Boosting算法的典型代表，其核心思想是通过迭代训练一系列弱分类器，每次都重新调整训练样本的权重，以便更加关注被错误分类的样本，从而不断提升模型性能。"
   ]
  },
  {
   "cell_type": "markdown",
   "id": "5f3638e3",
   "metadata": {},
   "source": [
    "![图示](AdaBoost.png)"
   ]
  },
  {
   "cell_type": "markdown",
   "id": "b33b068d",
   "metadata": {},
   "source": [
    "在每一步迭代中，会给训练集样本赋予一个权重$(w_{1},w_{2},...,w_{n})$，样本的初始权重都相同，而在迭代时被先前弱分类器分错样本的权重会提高，被分对样本的权重则会降低。而弱分类器组合成强分类器的权重根据当前分类器的加权错误率来确定。\n",
    "\n",
    "一般的，AdaBoost算法的训练过程如下：\n",
    "\n",
    "（1）初始化样本权重$w_i(0) = \\frac{1}{n}, i=1,2,\\cdots,n $；\n",
    "\n",
    "（2）弱分类器先使用训练样本$w_i(t)$训练分类器$g_t(x)$，然后计算当前弱分类器的误差$\\varepsilon_i = \\frac{\\sum_{i=1}^{n} w_i \\cdot I(y_i - g_t(x_i))}{\\sum_{i=1}^{n} w_i}$;\n",
    "\n",
    "（3）按照$\\alpha_t = \\frac{1}{2} \\log \\left( \\frac{1 - \\varepsilon_t}{\\varepsilon_t} \\right)$更新分类器权重；\n",
    "\n",
    "（4）按照$w_{i}(t+1) = \\frac{w_i(t) \\exp(-\\alpha_t y_i g_t(x_i))}{Z_t} $更新样本权重，其中$Z_t= \\sum_{i=1}^{N} w_i(t)\\exp(-\\alpha_t g_t(x_i)) $；\n",
    "\n",
    "（5）输出分类器$G(x) = \\text{sign} \\left( \\sum_{t=1}^{T} \\alpha_t g_t(x) \\right)$。\n",
    "\n",
    "AdaBoost中每一个弱分类器的权重$\\alpha_t$是根据该分类器在当前权重的训练样本下的分类效果来确定的。弱分类器的分类效果越好，该弱分类器的权重越高，否则越低。与单个弱分类器相比，AdaBoost往往能够有效提升分类精度，有较优的抗过拟合能力。但由于由于集成了多个弱分类器，模型的可解释性降低。且由于会不断纠正分类错误的样本，可能会过度拟合异常值或噪音数据，因此AdaBoost模型对于异常值比较敏感。"
   ]
  },
  {
   "cell_type": "markdown",
   "id": "cacfa3f6",
   "metadata": {},
   "source": [
    "### 2、GBDT算法的原理"
   ]
  },
  {
   "cell_type": "markdown",
   "id": "285758a2",
   "metadata": {},
   "source": [
    "梯度提升回归树（Gradient Boosting Decision Tree，GBDT）也是一种Boosting算法。与AdaBoost不同的是，AdaBoost通过上一轮算法的结果调整样本权重和弱分类器权重后迭代训练得到强分类器，而GBDT通过将训练后得到的损失函数的负梯度作为残差的近似值，并以此作为新样本训练新的基学习器加入到模型中，最后得到强学习器。"
   ]
  },
  {
   "cell_type": "markdown",
   "id": "b87735c9",
   "metadata": {},
   "source": [
    "GBDT属于加法模型，假设模型共迭代了$M$轮，每次训练一个基学习器$T_m(x)$，那么整体模型可以用线性组成式来表述：\n",
    "$$ f_M(x)=\\sum_{m=1}^{M} T_m(x) $$\n",
    "根据上式，整体模型的训练目标是使预测值$f(x)$逼近真实值$y$，也就是说要让每一个基学习器的预测值逼近各自要预测的部分真实值。如果同时考虑所有基学习器，会导致整体模型的训练变成了一个非常复杂的问题。所以，研究者想到一个贪心的解决手段：每次只训练一个基学习器。于是，改写整体模型为迭代式：\n",
    "$$f_m(x)=f_{m-1}(x)+T_m(x)$$\n",
    "为了让每次迭代训练的基学习器尽可能逼近当前整体模型和真实值的差异，即训练基学习器$T_m(x)$使得整体损失函数最小化：\n",
    "$$T_m(x)=\\operatorname*{argmin}_{T \\in H} \\sum_{j=1}^{n} L\\left( y_{j}, \\, f_{m-1}(x_{j}) + T_{m}(x_{j}) \\right)$$\n",
    "使用梯度最速下降法来解决整体损失函数最小化的问题，沿着使目标函数下降最快的方向（即梯度的反方向），一步一步接近最小值点：\n",
    "$$f_m(x) = f_{m-1}(x) - \\eta_m \\cdot \\nabla L(f_{m-1}(x))$$\n",
    "已知样本$x$的当前预测值为$f_m(x)$，下一步将预测值按照反向梯度，依照步长为$\\eta_m$，进行更新：\n",
    "$$f_m(x) = f_{m-1}(x) - \\eta_m \\cdot \\frac{\\partial L\\left( y, \\, f_{m-1}(x) \\right) }{\\partial f_{m-1}(x)}$$\n",
    "这里的步长$\\eta_m$不是固定值，而是设计为：\n",
    "$$\\eta_m=\\operatorname*{argmin}_{\\eta} \\sum_{j=1}^{n} L\\left( y_{j}, \\, f_{m-1}(x_j) - \\eta \\cdot \\frac{\\partial L\\left( y, \\, f_{m-1}(x_j) \\right) }{\\partial f_{m-1}(x_j)} \\right)$$\n",
    "GBDT训练的过程就是使用基学习器不断拟合损失函数的负梯度，靠近目标函数的过程。"
   ]
  },
  {
   "cell_type": "markdown",
   "id": "0f513ebe",
   "metadata": {},
   "source": [
    "![图示](GBDT.png)"
   ]
  },
  {
   "cell_type": "markdown",
   "id": "3af3cc2a",
   "metadata": {},
   "source": [
    "GBDT算法能够应对不同类型的数据，同时处理连续和离散数据，能够调节的参数较少且模型预测精度高。但是GBDT各基学习器之间是串行生成的，无法并行加速，当面对高维稀疏数据时，计算复杂度较高。"
   ]
  },
  {
   "cell_type": "markdown",
   "id": "99d281f6",
   "metadata": {},
   "source": [
    "### 3、XGBoost算法的原理"
   ]
  },
  {
   "cell_type": "markdown",
   "id": "354ee459",
   "metadata": {},
   "source": [
    "XGBoost（eXtreme Gradient Boosting）是GBDT的一种高效实现，算法的性能非常好。XGBoost相对于GBDT做了以下的优化：\n",
    "\n",
    "（1）GBDT在训练时，采用损失函数的负梯度只使用了损失函数的一阶导数，而XGBoost在训练时，对损失函数的二阶泰勒展开进行拟合，具有更小的误差。\n",
    "\n",
    "（2）在损失函数中添加了正则项，减小过拟合的风险，泛化能力更强。\n",
    "\n",
    "（3）XGBoost针对树形基学习器的分裂过程做了并行化处理，提升了算法整体的效率。"
   ]
  },
  {
   "cell_type": "markdown",
   "id": "6f24af5f",
   "metadata": {},
   "source": [
    "![图示](XGBoost.png)"
   ]
  },
  {
   "cell_type": "markdown",
   "id": "9e4876a4",
   "metadata": {},
   "source": [
    "XGBoost算法具有更高的精度，且支持自定义损失函数，只要损失函数一阶和二阶可导，这在解决不同问题的领域中具备更大的灵活性。XGBoost构建基学习器的过程可以并行，且工具包支持并行，提升了很大一部分性能。但其算法同样不适用于处理高维稀疏特征，且算法参数较多，调参复杂。"
   ]
  },
  {
   "cell_type": "markdown",
   "id": "1d531ea9",
   "metadata": {},
   "source": [
    "### 4、提升树算法实践（Adaboost, GBDT, XGBoost）"
   ]
  },
  {
   "cell_type": "markdown",
   "id": "2c5e59d2",
   "metadata": {},
   "source": [
    "### （1）波士顿地区房屋价格预测"
   ]
  },
  {
   "cell_type": "markdown",
   "id": "e0240473",
   "metadata": {},
   "source": [
    "数据集来源于美国统计局收集波士顿地区的506个城镇的房屋市场信息和社会经济统计数据，特征变量有人均犯罪率、城镇中非零售商业用地所占比例、每套住宅的平均房间数、公路可达指数等。根据特征预测该地区的房价中位数。"
   ]
  },
  {
   "cell_type": "code",
   "execution_count": 1,
   "id": "14db2f88",
   "metadata": {},
   "outputs": [],
   "source": [
    "## 导入需要的库\n",
    "import numpy as np\n",
    "import pandas as pd\n",
    "from matplotlib.pyplot import subplots\n",
    "import sklearn.model_selection as skm\n",
    "from ISLP import load_data\n",
    "from ISLP.models import ModelSpec as MS\n",
    "from sklearn.ensemble import GradientBoostingRegressor, RandomForestRegressor"
   ]
  },
  {
   "cell_type": "code",
   "execution_count": null,
   "id": "cd3379d2",
   "metadata": {},
   "outputs": [],
   "source": [
    "## 读取数据\n",
    "Boston = load_data(\"Boston\")\n",
    "model = MS(Boston.columns.drop('medv'), intercept=False)\n",
    "D = model.fit_transform(Boston)\n",
    "feature_names = list(D.columns)\n",
    "X = np.asarray(D)"
   ]
  },
  {
   "cell_type": "code",
   "execution_count": null,
   "id": "10660dad",
   "metadata": {},
   "outputs": [],
   "source": [
    "## 划分训练集和测试集\n",
    "(X_train, X_test, y_train, y_test) = skm.train_test_split(X, Boston['medv'], test_size=0.3, random_state=0)"
   ]
  },
  {
   "cell_type": "markdown",
   "id": "cc3a35f3",
   "metadata": {},
   "source": [
    "Bagging是特殊形式的随机森林，即训练多个使用到全部特征的决策树，无特征子集采样。"
   ]
  },
  {
   "cell_type": "code",
   "execution_count": null,
   "id": "9e1ab4dd",
   "metadata": {},
   "outputs": [
    {
     "data": {
      "text/html": [
       "<style>#sk-container-id-1 {\n",
       "  /* Definition of color scheme common for light and dark mode */\n",
       "  --sklearn-color-text: black;\n",
       "  --sklearn-color-line: gray;\n",
       "  /* Definition of color scheme for unfitted estimators */\n",
       "  --sklearn-color-unfitted-level-0: #fff5e6;\n",
       "  --sklearn-color-unfitted-level-1: #f6e4d2;\n",
       "  --sklearn-color-unfitted-level-2: #ffe0b3;\n",
       "  --sklearn-color-unfitted-level-3: chocolate;\n",
       "  /* Definition of color scheme for fitted estimators */\n",
       "  --sklearn-color-fitted-level-0: #f0f8ff;\n",
       "  --sklearn-color-fitted-level-1: #d4ebff;\n",
       "  --sklearn-color-fitted-level-2: #b3dbfd;\n",
       "  --sklearn-color-fitted-level-3: cornflowerblue;\n",
       "\n",
       "  /* Specific color for light theme */\n",
       "  --sklearn-color-text-on-default-background: var(--sg-text-color, var(--theme-code-foreground, var(--jp-content-font-color1, black)));\n",
       "  --sklearn-color-background: var(--sg-background-color, var(--theme-background, var(--jp-layout-color0, white)));\n",
       "  --sklearn-color-border-box: var(--sg-text-color, var(--theme-code-foreground, var(--jp-content-font-color1, black)));\n",
       "  --sklearn-color-icon: #696969;\n",
       "\n",
       "  @media (prefers-color-scheme: dark) {\n",
       "    /* Redefinition of color scheme for dark theme */\n",
       "    --sklearn-color-text-on-default-background: var(--sg-text-color, var(--theme-code-foreground, var(--jp-content-font-color1, white)));\n",
       "    --sklearn-color-background: var(--sg-background-color, var(--theme-background, var(--jp-layout-color0, #111)));\n",
       "    --sklearn-color-border-box: var(--sg-text-color, var(--theme-code-foreground, var(--jp-content-font-color1, white)));\n",
       "    --sklearn-color-icon: #878787;\n",
       "  }\n",
       "}\n",
       "\n",
       "#sk-container-id-1 {\n",
       "  color: var(--sklearn-color-text);\n",
       "}\n",
       "\n",
       "#sk-container-id-1 pre {\n",
       "  padding: 0;\n",
       "}\n",
       "\n",
       "#sk-container-id-1 input.sk-hidden--visually {\n",
       "  border: 0;\n",
       "  clip: rect(1px 1px 1px 1px);\n",
       "  clip: rect(1px, 1px, 1px, 1px);\n",
       "  height: 1px;\n",
       "  margin: -1px;\n",
       "  overflow: hidden;\n",
       "  padding: 0;\n",
       "  position: absolute;\n",
       "  width: 1px;\n",
       "}\n",
       "\n",
       "#sk-container-id-1 div.sk-dashed-wrapped {\n",
       "  border: 1px dashed var(--sklearn-color-line);\n",
       "  margin: 0 0.4em 0.5em 0.4em;\n",
       "  box-sizing: border-box;\n",
       "  padding-bottom: 0.4em;\n",
       "  background-color: var(--sklearn-color-background);\n",
       "}\n",
       "\n",
       "#sk-container-id-1 div.sk-container {\n",
       "  /* jupyter's `normalize.less` sets `[hidden] { display: none; }`\n",
       "     but bootstrap.min.css set `[hidden] { display: none !important; }`\n",
       "     so we also need the `!important` here to be able to override the\n",
       "     default hidden behavior on the sphinx rendered scikit-learn.org.\n",
       "     See: https://github.com/scikit-learn/scikit-learn/issues/21755 */\n",
       "  display: inline-block !important;\n",
       "  position: relative;\n",
       "}\n",
       "\n",
       "#sk-container-id-1 div.sk-text-repr-fallback {\n",
       "  display: none;\n",
       "}\n",
       "\n",
       "div.sk-parallel-item,\n",
       "div.sk-serial,\n",
       "div.sk-item {\n",
       "  /* draw centered vertical line to link estimators */\n",
       "  background-image: linear-gradient(var(--sklearn-color-text-on-default-background), var(--sklearn-color-text-on-default-background));\n",
       "  background-size: 2px 100%;\n",
       "  background-repeat: no-repeat;\n",
       "  background-position: center center;\n",
       "}\n",
       "\n",
       "/* Parallel-specific style estimator block */\n",
       "\n",
       "#sk-container-id-1 div.sk-parallel-item::after {\n",
       "  content: \"\";\n",
       "  width: 100%;\n",
       "  border-bottom: 2px solid var(--sklearn-color-text-on-default-background);\n",
       "  flex-grow: 1;\n",
       "}\n",
       "\n",
       "#sk-container-id-1 div.sk-parallel {\n",
       "  display: flex;\n",
       "  align-items: stretch;\n",
       "  justify-content: center;\n",
       "  background-color: var(--sklearn-color-background);\n",
       "  position: relative;\n",
       "}\n",
       "\n",
       "#sk-container-id-1 div.sk-parallel-item {\n",
       "  display: flex;\n",
       "  flex-direction: column;\n",
       "}\n",
       "\n",
       "#sk-container-id-1 div.sk-parallel-item:first-child::after {\n",
       "  align-self: flex-end;\n",
       "  width: 50%;\n",
       "}\n",
       "\n",
       "#sk-container-id-1 div.sk-parallel-item:last-child::after {\n",
       "  align-self: flex-start;\n",
       "  width: 50%;\n",
       "}\n",
       "\n",
       "#sk-container-id-1 div.sk-parallel-item:only-child::after {\n",
       "  width: 0;\n",
       "}\n",
       "\n",
       "/* Serial-specific style estimator block */\n",
       "\n",
       "#sk-container-id-1 div.sk-serial {\n",
       "  display: flex;\n",
       "  flex-direction: column;\n",
       "  align-items: center;\n",
       "  background-color: var(--sklearn-color-background);\n",
       "  padding-right: 1em;\n",
       "  padding-left: 1em;\n",
       "}\n",
       "\n",
       "\n",
       "/* Toggleable style: style used for estimator/Pipeline/ColumnTransformer box that is\n",
       "clickable and can be expanded/collapsed.\n",
       "- Pipeline and ColumnTransformer use this feature and define the default style\n",
       "- Estimators will overwrite some part of the style using the `sk-estimator` class\n",
       "*/\n",
       "\n",
       "/* Pipeline and ColumnTransformer style (default) */\n",
       "\n",
       "#sk-container-id-1 div.sk-toggleable {\n",
       "  /* Default theme specific background. It is overwritten whether we have a\n",
       "  specific estimator or a Pipeline/ColumnTransformer */\n",
       "  background-color: var(--sklearn-color-background);\n",
       "}\n",
       "\n",
       "/* Toggleable label */\n",
       "#sk-container-id-1 label.sk-toggleable__label {\n",
       "  cursor: pointer;\n",
       "  display: block;\n",
       "  width: 100%;\n",
       "  margin-bottom: 0;\n",
       "  padding: 0.5em;\n",
       "  box-sizing: border-box;\n",
       "  text-align: center;\n",
       "}\n",
       "\n",
       "#sk-container-id-1 label.sk-toggleable__label-arrow:before {\n",
       "  /* Arrow on the left of the label */\n",
       "  content: \"▸\";\n",
       "  float: left;\n",
       "  margin-right: 0.25em;\n",
       "  color: var(--sklearn-color-icon);\n",
       "}\n",
       "\n",
       "#sk-container-id-1 label.sk-toggleable__label-arrow:hover:before {\n",
       "  color: var(--sklearn-color-text);\n",
       "}\n",
       "\n",
       "/* Toggleable content - dropdown */\n",
       "\n",
       "#sk-container-id-1 div.sk-toggleable__content {\n",
       "  max-height: 0;\n",
       "  max-width: 0;\n",
       "  overflow: hidden;\n",
       "  text-align: left;\n",
       "  /* unfitted */\n",
       "  background-color: var(--sklearn-color-unfitted-level-0);\n",
       "}\n",
       "\n",
       "#sk-container-id-1 div.sk-toggleable__content.fitted {\n",
       "  /* fitted */\n",
       "  background-color: var(--sklearn-color-fitted-level-0);\n",
       "}\n",
       "\n",
       "#sk-container-id-1 div.sk-toggleable__content pre {\n",
       "  margin: 0.2em;\n",
       "  border-radius: 0.25em;\n",
       "  color: var(--sklearn-color-text);\n",
       "  /* unfitted */\n",
       "  background-color: var(--sklearn-color-unfitted-level-0);\n",
       "}\n",
       "\n",
       "#sk-container-id-1 div.sk-toggleable__content.fitted pre {\n",
       "  /* unfitted */\n",
       "  background-color: var(--sklearn-color-fitted-level-0);\n",
       "}\n",
       "\n",
       "#sk-container-id-1 input.sk-toggleable__control:checked~div.sk-toggleable__content {\n",
       "  /* Expand drop-down */\n",
       "  max-height: 200px;\n",
       "  max-width: 100%;\n",
       "  overflow: auto;\n",
       "}\n",
       "\n",
       "#sk-container-id-1 input.sk-toggleable__control:checked~label.sk-toggleable__label-arrow:before {\n",
       "  content: \"▾\";\n",
       "}\n",
       "\n",
       "/* Pipeline/ColumnTransformer-specific style */\n",
       "\n",
       "#sk-container-id-1 div.sk-label input.sk-toggleable__control:checked~label.sk-toggleable__label {\n",
       "  color: var(--sklearn-color-text);\n",
       "  background-color: var(--sklearn-color-unfitted-level-2);\n",
       "}\n",
       "\n",
       "#sk-container-id-1 div.sk-label.fitted input.sk-toggleable__control:checked~label.sk-toggleable__label {\n",
       "  background-color: var(--sklearn-color-fitted-level-2);\n",
       "}\n",
       "\n",
       "/* Estimator-specific style */\n",
       "\n",
       "/* Colorize estimator box */\n",
       "#sk-container-id-1 div.sk-estimator input.sk-toggleable__control:checked~label.sk-toggleable__label {\n",
       "  /* unfitted */\n",
       "  background-color: var(--sklearn-color-unfitted-level-2);\n",
       "}\n",
       "\n",
       "#sk-container-id-1 div.sk-estimator.fitted input.sk-toggleable__control:checked~label.sk-toggleable__label {\n",
       "  /* fitted */\n",
       "  background-color: var(--sklearn-color-fitted-level-2);\n",
       "}\n",
       "\n",
       "#sk-container-id-1 div.sk-label label.sk-toggleable__label,\n",
       "#sk-container-id-1 div.sk-label label {\n",
       "  /* The background is the default theme color */\n",
       "  color: var(--sklearn-color-text-on-default-background);\n",
       "}\n",
       "\n",
       "/* On hover, darken the color of the background */\n",
       "#sk-container-id-1 div.sk-label:hover label.sk-toggleable__label {\n",
       "  color: var(--sklearn-color-text);\n",
       "  background-color: var(--sklearn-color-unfitted-level-2);\n",
       "}\n",
       "\n",
       "/* Label box, darken color on hover, fitted */\n",
       "#sk-container-id-1 div.sk-label.fitted:hover label.sk-toggleable__label.fitted {\n",
       "  color: var(--sklearn-color-text);\n",
       "  background-color: var(--sklearn-color-fitted-level-2);\n",
       "}\n",
       "\n",
       "/* Estimator label */\n",
       "\n",
       "#sk-container-id-1 div.sk-label label {\n",
       "  font-family: monospace;\n",
       "  font-weight: bold;\n",
       "  display: inline-block;\n",
       "  line-height: 1.2em;\n",
       "}\n",
       "\n",
       "#sk-container-id-1 div.sk-label-container {\n",
       "  text-align: center;\n",
       "}\n",
       "\n",
       "/* Estimator-specific */\n",
       "#sk-container-id-1 div.sk-estimator {\n",
       "  font-family: monospace;\n",
       "  border: 1px dotted var(--sklearn-color-border-box);\n",
       "  border-radius: 0.25em;\n",
       "  box-sizing: border-box;\n",
       "  margin-bottom: 0.5em;\n",
       "  /* unfitted */\n",
       "  background-color: var(--sklearn-color-unfitted-level-0);\n",
       "}\n",
       "\n",
       "#sk-container-id-1 div.sk-estimator.fitted {\n",
       "  /* fitted */\n",
       "  background-color: var(--sklearn-color-fitted-level-0);\n",
       "}\n",
       "\n",
       "/* on hover */\n",
       "#sk-container-id-1 div.sk-estimator:hover {\n",
       "  /* unfitted */\n",
       "  background-color: var(--sklearn-color-unfitted-level-2);\n",
       "}\n",
       "\n",
       "#sk-container-id-1 div.sk-estimator.fitted:hover {\n",
       "  /* fitted */\n",
       "  background-color: var(--sklearn-color-fitted-level-2);\n",
       "}\n",
       "\n",
       "/* Specification for estimator info (e.g. \"i\" and \"?\") */\n",
       "\n",
       "/* Common style for \"i\" and \"?\" */\n",
       "\n",
       ".sk-estimator-doc-link,\n",
       "a:link.sk-estimator-doc-link,\n",
       "a:visited.sk-estimator-doc-link {\n",
       "  float: right;\n",
       "  font-size: smaller;\n",
       "  line-height: 1em;\n",
       "  font-family: monospace;\n",
       "  background-color: var(--sklearn-color-background);\n",
       "  border-radius: 1em;\n",
       "  height: 1em;\n",
       "  width: 1em;\n",
       "  text-decoration: none !important;\n",
       "  margin-left: 1ex;\n",
       "  /* unfitted */\n",
       "  border: var(--sklearn-color-unfitted-level-1) 1pt solid;\n",
       "  color: var(--sklearn-color-unfitted-level-1);\n",
       "}\n",
       "\n",
       ".sk-estimator-doc-link.fitted,\n",
       "a:link.sk-estimator-doc-link.fitted,\n",
       "a:visited.sk-estimator-doc-link.fitted {\n",
       "  /* fitted */\n",
       "  border: var(--sklearn-color-fitted-level-1) 1pt solid;\n",
       "  color: var(--sklearn-color-fitted-level-1);\n",
       "}\n",
       "\n",
       "/* On hover */\n",
       "div.sk-estimator:hover .sk-estimator-doc-link:hover,\n",
       ".sk-estimator-doc-link:hover,\n",
       "div.sk-label-container:hover .sk-estimator-doc-link:hover,\n",
       ".sk-estimator-doc-link:hover {\n",
       "  /* unfitted */\n",
       "  background-color: var(--sklearn-color-unfitted-level-3);\n",
       "  color: var(--sklearn-color-background);\n",
       "  text-decoration: none;\n",
       "}\n",
       "\n",
       "div.sk-estimator.fitted:hover .sk-estimator-doc-link.fitted:hover,\n",
       ".sk-estimator-doc-link.fitted:hover,\n",
       "div.sk-label-container:hover .sk-estimator-doc-link.fitted:hover,\n",
       ".sk-estimator-doc-link.fitted:hover {\n",
       "  /* fitted */\n",
       "  background-color: var(--sklearn-color-fitted-level-3);\n",
       "  color: var(--sklearn-color-background);\n",
       "  text-decoration: none;\n",
       "}\n",
       "\n",
       "/* Span, style for the box shown on hovering the info icon */\n",
       ".sk-estimator-doc-link span {\n",
       "  display: none;\n",
       "  z-index: 9999;\n",
       "  position: relative;\n",
       "  font-weight: normal;\n",
       "  right: .2ex;\n",
       "  padding: .5ex;\n",
       "  margin: .5ex;\n",
       "  width: min-content;\n",
       "  min-width: 20ex;\n",
       "  max-width: 50ex;\n",
       "  color: var(--sklearn-color-text);\n",
       "  box-shadow: 2pt 2pt 4pt #999;\n",
       "  /* unfitted */\n",
       "  background: var(--sklearn-color-unfitted-level-0);\n",
       "  border: .5pt solid var(--sklearn-color-unfitted-level-3);\n",
       "}\n",
       "\n",
       ".sk-estimator-doc-link.fitted span {\n",
       "  /* fitted */\n",
       "  background: var(--sklearn-color-fitted-level-0);\n",
       "  border: var(--sklearn-color-fitted-level-3);\n",
       "}\n",
       "\n",
       ".sk-estimator-doc-link:hover span {\n",
       "  display: block;\n",
       "}\n",
       "\n",
       "/* \"?\"-specific style due to the `<a>` HTML tag */\n",
       "\n",
       "#sk-container-id-1 a.estimator_doc_link {\n",
       "  float: right;\n",
       "  font-size: 1rem;\n",
       "  line-height: 1em;\n",
       "  font-family: monospace;\n",
       "  background-color: var(--sklearn-color-background);\n",
       "  border-radius: 1rem;\n",
       "  height: 1rem;\n",
       "  width: 1rem;\n",
       "  text-decoration: none;\n",
       "  /* unfitted */\n",
       "  color: var(--sklearn-color-unfitted-level-1);\n",
       "  border: var(--sklearn-color-unfitted-level-1) 1pt solid;\n",
       "}\n",
       "\n",
       "#sk-container-id-1 a.estimator_doc_link.fitted {\n",
       "  /* fitted */\n",
       "  border: var(--sklearn-color-fitted-level-1) 1pt solid;\n",
       "  color: var(--sklearn-color-fitted-level-1);\n",
       "}\n",
       "\n",
       "/* On hover */\n",
       "#sk-container-id-1 a.estimator_doc_link:hover {\n",
       "  /* unfitted */\n",
       "  background-color: var(--sklearn-color-unfitted-level-3);\n",
       "  color: var(--sklearn-color-background);\n",
       "  text-decoration: none;\n",
       "}\n",
       "\n",
       "#sk-container-id-1 a.estimator_doc_link.fitted:hover {\n",
       "  /* fitted */\n",
       "  background-color: var(--sklearn-color-fitted-level-3);\n",
       "}\n",
       "</style><div id=\"sk-container-id-1\" class=\"sk-top-container\"><div class=\"sk-text-repr-fallback\"><pre>RandomForestRegressor(max_features=12, random_state=0)</pre><b>In a Jupyter environment, please rerun this cell to show the HTML representation or trust the notebook. <br />On GitHub, the HTML representation is unable to render, please try loading this page with nbviewer.org.</b></div><div class=\"sk-container\" hidden><div class=\"sk-item\"><div class=\"sk-estimator fitted sk-toggleable\"><input class=\"sk-toggleable__control sk-hidden--visually\" id=\"sk-estimator-id-1\" type=\"checkbox\" checked><label for=\"sk-estimator-id-1\" class=\"sk-toggleable__label fitted sk-toggleable__label-arrow fitted\">&nbsp;&nbsp;RandomForestRegressor<a class=\"sk-estimator-doc-link fitted\" rel=\"noreferrer\" target=\"_blank\" href=\"https://scikit-learn.org/1.4/modules/generated/sklearn.ensemble.RandomForestRegressor.html\">?<span>Documentation for RandomForestRegressor</span></a><span class=\"sk-estimator-doc-link fitted\">i<span>Fitted</span></span></label><div class=\"sk-toggleable__content fitted\"><pre>RandomForestRegressor(max_features=12, random_state=0)</pre></div> </div></div></div></div>"
      ],
      "text/plain": [
       "RandomForestRegressor(max_features=12, random_state=0)"
      ]
     },
     "execution_count": 12,
     "metadata": {},
     "output_type": "execute_result"
    }
   ],
   "source": [
    "## 创建Bagging模型\n",
    "bag_boston = RandomForestRegressor(\n",
    "    max_features=X_train.shape[1], # 每棵树使用所有特征\n",
    "    random_state=0\n",
    "    )\n",
    "bag_boston.fit(X_train, y_train)"
   ]
  },
  {
   "cell_type": "code",
   "execution_count": null,
   "id": "64d21c63",
   "metadata": {},
   "outputs": [
    {
     "data": {
      "text/plain": [
       "14.634700151315787"
      ]
     },
     "execution_count": 13,
     "metadata": {},
     "output_type": "execute_result"
    },
    {
     "data": {
      "image/png": "[encoded data removed]",
      "text/plain": [
       "<Figure size 800x800 with 1 Axes>"
      ]
     },
     "metadata": {},
     "output_type": "display_data"
    }
   ],
   "source": [
    "# 绘制预测与真实房价的散点图\n",
    "ax = subplots(figsize=(8,8))[1]\n",
    "y_hat_bag = bag_boston.predict(X_test)\n",
    "ax.scatter(y_hat_bag, y_test) # 横轴为模型预测房价，纵轴为真实房价\n",
    "# 计算均方误差MSE\n",
    "np.mean((y_test - y_hat_bag)**2)"
   ]
  },
  {
   "cell_type": "markdown",
   "id": "75fcbf15",
   "metadata": {},
   "source": [
    "将树的数量（n_estimators）由默认的参数100改为500。"
   ]
  },
  {
   "cell_type": "code",
   "execution_count": null,
   "id": "ca63dc51",
   "metadata": {},
   "outputs": [
    {
     "data": {
      "text/plain": [
       "14.605662565263161"
      ]
     },
     "execution_count": 14,
     "metadata": {},
     "output_type": "execute_result"
    }
   ],
   "source": [
    "## 创建500棵树的Bagging模型\n",
    "bag_boston = RandomForestRegressor(\n",
    "    max_features=X_train.shape[1],\n",
    "    n_estimators=500,\n",
    "    random_state=0\n",
    "    )\n",
    "bag_boston.fit(X_train, y_train)\n",
    "\n",
    "y_hat_bag = bag_boston.predict(X_test)\n",
    "np.mean((y_test - y_hat_bag)**2)"
   ]
  },
  {
   "cell_type": "markdown",
   "id": "89b63dad",
   "metadata": {},
   "source": [
    "均方误差的变化不大。Bagging和随机森林不会通过增加树的数量而导致过拟合，但如果树的数量太少，则可能导致欠拟合。"
   ]
  },
  {
   "cell_type": "markdown",
   "id": "c42bbda4",
   "metadata": {},
   "source": [
    "构建随机森林的过程完全相同，只是我们使用了较小的max_features参数值。默认情况下，RandomForestRegressor()在构建回归树的随机森林时使用$p$个变量（即默认使用 Bagging），而RandomForestClassifier()在构建分类树的随机森林时默认使用$\\sqrt{p}$个变量。这里我们设置max_features等于6。"
   ]
  },
  {
   "cell_type": "code",
   "execution_count": null,
   "id": "3a30efad",
   "metadata": {},
   "outputs": [
    {
     "data": {
      "text/plain": [
       "20.04276446710527"
      ]
     },
     "execution_count": 15,
     "metadata": {},
     "output_type": "execute_result"
    }
   ],
   "source": [
    "## 创建随机森林模型\n",
    "RF_boston = RandomForestRegressor(\n",
    "    max_features=6,\n",
    "    random_state=0\n",
    "    )\n",
    "RF_boston.fit(X_train, y_train)\n",
    "y_hat_RF = RF_boston.predict(X_test)\n",
    "np.mean((y_test - y_hat_RF)**2)"
   ]
  },
  {
   "cell_type": "markdown",
   "id": "d67a863c",
   "metadata": {},
   "source": [
    "测试集的均方误差为20.04，表明随机森林在本例中的表现略差于Bagging。"
   ]
  },
  {
   "cell_type": "code",
   "execution_count": null,
   "id": "ff557206",
   "metadata": {},
   "outputs": [
    {
     "data": {
      "text/html": [
       "<div>\n",
       "<style scoped>\n",
       "    .dataframe tbody tr th:only-of-type {\n",
       "        vertical-align: middle;\n",
       "    }\n",
       "\n",
       "    .dataframe tbody tr th {\n",
       "        vertical-align: top;\n",
       "    }\n",
       "\n",
       "    .dataframe thead th {\n",
       "        text-align: right;\n",
       "    }\n",
       "</style>\n",
       "<table border=\"1\" class=\"dataframe\">\n",
       "  <thead>\n",
       "    <tr style=\"text-align: right;\">\n",
       "      <th></th>\n",
       "      <th>importance</th>\n",
       "    </tr>\n",
       "  </thead>\n",
       "  <tbody>\n",
       "    <tr>\n",
       "      <th>lstat</th>\n",
       "      <td>0.356203</td>\n",
       "    </tr>\n",
       "    <tr>\n",
       "      <th>rm</th>\n",
       "      <td>0.332163</td>\n",
       "    </tr>\n",
       "    <tr>\n",
       "      <th>ptratio</th>\n",
       "      <td>0.067270</td>\n",
       "    </tr>\n",
       "    <tr>\n",
       "      <th>crim</th>\n",
       "      <td>0.055404</td>\n",
       "    </tr>\n",
       "    <tr>\n",
       "      <th>indus</th>\n",
       "      <td>0.053851</td>\n",
       "    </tr>\n",
       "    <tr>\n",
       "      <th>dis</th>\n",
       "      <td>0.041582</td>\n",
       "    </tr>\n",
       "    <tr>\n",
       "      <th>nox</th>\n",
       "      <td>0.035225</td>\n",
       "    </tr>\n",
       "    <tr>\n",
       "      <th>tax</th>\n",
       "      <td>0.025355</td>\n",
       "    </tr>\n",
       "    <tr>\n",
       "      <th>age</th>\n",
       "      <td>0.021506</td>\n",
       "    </tr>\n",
       "    <tr>\n",
       "      <th>rad</th>\n",
       "      <td>0.004784</td>\n",
       "    </tr>\n",
       "    <tr>\n",
       "      <th>chas</th>\n",
       "      <td>0.004203</td>\n",
       "    </tr>\n",
       "    <tr>\n",
       "      <th>zn</th>\n",
       "      <td>0.002454</td>\n",
       "    </tr>\n",
       "  </tbody>\n",
       "</table>\n",
       "</div>"
      ],
      "text/plain": [
       "         importance\n",
       "lstat      0.356203\n",
       "rm         0.332163\n",
       "ptratio    0.067270\n",
       "crim       0.055404\n",
       "indus      0.053851\n",
       "dis        0.041582\n",
       "nox        0.035225\n",
       "tax        0.025355\n",
       "age        0.021506\n",
       "rad        0.004784\n",
       "chas       0.004203\n",
       "zn         0.002454"
      ]
     },
     "execution_count": 16,
     "metadata": {},
     "output_type": "execute_result"
    }
   ],
   "source": [
    "## 查看特征重要性\n",
    "feature_imp = pd.DataFrame(\n",
    "    {'importance':RF_boston.feature_importances_},\n",
    "    index=feature_names)\n",
    "feature_imp.sort_values(by='importance', ascending=False)"
   ]
  },
  {
   "cell_type": "markdown",
   "id": "b8c2cd48",
   "metadata": {},
   "source": [
    "结果表明，在随机森林中考虑的所有树中，社区的财富水平（“lstat”）和房屋大小（“rm”）是迄今为止最重要的两个变量。"
   ]
  },
  {
   "cell_type": "code",
   "execution_count": null,
   "id": "c8e413dd",
   "metadata": {},
   "outputs": [
    {
     "data": {
      "text/html": [
       "<style>#sk-container-id-2 {\n",
       "  /* Definition of color scheme common for light and dark mode */\n",
       "  --sklearn-color-text: black;\n",
       "  --sklearn-color-line: gray;\n",
       "  /* Definition of color scheme for unfitted estimators */\n",
       "  --sklearn-color-unfitted-level-0: #fff5e6;\n",
       "  --sklearn-color-unfitted-level-1: #f6e4d2;\n",
       "  --sklearn-color-unfitted-level-2: #ffe0b3;\n",
       "  --sklearn-color-unfitted-level-3: chocolate;\n",
       "  /* Definition of color scheme for fitted estimators */\n",
       "  --sklearn-color-fitted-level-0: #f0f8ff;\n",
       "  --sklearn-color-fitted-level-1: #d4ebff;\n",
       "  --sklearn-color-fitted-level-2: #b3dbfd;\n",
       "  --sklearn-color-fitted-level-3: cornflowerblue;\n",
       "\n",
       "  /* Specific color for light theme */\n",
       "  --sklearn-color-text-on-default-background: var(--sg-text-color, var(--theme-code-foreground, var(--jp-content-font-color1, black)));\n",
       "  --sklearn-color-background: var(--sg-background-color, var(--theme-background, var(--jp-layout-color0, white)));\n",
       "  --sklearn-color-border-box: var(--sg-text-color, var(--theme-code-foreground, var(--jp-content-font-color1, black)));\n",
       "  --sklearn-color-icon: #696969;\n",
       "\n",
       "  @media (prefers-color-scheme: dark) {\n",
       "    /* Redefinition of color scheme for dark theme */\n",
       "    --sklearn-color-text-on-default-background: var(--sg-text-color, var(--theme-code-foreground, var(--jp-content-font-color1, white)));\n",
       "    --sklearn-color-background: var(--sg-background-color, var(--theme-background, var(--jp-layout-color0, #111)));\n",
       "    --sklearn-color-border-box: var(--sg-text-color, var(--theme-code-foreground, var(--jp-content-font-color1, white)));\n",
       "    --sklearn-color-icon: #878787;\n",
       "  }\n",
       "}\n",
       "\n",
       "#sk-container-id-2 {\n",
       "  color: var(--sklearn-color-text);\n",
       "}\n",
       "\n",
       "#sk-container-id-2 pre {\n",
       "  padding: 0;\n",
       "}\n",
       "\n",
       "#sk-container-id-2 input.sk-hidden--visually {\n",
       "  border: 0;\n",
       "  clip: rect(1px 1px 1px 1px);\n",
       "  clip: rect(1px, 1px, 1px, 1px);\n",
       "  height: 1px;\n",
       "  margin: -1px;\n",
       "  overflow: hidden;\n",
       "  padding: 0;\n",
       "  position: absolute;\n",
       "  width: 1px;\n",
       "}\n",
       "\n",
       "#sk-container-id-2 div.sk-dashed-wrapped {\n",
       "  border: 1px dashed var(--sklearn-color-line);\n",
       "  margin: 0 0.4em 0.5em 0.4em;\n",
       "  box-sizing: border-box;\n",
       "  padding-bottom: 0.4em;\n",
       "  background-color: var(--sklearn-color-background);\n",
       "}\n",
       "\n",
       "#sk-container-id-2 div.sk-container {\n",
       "  /* jupyter's `normalize.less` sets `[hidden] { display: none; }`\n",
       "     but bootstrap.min.css set `[hidden] { display: none !important; }`\n",
       "     so we also need the `!important` here to be able to override the\n",
       "     default hidden behavior on the sphinx rendered scikit-learn.org.\n",
       "     See: https://github.com/scikit-learn/scikit-learn/issues/21755 */\n",
       "  display: inline-block !important;\n",
       "  position: relative;\n",
       "}\n",
       "\n",
       "#sk-container-id-2 div.sk-text-repr-fallback {\n",
       "  display: none;\n",
       "}\n",
       "\n",
       "div.sk-parallel-item,\n",
       "div.sk-serial,\n",
       "div.sk-item {\n",
       "  /* draw centered vertical line to link estimators */\n",
       "  background-image: linear-gradient(var(--sklearn-color-text-on-default-background), var(--sklearn-color-text-on-default-background));\n",
       "  background-size: 2px 100%;\n",
       "  background-repeat: no-repeat;\n",
       "  background-position: center center;\n",
       "}\n",
       "\n",
       "/* Parallel-specific style estimator block */\n",
       "\n",
       "#sk-container-id-2 div.sk-parallel-item::after {\n",
       "  content: \"\";\n",
       "  width: 100%;\n",
       "  border-bottom: 2px solid var(--sklearn-color-text-on-default-background);\n",
       "  flex-grow: 1;\n",
       "}\n",
       "\n",
       "#sk-container-id-2 div.sk-parallel {\n",
       "  display: flex;\n",
       "  align-items: stretch;\n",
       "  justify-content: center;\n",
       "  background-color: var(--sklearn-color-background);\n",
       "  position: relative;\n",
       "}\n",
       "\n",
       "#sk-container-id-2 div.sk-parallel-item {\n",
       "  display: flex;\n",
       "  flex-direction: column;\n",
       "}\n",
       "\n",
       "#sk-container-id-2 div.sk-parallel-item:first-child::after {\n",
       "  align-self: flex-end;\n",
       "  width: 50%;\n",
       "}\n",
       "\n",
       "#sk-container-id-2 div.sk-parallel-item:last-child::after {\n",
       "  align-self: flex-start;\n",
       "  width: 50%;\n",
       "}\n",
       "\n",
       "#sk-container-id-2 div.sk-parallel-item:only-child::after {\n",
       "  width: 0;\n",
       "}\n",
       "\n",
       "/* Serial-specific style estimator block */\n",
       "\n",
       "#sk-container-id-2 div.sk-serial {\n",
       "  display: flex;\n",
       "  flex-direction: column;\n",
       "  align-items: center;\n",
       "  background-color: var(--sklearn-color-background);\n",
       "  padding-right: 1em;\n",
       "  padding-left: 1em;\n",
       "}\n",
       "\n",
       "\n",
       "/* Toggleable style: style used for estimator/Pipeline/ColumnTransformer box that is\n",
       "clickable and can be expanded/collapsed.\n",
       "- Pipeline and ColumnTransformer use this feature and define the default style\n",
       "- Estimators will overwrite some part of the style using the `sk-estimator` class\n",
       "*/\n",
       "\n",
       "/* Pipeline and ColumnTransformer style (default) */\n",
       "\n",
       "#sk-container-id-2 div.sk-toggleable {\n",
       "  /* Default theme specific background. It is overwritten whether we have a\n",
       "  specific estimator or a Pipeline/ColumnTransformer */\n",
       "  background-color: var(--sklearn-color-background);\n",
       "}\n",
       "\n",
       "/* Toggleable label */\n",
       "#sk-container-id-2 label.sk-toggleable__label {\n",
       "  cursor: pointer;\n",
       "  display: block;\n",
       "  width: 100%;\n",
       "  margin-bottom: 0;\n",
       "  padding: 0.5em;\n",
       "  box-sizing: border-box;\n",
       "  text-align: center;\n",
       "}\n",
       "\n",
       "#sk-container-id-2 label.sk-toggleable__label-arrow:before {\n",
       "  /* Arrow on the left of the label */\n",
       "  content: \"▸\";\n",
       "  float: left;\n",
       "  margin-right: 0.25em;\n",
       "  color: var(--sklearn-color-icon);\n",
       "}\n",
       "\n",
       "#sk-container-id-2 label.sk-toggleable__label-arrow:hover:before {\n",
       "  color: var(--sklearn-color-text);\n",
       "}\n",
       "\n",
       "/* Toggleable content - dropdown */\n",
       "\n",
       "#sk-container-id-2 div.sk-toggleable__content {\n",
       "  max-height: 0;\n",
       "  max-width: 0;\n",
       "  overflow: hidden;\n",
       "  text-align: left;\n",
       "  /* unfitted */\n",
       "  background-color: var(--sklearn-color-unfitted-level-0);\n",
       "}\n",
       "\n",
       "#sk-container-id-2 div.sk-toggleable__content.fitted {\n",
       "  /* fitted */\n",
       "  background-color: var(--sklearn-color-fitted-level-0);\n",
       "}\n",
       "\n",
       "#sk-container-id-2 div.sk-toggleable__content pre {\n",
       "  margin: 0.2em;\n",
       "  border-radius: 0.25em;\n",
       "  color: var(--sklearn-color-text);\n",
       "  /* unfitted */\n",
       "  background-color: var(--sklearn-color-unfitted-level-0);\n",
       "}\n",
       "\n",
       "#sk-container-id-2 div.sk-toggleable__content.fitted pre {\n",
       "  /* unfitted */\n",
       "  background-color: var(--sklearn-color-fitted-level-0);\n",
       "}\n",
       "\n",
       "#sk-container-id-2 input.sk-toggleable__control:checked~div.sk-toggleable__content {\n",
       "  /* Expand drop-down */\n",
       "  max-height: 200px;\n",
       "  max-width: 100%;\n",
       "  overflow: auto;\n",
       "}\n",
       "\n",
       "#sk-container-id-2 input.sk-toggleable__control:checked~label.sk-toggleable__label-arrow:before {\n",
       "  content: \"▾\";\n",
       "}\n",
       "\n",
       "/* Pipeline/ColumnTransformer-specific style */\n",
       "\n",
       "#sk-container-id-2 div.sk-label input.sk-toggleable__control:checked~label.sk-toggleable__label {\n",
       "  color: var(--sklearn-color-text);\n",
       "  background-color: var(--sklearn-color-unfitted-level-2);\n",
       "}\n",
       "\n",
       "#sk-container-id-2 div.sk-label.fitted input.sk-toggleable__control:checked~label.sk-toggleable__label {\n",
       "  background-color: var(--sklearn-color-fitted-level-2);\n",
       "}\n",
       "\n",
       "/* Estimator-specific style */\n",
       "\n",
       "/* Colorize estimator box */\n",
       "#sk-container-id-2 div.sk-estimator input.sk-toggleable__control:checked~label.sk-toggleable__label {\n",
       "  /* unfitted */\n",
       "  background-color: var(--sklearn-color-unfitted-level-2);\n",
       "}\n",
       "\n",
       "#sk-container-id-2 div.sk-estimator.fitted input.sk-toggleable__control:checked~label.sk-toggleable__label {\n",
       "  /* fitted */\n",
       "  background-color: var(--sklearn-color-fitted-level-2);\n",
       "}\n",
       "\n",
       "#sk-container-id-2 div.sk-label label.sk-toggleable__label,\n",
       "#sk-container-id-2 div.sk-label label {\n",
       "  /* The background is the default theme color */\n",
       "  color: var(--sklearn-color-text-on-default-background);\n",
       "}\n",
       "\n",
       "/* On hover, darken the color of the background */\n",
       "#sk-container-id-2 div.sk-label:hover label.sk-toggleable__label {\n",
       "  color: var(--sklearn-color-text);\n",
       "  background-color: var(--sklearn-color-unfitted-level-2);\n",
       "}\n",
       "\n",
       "/* Label box, darken color on hover, fitted */\n",
       "#sk-container-id-2 div.sk-label.fitted:hover label.sk-toggleable__label.fitted {\n",
       "  color: var(--sklearn-color-text);\n",
       "  background-color: var(--sklearn-color-fitted-level-2);\n",
       "}\n",
       "\n",
       "/* Estimator label */\n",
       "\n",
       "#sk-container-id-2 div.sk-label label {\n",
       "  font-family: monospace;\n",
       "  font-weight: bold;\n",
       "  display: inline-block;\n",
       "  line-height: 1.2em;\n",
       "}\n",
       "\n",
       "#sk-container-id-2 div.sk-label-container {\n",
       "  text-align: center;\n",
       "}\n",
       "\n",
       "/* Estimator-specific */\n",
       "#sk-container-id-2 div.sk-estimator {\n",
       "  font-family: monospace;\n",
       "  border: 1px dotted var(--sklearn-color-border-box);\n",
       "  border-radius: 0.25em;\n",
       "  box-sizing: border-box;\n",
       "  margin-bottom: 0.5em;\n",
       "  /* unfitted */\n",
       "  background-color: var(--sklearn-color-unfitted-level-0);\n",
       "}\n",
       "\n",
       "#sk-container-id-2 div.sk-estimator.fitted {\n",
       "  /* fitted */\n",
       "  background-color: var(--sklearn-color-fitted-level-0);\n",
       "}\n",
       "\n",
       "/* on hover */\n",
       "#sk-container-id-2 div.sk-estimator:hover {\n",
       "  /* unfitted */\n",
       "  background-color: var(--sklearn-color-unfitted-level-2);\n",
       "}\n",
       "\n",
       "#sk-container-id-2 div.sk-estimator.fitted:hover {\n",
       "  /* fitted */\n",
       "  background-color: var(--sklearn-color-fitted-level-2);\n",
       "}\n",
       "\n",
       "/* Specification for estimator info (e.g. \"i\" and \"?\") */\n",
       "\n",
       "/* Common style for \"i\" and \"?\" */\n",
       "\n",
       ".sk-estimator-doc-link,\n",
       "a:link.sk-estimator-doc-link,\n",
       "a:visited.sk-estimator-doc-link {\n",
       "  float: right;\n",
       "  font-size: smaller;\n",
       "  line-height: 1em;\n",
       "  font-family: monospace;\n",
       "  background-color: var(--sklearn-color-background);\n",
       "  border-radius: 1em;\n",
       "  height: 1em;\n",
       "  width: 1em;\n",
       "  text-decoration: none !important;\n",
       "  margin-left: 1ex;\n",
       "  /* unfitted */\n",
       "  border: var(--sklearn-color-unfitted-level-1) 1pt solid;\n",
       "  color: var(--sklearn-color-unfitted-level-1);\n",
       "}\n",
       "\n",
       ".sk-estimator-doc-link.fitted,\n",
       "a:link.sk-estimator-doc-link.fitted,\n",
       "a:visited.sk-estimator-doc-link.fitted {\n",
       "  /* fitted */\n",
       "  border: var(--sklearn-color-fitted-level-1) 1pt solid;\n",
       "  color: var(--sklearn-color-fitted-level-1);\n",
       "}\n",
       "\n",
       "/* On hover */\n",
       "div.sk-estimator:hover .sk-estimator-doc-link:hover,\n",
       ".sk-estimator-doc-link:hover,\n",
       "div.sk-label-container:hover .sk-estimator-doc-link:hover,\n",
       ".sk-estimator-doc-link:hover {\n",
       "  /* unfitted */\n",
       "  background-color: var(--sklearn-color-unfitted-level-3);\n",
       "  color: var(--sklearn-color-background);\n",
       "  text-decoration: none;\n",
       "}\n",
       "\n",
       "div.sk-estimator.fitted:hover .sk-estimator-doc-link.fitted:hover,\n",
       ".sk-estimator-doc-link.fitted:hover,\n",
       "div.sk-label-container:hover .sk-estimator-doc-link.fitted:hover,\n",
       ".sk-estimator-doc-link.fitted:hover {\n",
       "  /* fitted */\n",
       "  background-color: var(--sklearn-color-fitted-level-3);\n",
       "  color: var(--sklearn-color-background);\n",
       "  text-decoration: none;\n",
       "}\n",
       "\n",
       "/* Span, style for the box shown on hovering the info icon */\n",
       ".sk-estimator-doc-link span {\n",
       "  display: none;\n",
       "  z-index: 9999;\n",
       "  position: relative;\n",
       "  font-weight: normal;\n",
       "  right: .2ex;\n",
       "  padding: .5ex;\n",
       "  margin: .5ex;\n",
       "  width: min-content;\n",
       "  min-width: 20ex;\n",
       "  max-width: 50ex;\n",
       "  color: var(--sklearn-color-text);\n",
       "  box-shadow: 2pt 2pt 4pt #999;\n",
       "  /* unfitted */\n",
       "  background: var(--sklearn-color-unfitted-level-0);\n",
       "  border: .5pt solid var(--sklearn-color-unfitted-level-3);\n",
       "}\n",
       "\n",
       ".sk-estimator-doc-link.fitted span {\n",
       "  /* fitted */\n",
       "  background: var(--sklearn-color-fitted-level-0);\n",
       "  border: var(--sklearn-color-fitted-level-3);\n",
       "}\n",
       "\n",
       ".sk-estimator-doc-link:hover span {\n",
       "  display: block;\n",
       "}\n",
       "\n",
       "/* \"?\"-specific style due to the `<a>` HTML tag */\n",
       "\n",
       "#sk-container-id-2 a.estimator_doc_link {\n",
       "  float: right;\n",
       "  font-size: 1rem;\n",
       "  line-height: 1em;\n",
       "  font-family: monospace;\n",
       "  background-color: var(--sklearn-color-background);\n",
       "  border-radius: 1rem;\n",
       "  height: 1rem;\n",
       "  width: 1rem;\n",
       "  text-decoration: none;\n",
       "  /* unfitted */\n",
       "  color: var(--sklearn-color-unfitted-level-1);\n",
       "  border: var(--sklearn-color-unfitted-level-1) 1pt solid;\n",
       "}\n",
       "\n",
       "#sk-container-id-2 a.estimator_doc_link.fitted {\n",
       "  /* fitted */\n",
       "  border: var(--sklearn-color-fitted-level-1) 1pt solid;\n",
       "  color: var(--sklearn-color-fitted-level-1);\n",
       "}\n",
       "\n",
       "/* On hover */\n",
       "#sk-container-id-2 a.estimator_doc_link:hover {\n",
       "  /* unfitted */\n",
       "  background-color: var(--sklearn-color-unfitted-level-3);\n",
       "  color: var(--sklearn-color-background);\n",
       "  text-decoration: none;\n",
       "}\n",
       "\n",
       "#sk-container-id-2 a.estimator_doc_link.fitted:hover {\n",
       "  /* fitted */\n",
       "  background-color: var(--sklearn-color-fitted-level-3);\n",
       "}\n",
       "</style><div id=\"sk-container-id-2\" class=\"sk-top-container\"><div class=\"sk-text-repr-fallback\"><pre>GradientBoostingRegressor(learning_rate=0.001, n_estimators=5000,\n",
       "                          random_state=0)</pre><b>In a Jupyter environment, please rerun this cell to show the HTML representation or trust the notebook. <br />On GitHub, the HTML representation is unable to render, please try loading this page with nbviewer.org.</b></div><div class=\"sk-container\" hidden><div class=\"sk-item\"><div class=\"sk-estimator fitted sk-toggleable\"><input class=\"sk-toggleable__control sk-hidden--visually\" id=\"sk-estimator-id-2\" type=\"checkbox\" checked><label for=\"sk-estimator-id-2\" class=\"sk-toggleable__label fitted sk-toggleable__label-arrow fitted\">&nbsp;&nbsp;GradientBoostingRegressor<a class=\"sk-estimator-doc-link fitted\" rel=\"noreferrer\" target=\"_blank\" href=\"https://scikit-learn.org/1.4/modules/generated/sklearn.ensemble.GradientBoostingRegressor.html\">?<span>Documentation for GradientBoostingRegressor</span></a><span class=\"sk-estimator-doc-link fitted\">i<span>Fitted</span></span></label><div class=\"sk-toggleable__content fitted\"><pre>GradientBoostingRegressor(learning_rate=0.001, n_estimators=5000,\n",
       "                          random_state=0)</pre></div> </div></div></div></div>"
      ],
      "text/plain": [
       "GradientBoostingRegressor(learning_rate=0.001, n_estimators=5000,\n",
       "                          random_state=0)"
      ]
     },
     "execution_count": 17,
     "metadata": {},
     "output_type": "execute_result"
    }
   ],
   "source": [
    "## 创建GBRT模型\n",
    "boost_boston = GradientBoostingRegressor(\n",
    "    n_estimators=5000, # 构建 5000 棵回归树，迭代次数\n",
    "    learning_rate=0.001, # 每一步学习的步长（权重衰减），较小意味着学习更慢但更稳定\n",
    "    max_depth=3, # 每棵回归树的最大深度，3是常用的默认值（防止过拟合）\n",
    "    random_state=0\n",
    "    )\n",
    "boost_boston.fit(X_train, y_train)"
   ]
  },
  {
   "cell_type": "code",
   "execution_count": null,
   "id": "8335c97d",
   "metadata": {},
   "outputs": [
    {
     "data": {
      "text/plain": [
       "<matplotlib.legend.Legend at 0x1fb24869940>"
      ]
     },
     "execution_count": 18,
     "metadata": {},
     "output_type": "execute_result"
    },
    {
     "data": {
      "image/png": "[encoded data removed]",
      "text/plain": [
       "<Figure size 800x800 with 1 Axes>"
      ]
     },
     "metadata": {},
     "output_type": "display_data"
    }
   ],
   "source": [
    "## 绘制GBRT模型在训练过程中训练误差和测试误差的变化曲线\n",
    "# 计算每一轮迭代的结果计算测试集均方误差\n",
    "test_error = np.zeros_like(boost_boston.train_score_)\n",
    "for idx, y_ in enumerate(boost_boston.staged_predict(X_test)):\n",
    "   test_error[idx] = np.mean((y_test - y_)**2)\n",
    "# 绘图\n",
    "plot_idx = np.arange(boost_boston.train_score_.shape[0])\n",
    "ax = subplots(figsize=(8,8))[1]\n",
    "ax.plot(plot_idx,\n",
    "        boost_boston.train_score_,\n",
    "        'b',\n",
    "        label='Training')\n",
    "ax.plot(plot_idx,\n",
    "        test_error,\n",
    "        'r',\n",
    "        label='Test')\n",
    "ax.legend()"
   ]
  },
  {
   "cell_type": "code",
   "execution_count": null,
   "id": "053c7687",
   "metadata": {},
   "outputs": [
    {
     "data": {
      "text/plain": [
       "14.501514553719565"
      ]
     },
     "execution_count": 20,
     "metadata": {},
     "output_type": "execute_result"
    }
   ],
   "source": [
    "y_hat_boost = boost_boston.predict(X_test)\n",
    "np.mean((y_test - y_hat_boost)**2)"
   ]
  },
  {
   "cell_type": "markdown",
   "id": "e8f01a92",
   "metadata": {},
   "source": [
    "GBRT模型在测试集上的均方误差为14.48，与Bagging结果相似。\n",
    "\n",
    "改变模型学习率为0.2\n",
    "\n",
    "提高学习率会使得模型收敛更快，并且需要的迭代次数（树的数量）可以减少。但如果学习率过高，可能导致过拟合或发散。"
   ]
  },
  {
   "cell_type": "code",
   "execution_count": null,
   "id": "9fd89449",
   "metadata": {},
   "outputs": [
    {
     "data": {
      "text/plain": [
       "14.501514553719565"
      ]
     },
     "execution_count": 19,
     "metadata": {},
     "output_type": "execute_result"
    }
   ],
   "source": [
    "boost_boston = GradientBoostingRegressor(\n",
    "    n_estimators=5000,\n",
    "    learning_rate=0.2, # 改变学习率为0.2\n",
    "    max_depth=3,\n",
    "    random_state=0\n",
    "    )\n",
    "boost_boston.fit(X_train, y_train)\n",
    "y_hat_boost = boost_boston.predict(X_test)\n",
    "np.mean((y_test - y_hat_boost)**2)"
   ]
  },
  {
   "cell_type": "markdown",
   "id": "f920799f",
   "metadata": {},
   "source": [
    "使用0.2学习率得到的均方误差与使用0.001学习率得到的结果几乎相同。"
   ]
  },
  {
   "cell_type": "markdown",
   "id": "b98124c6",
   "metadata": {},
   "source": [
    "### （2）信用卡欺诈分类"
   ]
  },
  {
   "cell_type": "markdown",
   "id": "ad9179b5",
   "metadata": {},
   "source": [
    "数据集包含2013年9月欧洲持卡人的信用卡交易信息，需要对交易是否属于气站行为进行判定。该数据集显示了两天内发生的交易，其中284,807宗交易中只有492个欺诈。数据只包含数值的输入变量，是PCA变换后的结果。出于保密问题，没有提供原始特征和更多关于数据的背景信息。特征V1，V2，…，V28为主成分分析（PCA）得到的主成分；唯一没有使用PCA转换的特征是时间和数量，其中Feature Time包含每个事务与数据集中的第一个事务之间所经过的秒数，Amount指交易金额，Feature Class是标签变量，如果发生欺诈，它的值为1，否则为0。"
   ]
  },
  {
   "cell_type": "code",
   "execution_count": null,
   "id": "cf2dd3f1",
   "metadata": {},
   "outputs": [
    {
     "data": {
      "text/html": [
       "        <script type=\"text/javascript\">\n",
       "        window.PlotlyConfig = {MathJaxConfig: 'local'};\n",
       "        if (window.MathJax && window.MathJax.Hub && window.MathJax.Hub.Config) {window.MathJax.Hub.Config({SVG: {font: \"STIX-Web\"}});}\n",
       "        </script>\n",
       "        <script type=\"module\">import \"https://cdn.plot.ly/plotly-3.0.1.min\"</script>\n",
       "        "
      ]
     },
     "metadata": {},
     "output_type": "display_data"
    }
   ],
   "source": [
    "## 导入需要的库\n",
    "import pandas as pd \n",
    "import numpy as np\n",
    "import matplotlib\n",
    "from IPython.display import Image\n",
    "import matplotlib.pyplot as plt\n",
    "import seaborn as sns\n",
    "%matplotlib inline \n",
    "import plotly.graph_objs as go\n",
    "import plotly.figure_factory as ff\n",
    "from plotly import tools\n",
    "from plotly.offline import download_plotlyjs, init_notebook_mode, plot, iplot\n",
    "init_notebook_mode(connected=True)\n",
    "import warnings\n",
    "warnings.filterwarnings('ignore')\n",
    "import gc\n",
    "from sklearn.model_selection import train_test_split\n",
    "from sklearn.metrics import accuracy_score , f1_score ,roc_auc_score\n",
    "from sklearn.ensemble import AdaBoostClassifier,GradientBoostingClassifier\n",
    "from xgboost import XGBClassifier\n",
    "\n",
    "RANDOM_STATE = 42"
   ]
  },
  {
   "cell_type": "code",
   "execution_count": 83,
   "id": "0010d27b",
   "metadata": {},
   "outputs": [
    {
     "name": "stdout",
     "output_type": "stream",
     "text": [
      "Credit Card Fraud Detection data -  rows: 284807  columns: 31\n"
     ]
    },
    {
     "data": {
      "text/html": [
       "<div>\n",
       "<style scoped>\n",
       "    .dataframe tbody tr th:only-of-type {\n",
       "        vertical-align: middle;\n",
       "    }\n",
       "\n",
       "    .dataframe tbody tr th {\n",
       "        vertical-align: top;\n",
       "    }\n",
       "\n",
       "    .dataframe thead th {\n",
       "        text-align: right;\n",
       "    }\n",
       "</style>\n",
       "<table border=\"1\" class=\"dataframe\">\n",
       "  <thead>\n",
       "    <tr style=\"text-align: right;\">\n",
       "      <th></th>\n",
       "      <th>Time</th>\n",
       "      <th>V1</th>\n",
       "      <th>V2</th>\n",
       "      <th>V3</th>\n",
       "      <th>V4</th>\n",
       "      <th>V5</th>\n",
       "      <th>V6</th>\n",
       "      <th>V7</th>\n",
       "      <th>V8</th>\n",
       "      <th>V9</th>\n",
       "      <th>V10</th>\n",
       "      <th>V11</th>\n",
       "      <th>V12</th>\n",
       "      <th>V13</th>\n",
       "      <th>V14</th>\n",
       "      <th>V15</th>\n",
       "      <th>V16</th>\n",
       "      <th>V17</th>\n",
       "      <th>V18</th>\n",
       "      <th>V19</th>\n",
       "      <th>V20</th>\n",
       "      <th>V21</th>\n",
       "      <th>V22</th>\n",
       "      <th>V23</th>\n",
       "      <th>V24</th>\n",
       "      <th>V25</th>\n",
       "      <th>V26</th>\n",
       "      <th>V27</th>\n",
       "      <th>V28</th>\n",
       "      <th>Amount</th>\n",
       "      <th>Class</th>\n",
       "    </tr>\n",
       "  </thead>\n",
       "  <tbody>\n",
       "    <tr>\n",
       "      <th>0</th>\n",
       "      <td>0.0</td>\n",
       "      <td>-1.359807</td>\n",
       "      <td>-0.072781</td>\n",
       "      <td>2.536347</td>\n",
       "      <td>1.378155</td>\n",
       "      <td>-0.338321</td>\n",
       "      <td>0.462388</td>\n",
       "      <td>0.239599</td>\n",
       "      <td>0.098698</td>\n",
       "      <td>0.363787</td>\n",
       "      <td>0.090794</td>\n",
       "      <td>-0.551600</td>\n",
       "      <td>-0.617801</td>\n",
       "      <td>-0.991390</td>\n",
       "      <td>-0.311169</td>\n",
       "      <td>1.468177</td>\n",
       "      <td>-0.470401</td>\n",
       "      <td>0.207971</td>\n",
       "      <td>0.025791</td>\n",
       "      <td>0.403993</td>\n",
       "      <td>0.251412</td>\n",
       "      <td>-0.018307</td>\n",
       "      <td>0.277838</td>\n",
       "      <td>-0.110474</td>\n",
       "      <td>0.066928</td>\n",
       "      <td>0.128539</td>\n",
       "      <td>-0.189115</td>\n",
       "      <td>0.133558</td>\n",
       "      <td>-0.021053</td>\n",
       "      <td>149.62</td>\n",
       "      <td>0</td>\n",
       "    </tr>\n",
       "    <tr>\n",
       "      <th>1</th>\n",
       "      <td>0.0</td>\n",
       "      <td>1.191857</td>\n",
       "      <td>0.266151</td>\n",
       "      <td>0.166480</td>\n",
       "      <td>0.448154</td>\n",
       "      <td>0.060018</td>\n",
       "      <td>-0.082361</td>\n",
       "      <td>-0.078803</td>\n",
       "      <td>0.085102</td>\n",
       "      <td>-0.255425</td>\n",
       "      <td>-0.166974</td>\n",
       "      <td>1.612727</td>\n",
       "      <td>1.065235</td>\n",
       "      <td>0.489095</td>\n",
       "      <td>-0.143772</td>\n",
       "      <td>0.635558</td>\n",
       "      <td>0.463917</td>\n",
       "      <td>-0.114805</td>\n",
       "      <td>-0.183361</td>\n",
       "      <td>-0.145783</td>\n",
       "      <td>-0.069083</td>\n",
       "      <td>-0.225775</td>\n",
       "      <td>-0.638672</td>\n",
       "      <td>0.101288</td>\n",
       "      <td>-0.339846</td>\n",
       "      <td>0.167170</td>\n",
       "      <td>0.125895</td>\n",
       "      <td>-0.008983</td>\n",
       "      <td>0.014724</td>\n",
       "      <td>2.69</td>\n",
       "      <td>0</td>\n",
       "    </tr>\n",
       "    <tr>\n",
       "      <th>2</th>\n",
       "      <td>1.0</td>\n",
       "      <td>-1.358354</td>\n",
       "      <td>-1.340163</td>\n",
       "      <td>1.773209</td>\n",
       "      <td>0.379780</td>\n",
       "      <td>-0.503198</td>\n",
       "      <td>1.800499</td>\n",
       "      <td>0.791461</td>\n",
       "      <td>0.247676</td>\n",
       "      <td>-1.514654</td>\n",
       "      <td>0.207643</td>\n",
       "      <td>0.624501</td>\n",
       "      <td>0.066084</td>\n",
       "      <td>0.717293</td>\n",
       "      <td>-0.165946</td>\n",
       "      <td>2.345865</td>\n",
       "      <td>-2.890083</td>\n",
       "      <td>1.109969</td>\n",
       "      <td>-0.121359</td>\n",
       "      <td>-2.261857</td>\n",
       "      <td>0.524980</td>\n",
       "      <td>0.247998</td>\n",
       "      <td>0.771679</td>\n",
       "      <td>0.909412</td>\n",
       "      <td>-0.689281</td>\n",
       "      <td>-0.327642</td>\n",
       "      <td>-0.139097</td>\n",
       "      <td>-0.055353</td>\n",
       "      <td>-0.059752</td>\n",
       "      <td>378.66</td>\n",
       "      <td>0</td>\n",
       "    </tr>\n",
       "    <tr>\n",
       "      <th>3</th>\n",
       "      <td>1.0</td>\n",
       "      <td>-0.966272</td>\n",
       "      <td>-0.185226</td>\n",
       "      <td>1.792993</td>\n",
       "      <td>-0.863291</td>\n",
       "      <td>-0.010309</td>\n",
       "      <td>1.247203</td>\n",
       "      <td>0.237609</td>\n",
       "      <td>0.377436</td>\n",
       "      <td>-1.387024</td>\n",
       "      <td>-0.054952</td>\n",
       "      <td>-0.226487</td>\n",
       "      <td>0.178228</td>\n",
       "      <td>0.507757</td>\n",
       "      <td>-0.287924</td>\n",
       "      <td>-0.631418</td>\n",
       "      <td>-1.059647</td>\n",
       "      <td>-0.684093</td>\n",
       "      <td>1.965775</td>\n",
       "      <td>-1.232622</td>\n",
       "      <td>-0.208038</td>\n",
       "      <td>-0.108300</td>\n",
       "      <td>0.005274</td>\n",
       "      <td>-0.190321</td>\n",
       "      <td>-1.175575</td>\n",
       "      <td>0.647376</td>\n",
       "      <td>-0.221929</td>\n",
       "      <td>0.062723</td>\n",
       "      <td>0.061458</td>\n",
       "      <td>123.50</td>\n",
       "      <td>0</td>\n",
       "    </tr>\n",
       "    <tr>\n",
       "      <th>4</th>\n",
       "      <td>2.0</td>\n",
       "      <td>-1.158233</td>\n",
       "      <td>0.877737</td>\n",
       "      <td>1.548718</td>\n",
       "      <td>0.403034</td>\n",
       "      <td>-0.407193</td>\n",
       "      <td>0.095921</td>\n",
       "      <td>0.592941</td>\n",
       "      <td>-0.270533</td>\n",
       "      <td>0.817739</td>\n",
       "      <td>0.753074</td>\n",
       "      <td>-0.822843</td>\n",
       "      <td>0.538196</td>\n",
       "      <td>1.345852</td>\n",
       "      <td>-1.119670</td>\n",
       "      <td>0.175121</td>\n",
       "      <td>-0.451449</td>\n",
       "      <td>-0.237033</td>\n",
       "      <td>-0.038195</td>\n",
       "      <td>0.803487</td>\n",
       "      <td>0.408542</td>\n",
       "      <td>-0.009431</td>\n",
       "      <td>0.798278</td>\n",
       "      <td>-0.137458</td>\n",
       "      <td>0.141267</td>\n",
       "      <td>-0.206010</td>\n",
       "      <td>0.502292</td>\n",
       "      <td>0.219422</td>\n",
       "      <td>0.215153</td>\n",
       "      <td>69.99</td>\n",
       "      <td>0</td>\n",
       "    </tr>\n",
       "  </tbody>\n",
       "</table>\n",
       "</div>"
      ],
      "text/plain": [
       "   Time        V1        V2        V3        V4        V5        V6        V7  \\\n",
       "0   0.0 -1.359807 -0.072781  2.536347  1.378155 -0.338321  0.462388  0.239599   \n",
       "1   0.0  1.191857  0.266151  0.166480  0.448154  0.060018 -0.082361 -0.078803   \n",
       "2   1.0 -1.358354 -1.340163  1.773209  0.379780 -0.503198  1.800499  0.791461   \n",
       "3   1.0 -0.966272 -0.185226  1.792993 -0.863291 -0.010309  1.247203  0.237609   \n",
       "4   2.0 -1.158233  0.877737  1.548718  0.403034 -0.407193  0.095921  0.592941   \n",
       "\n",
       "         V8        V9       V10       V11       V12       V13       V14  \\\n",
       "0  0.098698  0.363787  0.090794 -0.551600 -0.617801 -0.991390 -0.311169   \n",
       "1  0.085102 -0.255425 -0.166974  1.612727  1.065235  0.489095 -0.143772   \n",
       "2  0.247676 -1.514654  0.207643  0.624501  0.066084  0.717293 -0.165946   \n",
       "3  0.377436 -1.387024 -0.054952 -0.226487  0.178228  0.507757 -0.287924   \n",
       "4 -0.270533  0.817739  0.753074 -0.822843  0.538196  1.345852 -1.119670   \n",
       "\n",
       "        V15       V16       V17       V18       V19       V20       V21  \\\n",
       "0  1.468177 -0.470401  0.207971  0.025791  0.403993  0.251412 -0.018307   \n",
       "1  0.635558  0.463917 -0.114805 -0.183361 -0.145783 -0.069083 -0.225775   \n",
       "2  2.345865 -2.890083  1.109969 -0.121359 -2.261857  0.524980  0.247998   \n",
       "3 -0.631418 -1.059647 -0.684093  1.965775 -1.232622 -0.208038 -0.108300   \n",
       "4  0.175121 -0.451449 -0.237033 -0.038195  0.803487  0.408542 -0.009431   \n",
       "\n",
       "        V22       V23       V24       V25       V26       V27       V28  \\\n",
       "0  0.277838 -0.110474  0.066928  0.128539 -0.189115  0.133558 -0.021053   \n",
       "1 -0.638672  0.101288 -0.339846  0.167170  0.125895 -0.008983  0.014724   \n",
       "2  0.771679  0.909412 -0.689281 -0.327642 -0.139097 -0.055353 -0.059752   \n",
       "3  0.005274 -0.190321 -1.175575  0.647376 -0.221929  0.062723  0.061458   \n",
       "4  0.798278 -0.137458  0.141267 -0.206010  0.502292  0.219422  0.215153   \n",
       "\n",
       "   Amount  Class  \n",
       "0  149.62      0  \n",
       "1    2.69      0  \n",
       "2  378.66      0  \n",
       "3  123.50      0  \n",
       "4   69.99      0  "
      ]
     },
     "execution_count": 83,
     "metadata": {},
     "output_type": "execute_result"
    }
   ],
   "source": [
    "## 读取数据\n",
    "data = pd.read_csv(\"creditcard.csv\")\n",
    "print(\"Credit Card Fraud Detection data -  rows:\",data.shape[0],\" columns:\", data.shape[1])\n",
    "data.head()"
   ]
  },
  {
   "cell_type": "code",
   "execution_count": 84,
   "id": "287850eb",
   "metadata": {},
   "outputs": [
    {
     "data": {
      "text/html": [
       "<div>\n",
       "<style scoped>\n",
       "    .dataframe tbody tr th:only-of-type {\n",
       "        vertical-align: middle;\n",
       "    }\n",
       "\n",
       "    .dataframe tbody tr th {\n",
       "        vertical-align: top;\n",
       "    }\n",
       "\n",
       "    .dataframe thead th {\n",
       "        text-align: right;\n",
       "    }\n",
       "</style>\n",
       "<table border=\"1\" class=\"dataframe\">\n",
       "  <thead>\n",
       "    <tr style=\"text-align: right;\">\n",
       "      <th></th>\n",
       "      <th>Time</th>\n",
       "      <th>V16</th>\n",
       "      <th>Amount</th>\n",
       "      <th>V28</th>\n",
       "      <th>V27</th>\n",
       "      <th>V26</th>\n",
       "      <th>V25</th>\n",
       "      <th>V24</th>\n",
       "      <th>V23</th>\n",
       "      <th>V22</th>\n",
       "      <th>V21</th>\n",
       "      <th>V20</th>\n",
       "      <th>V19</th>\n",
       "      <th>V18</th>\n",
       "      <th>V17</th>\n",
       "      <th>V15</th>\n",
       "      <th>V1</th>\n",
       "      <th>V14</th>\n",
       "      <th>V13</th>\n",
       "      <th>V12</th>\n",
       "      <th>V11</th>\n",
       "      <th>V10</th>\n",
       "      <th>V9</th>\n",
       "      <th>V8</th>\n",
       "      <th>V7</th>\n",
       "      <th>V6</th>\n",
       "      <th>V5</th>\n",
       "      <th>V4</th>\n",
       "      <th>V3</th>\n",
       "      <th>V2</th>\n",
       "      <th>Class</th>\n",
       "    </tr>\n",
       "  </thead>\n",
       "  <tbody>\n",
       "    <tr>\n",
       "      <th>Total</th>\n",
       "      <td>0.0</td>\n",
       "      <td>0.0</td>\n",
       "      <td>0.0</td>\n",
       "      <td>0.0</td>\n",
       "      <td>0.0</td>\n",
       "      <td>0.0</td>\n",
       "      <td>0.0</td>\n",
       "      <td>0.0</td>\n",
       "      <td>0.0</td>\n",
       "      <td>0.0</td>\n",
       "      <td>0.0</td>\n",
       "      <td>0.0</td>\n",
       "      <td>0.0</td>\n",
       "      <td>0.0</td>\n",
       "      <td>0.0</td>\n",
       "      <td>0.0</td>\n",
       "      <td>0.0</td>\n",
       "      <td>0.0</td>\n",
       "      <td>0.0</td>\n",
       "      <td>0.0</td>\n",
       "      <td>0.0</td>\n",
       "      <td>0.0</td>\n",
       "      <td>0.0</td>\n",
       "      <td>0.0</td>\n",
       "      <td>0.0</td>\n",
       "      <td>0.0</td>\n",
       "      <td>0.0</td>\n",
       "      <td>0.0</td>\n",
       "      <td>0.0</td>\n",
       "      <td>0.0</td>\n",
       "      <td>0.0</td>\n",
       "    </tr>\n",
       "    <tr>\n",
       "      <th>Percent</th>\n",
       "      <td>0.0</td>\n",
       "      <td>0.0</td>\n",
       "      <td>0.0</td>\n",
       "      <td>0.0</td>\n",
       "      <td>0.0</td>\n",
       "      <td>0.0</td>\n",
       "      <td>0.0</td>\n",
       "      <td>0.0</td>\n",
       "      <td>0.0</td>\n",
       "      <td>0.0</td>\n",
       "      <td>0.0</td>\n",
       "      <td>0.0</td>\n",
       "      <td>0.0</td>\n",
       "      <td>0.0</td>\n",
       "      <td>0.0</td>\n",
       "      <td>0.0</td>\n",
       "      <td>0.0</td>\n",
       "      <td>0.0</td>\n",
       "      <td>0.0</td>\n",
       "      <td>0.0</td>\n",
       "      <td>0.0</td>\n",
       "      <td>0.0</td>\n",
       "      <td>0.0</td>\n",
       "      <td>0.0</td>\n",
       "      <td>0.0</td>\n",
       "      <td>0.0</td>\n",
       "      <td>0.0</td>\n",
       "      <td>0.0</td>\n",
       "      <td>0.0</td>\n",
       "      <td>0.0</td>\n",
       "      <td>0.0</td>\n",
       "    </tr>\n",
       "  </tbody>\n",
       "</table>\n",
       "</div>"
      ],
      "text/plain": [
       "         Time  V16  Amount  V28  V27  V26  V25  V24  V23  V22  V21  V20  V19  \\\n",
       "Total     0.0  0.0     0.0  0.0  0.0  0.0  0.0  0.0  0.0  0.0  0.0  0.0  0.0   \n",
       "Percent   0.0  0.0     0.0  0.0  0.0  0.0  0.0  0.0  0.0  0.0  0.0  0.0  0.0   \n",
       "\n",
       "         V18  V17  V15   V1  V14  V13  V12  V11  V10   V9   V8   V7   V6   V5  \\\n",
       "Total    0.0  0.0  0.0  0.0  0.0  0.0  0.0  0.0  0.0  0.0  0.0  0.0  0.0  0.0   \n",
       "Percent  0.0  0.0  0.0  0.0  0.0  0.0  0.0  0.0  0.0  0.0  0.0  0.0  0.0  0.0   \n",
       "\n",
       "          V4   V3   V2  Class  \n",
       "Total    0.0  0.0  0.0    0.0  \n",
       "Percent  0.0  0.0  0.0    0.0  "
      ]
     },
     "execution_count": 84,
     "metadata": {},
     "output_type": "execute_result"
    }
   ],
   "source": [
    "## 查看数据集的数据缺失情况\n",
    "total = data.isnull().sum().sort_values(ascending = False)\n",
    "percent = (data.isnull().sum()/data.isnull().count()*100).sort_values(ascending = False)\n",
    "pd.concat([total, percent], axis=1, keys=['Total', 'Percent']).transpose()"
   ]
  },
  {
   "cell_type": "markdown",
   "id": "7b698487",
   "metadata": {},
   "source": [
    "可以看到，数据集中不存在缺失数据。"
   ]
  },
  {
   "cell_type": "code",
   "execution_count": 85,
   "id": "cf8a8da4",
   "metadata": {},
   "outputs": [
    {
     "data": {
      "application/vnd.plotly.v1+json": {
       "config": {
        "linkText": "Export to plot.ly",
        "plotlyServerURL": "https://plot.ly",
        "showLink": false
       },
       "data": [
        {
         "marker": {
          "color": "Blue"
         },
         "name": "Credit Card Fraud Class - data unbalance (Not fraud = 0, Fraud = 1)",
         "text": {
          "bdata": "AAAAAGxaEUEAAAAAAMB+QA==",
          "dtype": "f8"
         },
         "type": "bar",
         "x": {
          "bdata": "AAE=",
          "dtype": "i1"
         },
         "y": {
          "bdata": "m1YEAOwBAAA=",
          "dtype": "i4"
         }
        }
       ],
       "layout": {
        "hovermode": "closest",
        "template": {
         "data": {
          "bar": [
           {
            "error_x": {
             "color": "#2a3f5f"
            },
            "error_y": {
             "color": "#2a3f5f"
            },
            "marker": {
             "line": {
              "color": "#E5ECF6",
              "width": 0.5
             },
             "pattern": {
              "fillmode": "overlay",
              "size": 10,
              "solidity": 0.2
             }
            },
            "type": "bar"
           }
          ],
          "barpolar": [
           {
            "marker": {
             "line": {
              "color": "#E5ECF6",
              "width": 0.5
             },
             "pattern": {
              "fillmode": "overlay",
              "size": 10,
              "solidity": 0.2
             }
            },
            "type": "barpolar"
           }
          ],
          "carpet": [
           {
            "aaxis": {
             "endlinecolor": "#2a3f5f",
             "gridcolor": "white",
             "linecolor": "white",
             "minorgridcolor": "white",
             "startlinecolor": "#2a3f5f"
            },
            "baxis": {
             "endlinecolor": "#2a3f5f",
             "gridcolor": "white",
             "linecolor": "white",
             "minorgridcolor": "white",
             "startlinecolor": "#2a3f5f"
            },
            "type": "carpet"
           }
          ],
          "choropleth": [
           {
            "colorbar": {
             "outlinewidth": 0,
             "ticks": ""
            },
            "type": "choropleth"
           }
          ],
          "contour": [
           {
            "colorbar": {
             "outlinewidth": 0,
             "ticks": ""
            },
            "colorscale": [
             [
              0,
              "#0d0887"
             ],
             [
              0.1111111111111111,
              "#46039f"
             ],
             [
              0.2222222222222222,
              "#7201a8"
             ],
             [
              0.3333333333333333,
              "#9c179e"
             ],
             [
              0.4444444444444444,
              "#bd3786"
             ],
             [
              0.5555555555555556,
              "#d8576b"
             ],
             [
              0.6666666666666666,
              "#ed7953"
             ],
             [
              0.7777777777777778,
              "#fb9f3a"
             ],
             [
              0.8888888888888888,
              "#fdca26"
             ],
             [
              1,
              "#f0f921"
             ]
            ],
            "type": "contour"
           }
          ],
          "contourcarpet": [
           {
            "colorbar": {
             "outlinewidth": 0,
             "ticks": ""
            },
            "type": "contourcarpet"
           }
          ],
          "heatmap": [
           {
            "colorbar": {
             "outlinewidth": 0,
             "ticks": ""
            },
            "colorscale": [
             [
              0,
              "#0d0887"
             ],
             [
              0.1111111111111111,
              "#46039f"
             ],
             [
              0.2222222222222222,
              "#7201a8"
             ],
             [
              0.3333333333333333,
              "#9c179e"
             ],
             [
              0.4444444444444444,
              "#bd3786"
             ],
             [
              0.5555555555555556,
              "#d8576b"
             ],
             [
              0.6666666666666666,
              "#ed7953"
             ],
             [
              0.7777777777777778,
              "#fb9f3a"
             ],
             [
              0.8888888888888888,
              "#fdca26"
             ],
             [
              1,
              "#f0f921"
             ]
            ],
            "type": "heatmap"
           }
          ],
          "histogram": [
           {
            "marker": {
             "pattern": {
              "fillmode": "overlay",
              "size": 10,
              "solidity": 0.2
             }
            },
            "type": "histogram"
           }
          ],
          "histogram2d": [
           {
            "colorbar": {
             "outlinewidth": 0,
             "ticks": ""
            },
            "colorscale": [
             [
              0,
              "#0d0887"
             ],
             [
              0.1111111111111111,
              "#46039f"
             ],
             [
              0.2222222222222222,
              "#7201a8"
             ],
             [
              0.3333333333333333,
              "#9c179e"
             ],
             [
              0.4444444444444444,
              "#bd3786"
             ],
             [
              0.5555555555555556,
              "#d8576b"
             ],
             [
              0.6666666666666666,
              "#ed7953"
             ],
             [
              0.7777777777777778,
              "#fb9f3a"
             ],
             [
              0.8888888888888888,
              "#fdca26"
             ],
             [
              1,
              "#f0f921"
             ]
            ],
            "type": "histogram2d"
           }
          ],
          "histogram2dcontour": [
           {
            "colorbar": {
             "outlinewidth": 0,
             "ticks": ""
            },
            "colorscale": [
             [
              0,
              "#0d0887"
             ],
             [
              0.1111111111111111,
              "#46039f"
             ],
             [
              0.2222222222222222,
              "#7201a8"
             ],
             [
              0.3333333333333333,
              "#9c179e"
             ],
             [
              0.4444444444444444,
              "#bd3786"
             ],
             [
              0.5555555555555556,
              "#d8576b"
             ],
             [
              0.6666666666666666,
              "#ed7953"
             ],
             [
              0.7777777777777778,
              "#fb9f3a"
             ],
             [
              0.8888888888888888,
              "#fdca26"
             ],
             [
              1,
              "#f0f921"
             ]
            ],
            "type": "histogram2dcontour"
           }
          ],
          "mesh3d": [
           {
            "colorbar": {
             "outlinewidth": 0,
             "ticks": ""
            },
            "type": "mesh3d"
           }
          ],
          "parcoords": [
           {
            "line": {
             "colorbar": {
              "outlinewidth": 0,
              "ticks": ""
             }
            },
            "type": "parcoords"
           }
          ],
          "pie": [
           {
            "automargin": true,
            "type": "pie"
           }
          ],
          "scatter": [
           {
            "fillpattern": {
             "fillmode": "overlay",
             "size": 10,
             "solidity": 0.2
            },
            "type": "scatter"
           }
          ],
          "scatter3d": [
           {
            "line": {
             "colorbar": {
              "outlinewidth": 0,
              "ticks": ""
             }
            },
            "marker": {
             "colorbar": {
              "outlinewidth": 0,
              "ticks": ""
             }
            },
            "type": "scatter3d"
           }
          ],
          "scattercarpet": [
           {
            "marker": {
             "colorbar": {
              "outlinewidth": 0,
              "ticks": ""
             }
            },
            "type": "scattercarpet"
           }
          ],
          "scattergeo": [
           {
            "marker": {
             "colorbar": {
              "outlinewidth": 0,
              "ticks": ""
             }
            },
            "type": "scattergeo"
           }
          ],
          "scattergl": [
           {
            "marker": {
             "colorbar": {
              "outlinewidth": 0,
              "ticks": ""
             }
            },
            "type": "scattergl"
           }
          ],
          "scattermap": [
           {
            "marker": {
             "colorbar": {
              "outlinewidth": 0,
              "ticks": ""
             }
            },
            "type": "scattermap"
           }
          ],
          "scattermapbox": [
           {
            "marker": {
             "colorbar": {
              "outlinewidth": 0,
              "ticks": ""
             }
            },
            "type": "scattermapbox"
           }
          ],
          "scatterpolar": [
           {
            "marker": {
             "colorbar": {
              "outlinewidth": 0,
              "ticks": ""
             }
            },
            "type": "scatterpolar"
           }
          ],
          "scatterpolargl": [
           {
            "marker": {
             "colorbar": {
              "outlinewidth": 0,
              "ticks": ""
             }
            },
            "type": "scatterpolargl"
           }
          ],
          "scatterternary": [
           {
            "marker": {
             "colorbar": {
              "outlinewidth": 0,
              "ticks": ""
             }
            },
            "type": "scatterternary"
           }
          ],
          "surface": [
           {
            "colorbar": {
             "outlinewidth": 0,
             "ticks": ""
            },
            "colorscale": [
             [
              0,
              "#0d0887"
             ],
             [
              0.1111111111111111,
              "#46039f"
             ],
             [
              0.2222222222222222,
              "#7201a8"
             ],
             [
              0.3333333333333333,
              "#9c179e"
             ],
             [
              0.4444444444444444,
              "#bd3786"
             ],
             [
              0.5555555555555556,
              "#d8576b"
             ],
             [
              0.6666666666666666,
              "#ed7953"
             ],
             [
              0.7777777777777778,
              "#fb9f3a"
             ],
             [
              0.8888888888888888,
              "#fdca26"
             ],
             [
              1,
              "#f0f921"
             ]
            ],
            "type": "surface"
           }
          ],
          "table": [
           {
            "cells": {
             "fill": {
              "color": "#EBF0F8"
             },
             "line": {
              "color": "white"
             }
            },
            "header": {
             "fill": {
              "color": "#C8D4E3"
             },
             "line": {
              "color": "white"
             }
            },
            "type": "table"
           }
          ]
         },
         "layout": {
          "annotationdefaults": {
           "arrowcolor": "#2a3f5f",
           "arrowhead": 0,
           "arrowwidth": 1
          },
          "autotypenumbers": "strict",
          "coloraxis": {
           "colorbar": {
            "outlinewidth": 0,
            "ticks": ""
           }
          },
          "colorscale": {
           "diverging": [
            [
             0,
             "#8e0152"
            ],
            [
             0.1,
             "#c51b7d"
            ],
            [
             0.2,
             "#de77ae"
            ],
            [
             0.3,
             "#f1b6da"
            ],
            [
             0.4,
             "#fde0ef"
            ],
            [
             0.5,
             "#f7f7f7"
            ],
            [
             0.6,
             "#e6f5d0"
            ],
            [
             0.7,
             "#b8e186"
            ],
            [
             0.8,
             "#7fbc41"
            ],
            [
             0.9,
             "#4d9221"
            ],
            [
             1,
             "#276419"
            ]
           ],
           "sequential": [
            [
             0,
             "#0d0887"
            ],
            [
             0.1111111111111111,
             "#46039f"
            ],
            [
             0.2222222222222222,
             "#7201a8"
            ],
            [
             0.3333333333333333,
             "#9c179e"
            ],
            [
             0.4444444444444444,
             "#bd3786"
            ],
            [
             0.5555555555555556,
             "#d8576b"
            ],
            [
             0.6666666666666666,
             "#ed7953"
            ],
            [
             0.7777777777777778,
             "#fb9f3a"
            ],
            [
             0.8888888888888888,
             "#fdca26"
            ],
            [
             1,
             "#f0f921"
            ]
           ],
           "sequentialminus": [
            [
             0,
             "#0d0887"
            ],
            [
             0.1111111111111111,
             "#46039f"
            ],
            [
             0.2222222222222222,
             "#7201a8"
            ],
            [
             0.3333333333333333,
             "#9c179e"
            ],
            [
             0.4444444444444444,
             "#bd3786"
            ],
            [
             0.5555555555555556,
             "#d8576b"
            ],
            [
             0.6666666666666666,
             "#ed7953"
            ],
            [
             0.7777777777777778,
             "#fb9f3a"
            ],
            [
             0.8888888888888888,
             "#fdca26"
            ],
            [
             1,
             "#f0f921"
            ]
           ]
          },
          "colorway": [
           "#636efa",
           "#EF553B",
           "#00cc96",
           "#ab63fa",
           "#FFA15A",
           "#19d3f3",
           "#FF6692",
           "#B6E880",
           "#FF97FF",
           "#FECB52"
          ],
          "font": {
           "color": "#2a3f5f"
          },
          "geo": {
           "bgcolor": "white",
           "lakecolor": "white",
           "landcolor": "#E5ECF6",
           "showlakes": true,
           "showland": true,
           "subunitcolor": "white"
          },
          "hoverlabel": {
           "align": "left"
          },
          "hovermode": "closest",
          "mapbox": {
           "style": "light"
          },
          "paper_bgcolor": "white",
          "plot_bgcolor": "#E5ECF6",
          "polar": {
           "angularaxis": {
            "gridcolor": "white",
            "linecolor": "white",
            "ticks": ""
           },
           "bgcolor": "#E5ECF6",
           "radialaxis": {
            "gridcolor": "white",
            "linecolor": "white",
            "ticks": ""
           }
          },
          "scene": {
           "xaxis": {
            "backgroundcolor": "#E5ECF6",
            "gridcolor": "white",
            "gridwidth": 2,
            "linecolor": "white",
            "showbackground": true,
            "ticks": "",
            "zerolinecolor": "white"
           },
           "yaxis": {
            "backgroundcolor": "#E5ECF6",
            "gridcolor": "white",
            "gridwidth": 2,
            "linecolor": "white",
            "showbackground": true,
            "ticks": "",
            "zerolinecolor": "white"
           },
           "zaxis": {
            "backgroundcolor": "#E5ECF6",
            "gridcolor": "white",
            "gridwidth": 2,
            "linecolor": "white",
            "showbackground": true,
            "ticks": "",
            "zerolinecolor": "white"
           }
          },
          "shapedefaults": {
           "line": {
            "color": "#2a3f5f"
           }
          },
          "ternary": {
           "aaxis": {
            "gridcolor": "white",
            "linecolor": "white",
            "ticks": ""
           },
           "baxis": {
            "gridcolor": "white",
            "linecolor": "white",
            "ticks": ""
           },
           "bgcolor": "#E5ECF6",
           "caxis": {
            "gridcolor": "white",
            "linecolor": "white",
            "ticks": ""
           }
          },
          "title": {
           "x": 0.05
          },
          "xaxis": {
           "automargin": true,
           "gridcolor": "white",
           "linecolor": "white",
           "ticks": "",
           "title": {
            "standoff": 15
           },
           "zerolinecolor": "white",
           "zerolinewidth": 2
          },
          "yaxis": {
           "automargin": true,
           "gridcolor": "white",
           "linecolor": "white",
           "ticks": "",
           "title": {
            "standoff": 15
           },
           "zerolinecolor": "white",
           "zerolinewidth": 2
          }
         }
        },
        "title": {
         "text": "Credit Card Fraud Class - data unbalance (Not fraud = 0, Fraud = 1)"
        },
        "width": 600,
        "xaxis": {
         "showticklabels": true,
         "title": {
          "text": "Class"
         }
        },
        "yaxis": {
         "title": {
          "text": "Number of transactions"
         }
        }
       }
      },
      "text/html": [
       "<div>            <script src=\"https://cdnjs.cloudflare.com/ajax/libs/mathjax/2.7.5/MathJax.js?config=TeX-AMS-MML_SVG\"></script><script type=\"text/javascript\">if (window.MathJax && window.MathJax.Hub && window.MathJax.Hub.Config) {window.MathJax.Hub.Config({SVG: {font: \"STIX-Web\"}});}</script>                <script type=\"text/javascript\">window.PlotlyConfig = {MathJaxConfig: 'local'};</script>\n",
       "        <script charset=\"utf-8\" src=\"https://cdn.plot.ly/plotly-3.0.1.min.js\"></script>                <div id=\"38ff8c92-3f67-4209-8eb0-cf82a7b80218\" class=\"plotly-graph-div\" style=\"height:525px; width:600px;\"></div>            <script type=\"text/javascript\">                window.PLOTLYENV=window.PLOTLYENV || {};                                if (document.getElementById(\"38ff8c92-3f67-4209-8eb0-cf82a7b80218\")) {                    Plotly.newPlot(                        \"38ff8c92-3f67-4209-8eb0-cf82a7b80218\",                        [{\"marker\":{\"color\":\"Blue\"},\"name\":\"Credit Card Fraud Class - data unbalance (Not fraud = 0, Fraud = 1)\",\"text\":{\"dtype\":\"f8\",\"bdata\":\"AAAAAGxaEUEAAAAAAMB+QA==\"},\"x\":{\"dtype\":\"i1\",\"bdata\":\"AAE=\"},\"y\":{\"dtype\":\"i4\",\"bdata\":\"m1YEAOwBAAA=\"},\"type\":\"bar\"}],                        {\"hovermode\":\"closest\",\"template\":{\"data\":{\"barpolar\":[{\"marker\":{\"line\":{\"color\":\"#E5ECF6\",\"width\":0.5},\"pattern\":{\"fillmode\":\"overlay\",\"size\":10,\"solidity\":0.2}},\"type\":\"barpolar\"}],\"bar\":[{\"error_x\":{\"color\":\"#2a3f5f\"},\"error_y\":{\"color\":\"#2a3f5f\"},\"marker\":{\"line\":{\"color\":\"#E5ECF6\",\"width\":0.5},\"pattern\":{\"fillmode\":\"overlay\",\"size\":10,\"solidity\":0.2}},\"type\":\"bar\"}],\"carpet\":[{\"aaxis\":{\"endlinecolor\":\"#2a3f5f\",\"gridcolor\":\"white\",\"linecolor\":\"white\",\"minorgridcolor\":\"white\",\"startlinecolor\":\"#2a3f5f\"},\"baxis\":{\"endlinecolor\":\"#2a3f5f\",\"gridcolor\":\"white\",\"linecolor\":\"white\",\"minorgridcolor\":\"white\",\"startlinecolor\":\"#2a3f5f\"},\"type\":\"carpet\"}],\"choropleth\":[{\"colorbar\":{\"outlinewidth\":0,\"ticks\":\"\"},\"type\":\"choropleth\"}],\"contourcarpet\":[{\"colorbar\":{\"outlinewidth\":0,\"ticks\":\"\"},\"type\":\"contourcarpet\"}],\"contour\":[{\"colorbar\":{\"outlinewidth\":0,\"ticks\":\"\"},\"colorscale\":[[0.0,\"#0d0887\"],[0.1111111111111111,\"#46039f\"],[0.2222222222222222,\"#7201a8\"],[0.3333333333333333,\"#9c179e\"],[0.4444444444444444,\"#bd3786\"],[0.5555555555555556,\"#d8576b\"],[0.6666666666666666,\"#ed7953\"],[0.7777777777777778,\"#fb9f3a\"],[0.8888888888888888,\"#fdca26\"],[1.0,\"#f0f921\"]],\"type\":\"contour\"}],\"heatmap\":[{\"colorbar\":{\"outlinewidth\":0,\"ticks\":\"\"},\"colorscale\":[[0.0,\"#0d0887\"],[0.1111111111111111,\"#46039f\"],[0.2222222222222222,\"#7201a8\"],[0.3333333333333333,\"#9c179e\"],[0.4444444444444444,\"#bd3786\"],[0.5555555555555556,\"#d8576b\"],[0.6666666666666666,\"#ed7953\"],[0.7777777777777778,\"#fb9f3a\"],[0.8888888888888888,\"#fdca26\"],[1.0,\"#f0f921\"]],\"type\":\"heatmap\"}],\"histogram2dcontour\":[{\"colorbar\":{\"outlinewidth\":0,\"ticks\":\"\"},\"colorscale\":[[0.0,\"#0d0887\"],[0.1111111111111111,\"#46039f\"],[0.2222222222222222,\"#7201a8\"],[0.3333333333333333,\"#9c179e\"],[0.4444444444444444,\"#bd3786\"],[0.5555555555555556,\"#d8576b\"],[0.6666666666666666,\"#ed7953\"],[0.7777777777777778,\"#fb9f3a\"],[0.8888888888888888,\"#fdca26\"],[1.0,\"#f0f921\"]],\"type\":\"histogram2dcontour\"}],\"histogram2d\":[{\"colorbar\":{\"outlinewidth\":0,\"ticks\":\"\"},\"colorscale\":[[0.0,\"#0d0887\"],[0.1111111111111111,\"#46039f\"],[0.2222222222222222,\"#7201a8\"],[0.3333333333333333,\"#9c179e\"],[0.4444444444444444,\"#bd3786\"],[0.5555555555555556,\"#d8576b\"],[0.6666666666666666,\"#ed7953\"],[0.7777777777777778,\"#fb9f3a\"],[0.8888888888888888,\"#fdca26\"],[1.0,\"#f0f921\"]],\"type\":\"histogram2d\"}],\"histogram\":[{\"marker\":{\"pattern\":{\"fillmode\":\"overlay\",\"size\":10,\"solidity\":0.2}},\"type\":\"histogram\"}],\"mesh3d\":[{\"colorbar\":{\"outlinewidth\":0,\"ticks\":\"\"},\"type\":\"mesh3d\"}],\"parcoords\":[{\"line\":{\"colorbar\":{\"outlinewidth\":0,\"ticks\":\"\"}},\"type\":\"parcoords\"}],\"pie\":[{\"automargin\":true,\"type\":\"pie\"}],\"scatter3d\":[{\"line\":{\"colorbar\":{\"outlinewidth\":0,\"ticks\":\"\"}},\"marker\":{\"colorbar\":{\"outlinewidth\":0,\"ticks\":\"\"}},\"type\":\"scatter3d\"}],\"scattercarpet\":[{\"marker\":{\"colorbar\":{\"outlinewidth\":0,\"ticks\":\"\"}},\"type\":\"scattercarpet\"}],\"scattergeo\":[{\"marker\":{\"colorbar\":{\"outlinewidth\":0,\"ticks\":\"\"}},\"type\":\"scattergeo\"}],\"scattergl\":[{\"marker\":{\"colorbar\":{\"outlinewidth\":0,\"ticks\":\"\"}},\"type\":\"scattergl\"}],\"scattermapbox\":[{\"marker\":{\"colorbar\":{\"outlinewidth\":0,\"ticks\":\"\"}},\"type\":\"scattermapbox\"}],\"scattermap\":[{\"marker\":{\"colorbar\":{\"outlinewidth\":0,\"ticks\":\"\"}},\"type\":\"scattermap\"}],\"scatterpolargl\":[{\"marker\":{\"colorbar\":{\"outlinewidth\":0,\"ticks\":\"\"}},\"type\":\"scatterpolargl\"}],\"scatterpolar\":[{\"marker\":{\"colorbar\":{\"outlinewidth\":0,\"ticks\":\"\"}},\"type\":\"scatterpolar\"}],\"scatter\":[{\"fillpattern\":{\"fillmode\":\"overlay\",\"size\":10,\"solidity\":0.2},\"type\":\"scatter\"}],\"scatterternary\":[{\"marker\":{\"colorbar\":{\"outlinewidth\":0,\"ticks\":\"\"}},\"type\":\"scatterternary\"}],\"surface\":[{\"colorbar\":{\"outlinewidth\":0,\"ticks\":\"\"},\"colorscale\":[[0.0,\"#0d0887\"],[0.1111111111111111,\"#46039f\"],[0.2222222222222222,\"#7201a8\"],[0.3333333333333333,\"#9c179e\"],[0.4444444444444444,\"#bd3786\"],[0.5555555555555556,\"#d8576b\"],[0.6666666666666666,\"#ed7953\"],[0.7777777777777778,\"#fb9f3a\"],[0.8888888888888888,\"#fdca26\"],[1.0,\"#f0f921\"]],\"type\":\"surface\"}],\"table\":[{\"cells\":{\"fill\":{\"color\":\"#EBF0F8\"},\"line\":{\"color\":\"white\"}},\"header\":{\"fill\":{\"color\":\"#C8D4E3\"},\"line\":{\"color\":\"white\"}},\"type\":\"table\"}]},\"layout\":{\"annotationdefaults\":{\"arrowcolor\":\"#2a3f5f\",\"arrowhead\":0,\"arrowwidth\":1},\"autotypenumbers\":\"strict\",\"coloraxis\":{\"colorbar\":{\"outlinewidth\":0,\"ticks\":\"\"}},\"colorscale\":{\"diverging\":[[0,\"#8e0152\"],[0.1,\"#c51b7d\"],[0.2,\"#de77ae\"],[0.3,\"#f1b6da\"],[0.4,\"#fde0ef\"],[0.5,\"#f7f7f7\"],[0.6,\"#e6f5d0\"],[0.7,\"#b8e186\"],[0.8,\"#7fbc41\"],[0.9,\"#4d9221\"],[1,\"#276419\"]],\"sequential\":[[0.0,\"#0d0887\"],[0.1111111111111111,\"#46039f\"],[0.2222222222222222,\"#7201a8\"],[0.3333333333333333,\"#9c179e\"],[0.4444444444444444,\"#bd3786\"],[0.5555555555555556,\"#d8576b\"],[0.6666666666666666,\"#ed7953\"],[0.7777777777777778,\"#fb9f3a\"],[0.8888888888888888,\"#fdca26\"],[1.0,\"#f0f921\"]],\"sequentialminus\":[[0.0,\"#0d0887\"],[0.1111111111111111,\"#46039f\"],[0.2222222222222222,\"#7201a8\"],[0.3333333333333333,\"#9c179e\"],[0.4444444444444444,\"#bd3786\"],[0.5555555555555556,\"#d8576b\"],[0.6666666666666666,\"#ed7953\"],[0.7777777777777778,\"#fb9f3a\"],[0.8888888888888888,\"#fdca26\"],[1.0,\"#f0f921\"]]},\"colorway\":[\"#636efa\",\"#EF553B\",\"#00cc96\",\"#ab63fa\",\"#FFA15A\",\"#19d3f3\",\"#FF6692\",\"#B6E880\",\"#FF97FF\",\"#FECB52\"],\"font\":{\"color\":\"#2a3f5f\"},\"geo\":{\"bgcolor\":\"white\",\"lakecolor\":\"white\",\"landcolor\":\"#E5ECF6\",\"showlakes\":true,\"showland\":true,\"subunitcolor\":\"white\"},\"hoverlabel\":{\"align\":\"left\"},\"hovermode\":\"closest\",\"mapbox\":{\"style\":\"light\"},\"paper_bgcolor\":\"white\",\"plot_bgcolor\":\"#E5ECF6\",\"polar\":{\"angularaxis\":{\"gridcolor\":\"white\",\"linecolor\":\"white\",\"ticks\":\"\"},\"bgcolor\":\"#E5ECF6\",\"radialaxis\":{\"gridcolor\":\"white\",\"linecolor\":\"white\",\"ticks\":\"\"}},\"scene\":{\"xaxis\":{\"backgroundcolor\":\"#E5ECF6\",\"gridcolor\":\"white\",\"gridwidth\":2,\"linecolor\":\"white\",\"showbackground\":true,\"ticks\":\"\",\"zerolinecolor\":\"white\"},\"yaxis\":{\"backgroundcolor\":\"#E5ECF6\",\"gridcolor\":\"white\",\"gridwidth\":2,\"linecolor\":\"white\",\"showbackground\":true,\"ticks\":\"\",\"zerolinecolor\":\"white\"},\"zaxis\":{\"backgroundcolor\":\"#E5ECF6\",\"gridcolor\":\"white\",\"gridwidth\":2,\"linecolor\":\"white\",\"showbackground\":true,\"ticks\":\"\",\"zerolinecolor\":\"white\"}},\"shapedefaults\":{\"line\":{\"color\":\"#2a3f5f\"}},\"ternary\":{\"aaxis\":{\"gridcolor\":\"white\",\"linecolor\":\"white\",\"ticks\":\"\"},\"baxis\":{\"gridcolor\":\"white\",\"linecolor\":\"white\",\"ticks\":\"\"},\"bgcolor\":\"#E5ECF6\",\"caxis\":{\"gridcolor\":\"white\",\"linecolor\":\"white\",\"ticks\":\"\"}},\"title\":{\"x\":0.05},\"xaxis\":{\"automargin\":true,\"gridcolor\":\"white\",\"linecolor\":\"white\",\"ticks\":\"\",\"title\":{\"standoff\":15},\"zerolinecolor\":\"white\",\"zerolinewidth\":2},\"yaxis\":{\"automargin\":true,\"gridcolor\":\"white\",\"linecolor\":\"white\",\"ticks\":\"\",\"title\":{\"standoff\":15},\"zerolinecolor\":\"white\",\"zerolinewidth\":2}}},\"title\":{\"text\":\"Credit Card Fraud Class - data unbalance (Not fraud = 0, Fraud = 1)\"},\"width\":600,\"xaxis\":{\"showticklabels\":true,\"title\":{\"text\":\"Class\"}},\"yaxis\":{\"title\":{\"text\":\"Number of transactions\"}}},                        {\"responsive\": true}                    ).then(function(){\n",
       "                            \n",
       "var gd = document.getElementById('38ff8c92-3f67-4209-8eb0-cf82a7b80218');\n",
       "var x = new MutationObserver(function (mutations, observer) {{\n",
       "        var display = window.getComputedStyle(gd).display;\n",
       "        if (!display || display === 'none') {{\n",
       "            console.log([gd, 'removed!']);\n",
       "            Plotly.purge(gd);\n",
       "            observer.disconnect();\n",
       "        }}\n",
       "}});\n",
       "\n",
       "// Listen for the removal of the full notebook cells\n",
       "var notebookContainer = gd.closest('#notebook-container');\n",
       "if (notebookContainer) {{\n",
       "    x.observe(notebookContainer, {childList: true});\n",
       "}}\n",
       "\n",
       "// Listen for the clearing of the current output cell\n",
       "var outputEl = gd.closest('.output');\n",
       "if (outputEl) {{\n",
       "    x.observe(outputEl, {childList: true});\n",
       "}}\n",
       "\n",
       "                        })                };            </script>        </div>"
      ]
     },
     "metadata": {},
     "output_type": "display_data"
    }
   ],
   "source": [
    "## 按照是否被欺诈进行分类可视化\n",
    "temp = data[\"Class\"].value_counts()\n",
    "df = pd.DataFrame({'Class': temp.index,'values': temp.values})\n",
    "\n",
    "trace = go.Bar(\n",
    "    x = df['Class'],y = df['values'],\n",
    "    name=\"Credit Card Fraud Class - data unbalance (Not fraud = 0, Fraud = 1)\",\n",
    "    marker=dict(color=\"Blue\"),\n",
    "    text=df['values']\n",
    ")\n",
    "temp_data = [trace]\n",
    "layout = dict(title = 'Credit Card Fraud Class - data unbalance (Not fraud = 0, Fraud = 1)',\n",
    "          xaxis = dict(title = 'Class', showticklabels=True), \n",
    "          yaxis = dict(title = 'Number of transactions'),\n",
    "          hovermode = 'closest',width=600\n",
    "         )\n",
    "fig = dict(data=temp_data, layout=layout)\n",
    "iplot(fig, filename='class')"
   ]
  },
  {
   "cell_type": "markdown",
   "id": "1d3a66ce",
   "metadata": {},
   "source": [
    "可以看到，数据集中是存在数据不平衡性的，只有492条诈骗记录（占总样本的0.172%）。"
   ]
  },
  {
   "cell_type": "code",
   "execution_count": 86,
   "id": "2b5fd42f",
   "metadata": {},
   "outputs": [
    {
     "data": {
      "application/vnd.plotly.v1+json": {
       "config": {
        "linkText": "Export to plot.ly",
        "plotlyServerURL": "https://plot.ly",
        "showLink": false
       },
       "data": [
        {
         "legendgroup": "Not Fraud",
         "marker": {
          "color": "rgb(31, 119, 180)"
         },
         "mode": "lines",
         "name": "Not Fraud",
         "showlegend": true,
         "type": "scatter",
         "x": [
          0,
          345.584,
          691.168,
          1036.752,
          1382.336,
          1727.92,
          2073.504,
          2419.088,
          2764.672,
          3110.256,
          3455.84,
          3801.424,
          4147.008,
          4492.592,
          4838.176,
          5183.76,
          5529.344,
          5874.928,
          6220.512,
          6566.096,
          6911.68,
          7257.264,
          7602.848,
          7948.432,
          8294.016,
          8639.6,
          8985.184,
          9330.768,
          9676.352,
          10021.936,
          10367.52,
          10713.104,
          11058.688,
          11404.272,
          11749.856,
          12095.44,
          12441.024,
          12786.608,
          13132.192,
          13477.776,
          13823.36,
          14168.944,
          14514.528,
          14860.112,
          15205.696,
          15551.28,
          15896.864,
          16242.448,
          16588.032,
          16933.616,
          17279.2,
          17624.784,
          17970.368,
          18315.952,
          18661.536,
          19007.12,
          19352.704,
          19698.288,
          20043.872,
          20389.456,
          20735.04,
          21080.624,
          21426.208,
          21771.792,
          22117.376,
          22462.96,
          22808.544,
          23154.128,
          23499.712,
          23845.296,
          24190.88,
          24536.464,
          24882.048,
          25227.632,
          25573.216,
          25918.8,
          26264.384,
          26609.968,
          26955.552,
          27301.136,
          27646.72,
          27992.304,
          28337.888,
          28683.472,
          29029.056,
          29374.64,
          29720.224,
          30065.808,
          30411.392,
          30756.976,
          31102.56,
          31448.144,
          31793.728,
          32139.312,
          32484.896,
          32830.48,
          33176.064,
          33521.648,
          33867.232,
          34212.816,
          34558.4,
          34903.984,
          35249.568,
          35595.152,
          35940.736,
          36286.32,
          36631.904,
          36977.488,
          37323.072,
          37668.656,
          38014.24,
          38359.824,
          38705.408,
          39050.992,
          39396.576,
          39742.16,
          40087.744,
          40433.328,
          40778.912,
          41124.496,
          41470.08,
          41815.664,
          42161.248,
          42506.832,
          42852.416,
          43198,
          43543.584,
          43889.168,
          44234.752,
          44580.336,
          44925.92,
          45271.504,
          45617.088,
          45962.672,
          46308.256,
          46653.84,
          46999.424,
          47345.008,
          47690.592,
          48036.176,
          48381.76,
          48727.344,
          49072.928,
          49418.512,
          49764.096,
          50109.68,
          50455.264,
          50800.848,
          51146.432,
          51492.016,
          51837.6,
          52183.184,
          52528.768,
          52874.352,
          53219.936,
          53565.52,
          53911.104,
          54256.688,
          54602.272,
          54947.856,
          55293.44,
          55639.024,
          55984.608,
          56330.192,
          56675.776,
          57021.36,
          57366.944,
          57712.528,
          58058.112,
          58403.696,
          58749.28,
          59094.864,
          59440.448,
          59786.032,
          60131.616,
          60477.2,
          60822.784,
          61168.368,
          61513.952,
          61859.536,
          62205.12,
          62550.704,
          62896.288,
          63241.872,
          63587.456,
          63933.04,
          64278.624,
          64624.208,
          64969.792,
          65315.376,
          65660.96,
          66006.544,
          66352.128,
          66697.712,
          67043.296,
          67388.88,
          67734.464,
          68080.048,
          68425.632,
          68771.216,
          69116.8,
          69462.384,
          69807.968,
          70153.552,
          70499.136,
          70844.72,
          71190.304,
          71535.888,
          71881.472,
          72227.056,
          72572.64,
          72918.224,
          73263.808,
          73609.392,
          73954.976,
          74300.56,
          74646.144,
          74991.728,
          75337.312,
          75682.896,
          76028.48,
          76374.064,
          76719.648,
          77065.232,
          77410.816,
          77756.4,
          78101.984,
          78447.568,
          78793.152,
          79138.736,
          79484.32,
          79829.904,
          80175.488,
          80521.072,
          80866.656,
          81212.24,
          81557.824,
          81903.408,
          82248.992,
          82594.576,
          82940.16,
          83285.744,
          83631.328,
          83976.912,
          84322.496,
          84668.08,
          85013.664,
          85359.248,
          85704.832,
          86050.416,
          86396,
          86741.584,
          87087.168,
          87432.752,
          87778.336,
          88123.92,
          88469.504,
          88815.088,
          89160.672,
          89506.256,
          89851.84,
          90197.424,
          90543.008,
          90888.592,
          91234.176,
          91579.76,
          91925.344,
          92270.928,
          92616.512,
          92962.096,
          93307.68,
          93653.264,
          93998.848,
          94344.432,
          94690.016,
          95035.6,
          95381.184,
          95726.768,
          96072.352,
          96417.936,
          96763.52,
          97109.104,
          97454.688,
          97800.272,
          98145.856,
          98491.44,
          98837.024,
          99182.608,
          99528.192,
          99873.776,
          100219.36,
          100564.944,
          100910.528,
          101256.112,
          101601.696,
          101947.28,
          102292.864,
          102638.448,
          102984.032,
          103329.616,
          103675.2,
          104020.784,
          104366.368,
          104711.952,
          105057.536,
          105403.12,
          105748.704,
          106094.288,
          106439.872,
          106785.456,
          107131.04,
          107476.624,
          107822.208,
          108167.792,
          108513.376,
          108858.96,
          109204.544,
          109550.128,
          109895.712,
          110241.296,
          110586.88,
          110932.464,
          111278.048,
          111623.632,
          111969.216,
          112314.8,
          112660.384,
          113005.968,
          113351.552,
          113697.136,
          114042.72,
          114388.304,
          114733.888,
          115079.472,
          115425.056,
          115770.64,
          116116.224,
          116461.808,
          116807.392,
          117152.976,
          117498.56,
          117844.144,
          118189.728,
          118535.312,
          118880.896,
          119226.48,
          119572.064,
          119917.648,
          120263.232,
          120608.816,
          120954.4,
          121299.984,
          121645.568,
          121991.152,
          122336.736,
          122682.32,
          123027.904,
          123373.488,
          123719.072,
          124064.656,
          124410.24,
          124755.824,
          125101.408,
          125446.992,
          125792.576,
          126138.16,
          126483.744,
          126829.328,
          127174.912,
          127520.496,
          127866.08,
          128211.664,
          128557.248,
          128902.832,
          129248.416,
          129594,
          129939.584,
          130285.168,
          130630.752,
          130976.336,
          131321.92,
          131667.504,
          132013.088,
          132358.672,
          132704.256,
          133049.84,
          133395.424,
          133741.008,
          134086.592,
          134432.176,
          134777.76,
          135123.344,
          135468.928,
          135814.512,
          136160.096,
          136505.68,
          136851.264,
          137196.848,
          137542.432,
          137888.016,
          138233.6,
          138579.184,
          138924.768,
          139270.352,
          139615.936,
          139961.52,
          140307.104,
          140652.688,
          140998.272,
          141343.856,
          141689.44,
          142035.024,
          142380.608,
          142726.192,
          143071.776,
          143417.36,
          143762.944,
          144108.528,
          144454.112,
          144799.696,
          145145.28,
          145490.864,
          145836.448,
          146182.032,
          146527.616,
          146873.2,
          147218.784,
          147564.368,
          147909.952,
          148255.536,
          148601.12,
          148946.704,
          149292.288,
          149637.872,
          149983.456,
          150329.04,
          150674.624,
          151020.208,
          151365.792,
          151711.376,
          152056.96,
          152402.544,
          152748.128,
          153093.712,
          153439.296,
          153784.88,
          154130.464,
          154476.048,
          154821.632,
          155167.216,
          155512.8,
          155858.384,
          156203.968,
          156549.552,
          156895.136,
          157240.72,
          157586.304,
          157931.888,
          158277.472,
          158623.056,
          158968.64,
          159314.224,
          159659.808,
          160005.392,
          160350.976,
          160696.56,
          161042.144,
          161387.728,
          161733.312,
          162078.896,
          162424.48,
          162770.064,
          163115.648,
          163461.232,
          163806.816,
          164152.4,
          164497.984,
          164843.568,
          165189.152,
          165534.736,
          165880.32,
          166225.904,
          166571.488,
          166917.072,
          167262.656,
          167608.24,
          167953.824,
          168299.408,
          168644.992,
          168990.576,
          169336.16,
          169681.744,
          170027.328,
          170372.912,
          170718.496,
          171064.08,
          171409.664,
          171755.248,
          172100.832,
          172446.416
         ],
         "xaxis": "x",
         "y": {
          "bdata": "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",
          "dtype": "f8"
         },
         "yaxis": "y"
        },
        {
         "legendgroup": "Fraud",
         "marker": {
          "color": "rgb(255, 127, 14)"
         },
         "mode": "lines",
         "name": "Fraud",
         "showlegend": true,
         "type": "scatter",
         "x": [
          406,
          745.884,
          1085.768,
          1425.652,
          1765.536,
          2105.42,
          2445.304,
          2785.188,
          3125.072,
          3464.956,
          3804.84,
          4144.724,
          4484.608,
          4824.492,
          5164.376,
          5504.26,
          5844.144,
          6184.028,
          6523.912,
          6863.796,
          7203.68,
          7543.564,
          7883.448,
          8223.332,
          8563.216,
          8903.1,
          9242.984,
          9582.868,
          9922.752,
          10262.636,
          10602.52,
          10942.404,
          11282.288,
          11622.172,
          11962.056,
          12301.94,
          12641.824,
          12981.708,
          13321.592,
          13661.476,
          14001.36,
          14341.244,
          14681.128,
          15021.012,
          15360.896,
          15700.78,
          16040.664,
          16380.548,
          16720.432,
          17060.316,
          17400.2,
          17740.084,
          18079.968,
          18419.852,
          18759.736,
          19099.62,
          19439.504,
          19779.388,
          20119.272,
          20459.156,
          20799.04,
          21138.924,
          21478.808,
          21818.692,
          22158.576,
          22498.46,
          22838.344,
          23178.228,
          23518.112,
          23857.996,
          24197.88,
          24537.764,
          24877.648,
          25217.532,
          25557.416,
          25897.3,
          26237.184,
          26577.068,
          26916.952,
          27256.836,
          27596.72,
          27936.604,
          28276.488,
          28616.372,
          28956.256,
          29296.14,
          29636.024,
          29975.908,
          30315.792,
          30655.676,
          30995.56,
          31335.444,
          31675.328,
          32015.212,
          32355.096,
          32694.98,
          33034.864,
          33374.748,
          33714.632,
          34054.516,
          34394.4,
          34734.284,
          35074.168,
          35414.052,
          35753.936,
          36093.82,
          36433.704,
          36773.588,
          37113.472,
          37453.356,
          37793.24,
          38133.124,
          38473.008,
          38812.892,
          39152.776,
          39492.66,
          39832.544,
          40172.428,
          40512.312,
          40852.196,
          41192.08,
          41531.964,
          41871.848,
          42211.732,
          42551.616,
          42891.5,
          43231.384,
          43571.268,
          43911.152,
          44251.036,
          44590.92,
          44930.804,
          45270.688,
          45610.572,
          45950.456,
          46290.34,
          46630.224,
          46970.108,
          47309.992,
          47649.876,
          47989.76,
          48329.644,
          48669.528,
          49009.412,
          49349.296,
          49689.18,
          50029.064,
          50368.948,
          50708.832,
          51048.716,
          51388.6,
          51728.484,
          52068.368,
          52408.252,
          52748.136,
          53088.02,
          53427.904,
          53767.788,
          54107.672,
          54447.556,
          54787.44,
          55127.324,
          55467.208,
          55807.092,
          56146.976,
          56486.86,
          56826.744,
          57166.628,
          57506.512,
          57846.396,
          58186.28,
          58526.164,
          58866.048,
          59205.932,
          59545.816,
          59885.7,
          60225.584,
          60565.468,
          60905.352,
          61245.236,
          61585.12,
          61925.004,
          62264.888,
          62604.772,
          62944.656,
          63284.54,
          63624.424,
          63964.308,
          64304.192,
          64644.076,
          64983.96,
          65323.844,
          65663.728,
          66003.612,
          66343.496,
          66683.38,
          67023.264,
          67363.148,
          67703.032,
          68042.916,
          68382.8,
          68722.684,
          69062.568,
          69402.452,
          69742.336,
          70082.22,
          70422.104,
          70761.988,
          71101.872,
          71441.756,
          71781.64,
          72121.524,
          72461.408,
          72801.292,
          73141.176,
          73481.06,
          73820.944,
          74160.828,
          74500.712,
          74840.596,
          75180.48,
          75520.364,
          75860.248,
          76200.132,
          76540.016,
          76879.9,
          77219.784,
          77559.668,
          77899.552,
          78239.436,
          78579.32,
          78919.204,
          79259.088,
          79598.972,
          79938.856,
          80278.74,
          80618.624,
          80958.508,
          81298.392,
          81638.276,
          81978.16,
          82318.044,
          82657.928,
          82997.812,
          83337.696,
          83677.58,
          84017.464,
          84357.348,
          84697.232,
          85037.116,
          85377,
          85716.884,
          86056.768,
          86396.652,
          86736.536,
          87076.42,
          87416.304,
          87756.188,
          88096.072,
          88435.956,
          88775.84,
          89115.724,
          89455.608,
          89795.492,
          90135.376,
          90475.26,
          90815.144,
          91155.028,
          91494.912,
          91834.796,
          92174.68,
          92514.564,
          92854.448,
          93194.332,
          93534.216,
          93874.1,
          94213.984,
          94553.868,
          94893.752,
          95233.636,
          95573.52,
          95913.404,
          96253.288,
          96593.172,
          96933.056,
          97272.94,
          97612.824,
          97952.708,
          98292.592,
          98632.476,
          98972.36,
          99312.244,
          99652.128,
          99992.012,
          100331.896,
          100671.78,
          101011.664,
          101351.548,
          101691.432,
          102031.316,
          102371.2,
          102711.084,
          103050.968,
          103390.852,
          103730.736,
          104070.62,
          104410.504,
          104750.388,
          105090.272,
          105430.156,
          105770.04,
          106109.924,
          106449.808,
          106789.692,
          107129.576,
          107469.46,
          107809.344,
          108149.228,
          108489.112,
          108828.996,
          109168.88,
          109508.764,
          109848.648,
          110188.532,
          110528.416,
          110868.3,
          111208.184,
          111548.068,
          111887.952,
          112227.836,
          112567.72,
          112907.604,
          113247.488,
          113587.372,
          113927.256,
          114267.14,
          114607.024,
          114946.908,
          115286.792,
          115626.676,
          115966.56,
          116306.444,
          116646.328,
          116986.212,
          117326.096,
          117665.98,
          118005.864,
          118345.748,
          118685.632,
          119025.516,
          119365.4,
          119705.284,
          120045.168,
          120385.052,
          120724.936,
          121064.82,
          121404.704,
          121744.588,
          122084.472,
          122424.356,
          122764.24,
          123104.124,
          123444.008,
          123783.892,
          124123.776,
          124463.66,
          124803.544,
          125143.428,
          125483.312,
          125823.196,
          126163.08,
          126502.964,
          126842.848,
          127182.732,
          127522.616,
          127862.5,
          128202.384,
          128542.268,
          128882.152,
          129222.036,
          129561.92,
          129901.804,
          130241.688,
          130581.572,
          130921.456,
          131261.34,
          131601.224,
          131941.108,
          132280.992,
          132620.876,
          132960.76,
          133300.644,
          133640.528,
          133980.412,
          134320.296,
          134660.18,
          135000.064,
          135339.948,
          135679.832,
          136019.716,
          136359.6,
          136699.484,
          137039.368,
          137379.252,
          137719.136,
          138059.02,
          138398.904,
          138738.788,
          139078.672,
          139418.556,
          139758.44,
          140098.324,
          140438.208,
          140778.092,
          141117.976,
          141457.86,
          141797.744,
          142137.628,
          142477.512,
          142817.396,
          143157.28,
          143497.164,
          143837.048,
          144176.932,
          144516.816,
          144856.7,
          145196.584,
          145536.468,
          145876.352,
          146216.236,
          146556.12,
          146896.004,
          147235.888,
          147575.772,
          147915.656,
          148255.54,
          148595.424,
          148935.308,
          149275.192,
          149615.076,
          149954.96,
          150294.844,
          150634.728,
          150974.612,
          151314.496,
          151654.38,
          151994.264,
          152334.148,
          152674.032,
          153013.916,
          153353.8,
          153693.684,
          154033.568,
          154373.452,
          154713.336,
          155053.22,
          155393.104,
          155732.988,
          156072.872,
          156412.756,
          156752.64,
          157092.524,
          157432.408,
          157772.292,
          158112.176,
          158452.06,
          158791.944,
          159131.828,
          159471.712,
          159811.596,
          160151.48,
          160491.364,
          160831.248,
          161171.132,
          161511.016,
          161850.9,
          162190.784,
          162530.668,
          162870.552,
          163210.436,
          163550.32,
          163890.204,
          164230.088,
          164569.972,
          164909.856,
          165249.74,
          165589.624,
          165929.508,
          166269.392,
          166609.276,
          166949.16,
          167289.044,
          167628.928,
          167968.812,
          168308.696,
          168648.58,
          168988.464,
          169328.348,
          169668.232,
          170008.116
         ],
         "xaxis": "x",
         "y": {
          "bdata": "43CCr3WUxT6dWfW8ChLGPm/3TfE7kMY+mknGcPkOxz7KOCddM47HPmgMLt/ZDcg+6EHtL92NyD4xdB+iLQ7JPuH1Yqu7jsk+BcJU7XcPyj4Gb4E+U5DKPr3oIrM+Ecs+HtahpSuSyz6KvtG+CxPMPnI43/3Qk8w+6rHnv20UzT4FsDLH1JTNPmK8BEL5FM4+DJwE0c6Uzj441iuNSRTPPmkMPA1ek88+3I9ZtQAJ0D56VRyjFEjQPnT0v+XlhtA+2tdM2m/F0D4pZ1kmrgPRPtjaHbmcQdE+V387zDd/0T4chzbke7zRPp3eodBl+dE+vtL8q/I10j4HrkLbH3LSPsXMLA3rrdI+BgEoOVLp0j5Wdf6dUyTTPjOXN8DtXtM+quUvaB+Z0z4A1Oqf59LTPuNDobBFDNQ+RWYPIDlF1D6PH4WtwX3UPnRSvE7ftdQ+yLl4LJLt1D4POPWe2iTVPr3AIiq5W9U+pDO9eS6S1T5BtjpdO8jVPr1AmsPg/dU+VD4Wtx8z1j6fPMBY+WfWPkXGCtxunNY+i5VGgoHQ1j4YXRiWMgTXPgNt7GaDN9c+O31tRHVq1z5n4QN6CZ3XPq9iYkpBz9c+9+kl6x0B2D7BD42AoDLYPhqLTBnKY9g+Q1WFqpuU2D4BNeELFsXYPskv2vM59dg+GTQx9Acl2T63FZh2gFTZPmi2krmjg9k+0fmSzXGy2T7R2lKS6uDZPiuxb7QND9o+02lJq9o82j6kJii3UGraPr1kqt9ul9o+lXh98jPE2j7302GCnvDaPhA2fOasHNs+Son0OV1I2z7Z2uJbrXPbPmh8iu+ants+jAXjXCPJ2z5bk27RQ/PbPmZIXEH5HNw+mbr1aEBG3D7TpFXOFW/cPsDgZcN1l9w+4FkiaFy/3D4KXx6txebcPq5rSVatDd0+/zvw/Q403T7Fu/YX5lndPrUgR/Utf90+gUhyx+Gj3T7XPH2k/MfdPkGP14p5690+FRZ2ZVMO3j6pbQ0QhTDePlOCZ1sJUt4+P07PEdty3j5S5I379JLePs7Tc+NRst4+Xuhpm+zQ3j4/TQQBwO7ePuIbEwLHC98+e20rofwn3z72FiT6W0PfPiFQgUbgXd8+UKPK4YR33z4Lp8ZNRZDfPpcsmDYdqN8+Tbu4dgi/3z4xY8waA9XfPhMsS2UJ6t8+pJ380Rf+3z4tEaGMlQjgPoiilhmgEeA+DosvLSoa4D4UJFeHMiLgPn7zyAu4KeA+tmknw7kw4D4BQvPbNjfgPgnrYqsuPeA+RogZrqBC4D6eQ72IjEfgPtvQbAjyS+A+ySsUI9FP4D7FwaD3KVPgPn1dFc78VeA+U1N+F0pY4D5/jcZtElrgPqs+bpNWW+A+wh4kcxdc4D7WN0IfVlzgPlZkL9ETXOA+8L2m6FFb4D7bUObqEVrgPqiCxoFVWOA+iKu7eh5W4D4odcPFblPgPoaeP3RIUOA+JtG/t61M4D5cPbzgoEjgPl23Ql0kROA+0BSYtzo/4D6IiM+U5jngPmC5WbMqNOA++0qN6Qku4D5oiCokhyfgPtLU22SlIOA+aHu0wGcZ4D67Zq9e0RHgPnE3L3blCeA+wR6BTacB4D6alcdwNPLfPmQ5Jy2D4N8+6o66pEHO3z7fuG++drvfPkhdznApqN8+qrZOv2CU3z4lT8S3I4DfPnON3W95a98+V/64AmlW3z5TCZGO+UDfPsiGfjIyK98+e25SDBoV3z6QoIY2uP7ePtmPRcYT6N4+rl+IyTPR3j4R00pFH7rePls61DPdot4+oV0Ug3SL3j4aOBMT7HPePtMwcrRKXN4+X1n9JpdE3j7DHUsY2CzePjmzaCIUFd4+LH+RylH93T4Ine9/l+XdPsWcY5rrzd0+kotRWVS23T4CVnHi157dPriSoEB8h90+X82zYkdw3T7Uc0UaP1ndPjGYgBppQt0+R8/l9sor3T72iwgiahXdPnx3Q+xL/9w+oWVignXp3D5+rEDs69PcPpDQWgu0vtw+6p9SmdKp3D5ODGUmTJXcPgVC0Rclgdw+47AwpmFt3D6Q9L/bBVrcPrDAmJIVR9w+jC/dcpQ03D7iD9XwhSLcPg4G/krtENw+q5QPiM3/2z6PWPR0Ke/bPhkCuqID39s+N815ZF7P2z5JcjvNO8DbPhnC1K2dsds+8U7IkoWj2z4yuyXC9JXbPk5wbjnsiNs+J62Bq2x82z6sApN+dnDbPht3LsoJZds+aqhNVSZa2z7OX4GUy0/bPiEeM6j4Rds+ljcCW6w82z4MI0Ag5TPbPtOjjxKhK9s+Anaq8t0j2z4GIFEmmRzbPgqAaLfPFds+Y5pIU34P2z4IF0BKoQnbPjjAT480BNs+QTAhuDP/2j6MtDv9mfraPp8+ejpi9to+bwjF74by2j7OVxFCAu/aPnWQqfzN69o+f4G/kuPo2j4alEohPObaPtg2M3HQ49o+3ZHM+Zjh2j6vPZ3jjd/aPuVhdwun3do+u0fgBdzb2j4nE8ciJNraPsn3iXF22No+fOJIxcnW2j7dMIS5FNXaPtqwBbdN09o+FsUR+WrR2j41Kd6SYs/aPpt3S3Uqzdo+dDLedLjK2j4Zu/NPAsjaPm5IL7X9xNo+p5saSqDB2j5s3/Wx373aPvjQsZSxudo+TgsPpgu12j79Bt2s46/aPnMkU4ovqto+dNt9QeWj2j6e+bn++pzaPrOrNx9nldo+b+d+OCCN2j4ure4fHYTaPqJ/MPJUeto++l6ZGr9v2j5xjHFaU2TaPpRXHNAJWNo+bD4Z/tpK2j5jtdfRvzzaPgkCV6qxLdo+rLCLXqod2j4sUIRDpAzaPhdNRzKa+tk+u/ZjjYfn2T4y9DBGaNPZPqWwsuE4vtk+YI0kffan2T4w9x/SnpDZPgvQXDoweNk+3/gGs6le2T6LJKXfCkTZPtGCjQxUKNk+5DjlMIYL2T4CCSjwou3YPov6NZusztg+HEXlMKau2D7fNhdek43YPrJBT314a9g+ndXLlVpI2D5VIyFaPyTYPjRcViYt/9c+7XmG/SrZ1z5iEQaHQLLXPjYmEAt2itc+fGj8btRh1z6MtgExZTjXPjsniGMyDtc+Qk0OqEbj1j5DxqUprbfWPhOKC5dxi9Y+NcpgHKBe1j6qhYlcRTHWPuhHNmpuA9Y+9dCewCjV1T5xqvM7gqbVPgvpjBGJd9U+qI/cx0tI1T4zOSsu2RjVPnPUJVRA6dQ+X15DgZC51D79ngks2YnUPiX/N/EpWtQ+CZXfipIq1D7/iW/HIvvTPuHzvIDqy9M+DjENk/mc0z5KwSnUX27TPhh7hAotQNM+6tly5HAS0z71+YbvOuXSPpGmDJCauNI+Cquw+J6M0j6GWlgiV2HSPgUDL8TRNtI+lrruSx0N0j7aqWnWR+TRPj+qWChfvNE+yLlzp3CV0T4IcdhTiW/RPhZPwsG1StE+0VGYEwIn0T489FL0eQTRPmFMPZIo49A+f6ATmhjD0D4JaoEyVKTQPs5aAPjkhtA+fZUZ+dNq0D7f6QmzKVDQPuWDyQ7uNtA+qh13Xigf0D5OZiZb3wjQPrbpIUYy6M8+rolRcLbBzz5syRX+VJ7PPsdWoXwWfs8+hPZ6PAJhzz4zm41RHkfPPlz155NvMM8+pd8lofkczz4uj33evgzPPoj8aXvA/84+LpTrdP71zj4M3leZd+/OPoZ6sIwp7M4+IIt5zRDszj6lYAe6KO/OPhkXO5Zr9c4+/6KlkdL+zj5QtgjOVQvPPp/WLGbsGs8+bvcDdYwtzz5A8w8dK0PPPnNOBJC8W88+ocqaFjR3zz4Vd5IYhJXPPvEZ0SSets8+igaf+XLazz5m23pGeQDQPtbjbAoGFdA+L6XcB9cq0D5n2mMm40HQPiaOKPogWtA+KGX/x4Zz0D5a04OJCo7QPsexI/GhqdA+T+QbbkLG0D5A+2Mw4ePQPlj4hixzAtE+d51nH+0h0T5w6e6RQ0LRPtKlo9xqY9E+CicqK1eF0T7qnat//KfRPv6WJLZOy9E+iX6ah0Hv0T7EOziNyBPSPqYsUkPXONI+bwFSDGFe0j52K4szWYTSPo7B+O+yqtI+q+rlZmHR0j7aCIKuV/jSPtUEYtCIH9M+fzzwy+dG0z79tcyYZ27TPqhRHyn7ldM+zszda5W90z55dgdPKeXTPuiG2MGpDNQ+bRD3tgk01D5NhZsmPFvUPtrNthA0gtQ+deMXf+So1D4k3JKHQM/UPm5EK0479dQ+Z5FDB8ga1T7VX9P52T/VPiQZpoFkZNU+/HmjEVuI1T6nUiM2savVPu61TZdaztU+B6GI+0rw1T53/fNJdhHWPi6v9IzQMdY+ATLP9E1R1j55F1La4m/WPguDkMGDjdY++Y6sXCWq1j78TbGOvMXWPkHpe24+4NY+jSSzSaD51j4zXMyn1xHXPmndHE3aKNc+kET2PZ4+1z5IW8zBGVPXPmnAYmZDZtc+anMAAxJ41z6lM6e7fIjXPp53TAR7l9c+hZsRpASl1z4Ow3i4EbHXPuHJk7iau9c+8IIqeJjE1z7vbdUqBMzXPtX2CWfX0dc+30IVKQzW1z5MgwLWnNjXPrS+aT6E2dc+sf8job3Y1z4p2eGtRNbXPvI2oYcV0tc+IH3/xizM1z5qB2V8h8TXPsgtBzIju9c+ggy+7f2v1z5UaasyFqPXPoowsAJrlNc+riiu3/uD1z7Po5PMyHHXPjkgL07SXdc+bvnIaxlI1z5je4GvnzDXPu/dcSZnF9c+L+WOYHL81j6sG0xwxN/WPkTV/ulgwdY+imUA40uh1j4CMY/wiX/WPpl9biYgXNY+1iRFFRQ31j42iLvIaxDWPjtlWcUt6NU+EWQkBmG+1T7edwD6DJPVPqti04A5ZtU+jeds6O431T6cbjXpNQjVPqkSpaIX19Q+SUSFl52k1D5XXv+p0XDUPmi2ehe+O9Q+o91MdG0F1D6r7j6n6s3TPiTq6uRAldM+MkP0qntb0z5P2x67piDTPojGRxbO5NI+2UZD9/2n0j4+f6PNQmrSPsNtazipK9I+H8axAD7s0T5UTDcUDqzRPqdS9H8ma9E+svygapQp0T714zsPZefQPruzkrelpNA+AUXQtmNh0D6KtBNkrB3QPn62Jyoas88+i/akMSYqzz4sucRkl6DOPv/vhieIFs4+TmewsRKMzT5RJe0EUQHNPk8xMONcdsw+ZvxVxU/ryz4uWg7SQmDLPjipEtVO1co+sXusNoxKyj4OvZDzEsDJPjT8EpX6Nck+kS20KVqsyD7q3w8+SCPIPl2IKtbamsc+jjEjZycTxz6zg0rRQozGPg==",
          "dtype": "f8"
         },
         "yaxis": "y"
        }
       ],
       "layout": {
        "barmode": "overlay",
        "hovermode": "closest",
        "legend": {
         "traceorder": "reversed"
        },
        "template": {
         "data": {
          "bar": [
           {
            "error_x": {
             "color": "#2a3f5f"
            },
            "error_y": {
             "color": "#2a3f5f"
            },
            "marker": {
             "line": {
              "color": "#E5ECF6",
              "width": 0.5
             },
             "pattern": {
              "fillmode": "overlay",
              "size": 10,
              "solidity": 0.2
             }
            },
            "type": "bar"
           }
          ],
          "barpolar": [
           {
            "marker": {
             "line": {
              "color": "#E5ECF6",
              "width": 0.5
             },
             "pattern": {
              "fillmode": "overlay",
              "size": 10,
              "solidity": 0.2
             }
            },
            "type": "barpolar"
           }
          ],
          "carpet": [
           {
            "aaxis": {
             "endlinecolor": "#2a3f5f",
             "gridcolor": "white",
             "linecolor": "white",
             "minorgridcolor": "white",
             "startlinecolor": "#2a3f5f"
            },
            "baxis": {
             "endlinecolor": "#2a3f5f",
             "gridcolor": "white",
             "linecolor": "white",
             "minorgridcolor": "white",
             "startlinecolor": "#2a3f5f"
            },
            "type": "carpet"
           }
          ],
          "choropleth": [
           {
            "colorbar": {
             "outlinewidth": 0,
             "ticks": ""
            },
            "type": "choropleth"
           }
          ],
          "contour": [
           {
            "colorbar": {
             "outlinewidth": 0,
             "ticks": ""
            },
            "colorscale": [
             [
              0,
              "#0d0887"
             ],
             [
              0.1111111111111111,
              "#46039f"
             ],
             [
              0.2222222222222222,
              "#7201a8"
             ],
             [
              0.3333333333333333,
              "#9c179e"
             ],
             [
              0.4444444444444444,
              "#bd3786"
             ],
             [
              0.5555555555555556,
              "#d8576b"
             ],
             [
              0.6666666666666666,
              "#ed7953"
             ],
             [
              0.7777777777777778,
              "#fb9f3a"
             ],
             [
              0.8888888888888888,
              "#fdca26"
             ],
             [
              1,
              "#f0f921"
             ]
            ],
            "type": "contour"
           }
          ],
          "contourcarpet": [
           {
            "colorbar": {
             "outlinewidth": 0,
             "ticks": ""
            },
            "type": "contourcarpet"
           }
          ],
          "heatmap": [
           {
            "colorbar": {
             "outlinewidth": 0,
             "ticks": ""
            },
            "colorscale": [
             [
              0,
              "#0d0887"
             ],
             [
              0.1111111111111111,
              "#46039f"
             ],
             [
              0.2222222222222222,
              "#7201a8"
             ],
             [
              0.3333333333333333,
              "#9c179e"
             ],
             [
              0.4444444444444444,
              "#bd3786"
             ],
             [
              0.5555555555555556,
              "#d8576b"
             ],
             [
              0.6666666666666666,
              "#ed7953"
             ],
             [
              0.7777777777777778,
              "#fb9f3a"
             ],
             [
              0.8888888888888888,
              "#fdca26"
             ],
             [
              1,
              "#f0f921"
             ]
            ],
            "type": "heatmap"
           }
          ],
          "histogram": [
           {
            "marker": {
             "pattern": {
              "fillmode": "overlay",
              "size": 10,
              "solidity": 0.2
             }
            },
            "type": "histogram"
           }
          ],
          "histogram2d": [
           {
            "colorbar": {
             "outlinewidth": 0,
             "ticks": ""
            },
            "colorscale": [
             [
              0,
              "#0d0887"
             ],
             [
              0.1111111111111111,
              "#46039f"
             ],
             [
              0.2222222222222222,
              "#7201a8"
             ],
             [
              0.3333333333333333,
              "#9c179e"
             ],
             [
              0.4444444444444444,
              "#bd3786"
             ],
             [
              0.5555555555555556,
              "#d8576b"
             ],
             [
              0.6666666666666666,
              "#ed7953"
             ],
             [
              0.7777777777777778,
              "#fb9f3a"
             ],
             [
              0.8888888888888888,
              "#fdca26"
             ],
             [
              1,
              "#f0f921"
             ]
            ],
            "type": "histogram2d"
           }
          ],
          "histogram2dcontour": [
           {
            "colorbar": {
             "outlinewidth": 0,
             "ticks": ""
            },
            "colorscale": [
             [
              0,
              "#0d0887"
             ],
             [
              0.1111111111111111,
              "#46039f"
             ],
             [
              0.2222222222222222,
              "#7201a8"
             ],
             [
              0.3333333333333333,
              "#9c179e"
             ],
             [
              0.4444444444444444,
              "#bd3786"
             ],
             [
              0.5555555555555556,
              "#d8576b"
             ],
             [
              0.6666666666666666,
              "#ed7953"
             ],
             [
              0.7777777777777778,
              "#fb9f3a"
             ],
             [
              0.8888888888888888,
              "#fdca26"
             ],
             [
              1,
              "#f0f921"
             ]
            ],
            "type": "histogram2dcontour"
           }
          ],
          "mesh3d": [
           {
            "colorbar": {
             "outlinewidth": 0,
             "ticks": ""
            },
            "type": "mesh3d"
           }
          ],
          "parcoords": [
           {
            "line": {
             "colorbar": {
              "outlinewidth": 0,
              "ticks": ""
             }
            },
            "type": "parcoords"
           }
          ],
          "pie": [
           {
            "automargin": true,
            "type": "pie"
           }
          ],
          "scatter": [
           {
            "fillpattern": {
             "fillmode": "overlay",
             "size": 10,
             "solidity": 0.2
            },
            "type": "scatter"
           }
          ],
          "scatter3d": [
           {
            "line": {
             "colorbar": {
              "outlinewidth": 0,
              "ticks": ""
             }
            },
            "marker": {
             "colorbar": {
              "outlinewidth": 0,
              "ticks": ""
             }
            },
            "type": "scatter3d"
           }
          ],
          "scattercarpet": [
           {
            "marker": {
             "colorbar": {
              "outlinewidth": 0,
              "ticks": ""
             }
            },
            "type": "scattercarpet"
           }
          ],
          "scattergeo": [
           {
            "marker": {
             "colorbar": {
              "outlinewidth": 0,
              "ticks": ""
             }
            },
            "type": "scattergeo"
           }
          ],
          "scattergl": [
           {
            "marker": {
             "colorbar": {
              "outlinewidth": 0,
              "ticks": ""
             }
            },
            "type": "scattergl"
           }
          ],
          "scattermap": [
           {
            "marker": {
             "colorbar": {
              "outlinewidth": 0,
              "ticks": ""
             }
            },
            "type": "scattermap"
           }
          ],
          "scattermapbox": [
           {
            "marker": {
             "colorbar": {
              "outlinewidth": 0,
              "ticks": ""
             }
            },
            "type": "scattermapbox"
           }
          ],
          "scatterpolar": [
           {
            "marker": {
             "colorbar": {
              "outlinewidth": 0,
              "ticks": ""
             }
            },
            "type": "scatterpolar"
           }
          ],
          "scatterpolargl": [
           {
            "marker": {
             "colorbar": {
              "outlinewidth": 0,
              "ticks": ""
             }
            },
            "type": "scatterpolargl"
           }
          ],
          "scatterternary": [
           {
            "marker": {
             "colorbar": {
              "outlinewidth": 0,
              "ticks": ""
             }
            },
            "type": "scatterternary"
           }
          ],
          "surface": [
           {
            "colorbar": {
             "outlinewidth": 0,
             "ticks": ""
            },
            "colorscale": [
             [
              0,
              "#0d0887"
             ],
             [
              0.1111111111111111,
              "#46039f"
             ],
             [
              0.2222222222222222,
              "#7201a8"
             ],
             [
              0.3333333333333333,
              "#9c179e"
             ],
             [
              0.4444444444444444,
              "#bd3786"
             ],
             [
              0.5555555555555556,
              "#d8576b"
             ],
             [
              0.6666666666666666,
              "#ed7953"
             ],
             [
              0.7777777777777778,
              "#fb9f3a"
             ],
             [
              0.8888888888888888,
              "#fdca26"
             ],
             [
              1,
              "#f0f921"
             ]
            ],
            "type": "surface"
           }
          ],
          "table": [
           {
            "cells": {
             "fill": {
              "color": "#EBF0F8"
             },
             "line": {
              "color": "white"
             }
            },
            "header": {
             "fill": {
              "color": "#C8D4E3"
             },
             "line": {
              "color": "white"
             }
            },
            "type": "table"
           }
          ]
         },
         "layout": {
          "annotationdefaults": {
           "arrowcolor": "#2a3f5f",
           "arrowhead": 0,
           "arrowwidth": 1
          },
          "autotypenumbers": "strict",
          "coloraxis": {
           "colorbar": {
            "outlinewidth": 0,
            "ticks": ""
           }
          },
          "colorscale": {
           "diverging": [
            [
             0,
             "#8e0152"
            ],
            [
             0.1,
             "#c51b7d"
            ],
            [
             0.2,
             "#de77ae"
            ],
            [
             0.3,
             "#f1b6da"
            ],
            [
             0.4,
             "#fde0ef"
            ],
            [
             0.5,
             "#f7f7f7"
            ],
            [
             0.6,
             "#e6f5d0"
            ],
            [
             0.7,
             "#b8e186"
            ],
            [
             0.8,
             "#7fbc41"
            ],
            [
             0.9,
             "#4d9221"
            ],
            [
             1,
             "#276419"
            ]
           ],
           "sequential": [
            [
             0,
             "#0d0887"
            ],
            [
             0.1111111111111111,
             "#46039f"
            ],
            [
             0.2222222222222222,
             "#7201a8"
            ],
            [
             0.3333333333333333,
             "#9c179e"
            ],
            [
             0.4444444444444444,
             "#bd3786"
            ],
            [
             0.5555555555555556,
             "#d8576b"
            ],
            [
             0.6666666666666666,
             "#ed7953"
            ],
            [
             0.7777777777777778,
             "#fb9f3a"
            ],
            [
             0.8888888888888888,
             "#fdca26"
            ],
            [
             1,
             "#f0f921"
            ]
           ],
           "sequentialminus": [
            [
             0,
             "#0d0887"
            ],
            [
             0.1111111111111111,
             "#46039f"
            ],
            [
             0.2222222222222222,
             "#7201a8"
            ],
            [
             0.3333333333333333,
             "#9c179e"
            ],
            [
             0.4444444444444444,
             "#bd3786"
            ],
            [
             0.5555555555555556,
             "#d8576b"
            ],
            [
             0.6666666666666666,
             "#ed7953"
            ],
            [
             0.7777777777777778,
             "#fb9f3a"
            ],
            [
             0.8888888888888888,
             "#fdca26"
            ],
            [
             1,
             "#f0f921"
            ]
           ]
          },
          "colorway": [
           "#636efa",
           "#EF553B",
           "#00cc96",
           "#ab63fa",
           "#FFA15A",
           "#19d3f3",
           "#FF6692",
           "#B6E880",
           "#FF97FF",
           "#FECB52"
          ],
          "font": {
           "color": "#2a3f5f"
          },
          "geo": {
           "bgcolor": "white",
           "lakecolor": "white",
           "landcolor": "#E5ECF6",
           "showlakes": true,
           "showland": true,
           "subunitcolor": "white"
          },
          "hoverlabel": {
           "align": "left"
          },
          "hovermode": "closest",
          "mapbox": {
           "style": "light"
          },
          "paper_bgcolor": "white",
          "plot_bgcolor": "#E5ECF6",
          "polar": {
           "angularaxis": {
            "gridcolor": "white",
            "linecolor": "white",
            "ticks": ""
           },
           "bgcolor": "#E5ECF6",
           "radialaxis": {
            "gridcolor": "white",
            "linecolor": "white",
            "ticks": ""
           }
          },
          "scene": {
           "xaxis": {
            "backgroundcolor": "#E5ECF6",
            "gridcolor": "white",
            "gridwidth": 2,
            "linecolor": "white",
            "showbackground": true,
            "ticks": "",
            "zerolinecolor": "white"
           },
           "yaxis": {
            "backgroundcolor": "#E5ECF6",
            "gridcolor": "white",
            "gridwidth": 2,
            "linecolor": "white",
            "showbackground": true,
            "ticks": "",
            "zerolinecolor": "white"
           },
           "zaxis": {
            "backgroundcolor": "#E5ECF6",
            "gridcolor": "white",
            "gridwidth": 2,
            "linecolor": "white",
            "showbackground": true,
            "ticks": "",
            "zerolinecolor": "white"
           }
          },
          "shapedefaults": {
           "line": {
            "color": "#2a3f5f"
           }
          },
          "ternary": {
           "aaxis": {
            "gridcolor": "white",
            "linecolor": "white",
            "ticks": ""
           },
           "baxis": {
            "gridcolor": "white",
            "linecolor": "white",
            "ticks": ""
           },
           "bgcolor": "#E5ECF6",
           "caxis": {
            "gridcolor": "white",
            "linecolor": "white",
            "ticks": ""
           }
          },
          "title": {
           "x": 0.05
          },
          "xaxis": {
           "automargin": true,
           "gridcolor": "white",
           "linecolor": "white",
           "ticks": "",
           "title": {
            "standoff": 15
           },
           "zerolinecolor": "white",
           "zerolinewidth": 2
          },
          "yaxis": {
           "automargin": true,
           "gridcolor": "white",
           "linecolor": "white",
           "ticks": "",
           "title": {
            "standoff": 15
           },
           "zerolinecolor": "white",
           "zerolinewidth": 2
          }
         }
        },
        "title": {
         "text": "Credit Card Transactions Time Density Plot"
        },
        "xaxis": {
         "anchor": "y2",
         "domain": [
          0,
          1
         ],
         "title": {
          "text": "Time [s]"
         },
         "zeroline": false
        },
        "yaxis": {
         "anchor": "free",
         "domain": [
          0,
          1
         ],
         "position": 0
        }
       }
      },
      "text/html": [
       "<div>            <script src=\"https://cdnjs.cloudflare.com/ajax/libs/mathjax/2.7.5/MathJax.js?config=TeX-AMS-MML_SVG\"></script><script type=\"text/javascript\">if (window.MathJax && window.MathJax.Hub && window.MathJax.Hub.Config) {window.MathJax.Hub.Config({SVG: {font: \"STIX-Web\"}});}</script>                <script type=\"text/javascript\">window.PlotlyConfig = {MathJaxConfig: 'local'};</script>\n",
       "        <script charset=\"utf-8\" src=\"https://cdn.plot.ly/plotly-3.0.1.min.js\"></script>                <div id=\"ae877d72-3098-4334-83a1-65f1728fd2c9\" class=\"plotly-graph-div\" style=\"height:525px; width:100%;\"></div>            <script type=\"text/javascript\">                window.PLOTLYENV=window.PLOTLYENV || {};                                if (document.getElementById(\"ae877d72-3098-4334-83a1-65f1728fd2c9\")) {                    Plotly.newPlot(                        \"ae877d72-3098-4334-83a1-65f1728fd2c9\",                        [{\"legendgroup\":\"Not Fraud\",\"marker\":{\"color\":\"rgb(31, 119, 180)\"},\"mode\":\"lines\",\"name\":\"Not Fraud\",\"showlegend\":true,\"x\":[0.0,345.584,691.168,1036.752,1382.336,1727.92,2073.504,2419.088,2764.672,3110.256,3455.84,3801.424,4147.008,4492.592,4838.176,5183.76,5529.344,5874.928,6220.512,6566.096,6911.68,7257.264,7602.848,7948.432,8294.016,8639.6,8985.184,9330.768,9676.352,10021.936,10367.52,10713.104,11058.688,11404.272,11749.856,12095.44,12441.024,12786.608,13132.192,13477.776,13823.36,14168.944,14514.528,14860.112,15205.696,15551.28,15896.864,16242.448,16588.032,16933.616,17279.2,17624.784,17970.368,18315.952,18661.536,19007.12,19352.704,19698.288,20043.872,20389.456,20735.04,21080.624,21426.208,21771.792,22117.376,22462.96,22808.544,23154.128,23499.712,23845.296,24190.88,24536.464,24882.048,25227.632,25573.216,25918.8,26264.384,26609.968,26955.552,27301.136,27646.72,27992.304,28337.888,28683.472,29029.056,29374.64,29720.224,30065.808,30411.392,30756.976,31102.56,31448.144,31793.728,32139.312,32484.896,32830.48,33176.064,33521.648,33867.232,34212.816,34558.4,34903.984,35249.568,35595.152,35940.736,36286.32,36631.904,36977.488,37323.072,37668.656,38014.24,38359.824,38705.408,39050.992,39396.576,39742.16,40087.744,40433.328,40778.912,41124.496,41470.08,41815.664,42161.248,42506.832,42852.416,43198.0,43543.584,43889.168,44234.752,44580.336,44925.92,45271.504,45617.088,45962.672,46308.256,46653.84,46999.424,47345.008,47690.592,48036.176,48381.76,48727.344,49072.928,49418.512,49764.096,50109.68,50455.264,50800.848,51146.432,51492.016,51837.6,52183.184,52528.768,52874.352,53219.936,53565.52,53911.104,54256.688,54602.272,54947.856,55293.44,55639.024,55984.608,56330.192,56675.776,57021.36,57366.944,57712.528,58058.112,58403.696,58749.28,59094.864,59440.448,59786.032,60131.616,60477.2,60822.784,61168.368,61513.952,61859.536,62205.12,62550.704,62896.288,63241.872,63587.456,63933.04,64278.624,64624.208,64969.792,65315.376,65660.96,66006.544,66352.128,66697.712,67043.296,67388.88,67734.464,68080.048,68425.632,68771.216,69116.8,69462.384,69807.968,70153.552,70499.136,70844.72,71190.304,71535.888,71881.472,72227.056,72572.64,72918.224,73263.808,73609.392,73954.976,74300.56,74646.144,74991.728,75337.312,75682.896,76028.48,76374.064,76719.648,77065.232,77410.816,77756.4,78101.984,78447.568,78793.152,79138.736,79484.32,79829.904,80175.488,80521.072,80866.656,81212.24,81557.824,81903.408,82248.992,82594.576,82940.16,83285.744,83631.328,83976.912,84322.496,84668.08,85013.664,85359.248,85704.832,86050.416,86396.0,86741.584,87087.168,87432.752,87778.336,88123.92,88469.504,88815.088,89160.672,89506.256,89851.84,90197.424,90543.008,90888.592,91234.176,91579.76,91925.344,92270.928,92616.512,92962.096,93307.68,93653.264,93998.848,94344.432,94690.016,95035.6,95381.184,95726.768,96072.352,96417.936,96763.52,97109.104,97454.688,97800.272,98145.856,98491.44,98837.024,99182.608,99528.192,99873.776,100219.36,100564.944,100910.528,101256.112,101601.696,101947.28,102292.864,102638.448,102984.032,103329.616,103675.2,104020.784,104366.368,104711.952,105057.536,105403.12,105748.704,106094.288,106439.872,106785.456,107131.04,107476.624,107822.208,108167.792,108513.376,108858.96,109204.544,109550.128,109895.712,110241.296,110586.88,110932.464,111278.048,111623.632,111969.216,112314.8,112660.384,113005.968,113351.552,113697.136,114042.72,114388.304,114733.888,115079.472,115425.056,115770.64,116116.224,116461.808,116807.392,117152.976,117498.56,117844.144,118189.728,118535.312,118880.896,119226.48,119572.064,119917.648,120263.232,120608.816,120954.4,121299.984,121645.568,121991.152,122336.736,122682.32,123027.904,123373.488,123719.072,124064.656,124410.24,124755.824,125101.408,125446.992,125792.576,126138.16,126483.744,126829.328,127174.912,127520.496,127866.08,128211.664,128557.248,128902.832,129248.416,129594.0,129939.584,130285.168,130630.752,130976.336,131321.92,131667.504,132013.088,132358.672,132704.256,133049.84,133395.424,133741.008,134086.592,134432.176,134777.76,135123.344,135468.928,135814.512,136160.096,136505.68,136851.264,137196.848,137542.432,137888.016,138233.6,138579.184,138924.768,139270.352,139615.936,139961.52,140307.104,140652.688,140998.272,141343.856,141689.44,142035.024,142380.608,142726.192,143071.776,143417.36,143762.944,144108.528,144454.112,144799.696,145145.28,145490.864,145836.448,146182.032,146527.616,146873.2,147218.784,147564.368,147909.952,148255.536,148601.12,148946.704,149292.288,149637.872,149983.456,150329.04,150674.624,151020.208,151365.792,151711.376,152056.96,152402.544,152748.128,153093.712,153439.296,153784.88,154130.464,154476.048,154821.632,155167.216,155512.8,155858.384,156203.968,156549.552,156895.136,157240.72,157586.304,157931.888,158277.472,158623.056,158968.64,159314.224,159659.808,160005.392,160350.976,160696.56,161042.144,161387.728,161733.312,162078.896,162424.48,162770.064,163115.648,163461.232,163806.816,164152.4,164497.984,164843.568,165189.152,165534.736,165880.32,166225.904,166571.488,166917.072,167262.656,167608.24,167953.824,168299.408,168644.992,168990.576,169336.16,169681.744,170027.328,170372.912,170718.496,171064.08,171409.664,171755.248,172100.832,172446.416],\"xaxis\":\"x\",\"y\":{\"dtype\":\"f8\",\"bdata\":\"kfirQw16vD5y+HHwugS+PjYSGZSFdb8+3dMrFwVkwD7AQ5OzQfzAPnmY2N3ygcE+hctMi\\u002frzwT5tzzRrqVHCPoqKd9HBmsI+ab+8bHbPwj4+RSfhZPDCPtwyZZSM\\u002fsI+wam2JkL7wj6g\\u002fBU8IOjCPtGHrVb2xsI+rym8lraZwj6IJyc7Y2LCPsI3Nrn8IsI+fdUDMnHdwT6b1FzyjZPBPkOR+IfzRsE+\\u002fOpazwz5wD5NbccyCavAPgdf9ibaXcA+poElyDMSwD59PbSnIJG\\u002fPjE6JjZsAr8+Sgle3n54vj61WL30R\\u002fO9PtJfLdeFcr0+k4gMu9r1vD7GT1nP4Hy8PkZmqK48B7w+JBqdRa2Uuz5Gha6EGCW7PgYQ2WuUuLo+IEYtOWxPuj72esu8Ieq5PshU0Qpribk+bw9z8ywuuT5XtszQctm4Pmy+UFdkjLg+pIYVKDpIuD4OnjjrMQ64PiaNRrSC37c+IebHY1K9tz7lU\\u002fagrKi3PjAu0eZ7orc+wDNM+oSrtz4qmF32ZMS3PrXqoPCR7bc+S\\u002f17EF4nuD5uwnzN\\u002fHG4PtsAEuqJzbg+JwSHpxE6uT4LQpOgmbe5PmvTmbEpRro+NrYMWdTluj5QXNsGvpa7PvJiXeYiWbw+iZU8yVotvT4AIoX52hO+Pp3199o1Db8+mArSMgwNwD5hdqzRop3APiq9UTrIOME+4YaG++newT415Ap6dZDCPuR6LmPTTcM+9DFYEGMXxD56DQcNdu3EPsNuo+lL0MU+bcpLfA7Axj6OcpimzrzHPnrjIa2Bxsg+5flXJP\\u002fcyT7qrrlu\\u002f\\u002f\\u002fKPlSPTsMaL8w+OP2tsMhpzT45JeAQYK\\u002fOPvhFqGQX\\u002f88+jjdeyAKs0D5Tjid+kVzRPptXnYqlENI+TAcaIZ\\u002fH0j4itO4m0oDTPgPL5KqHO9Q+e3MRo\\u002f\\u002f21D4xfdTycrLVPnR\\u002fL7cVbdY+iGYP0xkm1z7RVhKwsdzXPh2pQSMTkNg+iPenYHo\\u002f2T690hvlLOrZPhODdDt8j9o+yhX1gcgu2z4w1DGWgsfbPiuOCtEtWdw+FARbQWHj3D5hNGZayGXdPqBYThIj4N0+gWCbdEVS3j7w8FO0FrzePmle98+PHd8+0Ug837l23z5BJXUmrMffPtmrzwZFCOA+QXWljMAo4D50kd+AY0XgPnDdlQBMXuA+riBPtppz4D6zuZpScoXgPkv8DDT3k+A+ngFJPk+f4D5\\u002flUbcoafgPvHR2yYYreA+yzrxJd2v4D4p69QgHrDgPl6r+vAKruA+wNAqStap4D4wvrPrtaPgPr15lq\\u002fim+A+B\\u002fPGbpiS4D6oRlG0FYjgPqiNWzybfOA+SfZcP2tw4D5skUmNyGPgPsVyqX\\u002f1VuA+lbVmzDJK4D7QimVFvj3gPnOXkZLRMeA+nN\\u002fd9KAm4D7IGbcgWhzgPi\\u002fBnj0jE+A+njwgFxoL4D4z2CuJUwTgPnK1gV62\\u002fd8+uKy0tWb13z6MAemkqu\\u002ffPk8\\u002fzK5j7N8+cGqz22Pr3z5wOB2\\u002fb+zfPjVrm99A798+pRt0aojz3z5oBs8Z8vjfPqcU1zIn\\u002f98+PmttwOgC4D5nnI0ZTwbgPk0ARkKgCeA+WeubC7oM4D4uGRR4fw\\u002fgPgh+QoLZEeA+2n99prcT4D5ueZssEBXgPnh9IDHgFeA+9rTJbysW4D46tNrT+xXgPsmF3NRgFeA+UpCAqG4U4D7wIvdTPRPgPkX5J6jnEeA+nkbGNIoQ4D7hhiQ+Qg\\u002fgPhmI8sAsDuA+p3u6jWUN4D7dtxKEBg3gPk67MPMmDeA+hKr+ItsN4D7o8TUGNA\\u002fgPgd9ghM\\u002fEeA+kmWCQQYU4D59SsIfkBfgPu0ewAXgG+A+HJ6ZUPYg4D75GF6o0CbgPsYo+EZqLeA+8zAwPLw04D5RkTisvTzgPhJBVAhkReA+HMU7Q6NO4D6blbAEbljgPt2w\\u002fOC1YuA+F9+\\u002fmWtt4D7tU0ptf3jgPjr30njhg+A+FPIiMIKP4D7XwPfqUpvgPiZAk4VGp+A+rJP2DlKz4D4H22F8bb\\u002fgPrbaMVeUy+A+Y4ZbWMbX4D4PFczjB+TgPjgrAlZi8OA+4bZaF+T84D4\\u002f9MJqoAnhPt0nqvCuFuE+p9D02iok4T5V5hTTMTLhPu3D95fiQOE+B0jjXVtQ4T7H4VH+t2DhPuT2HwkQcuE+O3a5ynSE4T4nx01c75fhPnvgV9N+rOE+SoEIpRbC4T43YXJQndjhPk9Y4F\\u002fr7+E+M2OozsoH4j77n0nd9h\\u002fiPrtO21kcOOI+yJntXtpP4j7+bxmHw2biPrK8s49ffOI+nLB6YS2Q4j6vCLFypaHiPug6AHM8sOI+PAu3Lma74j4Ny6GUmMLiPicH5cdOxeI+ccEOJgzD4j4+wBwpX7viPiqhnA3kreI+9sJjJkea4j5\\u002fqbbJRoDiPlelD8e0X+I+5qP3WHc44j4zDGyLiQriPrgK4BT71eE+aWu+pe+a4T5CFxe4nVnhPh5XgO5MEuE+G5nSFVTF4D58jfngFnPgPrGMZHgDHOA+REUK7x+B3z5dmXTkb8LePj8tIDT0\\u002fN0+nbsMMKwx3T7CeLdWlWHcPtkC4TGojds+AfYf49W22j7cdklgBt7ZPp+IxlcXBNk+9JUtrNsp2D5KK19vG1DXPvWRQkCUd9Y+b6s76\\u002fmg1T6cbpEs98zUPtxbHXUu\\u002fNM+PfCFlDov0z4zDaowr2bSPtcWZ\\u002fcYo9E+meomfv3k0D6mykbJ2izQPiHKJvhM9s4+qhHvcJmgzT4AXpl2XVnMPqnFho5CIcs+nUrM6NX4yT4LbEz6hODIPufjJ0ea2Mc+cuWVkzrhxj6I\\u002fFuvYvrFPtNEqAvmI8U+uPEdRG5dxD6HGq66e6bDPtCtslpn\\u002fsI+NyMhi2Vkwj7bURlKitfBPvQoNV7OVsE+pDyBfBXhwD7trqQ1NXXAPq+dLHL8EcA+mPKce3Zsvz4mp5c4lcG+Pnbkm0EoIb4+cG14BDKJvT6I3mbY8Pe8PsIXNanpa7w+9cPGUfDjuz4cB2BmLV+7Prp2H0wh3bo+61nzmKRduj61EnLU5eC5Pt39sMxkZ7k+x3sWyevxuD4yyxj3hoG4PtHmJ3l6F7g+qr9Qhje1tz6PM40JUVy3PpqXoCpwDrc+s1WUIEnNtj4hQWKgkJq2PlRPPyryd7Y+pbl+Zgdntj71kluxUGm2PpSmNOQugLY+gGTcW96stj5+GEcvc\\u002fC2Prs1nYDWS7c+wY3EzMS\\u002ftz5eVtEazUy4PoT1P+1Q87g+Qtvk2YSzuT4254OycY26PrJpNS72gLs+5ShICsmNvD5qO0yfe7O9Ph6zjOt88b4+saxei44jwD5Juz25yNnAPkBPEnz8msE+ERM3n7Bmwj4oGyvsZTzDPvmoCAKaG8Q+6B4rQsoDxT4lqvq4dvTFPrHVH+Qk7cY+g8DZMmLtxz7tZXkaxvTIPnETqJjzAso+mwaH\\u002f5kXyz4S0RvtdDLMPoPt3VdLU80+A8ZUpe15zj6UjQfNMqbPPsQeZkz6a9A+aBhtkYUH0T5olmvgo6XRPqdQI8w3RtI+qpaeERvp0j4DZ4X5G47TPmtpegD7NNQ+ibtP7Wjd1D418yZ4BYfVPhokcJ9eMdY+4HuGv\\u002fDb1j5UIdN3J4bXPod4gl1fL9g+e9KjcOjW2D5wmr09CXzZPjRuLowCHto+U47HcRO82j7OQW6efVXbPvlfoa+J6ds+Hb+tW4t33D79lCNH5f7cPu1ciVwMf90+UMDuhYr33T5zMVixAGjePuLeVxMo0N4+frDVpdIv3z6qN03r6obfPoMU\\u002fgdz1d8+Rh8QpcEN4D6getsfpCzgPn4t7D2AR+A+CegMF31e4D7UG7FWyHHgPp5m9gmVgeA+sPOWghqO4D71+wNYk5fgPo+8bow8nuA+pxgK2FSi4D6+OIoZHKTgPgL3D+jSo+A+v7dwQLqh4D67oENGE57gPvTcVxAfmeA+gLoxeB6T4D6sotTkUYzgPtBhWgr5hOA+YGGAmVJ94D6MO0Hcm3XgPveJmj4QbuA+frudxOhm4D52G71wW2DgPgFw0Z6aWuA+hQ2GWdRV4D4j0qawMVLgPuxcMhfWT+A+pAoX0N5O4D4GpitwYk\\u002fgPgafUXtwUeA+99PLIRFV4D7128AhRVrgPmmSp88FYeA+q1oNR0Vp4D7sLMnD7nLgPqIBUCLnfeA+TdaGhA2K4D5wfCYXPJfgPl5YlvJIpeA+8H4YEQe04D4HqkVTR8PgPryXNYvZ0uA+BydUho3i4D7rLdUNNPLgPrV1ANafAeE+PVUuVaYQ4T5cG0N8IB\\u002fhPl5Pu0vrLOE+c0vgQeg54T4L1XCg\\u002fUXhPnUl1IkWUeE+Cce19yJb4T66oZCOF2ThPkAHHVPta+E+tMOvR6Fy4T7dcUz4M3jhPiV8b\\u002fyofOE+sIZgdQaA4T4hwzqPVILhPvZi1Amdg+E+XjNgzeqD4T78wyqNSYPhPtBgUHnFgeE+lCjf\\u002fmp\\u002f4T7ZV6iURnzhPla\\u002fKpJkeOE+nO6QDdFz4T74f8G9l27hPonm893DaOE+gJcREWBi4T70uEdEdlvhPodXbpEPVOE+G6omIzRM4T5zZqAd60PhPuMdsI86O+E+KqsmcCcy4T53BhirtSjhPnXR8EHoHuE+JNbmf8EU4T5+55JCQwrhPtFpf1Rv\\u002f+A+\\u002ftte1Uf04D6sd6Wpz+jgPmbenekK3eA+NqvxRv\\u002fQ4D628ShftMTgPpyS7fEzuOA+z8\\u002ft8omr4D6g3wBxxJ7gPjMSk07zkeA+eeMxyieF4D7jPB7Zc3jgPkyI2Vjpa+A+sTh2H5lf4D5b4dn0kVPgPgnt6IDfR+A+34ikO4k84D4Uj4lskTHgPisL+kX0JuA+6Yc3KKcc4D64uYsVmBLgPjcz0l6tCOA+vaGiGYv93z4zRb0Pb+nfPgRarvil1N8+cDRP78G+3z6zRkBuSaffPrvHdT+5jd8+zPnSqIZx3z5WqAS\\u002fIVLfPn0hEcf3Lt8+1+egj3UH3z6a1NCsCdvePtOQWIQmqd4+aBXVG0Rx3j6rBOWf4TLePjalPaCG7d0+2ZGlAsSg3T53uH20NEzdPkCX0Cd+79w+CvZdrVCK3D4x+GPAZxzcPkAjpVqKpds+fgEXZ4sl2z4WzZJnSpzaPguVxl20Cdo+DsueAcVt2T4MkbVHiMjYPt2udzEcGtg+D2s117Ji1z4gS\\u002fOSlKLWPpiPSCoi2tU+sjC1ztYJ1T5Spk7HSTLUPoEsCJUvVNM+CDaXZFpw0j5WQDCmuYfRPvQZ96tYm9A+WG83d7hYzz72eiMb\\u002fnfNPvMVd4cal8s+siFu4r24yT4+Fzi4o9\\u002fHPg==\"},\"yaxis\":\"y\",\"type\":\"scatter\"},{\"legendgroup\":\"Fraud\",\"marker\":{\"color\":\"rgb(255, 127, 14)\"},\"mode\":\"lines\",\"name\":\"Fraud\",\"showlegend\":true,\"x\":[406.0,745.884,1085.768,1425.652,1765.536,2105.42,2445.304,2785.188,3125.072,3464.956,3804.84,4144.724,4484.608,4824.492,5164.376,5504.26,5844.144,6184.028,6523.912,6863.796,7203.68,7543.564,7883.448,8223.332,8563.216,8903.1,9242.984,9582.868,9922.752,10262.636,10602.52,10942.404,11282.288,11622.172,11962.056,12301.94,12641.824,12981.708,13321.592,13661.476,14001.36,14341.244,14681.128,15021.012,15360.896,15700.78,16040.664,16380.548,16720.432,17060.316,17400.2,17740.084,18079.968,18419.852,18759.736,19099.62,19439.504,19779.388,20119.272,20459.156,20799.04,21138.924,21478.808,21818.692,22158.576,22498.46,22838.344,23178.228,23518.112,23857.996,24197.88,24537.764,24877.648,25217.532,25557.416,25897.3,26237.184,26577.068,26916.952,27256.836,27596.72,27936.604,28276.488,28616.372,28956.256,29296.14,29636.024,29975.908,30315.792,30655.676,30995.56,31335.444,31675.328,32015.212,32355.096,32694.98,33034.864,33374.748,33714.632,34054.516,34394.4,34734.284,35074.168,35414.052,35753.936,36093.82,36433.704,36773.588,37113.472,37453.356,37793.24,38133.124,38473.008,38812.892,39152.776,39492.66,39832.544,40172.428,40512.312,40852.196,41192.08,41531.964,41871.848,42211.732,42551.616,42891.5,43231.384,43571.268,43911.152,44251.036,44590.92,44930.804,45270.688,45610.572,45950.456,46290.34,46630.224,46970.108,47309.992,47649.876,47989.76,48329.644,48669.528,49009.412,49349.296,49689.18,50029.064,50368.948,50708.832,51048.716,51388.6,51728.484,52068.368,52408.252,52748.136,53088.02,53427.904,53767.788,54107.672,54447.556,54787.44,55127.324,55467.208,55807.092,56146.976,56486.86,56826.744,57166.628,57506.512,57846.396,58186.28,58526.164,58866.048,59205.932,59545.816,59885.7,60225.584,60565.468,60905.352,61245.236,61585.12,61925.004,62264.888,62604.772,62944.656,63284.54,63624.424,63964.308,64304.192,64644.076,64983.96,65323.844,65663.728,66003.612,66343.496,66683.38,67023.264,67363.148,67703.032,68042.916,68382.8,68722.684,69062.568,69402.452,69742.336,70082.22,70422.104,70761.988,71101.872,71441.756,71781.64,72121.524,72461.408,72801.292,73141.176,73481.06,73820.944,74160.828,74500.712,74840.596,75180.48,75520.364,75860.248,76200.132,76540.016,76879.9,77219.784,77559.668,77899.552,78239.436,78579.32,78919.204,79259.088,79598.972,79938.856,80278.74,80618.624,80958.508,81298.392,81638.276,81978.16,82318.044,82657.928,82997.812,83337.696,83677.58,84017.464,84357.348,84697.232,85037.116,85377.0,85716.884,86056.768,86396.652,86736.536,87076.42,87416.304,87756.188,88096.072,88435.956,88775.84,89115.724,89455.608,89795.492,90135.376,90475.26,90815.144,91155.028,91494.912,91834.796,92174.68,92514.564,92854.448,93194.332,93534.216,93874.1,94213.984,94553.868,94893.752,95233.636,95573.52,95913.404,96253.288,96593.172,96933.056,97272.94,97612.824,97952.708,98292.592,98632.476,98972.36,99312.244,99652.128,99992.012,100331.896,100671.78,101011.664,101351.548,101691.432,102031.316,102371.2,102711.084,103050.968,103390.852,103730.736,104070.62,104410.504,104750.388,105090.272,105430.156,105770.04,106109.924,106449.808,106789.692,107129.576,107469.46,107809.344,108149.228,108489.112,108828.996,109168.88,109508.764,109848.648,110188.532,110528.416,110868.3,111208.184,111548.068,111887.952,112227.836,112567.72,112907.604,113247.488,113587.372,113927.256,114267.14,114607.024,114946.908,115286.792,115626.676,115966.56,116306.444,116646.328,116986.212,117326.096,117665.98,118005.864,118345.748,118685.632,119025.516,119365.4,119705.284,120045.168,120385.052,120724.936,121064.82,121404.704,121744.588,122084.472,122424.356,122764.24,123104.124,123444.008,123783.892,124123.776,124463.66,124803.544,125143.428,125483.312,125823.196,126163.08,126502.964,126842.848,127182.732,127522.616,127862.5,128202.384,128542.268,128882.152,129222.036,129561.92,129901.804,130241.688,130581.572,130921.456,131261.34,131601.224,131941.108,132280.992,132620.876,132960.76,133300.644,133640.528,133980.412,134320.296,134660.18,135000.064,135339.948,135679.832,136019.716,136359.6,136699.484,137039.368,137379.252,137719.136,138059.02,138398.904,138738.788,139078.672,139418.556,139758.44,140098.324,140438.208,140778.092,141117.976,141457.86,141797.744,142137.628,142477.512,142817.396,143157.28,143497.164,143837.048,144176.932,144516.816,144856.7,145196.584,145536.468,145876.352,146216.236,146556.12,146896.004,147235.888,147575.772,147915.656,148255.54,148595.424,148935.308,149275.192,149615.076,149954.96,150294.844,150634.728,150974.612,151314.496,151654.38,151994.264,152334.148,152674.032,153013.916,153353.8,153693.684,154033.568,154373.452,154713.336,155053.22,155393.104,155732.988,156072.872,156412.756,156752.64,157092.524,157432.408,157772.292,158112.176,158452.06,158791.944,159131.828,159471.712,159811.596,160151.48,160491.364,160831.248,161171.132,161511.016,161850.9,162190.784,162530.668,162870.552,163210.436,163550.32,163890.204,164230.088,164569.972,164909.856,165249.74,165589.624,165929.508,166269.392,166609.276,166949.16,167289.044,167628.928,167968.812,168308.696,168648.58,168988.464,169328.348,169668.232,170008.116],\"xaxis\":\"x\",\"y\":{\"dtype\":\"f8\",\"bdata\":\"43CCr3WUxT6dWfW8ChLGPm\\u002f3TfE7kMY+mknGcPkOxz7KOCddM47HPmgMLt\\u002fZDcg+6EHtL92NyD4xdB+iLQ7JPuH1Yqu7jsk+BcJU7XcPyj4Gb4E+U5DKPr3oIrM+Ecs+HtahpSuSyz6KvtG+CxPMPnI43\\u002f3Qk8w+6rHnv20UzT4FsDLH1JTNPmK8BEL5FM4+DJwE0c6Uzj441iuNSRTPPmkMPA1ek88+3I9ZtQAJ0D56VRyjFEjQPnT0v+XlhtA+2tdM2m\\u002fF0D4pZ1kmrgPRPtjaHbmcQdE+V387zDd\\u002f0T4chzbke7zRPp3eodBl+dE+vtL8q\\u002fI10j4HrkLbH3LSPsXMLA3rrdI+BgEoOVLp0j5Wdf6dUyTTPjOXN8DtXtM+quUvaB+Z0z4A1Oqf59LTPuNDobBFDNQ+RWYPIDlF1D6PH4WtwX3UPnRSvE7ftdQ+yLl4LJLt1D4POPWe2iTVPr3AIiq5W9U+pDO9eS6S1T5BtjpdO8jVPr1AmsPg\\u002fdU+VD4Wtx8z1j6fPMBY+WfWPkXGCtxunNY+i5VGgoHQ1j4YXRiWMgTXPgNt7GaDN9c+O31tRHVq1z5n4QN6CZ3XPq9iYkpBz9c+9+kl6x0B2D7BD42AoDLYPhqLTBnKY9g+Q1WFqpuU2D4BNeELFsXYPskv2vM59dg+GTQx9Acl2T63FZh2gFTZPmi2krmjg9k+0fmSzXGy2T7R2lKS6uDZPiuxb7QND9o+02lJq9o82j6kJii3UGraPr1kqt9ul9o+lXh98jPE2j7302GCnvDaPhA2fOasHNs+Son0OV1I2z7Z2uJbrXPbPmh8iu+ants+jAXjXCPJ2z5bk27RQ\\u002fPbPmZIXEH5HNw+mbr1aEBG3D7TpFXOFW\\u002fcPsDgZcN1l9w+4FkiaFy\\u002f3D4KXx6txebcPq5rSVatDd0+\\u002fzvw\\u002fQ403T7Fu\\u002fYX5lndPrUgR\\u002fUtf90+gUhyx+Gj3T7XPH2k\\u002fMfdPkGP14p5690+FRZ2ZVMO3j6pbQ0QhTDePlOCZ1sJUt4+P07PEdty3j5S5I379JLePs7Tc+NRst4+Xuhpm+zQ3j4\\u002fTQQBwO7ePuIbEwLHC98+e20rofwn3z72FiT6W0PfPiFQgUbgXd8+UKPK4YR33z4Lp8ZNRZDfPpcsmDYdqN8+Tbu4dgi\\u002f3z4xY8waA9XfPhMsS2UJ6t8+pJ380Rf+3z4tEaGMlQjgPoiilhmgEeA+DosvLSoa4D4UJFeHMiLgPn7zyAu4KeA+tmknw7kw4D4BQvPbNjfgPgnrYqsuPeA+RogZrqBC4D6eQ72IjEfgPtvQbAjyS+A+ySsUI9FP4D7FwaD3KVPgPn1dFc78VeA+U1N+F0pY4D5\\u002fjcZtElrgPqs+bpNWW+A+wh4kcxdc4D7WN0IfVlzgPlZkL9ETXOA+8L2m6FFb4D7bUObqEVrgPqiCxoFVWOA+iKu7eh5W4D4odcPFblPgPoaeP3RIUOA+JtG\\u002ft61M4D5cPbzgoEjgPl23Ql0kROA+0BSYtzo\\u002f4D6IiM+U5jngPmC5WbMqNOA++0qN6Qku4D5oiCokhyfgPtLU22SlIOA+aHu0wGcZ4D67Zq9e0RHgPnE3L3blCeA+wR6BTacB4D6alcdwNPLfPmQ5Jy2D4N8+6o66pEHO3z7fuG++drvfPkhdznApqN8+qrZOv2CU3z4lT8S3I4DfPnON3W95a98+V\\u002f64AmlW3z5TCZGO+UDfPsiGfjIyK98+e25SDBoV3z6QoIY2uP7ePtmPRcYT6N4+rl+IyTPR3j4R00pFH7rePls61DPdot4+oV0Ug3SL3j4aOBMT7HPePtMwcrRKXN4+X1n9JpdE3j7DHUsY2CzePjmzaCIUFd4+LH+RylH93T4Ine9\\u002fl+XdPsWcY5rrzd0+kotRWVS23T4CVnHi157dPriSoEB8h90+X82zYkdw3T7Uc0UaP1ndPjGYgBppQt0+R8\\u002fl9sor3T72iwgiahXdPnx3Q+xL\\u002f9w+oWVignXp3D5+rEDs69PcPpDQWgu0vtw+6p9SmdKp3D5ODGUmTJXcPgVC0Rclgdw+47AwpmFt3D6Q9L\\u002fbBVrcPrDAmJIVR9w+jC\\u002fdcpQ03D7iD9XwhSLcPg4G\\u002fkrtENw+q5QPiM3\\u002f2z6PWPR0Ke\\u002fbPhkCuqID39s+N815ZF7P2z5JcjvNO8DbPhnC1K2dsds+8U7IkoWj2z4yuyXC9JXbPk5wbjnsiNs+J62Bq2x82z6sApN+dnDbPht3LsoJZds+aqhNVSZa2z7OX4GUy0\\u002fbPiEeM6j4Rds+ljcCW6w82z4MI0Ag5TPbPtOjjxKhK9s+Anaq8t0j2z4GIFEmmRzbPgqAaLfPFds+Y5pIU34P2z4IF0BKoQnbPjjAT480BNs+QTAhuDP\\u002f2j6MtDv9mfraPp8+ejpi9to+bwjF74by2j7OVxFCAu\\u002faPnWQqfzN69o+f4G\\u002fkuPo2j4alEohPObaPtg2M3HQ49o+3ZHM+Zjh2j6vPZ3jjd\\u002faPuVhdwun3do+u0fgBdzb2j4nE8ciJNraPsn3iXF22No+fOJIxcnW2j7dMIS5FNXaPtqwBbdN09o+FsUR+WrR2j41Kd6SYs\\u002faPpt3S3Uqzdo+dDLedLjK2j4Zu\\u002fNPAsjaPm5IL7X9xNo+p5saSqDB2j5s3\\u002fWx373aPvjQsZSxudo+TgsPpgu12j79Bt2s46\\u002faPnMkU4ovqto+dNt9QeWj2j6e+bn++pzaPrOrNx9nldo+b+d+OCCN2j4ure4fHYTaPqJ\\u002fMPJUeto++l6ZGr9v2j5xjHFaU2TaPpRXHNAJWNo+bD4Z\\u002ftpK2j5jtdfRvzzaPgkCV6qxLdo+rLCLXqod2j4sUIRDpAzaPhdNRzKa+tk+u\\u002fZjjYfn2T4y9DBGaNPZPqWwsuE4vtk+YI0kffan2T4w9x\\u002fSnpDZPgvQXDoweNk+3\\u002fgGs6le2T6LJKXfCkTZPtGCjQxUKNk+5DjlMIYL2T4CCSjwou3YPov6NZusztg+HEXlMKau2D7fNhdek43YPrJBT314a9g+ndXLlVpI2D5VIyFaPyTYPjRcViYt\\u002f9c+7XmG\\u002fSrZ1z5iEQaHQLLXPjYmEAt2itc+fGj8btRh1z6MtgExZTjXPjsniGMyDtc+Qk0OqEbj1j5DxqUprbfWPhOKC5dxi9Y+NcpgHKBe1j6qhYlcRTHWPuhHNmpuA9Y+9dCewCjV1T5xqvM7gqbVPgvpjBGJd9U+qI\\u002fcx0tI1T4zOSsu2RjVPnPUJVRA6dQ+X15DgZC51D79ngks2YnUPiX\\u002fN\\u002fEpWtQ+CZXfipIq1D7\\u002fiW\\u002fHIvvTPuHzvIDqy9M+DjENk\\u002fmc0z5KwSnUX27TPhh7hAotQNM+6tly5HAS0z71+YbvOuXSPpGmDJCauNI+Cquw+J6M0j6GWlgiV2HSPgUDL8TRNtI+lrruSx0N0j7aqWnWR+TRPj+qWChfvNE+yLlzp3CV0T4IcdhTiW\\u002fRPhZPwsG1StE+0VGYEwIn0T489FL0eQTRPmFMPZIo49A+f6ATmhjD0D4JaoEyVKTQPs5aAPjkhtA+fZUZ+dNq0D7f6QmzKVDQPuWDyQ7uNtA+qh13Xigf0D5OZiZb3wjQPrbpIUYy6M8+rolRcLbBzz5syRX+VJ7PPsdWoXwWfs8+hPZ6PAJhzz4zm41RHkfPPlz155NvMM8+pd8lofkczz4uj33evgzPPoj8aXvA\\u002f84+LpTrdP71zj4M3leZd+\\u002fOPoZ6sIwp7M4+IIt5zRDszj6lYAe6KO\\u002fOPhkXO5Zr9c4+\\u002f6KlkdL+zj5QtgjOVQvPPp\\u002fWLGbsGs8+bvcDdYwtzz5A8w8dK0PPPnNOBJC8W88+ocqaFjR3zz4Vd5IYhJXPPvEZ0SSets8+igaf+XLazz5m23pGeQDQPtbjbAoGFdA+L6XcB9cq0D5n2mMm40HQPiaOKPogWtA+KGX\\u002fx4Zz0D5a04OJCo7QPsexI\\u002fGhqdA+T+QbbkLG0D5A+2Mw4ePQPlj4hixzAtE+d51nH+0h0T5w6e6RQ0LRPtKlo9xqY9E+CicqK1eF0T7qnat\\u002f\\u002fKfRPv6WJLZOy9E+iX6ah0Hv0T7EOziNyBPSPqYsUkPXONI+bwFSDGFe0j52K4szWYTSPo7B+O+yqtI+q+rlZmHR0j7aCIKuV\\u002fjSPtUEYtCIH9M+fzzwy+dG0z79tcyYZ27TPqhRHyn7ldM+zszda5W90z55dgdPKeXTPuiG2MGpDNQ+bRD3tgk01D5NhZsmPFvUPtrNthA0gtQ+deMXf+So1D4k3JKHQM\\u002fUPm5EK0479dQ+Z5FDB8ga1T7VX9P52T\\u002fVPiQZpoFkZNU+\\u002fHmjEVuI1T6nUiM2savVPu61TZdaztU+B6GI+0rw1T53\\u002ffNJdhHWPi6v9IzQMdY+ATLP9E1R1j55F1La4m\\u002fWPguDkMGDjdY++Y6sXCWq1j78TbGOvMXWPkHpe24+4NY+jSSzSaD51j4zXMyn1xHXPmndHE3aKNc+kET2PZ4+1z5IW8zBGVPXPmnAYmZDZtc+anMAAxJ41z6lM6e7fIjXPp53TAR7l9c+hZsRpASl1z4Ow3i4EbHXPuHJk7iau9c+8IIqeJjE1z7vbdUqBMzXPtX2CWfX0dc+30IVKQzW1z5MgwLWnNjXPrS+aT6E2dc+sf8job3Y1z4p2eGtRNbXPvI2oYcV0tc+IH3\\u002fxizM1z5qB2V8h8TXPsgtBzIju9c+ggy+7f2v1z5UaasyFqPXPoowsAJrlNc+riiu3\\u002fuD1z7Po5PMyHHXPjkgL07SXdc+bvnIaxlI1z5je4GvnzDXPu\\u002fdcSZnF9c+L+WOYHL81j6sG0xwxN\\u002fWPkTV\\u002fulgwdY+imUA40uh1j4CMY\\u002fwiX\\u002fWPpl9biYgXNY+1iRFFRQ31j42iLvIaxDWPjtlWcUt6NU+EWQkBmG+1T7edwD6DJPVPqti04A5ZtU+jeds6O431T6cbjXpNQjVPqkSpaIX19Q+SUSFl52k1D5XXv+p0XDUPmi2ehe+O9Q+o91MdG0F1D6r7j6n6s3TPiTq6uRAldM+MkP0qntb0z5P2x67piDTPojGRxbO5NI+2UZD9\\u002f2n0j4+f6PNQmrSPsNtazipK9I+H8axAD7s0T5UTDcUDqzRPqdS9H8ma9E+svygapQp0T714zsPZefQPruzkrelpNA+AUXQtmNh0D6KtBNkrB3QPn62Jyoas88+i\\u002fakMSYqzz4sucRkl6DOPv\\u002fvhieIFs4+TmewsRKMzT5RJe0EUQHNPk8xMONcdsw+ZvxVxU\\u002fryz4uWg7SQmDLPjipEtVO1co+sXusNoxKyj4OvZDzEsDJPjT8EpX6Nck+kS20KVqsyD7q3w8+SCPIPl2IKtbamsc+jjEjZycTxz6zg0rRQozGPg==\"},\"yaxis\":\"y\",\"type\":\"scatter\"}],                        {\"barmode\":\"overlay\",\"hovermode\":\"closest\",\"legend\":{\"traceorder\":\"reversed\"},\"template\":{\"data\":{\"barpolar\":[{\"marker\":{\"line\":{\"color\":\"#E5ECF6\",\"width\":0.5},\"pattern\":{\"fillmode\":\"overlay\",\"size\":10,\"solidity\":0.2}},\"type\":\"barpolar\"}],\"bar\":[{\"error_x\":{\"color\":\"#2a3f5f\"},\"error_y\":{\"color\":\"#2a3f5f\"},\"marker\":{\"line\":{\"color\":\"#E5ECF6\",\"width\":0.5},\"pattern\":{\"fillmode\":\"overlay\",\"size\":10,\"solidity\":0.2}},\"type\":\"bar\"}],\"carpet\":[{\"aaxis\":{\"endlinecolor\":\"#2a3f5f\",\"gridcolor\":\"white\",\"linecolor\":\"white\",\"minorgridcolor\":\"white\",\"startlinecolor\":\"#2a3f5f\"},\"baxis\":{\"endlinecolor\":\"#2a3f5f\",\"gridcolor\":\"white\",\"linecolor\":\"white\",\"minorgridcolor\":\"white\",\"startlinecolor\":\"#2a3f5f\"},\"type\":\"carpet\"}],\"choropleth\":[{\"colorbar\":{\"outlinewidth\":0,\"ticks\":\"\"},\"type\":\"choropleth\"}],\"contourcarpet\":[{\"colorbar\":{\"outlinewidth\":0,\"ticks\":\"\"},\"type\":\"contourcarpet\"}],\"contour\":[{\"colorbar\":{\"outlinewidth\":0,\"ticks\":\"\"},\"colorscale\":[[0.0,\"#0d0887\"],[0.1111111111111111,\"#46039f\"],[0.2222222222222222,\"#7201a8\"],[0.3333333333333333,\"#9c179e\"],[0.4444444444444444,\"#bd3786\"],[0.5555555555555556,\"#d8576b\"],[0.6666666666666666,\"#ed7953\"],[0.7777777777777778,\"#fb9f3a\"],[0.8888888888888888,\"#fdca26\"],[1.0,\"#f0f921\"]],\"type\":\"contour\"}],\"heatmap\":[{\"colorbar\":{\"outlinewidth\":0,\"ticks\":\"\"},\"colorscale\":[[0.0,\"#0d0887\"],[0.1111111111111111,\"#46039f\"],[0.2222222222222222,\"#7201a8\"],[0.3333333333333333,\"#9c179e\"],[0.4444444444444444,\"#bd3786\"],[0.5555555555555556,\"#d8576b\"],[0.6666666666666666,\"#ed7953\"],[0.7777777777777778,\"#fb9f3a\"],[0.8888888888888888,\"#fdca26\"],[1.0,\"#f0f921\"]],\"type\":\"heatmap\"}],\"histogram2dcontour\":[{\"colorbar\":{\"outlinewidth\":0,\"ticks\":\"\"},\"colorscale\":[[0.0,\"#0d0887\"],[0.1111111111111111,\"#46039f\"],[0.2222222222222222,\"#7201a8\"],[0.3333333333333333,\"#9c179e\"],[0.4444444444444444,\"#bd3786\"],[0.5555555555555556,\"#d8576b\"],[0.6666666666666666,\"#ed7953\"],[0.7777777777777778,\"#fb9f3a\"],[0.8888888888888888,\"#fdca26\"],[1.0,\"#f0f921\"]],\"type\":\"histogram2dcontour\"}],\"histogram2d\":[{\"colorbar\":{\"outlinewidth\":0,\"ticks\":\"\"},\"colorscale\":[[0.0,\"#0d0887\"],[0.1111111111111111,\"#46039f\"],[0.2222222222222222,\"#7201a8\"],[0.3333333333333333,\"#9c179e\"],[0.4444444444444444,\"#bd3786\"],[0.5555555555555556,\"#d8576b\"],[0.6666666666666666,\"#ed7953\"],[0.7777777777777778,\"#fb9f3a\"],[0.8888888888888888,\"#fdca26\"],[1.0,\"#f0f921\"]],\"type\":\"histogram2d\"}],\"histogram\":[{\"marker\":{\"pattern\":{\"fillmode\":\"overlay\",\"size\":10,\"solidity\":0.2}},\"type\":\"histogram\"}],\"mesh3d\":[{\"colorbar\":{\"outlinewidth\":0,\"ticks\":\"\"},\"type\":\"mesh3d\"}],\"parcoords\":[{\"line\":{\"colorbar\":{\"outlinewidth\":0,\"ticks\":\"\"}},\"type\":\"parcoords\"}],\"pie\":[{\"automargin\":true,\"type\":\"pie\"}],\"scatter3d\":[{\"line\":{\"colorbar\":{\"outlinewidth\":0,\"ticks\":\"\"}},\"marker\":{\"colorbar\":{\"outlinewidth\":0,\"ticks\":\"\"}},\"type\":\"scatter3d\"}],\"scattercarpet\":[{\"marker\":{\"colorbar\":{\"outlinewidth\":0,\"ticks\":\"\"}},\"type\":\"scattercarpet\"}],\"scattergeo\":[{\"marker\":{\"colorbar\":{\"outlinewidth\":0,\"ticks\":\"\"}},\"type\":\"scattergeo\"}],\"scattergl\":[{\"marker\":{\"colorbar\":{\"outlinewidth\":0,\"ticks\":\"\"}},\"type\":\"scattergl\"}],\"scattermapbox\":[{\"marker\":{\"colorbar\":{\"outlinewidth\":0,\"ticks\":\"\"}},\"type\":\"scattermapbox\"}],\"scattermap\":[{\"marker\":{\"colorbar\":{\"outlinewidth\":0,\"ticks\":\"\"}},\"type\":\"scattermap\"}],\"scatterpolargl\":[{\"marker\":{\"colorbar\":{\"outlinewidth\":0,\"ticks\":\"\"}},\"type\":\"scatterpolargl\"}],\"scatterpolar\":[{\"marker\":{\"colorbar\":{\"outlinewidth\":0,\"ticks\":\"\"}},\"type\":\"scatterpolar\"}],\"scatter\":[{\"fillpattern\":{\"fillmode\":\"overlay\",\"size\":10,\"solidity\":0.2},\"type\":\"scatter\"}],\"scatterternary\":[{\"marker\":{\"colorbar\":{\"outlinewidth\":0,\"ticks\":\"\"}},\"type\":\"scatterternary\"}],\"surface\":[{\"colorbar\":{\"outlinewidth\":0,\"ticks\":\"\"},\"colorscale\":[[0.0,\"#0d0887\"],[0.1111111111111111,\"#46039f\"],[0.2222222222222222,\"#7201a8\"],[0.3333333333333333,\"#9c179e\"],[0.4444444444444444,\"#bd3786\"],[0.5555555555555556,\"#d8576b\"],[0.6666666666666666,\"#ed7953\"],[0.7777777777777778,\"#fb9f3a\"],[0.8888888888888888,\"#fdca26\"],[1.0,\"#f0f921\"]],\"type\":\"surface\"}],\"table\":[{\"cells\":{\"fill\":{\"color\":\"#EBF0F8\"},\"line\":{\"color\":\"white\"}},\"header\":{\"fill\":{\"color\":\"#C8D4E3\"},\"line\":{\"color\":\"white\"}},\"type\":\"table\"}]},\"layout\":{\"annotationdefaults\":{\"arrowcolor\":\"#2a3f5f\",\"arrowhead\":0,\"arrowwidth\":1},\"autotypenumbers\":\"strict\",\"coloraxis\":{\"colorbar\":{\"outlinewidth\":0,\"ticks\":\"\"}},\"colorscale\":{\"diverging\":[[0,\"#8e0152\"],[0.1,\"#c51b7d\"],[0.2,\"#de77ae\"],[0.3,\"#f1b6da\"],[0.4,\"#fde0ef\"],[0.5,\"#f7f7f7\"],[0.6,\"#e6f5d0\"],[0.7,\"#b8e186\"],[0.8,\"#7fbc41\"],[0.9,\"#4d9221\"],[1,\"#276419\"]],\"sequential\":[[0.0,\"#0d0887\"],[0.1111111111111111,\"#46039f\"],[0.2222222222222222,\"#7201a8\"],[0.3333333333333333,\"#9c179e\"],[0.4444444444444444,\"#bd3786\"],[0.5555555555555556,\"#d8576b\"],[0.6666666666666666,\"#ed7953\"],[0.7777777777777778,\"#fb9f3a\"],[0.8888888888888888,\"#fdca26\"],[1.0,\"#f0f921\"]],\"sequentialminus\":[[0.0,\"#0d0887\"],[0.1111111111111111,\"#46039f\"],[0.2222222222222222,\"#7201a8\"],[0.3333333333333333,\"#9c179e\"],[0.4444444444444444,\"#bd3786\"],[0.5555555555555556,\"#d8576b\"],[0.6666666666666666,\"#ed7953\"],[0.7777777777777778,\"#fb9f3a\"],[0.8888888888888888,\"#fdca26\"],[1.0,\"#f0f921\"]]},\"colorway\":[\"#636efa\",\"#EF553B\",\"#00cc96\",\"#ab63fa\",\"#FFA15A\",\"#19d3f3\",\"#FF6692\",\"#B6E880\",\"#FF97FF\",\"#FECB52\"],\"font\":{\"color\":\"#2a3f5f\"},\"geo\":{\"bgcolor\":\"white\",\"lakecolor\":\"white\",\"landcolor\":\"#E5ECF6\",\"showlakes\":true,\"showland\":true,\"subunitcolor\":\"white\"},\"hoverlabel\":{\"align\":\"left\"},\"hovermode\":\"closest\",\"mapbox\":{\"style\":\"light\"},\"paper_bgcolor\":\"white\",\"plot_bgcolor\":\"#E5ECF6\",\"polar\":{\"angularaxis\":{\"gridcolor\":\"white\",\"linecolor\":\"white\",\"ticks\":\"\"},\"bgcolor\":\"#E5ECF6\",\"radialaxis\":{\"gridcolor\":\"white\",\"linecolor\":\"white\",\"ticks\":\"\"}},\"scene\":{\"xaxis\":{\"backgroundcolor\":\"#E5ECF6\",\"gridcolor\":\"white\",\"gridwidth\":2,\"linecolor\":\"white\",\"showbackground\":true,\"ticks\":\"\",\"zerolinecolor\":\"white\"},\"yaxis\":{\"backgroundcolor\":\"#E5ECF6\",\"gridcolor\":\"white\",\"gridwidth\":2,\"linecolor\":\"white\",\"showbackground\":true,\"ticks\":\"\",\"zerolinecolor\":\"white\"},\"zaxis\":{\"backgroundcolor\":\"#E5ECF6\",\"gridcolor\":\"white\",\"gridwidth\":2,\"linecolor\":\"white\",\"showbackground\":true,\"ticks\":\"\",\"zerolinecolor\":\"white\"}},\"shapedefaults\":{\"line\":{\"color\":\"#2a3f5f\"}},\"ternary\":{\"aaxis\":{\"gridcolor\":\"white\",\"linecolor\":\"white\",\"ticks\":\"\"},\"baxis\":{\"gridcolor\":\"white\",\"linecolor\":\"white\",\"ticks\":\"\"},\"bgcolor\":\"#E5ECF6\",\"caxis\":{\"gridcolor\":\"white\",\"linecolor\":\"white\",\"ticks\":\"\"}},\"title\":{\"x\":0.05},\"xaxis\":{\"automargin\":true,\"gridcolor\":\"white\",\"linecolor\":\"white\",\"ticks\":\"\",\"title\":{\"standoff\":15},\"zerolinecolor\":\"white\",\"zerolinewidth\":2},\"yaxis\":{\"automargin\":true,\"gridcolor\":\"white\",\"linecolor\":\"white\",\"ticks\":\"\",\"title\":{\"standoff\":15},\"zerolinecolor\":\"white\",\"zerolinewidth\":2}}},\"title\":{\"text\":\"Credit Card Transactions Time Density Plot\"},\"xaxis\":{\"anchor\":\"y2\",\"domain\":[0.0,1.0],\"title\":{\"text\":\"Time [s]\"},\"zeroline\":false},\"yaxis\":{\"anchor\":\"free\",\"domain\":[0.0,1],\"position\":0.0}},                        {\"responsive\": true}                    ).then(function(){\n",
       "                            \n",
       "var gd = document.getElementById('ae877d72-3098-4334-83a1-65f1728fd2c9');\n",
       "var x = new MutationObserver(function (mutations, observer) {{\n",
       "        var display = window.getComputedStyle(gd).display;\n",
       "        if (!display || display === 'none') {{\n",
       "            console.log([gd, 'removed!']);\n",
       "            Plotly.purge(gd);\n",
       "            observer.disconnect();\n",
       "        }}\n",
       "}});\n",
       "\n",
       "// Listen for the removal of the full notebook cells\n",
       "var notebookContainer = gd.closest('#notebook-container');\n",
       "if (notebookContainer) {{\n",
       "    x.observe(notebookContainer, {childList: true});\n",
       "}}\n",
       "\n",
       "// Listen for the clearing of the current output cell\n",
       "var outputEl = gd.closest('.output');\n",
       "if (outputEl) {{\n",
       "    x.observe(outputEl, {childList: true});\n",
       "}}\n",
       "\n",
       "                        })                };            </script>        </div>"
      ]
     },
     "metadata": {},
     "output_type": "display_data"
    }
   ],
   "source": [
    "## 对欺诈案例按照时间维度进行可视化\n",
    "class_0 = data.loc[data['Class'] == 0][\"Time\"]\n",
    "class_1 = data.loc[data['Class'] == 1][\"Time\"]\n",
    "\n",
    "hist_data = [class_0, class_1]\n",
    "group_labels = ['Not Fraud', 'Fraud']\n",
    "\n",
    "fig = ff.create_distplot(hist_data, group_labels, show_hist=False, show_rug=False)\n",
    "fig['layout'].update(title='Credit Card Transactions Time Density Plot', xaxis=dict(title='Time [s]'))\n",
    "iplot(fig, filename='dist_only')"
   ]
  },
  {
   "cell_type": "markdown",
   "id": "52a5025d",
   "metadata": {},
   "source": [
    "可以看到，欺诈交易分布的较为均匀，且容易在夜间持续发生。"
   ]
  },
  {
   "cell_type": "code",
   "execution_count": 87,
   "id": "5945d85c",
   "metadata": {},
   "outputs": [],
   "source": [
    "## 划分训练集和测试集\n",
    "TEST_SIZE = 0.20 # 划分为测试集的比例\n",
    "train_df, test_df = train_test_split(data, test_size=TEST_SIZE, random_state=RANDOM_STATE, shuffle=True)"
   ]
  },
  {
   "cell_type": "markdown",
   "id": "256db169",
   "metadata": {},
   "source": [
    "由于数据集中存在数据不平衡的现象，因此需要对训练数据进行平衡，通过对数量较多的非欺诈样本进行欠采样，将欺诈样本的比例提升到1%。"
   ]
  },
  {
   "cell_type": "code",
   "execution_count": 88,
   "id": "031f28e5",
   "metadata": {},
   "outputs": [],
   "source": [
    "## 对非欺诈样本进行降采样\n",
    "# 获得训练集欺诈样本数量\n",
    "train_fraud_df  = train_df[train_df['Class'] ==1]\n",
    "no_of_fraud = train_fraud_df.shape[0]\n",
    "# 对非欺诈样本欠采样\n",
    "no_of_non_fraud = no_of_fraud * 99\n",
    "train_non_fraud_df = train_df[train_df['Class'] ==0].sample( no_of_non_fraud , random_state =RANDOM_STATE)\n",
    "no_of_non_fraud = train_non_fraud_df.shape[0]\n",
    "# 整合欠采样后的数据，打乱顺序\n",
    "train_df = pd.concat([train_fraud_df, train_non_fraud_df] , axis =0 )\n",
    "train_df = train_df.sample(frac = 1,random_state =RANDOM_STATE)"
   ]
  },
  {
   "cell_type": "code",
   "execution_count": 89,
   "id": "9ee84822",
   "metadata": {},
   "outputs": [],
   "source": [
    "## 对目标列和特征列进行定义\n",
    "target = 'Class'\n",
    "predictors = ['Time', 'V1', 'V2', 'V3', 'V4', 'V5', 'V6', 'V7', 'V8', 'V9', 'V10',\n",
    "              'V11', 'V12', 'V13', 'V14', 'V15', 'V16', 'V17', 'V18', 'V19',\n",
    "              'V20', 'V21', 'V22', 'V23', 'V24', 'V25', 'V26', 'V27', 'V28',\n",
    "              'Amount']"
   ]
  },
  {
   "cell_type": "markdown",
   "id": "41693469",
   "metadata": {},
   "source": [
    "#### 1. AdaBoost模型的搭建与训练"
   ]
  },
  {
   "cell_type": "code",
   "execution_count": 90,
   "id": "02412164",
   "metadata": {},
   "outputs": [
    {
     "data": {
      "image/png": "[encoded data removed]",
      "text/plain": [
       "<Figure size 700x700 with 2 Axes>"
      ]
     },
     "metadata": {},
     "output_type": "display_data"
    }
   ],
   "source": [
    "# 创建AdaBoost分类器\n",
    "ada_clf = AdaBoostClassifier(random_state=RANDOM_STATE)\n",
    "# 在训练集上训练模型\n",
    "ada_clf.fit(train_df[predictors], train_df[target].values)\n",
    "# 在测试集上进行预测\n",
    "test_df['prediction'] = ada_clf.predict(test_df[predictors])\n",
    "# 计算混淆矩阵\n",
    "cm = pd.crosstab(test_df[target].values, test_df['prediction'], rownames=['Actual'], colnames=['Predicted'])\n",
    "# 绘制混淆矩阵\n",
    "fig, ax1 = plt.subplots(ncols=1, figsize=(7,7))\n",
    "sns.heatmap(cm, \n",
    "            xticklabels=['Not Fraud', 'Fraud'],\n",
    "            yticklabels=['Not Fraud', 'Fraud'],\n",
    "            annot=True,ax=ax1,\n",
    "            linewidths=.2,linecolor=\"Darkblue\", cmap=\"Blues\" , fmt='d')\n",
    "plt.title('Confusion Matrix', fontsize=16)\n",
    "plt.show()"
   ]
  },
  {
   "cell_type": "markdown",
   "id": "c7cd321d",
   "metadata": {},
   "source": [
    "结果如图所示。其中，56834个True Negative样本不是欺诈，模型预测它们不是欺诈；78个True Positive样本是欺诈，模型预测它们是欺诈；20个False Negative样本是欺诈，但模型未能预测它们是欺诈；30个False Positive样本不是欺诈，但模型预测它们是欺诈。"
   ]
  },
  {
   "cell_type": "code",
   "execution_count": null,
   "id": "67d00764",
   "metadata": {},
   "outputs": [],
   "source": [
    "## 建立表格来存储模型评估指标\n",
    "metric_data = pd.DataFrame(columns =['Model Name','Detection Rate' ,'AUC','F1 Score','Accuracy','Fraud Loss Saved'])\n",
    "# 定义财产损失保护金额的函数\n",
    "def fraud_loss_saved ( dataset , key) :\n",
    "    df = dataset.copy()\n",
    "    total_fraud_amt = df[df['Class'] ==1]['Amount'].sum()\n",
    "    print(\"Total Fraud Amount in Test Data : \" +  str(round(total_fraud_amt,2)))\n",
    "    total_fraud_amt_detected = df.loc[(df['prediction'] ==1) & (df['Class']==1) ]['Amount'].sum()\n",
    "    print(\"Total Fraud Amount Detected in Test Data : \" +  str(round(total_fraud_amt_detected,2)))\n",
    "    print(\"Fraud Loss Saved (%): \" + str(round(100*total_fraud_amt_detected/total_fraud_amt ,2)))\n",
    "    detection_rate  = 100 * (df[df['prediction']==1]['Class'].sum())/df['Class'].sum()\n",
    "    print(\"Detection Rate (%) : \" + str(round(detection_rate , 2)))\n",
    "    accuracy = 100*accuracy_score(df['Class'] ,df['prediction'])\n",
    "    print(\"Accuracy : \" + str(round(accuracy ,2)))\n",
    "    f1 = f1_score(df['Class'] ,df['prediction'])\n",
    "    print(\"F1 Score : \" + str(round(f1 ,4)))   \n",
    "    auc_score = roc_auc_score(df['Class'],df['prediction'])\n",
    "    print(\"AUC Score : \" + str(round(auc_score,4)))\n",
    "    values = []\n",
    "    values.append(key)\n",
    "    values.append(detection_rate)\n",
    "    values.append(auc_score)\n",
    "    values.append(f1)\n",
    "    values.append(accuracy)\n",
    "    values.append(round(100*total_fraud_amt_detected/total_fraud_amt ,2))\n",
    "    final_values =[]\n",
    "    final_values.append(values)\n",
    "    temp_df = pd.DataFrame(final_values ,columns =['Model Name', 'Detection Rate', 'AUC', 'F1 Score', 'Accuracy', 'Fraud Loss Saved'])\n",
    "    global metric_data\n",
    "    metric_data = pd.concat([metric_data,temp_df], axis=0)"
   ]
  },
  {
   "cell_type": "code",
   "execution_count": 93,
   "id": "15c4719d",
   "metadata": {},
   "outputs": [
    {
     "name": "stdout",
     "output_type": "stream",
     "text": [
      "Total Fraud Amount in Test Data : 16078.4\n",
      "Total Fraud Amount Detected in Test Data : 12019.13\n",
      "Fraud Loss Saved (%): 74.75\n",
      "Detection Rate (%) : 79.59\n",
      "Accuracy : 99.91\n",
      "F1 Score : 0.7573\n",
      "AUC Score : 0.8977\n"
     ]
    }
   ],
   "source": [
    "fraud_loss_saved(test_df ,'AdaBoost - Test Data')"
   ]
  },
  {
   "cell_type": "markdown",
   "id": "2213b3f2",
   "metadata": {},
   "source": [
    "可以看到，AdaBoost模型能够帮助我们保护的金额为12019.13，帮助我们识别79.59%的欺诈行为，同时F1值达到0.7573，说明模型精准度较好。"
   ]
  },
  {
   "cell_type": "markdown",
   "id": "fa352673",
   "metadata": {},
   "source": [
    "#### 2. GBDT模型的搭建与训练"
   ]
  },
  {
   "cell_type": "code",
   "execution_count": null,
   "id": "9a341230",
   "metadata": {},
   "outputs": [
    {
     "data": {
      "image/png": "[encoded data removed]",
      "text/plain": [
       "<Figure size 700x700 with 2 Axes>"
      ]
     },
     "metadata": {},
     "output_type": "display_data"
    }
   ],
   "source": [
    "# 创建GBDT模型\n",
    "gbdf_clf = GradientBoostingClassifier(random_state=RANDOM_STATE)\n",
    "# 在训练集上训练模型\n",
    "gbdf_clf.fit(train_df[predictors], train_df[target].values)\n",
    "# 在测试集上进行预测\n",
    "test_df['prediction'] = gbdf_clf.predict(test_df[predictors])\n",
    "# 计算混淆矩阵\n",
    "cm = pd.crosstab(test_df[target].values, test_df['prediction'], rownames=['Actual'], colnames=['Predicted'])\n",
    "# 绘制混淆矩阵\n",
    "fig, ax1 = plt.subplots(ncols=1, figsize=(7,7))\n",
    "sns.heatmap(cm, \n",
    "            xticklabels=['Not Fraud', 'Fraud'],\n",
    "            yticklabels=['Not Fraud', 'Fraud'],\n",
    "            annot=True,ax=ax1,\n",
    "            linewidths=.2,linecolor=\"Darkblue\", cmap=\"Blues\" , fmt='d')\n",
    "plt.title('Confusion Matrix', fontsize=16)\n",
    "plt.show()"
   ]
  },
  {
   "cell_type": "code",
   "execution_count": 95,
   "id": "caaa8247",
   "metadata": {},
   "outputs": [
    {
     "name": "stdout",
     "output_type": "stream",
     "text": [
      "Total Fraud Amount in Test Data : 16078.4\n",
      "Total Fraud Amount Detected in Test Data : 12252.02\n",
      "Fraud Loss Saved (%): 76.2\n",
      "Detection Rate (%) : 82.65\n",
      "Accuracy : 99.79\n",
      "F1 Score : 0.5745\n",
      "AUC Score : 0.9124\n"
     ]
    }
   ],
   "source": [
    "fraud_loss_saved(test_df ,'GBDT - Test Data')"
   ]
  },
  {
   "cell_type": "markdown",
   "id": "48f038d0",
   "metadata": {},
   "source": [
    "使用GBDT模型所保护的金额为12252.02，帮助我们识别82.65%的欺诈行为.可以看到GBDT相比于AdaBoost模型虽然F1值有所下降，但是欺诈检测金额和检测率都有所上升。"
   ]
  },
  {
   "cell_type": "markdown",
   "id": "1c119289",
   "metadata": {},
   "source": [
    "#### 3. XGBoost模型的搭建与训练"
   ]
  },
  {
   "cell_type": "code",
   "execution_count": null,
   "id": "4e4a531a",
   "metadata": {},
   "outputs": [
    {
     "data": {
      "image/png": "[encoded data removed]",
      "text/plain": [
       "<Figure size 700x700 with 2 Axes>"
      ]
     },
     "metadata": {},
     "output_type": "display_data"
    }
   ],
   "source": [
    "# 创建XGBoost模型\n",
    "xgb_clf = XGBClassifier(random_state=RANDOM_STATE)\n",
    "# 在训练集上训练模型\n",
    "xgb_clf.fit(train_df[predictors], train_df[target].values)\n",
    "# 在测试集上进行预测\n",
    "test_df['prediction'] = xgb_clf.predict(test_df[predictors])\n",
    "# 计算混淆矩阵\n",
    "cm = pd.crosstab(test_df[target].values, test_df['prediction'], rownames=['Actual'], colnames=['Predicted'])\n",
    "# 绘制混淆矩阵\n",
    "fig, ax1 = plt.subplots(ncols=1, figsize=(7,7))\n",
    "sns.heatmap(cm, \n",
    "            xticklabels=['Not Fraud', 'Fraud'],\n",
    "            yticklabels=['Not Fraud', 'Fraud'],\n",
    "            annot=True,ax=ax1,\n",
    "            linewidths=.2,linecolor=\"Darkblue\", cmap=\"Blues\" , fmt='d')\n",
    "plt.show()"
   ]
  },
  {
   "cell_type": "code",
   "execution_count": 97,
   "id": "e421939f",
   "metadata": {},
   "outputs": [
    {
     "name": "stdout",
     "output_type": "stream",
     "text": [
      "Total Fraud Amount in Test Data : 16078.4\n",
      "Total Fraud Amount Detected in Test Data : 12387.06\n",
      "Fraud Loss Saved (%): 77.04\n",
      "Detection Rate (%) : 84.69\n",
      "Accuracy : 99.93\n",
      "F1 Score : 0.8098\n",
      "AUC Score : 0.9233\n"
     ]
    }
   ],
   "source": [
    "fraud_loss_saved(test_df ,'XGBoost - Test Data')"
   ]
  },
  {
   "cell_type": "markdown",
   "id": "55ce07b1",
   "metadata": {},
   "source": [
    "可以看到相对于AdaBoost和GBDT，XGBoost模型能够取得更好的效果，帮助我们更好地识别欺诈行为，保护更多财产。使用XGBoost模型能够检测出更多的欺诈行为，欺诈行为的检测率提升到了83.67%，总体的F1值也提升到了0.8241，各指标都明显提升。"
   ]
  },
  {
   "cell_type": "markdown",
   "id": "9555063f",
   "metadata": {},
   "source": [
    "#### 4. 三种提升树模型对比"
   ]
  },
  {
   "cell_type": "code",
   "execution_count": 98,
   "id": "35748bad",
   "metadata": {},
   "outputs": [
    {
     "data": {
      "text/html": [
       "<div>\n",
       "<style scoped>\n",
       "    .dataframe tbody tr th:only-of-type {\n",
       "        vertical-align: middle;\n",
       "    }\n",
       "\n",
       "    .dataframe tbody tr th {\n",
       "        vertical-align: top;\n",
       "    }\n",
       "\n",
       "    .dataframe thead th {\n",
       "        text-align: right;\n",
       "    }\n",
       "</style>\n",
       "<table border=\"1\" class=\"dataframe\">\n",
       "  <thead>\n",
       "    <tr style=\"text-align: right;\">\n",
       "      <th></th>\n",
       "      <th>Model Name</th>\n",
       "      <th>Detection Rate</th>\n",
       "      <th>AUC</th>\n",
       "      <th>F1 Score</th>\n",
       "      <th>Accuracy</th>\n",
       "      <th>Fraud Loss Saved</th>\n",
       "    </tr>\n",
       "  </thead>\n",
       "  <tbody>\n",
       "    <tr>\n",
       "      <th>0</th>\n",
       "      <td>AdaBoost - Test Data</td>\n",
       "      <td>79.591837</td>\n",
       "      <td>0.897695</td>\n",
       "      <td>0.757282</td>\n",
       "      <td>99.912222</td>\n",
       "      <td>74.75</td>\n",
       "    </tr>\n",
       "    <tr>\n",
       "      <th>0</th>\n",
       "      <td>GBDT - Test Data</td>\n",
       "      <td>82.653061</td>\n",
       "      <td>0.912360</td>\n",
       "      <td>0.574468</td>\n",
       "      <td>99.789333</td>\n",
       "      <td>76.20</td>\n",
       "    </tr>\n",
       "    <tr>\n",
       "      <th>0</th>\n",
       "      <td>XGBoost - Test Data</td>\n",
       "      <td>84.693878</td>\n",
       "      <td>0.923258</td>\n",
       "      <td>0.809756</td>\n",
       "      <td>99.931533</td>\n",
       "      <td>77.04</td>\n",
       "    </tr>\n",
       "  </tbody>\n",
       "</table>\n",
       "</div>"
      ],
      "text/plain": [
       "             Model Name  Detection Rate       AUC  F1 Score   Accuracy  \\\n",
       "0  AdaBoost - Test Data       79.591837  0.897695  0.757282  99.912222   \n",
       "0      GBDT - Test Data       82.653061  0.912360  0.574468  99.789333   \n",
       "0   XGBoost - Test Data       84.693878  0.923258  0.809756  99.931533   \n",
       "\n",
       "   Fraud Loss Saved  \n",
       "0             74.75  \n",
       "0             76.20  \n",
       "0             77.04  "
      ]
     },
     "execution_count": 98,
     "metadata": {},
     "output_type": "execute_result"
    }
   ],
   "source": [
    "metric_data"
   ]
  },
  {
   "cell_type": "markdown",
   "id": "85874a5b",
   "metadata": {},
   "source": [
    "可以看到，在三种提升树模型中，XGBoost模型具有最好的效果，能够更加准确地识別出欺诈行为，进而帮助我们保护更多的财产。"
   ]
  }
 ],
 "metadata": {
  "kernelspec": {
   "display_name": "Python 3",
   "language": "python",
   "name": "python3"
  },
  "language_info": {
   "codemirror_mode": {
    "name": "ipython",
    "version": 3
   },
   "file_extension": ".py",
   "mimetype": "text/x-python",
   "name": "python",
   "nbconvert_exporter": "python",
   "pygments_lexer": "ipython3",
   "version": "3.12.0"
  }
 },
 "nbformat": 4,
 "nbformat_minor": 5
}
