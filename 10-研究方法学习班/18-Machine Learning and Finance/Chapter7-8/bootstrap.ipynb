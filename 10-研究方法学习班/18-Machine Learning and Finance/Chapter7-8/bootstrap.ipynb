{
 "cells": [
  {
   "cell_type": "markdown",
   "id": "d8f10dab-fa05-4a4e-9005-7acda330c5e4",
   "metadata": {},
   "source": [
    "## Bootstrap自助法"
   ]
  },
  {
   "cell_type": "markdown",
   "id": "46d6eb1e-4c1f-45ef-95d6-81aa49d37395",
   "metadata": {
    "jp-MarkdownHeadingCollapsed": true
   },
   "source": [
    "#####  导入安装包"
   ]
  },
  {
   "cell_type": "code",
   "execution_count": 1,
   "id": "62900d41-4c6d-49f4-b30d-53b892505e01",
   "metadata": {},
   "outputs": [],
   "source": [
    "import random\n",
    "import os\n",
    "import math\n",
    "import numpy as np\n",
    "import pandas as pd\n",
    "import matplotlib.pyplot as plt\n",
    "from scipy import stats\n",
    "from random import choices\n",
    "\n",
    "import statsmodels.api as sm\n",
    "from statsmodels.api import OLS\n",
    "import seaborn as sns ## 数据可视化库，主要用于绘制统计图表\n",
    "from functools import partial ## 用于创建偏函数。偏函数可以固定某些参数，简化函数调用。\n",
    "from ISLP import load_data\n",
    "from ISLP.models import sklearn_sm ## 函数用于将statsmodels模型与sklearn的交叉验证工具兼容。\n",
    "from ISLP.models import (ModelSpec as MS, ## ModelSpec（MS）是一个类，用于定义模型规范，特别是在处理多项式回归等复杂模型时。\n",
    "                         summarize, ## summarize函数用于总结模型的结果，例如回归模型的系数、标准误差等。\n",
    "                         poly) ## poly函数用于创建多项式特征。"
   ]
  },
  {
   "cell_type": "code",
   "execution_count": 3,
   "id": "69b1dd15-6b88-490f-b298-5d892a09ee00",
   "metadata": {},
   "outputs": [],
   "source": [
    "from sklearn.linear_model import LinearRegression\n",
    "from sklearn.linear_model import Ridge\n",
    "from sklearn.linear_model import LogisticRegression\n",
    "from sklearn.tree import DecisionTreeClassifier, DecisionTreeRegressor, plot_tree\n",
    "from sklearn.ensemble import BaggingClassifier,BaggingRegressor\n",
    "from sklearn.metrics import mean_squared_error\n",
    "from sklearn.preprocessing import StandardScaler\n",
    "from sklearn.metrics import accuracy_score ## 用于计算分类模型的准确率（分类正确的样本数占总样本数的比例），是最直观的性能评估指标之一\n",
    "from sklearn.datasets import load_iris\n",
    "from sklearn.utils import resample\n",
    "from sklearn.model_selection import train_test_split, cross_val_score\n",
    "from sklearn.base import clone ## 函数用于复制模型。它可以创建模型的一个副本，确保每次交叉验证都是独立的。\n",
    "from sklearn.model_selection import  (cross_validate, ## 执行交叉验证,可以对模型进行多次训练和验证，返回模型的性能指标。\n",
    "                                      KFold, ## 创建k折交叉验证器。\n",
    "                                      ShuffleSplit) ## 创建随机打乱的交叉验证器。\n",
    "from sklearn import metrics"
   ]
  },
  {
   "cell_type": "code",
   "execution_count": 43,
   "id": "90ea12a4-ef0e-4caf-8da7-a919bdc966ad",
   "metadata": {},
   "outputs": [],
   "source": [
    "import warnings\n",
    "warnings.simplefilter(\"ignore\", category=UserWarning)\n",
    "warnings.filterwarnings('ignore')"
   ]
  },
  {
   "cell_type": "code",
   "execution_count": 7,
   "id": "60e1477e-45df-4271-bdca-c37dbcaa2e26",
   "metadata": {},
   "outputs": [],
   "source": [
    "%matplotlib inline\n",
    "# 设置字体为支持中文的字体\n",
    "plt.rcParams['font.sans-serif'] = ['SimHei']  # 指定中文字体为黑体\n",
    "plt.rcParams['axes.unicode_minus'] = False  # 解决负号显示问题"
   ]
  },
  {
   "cell_type": "markdown",
   "id": "36a2496a-0bfe-4549-99f2-f8c160e4060a",
   "metadata": {
    "jp-MarkdownHeadingCollapsed": true
   },
   "source": [
    "### 1. Bootstrap基础概念\n",
    "   \n"
   ]
  },
  {
   "cell_type": "markdown",
   "id": "520bb31b-c50a-413c-80ab-bdf1d8fc3efa",
   "metadata": {},
   "source": [
    "Bootstrap是一种通过重采样评估统计量分布的统计方法，无需对数据分布做假设。   \n",
    "其核心是通过从原始数据中有放回地抽样生成新数据集，用于估计模型的不确定性；广泛应用于模型验证、参数估计和预测误差评估。\n",
    "\n",
    "为什么需要Bootstrap？\n",
    "\n",
    "传统统计方法通常依赖于严格的假设（如正态分布），而Bootstrap不需要这些假设，充分利用了给定的观测信息，不需要模型其他的假设和增加新的观测，并且具有稳健性和效率高的特点；且可以应用于复杂的模型和非线性统计量，提供灵活且强大的工具。\n",
    "\n",
    "•优点：无需假设分布、适用于小数据集。\n",
    "\n",
    "•缺点：计算成本高、引入估计偏差。"
   ]
  },
  {
   "cell_type": "markdown",
   "id": "c236697b-af4a-42d7-ab09-c90929068e94",
   "metadata": {},
   "source": [
    "------\n",
    "自助法步骤：\n",
    "\n",
    "1.抽取Bootstrap样本：从原始样本（容量为n）中有放回抽取n个观测值，生成一个新样本。\n",
    "\n",
    "2.计算统计量：在新样本上计算目标统计量（如均值、中位数、回归系数等）。\n",
    "\n",
    "3.重复过程：重复上述步骤B次（通常B=1000），得到B个统计量的估计值。\n",
    "\n",
    "4.构建分布：基于B个估计值形成经验分布，用于进一步分析。 \n",
    "\n",
    "示例：我们希望在一个简单模型下确定最佳投资分配方案。使 $Var(\\alpha X+(1-\\alpha)Y)$ 最小化。\n",
    "\n",
    "$$\\alpha=\\frac{\\sigma^2_Y-\\sigma_XY}{\\sigma^2_X+\\sigma^2_Y-2\\sigma_XY}\\tag{5.8}$$\n",
    "其中 $\\sigma^2_X=Var(X),\\sigma^2_Y=Var(Y),\\sigma_{XY}=Cov(X,Y)$\n",
    "$$\\alpha=\\frac{\\hat\\sigma^2_Y-\\hat\\sigma_{XY}}{\\hat\\sigma^2_X+\\hat\\sigma^2_Y-2\\hat\\sigma_{XY}}\\tag{5.9}$$\n",
    "\n",
    "![figure5.11.png](figure5.11.png)"
   ]
  },
  {
   "cell_type": "markdown",
   "id": "f668a1f8-6526-47f7-b728-22dd7479ce1e",
   "metadata": {},
   "source": [
    "$\\sigma^2_X=1,\\sigma^2_Y=1.25,\\sigma_{XY}=0.5$"
   ]
  },
  {
   "cell_type": "code",
   "execution_count": 97,
   "id": "a1b79b63-24a3-40f1-93e8-49360f67eb4c",
   "metadata": {},
   "outputs": [
    {
     "data": {
      "text/plain": [
       "0.6047761352316836"
      ]
     },
     "execution_count": 97,
     "metadata": {},
     "output_type": "execute_result"
    }
   ],
   "source": [
    "a_list = []\n",
    "for _ in range(1000):\n",
    "    X = np.random.multivariate_normal([0, 0], [[1, 0.5], [0.5, 1.25]], 100)##模拟生成数据，α=0.6\n",
    "    a=(np.var(X[:, 1])-np.cov(X[:, 0],X[:, 1]))/(np.var(X[:, 0])+np.var(X[:, 1])-2*np.cov(X[:, 0],X[:, 1]))\n",
    "    a = a[:, 1][0]    \n",
    "    a_list.append(a)\n",
    "a_mean = np.mean(a_list)\n",
    "a_mean"
   ]
  },
  {
   "cell_type": "code",
   "execution_count": 99,
   "id": "0ed0dba0-c042-4943-94b3-166b01f42d07",
   "metadata": {},
   "outputs": [
    {
     "data": {
      "text/plain": [
       "0.0833165082555754"
      ]
     },
     "execution_count": 99,
     "metadata": {},
     "output_type": "execute_result"
    }
   ],
   "source": [
    "a_deviation = np.std(a_list, ddof = 1)##无偏\n",
    "a_deviation"
   ]
  },
  {
   "cell_type": "markdown",
   "id": "21eb6acb-d082-4e2f-9dd5-ba5106406e11",
   "metadata": {},
   "source": [
    "对于 $\\alpha $的全部 1000 次估计的均值为：\n",
    "$$\\overline{\\alpha }=\\frac{1}{1,000}\\sum_{r=1}^{1,000} \\hat\\alpha _r=0.6048\\tag{5.10}$$\n",
    "非常接近$\\alpha  = 0.6$，并且这些估计值的标准差为：\n",
    "$$ \\sqrt {\\frac{1}{1000 - 1}\\sum_{r = 1}^{1000} (\\hat\\alpha _r-\\overline{\\alpha })^2}=0.0833\\tag{5.11}$$\n",
    "对于$\\alpha $ 的全部 1000 次估计的均值为：\n",
    "这让我们很好地了解了  $\\hat\\alpha $ 的准确度：$\\hat\\alpha:SE(\\hat\\alpha)\\approx0.0833$ 。\n",
    "严格来说，对于从总体中抽取的随机样本，平均而言，我们预计 $\\hat\\alpha $与 $\\alpha $  的差值大约为 0.08 。"
   ]
  },
  {
   "cell_type": "code",
   "execution_count": 120,
   "id": "e3a26a9a-59f2-4e24-8a0f-7232d5603bed",
   "metadata": {},
   "outputs": [
    {
     "data": {
      "text/plain": [
       "0.5905702866315549"
      ]
     },
     "execution_count": 120,
     "metadata": {},
     "output_type": "execute_result"
    }
   ],
   "source": [
    "\n",
    "ab_list = []\n",
    "X = np.random.multivariate_normal([0, 0], [[1, 0.5], [0.5, 1.25]], 100)\n",
    "for _ in range(1000):\n",
    "    x = choices(X[:, 0], k=100)##有放回抽样\n",
    "    y = choices(X[:, 1], k=100)\n",
    "    ab = (np.var(y)-np.cov(x,y))/(np.var(x)+np.var(y)-2*np.cov(x,y))\n",
    "    ab = ab[:, 1][0]    \n",
    "    ab_list.append(ab)\n",
    "ab_mean = np.mean(ab_list)\n",
    "ab_mean"
   ]
  },
  {
   "cell_type": "code",
   "execution_count": 122,
   "id": "2dfac1ac-83cb-45da-a0e0-1b8e1554b3fc",
   "metadata": {},
   "outputs": [
    {
     "data": {
      "text/plain": [
       "0.05499105375879299"
      ]
     },
     "execution_count": 122,
     "metadata": {},
     "output_type": "execute_result"
    }
   ],
   "source": [
    "ab_deviation = np.std(ab_list, ddof = 1)##设置成无偏的\n",
    "ab_deviation"
   ]
  },
  {
   "cell_type": "code",
   "execution_count": 124,
   "id": "0ec58260-cd86-45bf-9ddc-3b9e8f58ce00",
   "metadata": {},
   "outputs": [
    {
     "data": {
      "image/png": "[encoded data removed]",
      "text/plain": [
       "<Figure size 640x480 with 2 Axes>"
      ]
     },
     "metadata": {},
     "output_type": "display_data"
    }
   ],
   "source": [
    "fig = plt.figure()\n",
    "ax1 = fig.add_subplot(2,2,1)\n",
    "n, bins, patches =plt.hist(x=a_list, bins='auto', color='cadetblue',alpha=0.7, rwidth=10)\n",
    "plt.grid(axis='y', alpha=0.75)\n",
    "plt.xlabel('Value')\n",
    "plt.ylabel('Number')\n",
    "plt.title('True')\n",
    "plt.axvline(0.6,c=\"coral\")\n",
    "\n",
    "ax2 = fig.add_subplot(2,2,2)\n",
    "n, bins, patches =plt.hist(x=ab_list, bins='auto', color='palegoldenrod',alpha=0.7, rwidth=10)\n",
    "plt.grid(axis='y', alpha=0.75)\n",
    "plt.xlabel('Value')\n",
    "plt.ylabel('Number')\n",
    "plt.title('Bootstrap')\n",
    "plt.axvline(0.6,c=\"coral\")\n",
    "plt.show()"
   ]
  },
  {
   "cell_type": "code",
   "execution_count": 126,
   "id": "9556657c-7732-424a-8f02-9427a90954e8",
   "metadata": {},
   "outputs": [
    {
     "data": {
      "image/png": "[encoded data removed]",
      "text/plain": [
       "<Figure size 640x480 with 1 Axes>"
      ]
     },
     "metadata": {},
     "output_type": "display_data"
    }
   ],
   "source": [
    "data =pd.DataFrame ({'True':a_list,'Bootstrap':ab_list})\n",
    "sns.boxplot(data=data.iloc[:,0:2],palette=\"Set3\")\n",
    "plt.axhline(0.6,c=\"coral\")\n",
    "plt.ylabel('Value')\n",
    "plt.show()"
   ]
  },
  {
   "cell_type": "markdown",
   "id": "e0ee521a-cfc3-4b98-8791-f1c9478f1e9c",
   "metadata": {},
   "source": [
    "表明自助法是一种有效的统计方法，可以用来估计和验证统计量的分布，并且结果与理论值一致。"
   ]
  },
  {
   "cell_type": "markdown",
   "id": "64b6cbe2-d173-4198-b435-85d82489c6a9",
   "metadata": {},
   "source": [
    "### 2. bootstrap 和 交叉验证"
   ]
  },
  {
   "cell_type": "markdown",
   "id": "e4c1df5c-24dd-4713-96fd-ee9224e9de39",
   "metadata": {},
   "source": [
    "---------\n",
    "交叉验证和自助法的同异：\n",
    "\n",
    "相同点：两者都是重采样的方法，都是在数据集较小的时候常用的方法。\n",
    "\n",
    "不同点：\n",
    "\n",
    "1. 两者的重采样方法不同。在K折交叉验证中，把原始数据集分成k等分（各等分之间没交集），每一次验证中，把其中一份作为验证集，剩余的作为测试集；在自助法中，并不区分测试集和验证集，并且在重采样过程中，是允许替代的，即同一个样本可以重复出现。\n",
    "\n",
    "自助法模型选择阶段和最终模型训练阶段的训练集规模相同，而交叉验证法模型选择阶段和最终模型训练阶段的训练集规模不同。Bootstrap通过重复抽样，避免了Cross Validation造成的样本减少的问题。自助法训练集数据分布可能与原始数据集数据分布不同，而交叉验证法保持数据分布的一致性。\n",
    "\n",
    "\n",
    "2. 两者的适用性不同。交叉验证主要应用于模型的选择，例如KNN算法中选多大的K，才能尽可能减小模型的真实误差。而自助法主要用来测算选定的模型中的不确定性，例如参数的标准差多大。\n"
   ]
  },
  {
   "cell_type": "code",
   "execution_count": 35,
   "id": "a2b773e0-899a-4659-ade3-bef2aad9c262",
   "metadata": {},
   "outputs": [],
   "source": [
    "Auto = load_data('Auto')"
   ]
  },
  {
   "cell_type": "code",
   "execution_count": 45,
   "id": "022d8faf-705f-466f-b1da-8cc4077dc4f7",
   "metadata": {},
   "outputs": [
    {
     "name": "stdout",
     "output_type": "stream",
     "text": [
      "不同阶数模型的自助法均方误差: [24.08429953 19.11983763 19.13042144 19.14664694 18.74272443]\n"
     ]
    }
   ],
   "source": [
    "# 用于存储不同阶数模型的自助法均方误差\n",
    "boot_mse = np.zeros(5)\n",
    "\n",
    "# 提取数据特征和目标变量\n",
    "H = np.array(Auto['horsepower'])\n",
    "Y = Auto['mpg']\n",
    "\n",
    "# 自助法抽样次数\n",
    "n_bootstrap = 1000\n",
    "\n",
    "for i, d in enumerate(range(1, 6)):\n",
    "    mse_scores_bootstrap = []\n",
    "    # 构建多项式特征矩阵\n",
    "    X = np.power.outer(H, np.arange(d + 1))\n",
    "    for _ in range(n_bootstrap):\n",
    "        # 有放回抽样生成自助样本集\n",
    "        indices = np.random.choice(len(X), size=len(X), replace=True)\n",
    "        X_boot = X[indices]\n",
    "        y_boot = Y[indices]\n",
    "\n",
    "        # 拟合线性回归模型\n",
    "        model = OLS(y_boot, X_boot).fit()\n",
    "        y_pred = model.predict(X)\n",
    "\n",
    "        # 计算均方误差\n",
    "        mse = mean_squared_error(Y, y_pred)\n",
    "        mse_scores_bootstrap.append(mse)\n",
    "\n",
    "    # 计算自助法均方误差的均值\n",
    "    boot_mse[i] = np.mean(mse_scores_bootstrap)\n",
    "\n",
    "print(\"不同阶数模型的自助法均方误差:\", boot_mse)"
   ]
  },
  {
   "cell_type": "code",
   "execution_count": 47,
   "id": "ff0ce752-5274-45c9-b330-ce3494efbcd0",
   "metadata": {},
   "outputs": [
    {
     "name": "stdout",
     "output_type": "stream",
     "text": [
      "不同lambdas值的自助法均方误差: [11.10217012 11.10556673 11.09932515 11.10178664 11.10558787 11.10264881\n",
      " 11.10149341 11.09955031 11.10093099 11.0972584 ]\n"
     ]
    }
   ],
   "source": [
    "X = Auto.drop(columns='mpg')\n",
    "Y = Auto['mpg']\n",
    "\n",
    "lambdas = np.linspace(0.001, 10, 10) / Y.std()\n",
    "\n",
    "# 用于存储不同alpha值的自助法均方误差\n",
    "boot_mse = np.zeros(10)\n",
    "\n",
    "# 自助法抽样次数\n",
    "n_bootstrap = 1000\n",
    "\n",
    "for j, alpha in enumerate(lambdas):\n",
    "    mse_scores_bootstrap = []\n",
    "    for _ in range(n_bootstrap):\n",
    "        # 有放回抽样生成自助样本集\n",
    "        indices = np.random.choice(len(X), size=len(X), replace=True)\n",
    "        X_boot = X.iloc[indices]\n",
    "        Y_boot = Y.iloc[indices]\n",
    "\n",
    "        # 拟合岭回归模型\n",
    "        model = Ridge(alpha=alpha)\n",
    "        model.fit(X_boot, Y_boot)\n",
    "\n",
    "        # 对原始数据进行预测\n",
    "        y_pred = model.predict(X)\n",
    "\n",
    "        # 计算均方误差\n",
    "        mse = mean_squared_error(Y, y_pred)\n",
    "        mse_scores_bootstrap.append(mse)\n",
    "\n",
    "    # 计算自助法均方误差的均值\n",
    "    boot_mse[j] = np.mean(mse_scores_bootstrap)\n",
    "\n",
    "print(\"不同lambdas值的自助法均方误差:\", boot_mse)"
   ]
  },
  {
   "cell_type": "code",
   "execution_count": 48,
   "id": "ba616dc7-fa70-41ff-8750-4153222b8ccc",
   "metadata": {},
   "outputs": [
    {
     "name": "stdout",
     "output_type": "stream",
     "text": [
      "不同alpha值的结合方法均方误差: [11.16012429 11.0791369  11.08818716 11.14135936 11.22238582 11.10152773\n",
      " 11.16479231 11.10637377 11.12336466 11.19148875]\n"
     ]
    }
   ],
   "source": [
    "X = Auto.drop(columns='mpg')\n",
    "Y = Auto['mpg']\n",
    "\n",
    "lambdas = np.linspace(0.001, 10, 10) / Y.std()\n",
    "\n",
    "# 自助法抽样次数\n",
    "n_bootstrap = 1000\n",
    "# k折交叉验证的折数\n",
    "k = 10\n",
    "\n",
    "# 用于存储不同lambdas值的结合方法均方误差\n",
    "combined_mse = np.zeros(10)\n",
    "\n",
    "for j, alpha in enumerate(lambdas):\n",
    "    mse_scores_combined = []\n",
    "    for _ in range(n_bootstrap):\n",
    "        # 有放回抽样生成自助样本集\n",
    "        indices = np.random.choice(len(X), size=len(X), replace=True)\n",
    "        X_boot = X.iloc[indices]\n",
    "        Y_boot = Y.iloc[indices]\n",
    "\n",
    "        kf = KFold(n_splits=k)\n",
    "        mse_scores_cv = []\n",
    "        for train_index, test_index in kf.split(X_boot):\n",
    "            X_train, X_test = X_boot.iloc[train_index], X_boot.iloc[test_index]\n",
    "            Y_train, Y_test = Y_boot.iloc[train_index], Y_boot.iloc[test_index]\n",
    "\n",
    "            model = Ridge(alpha=alpha)\n",
    "            model.fit(X_train, Y_train)\n",
    "            y_pred = model.predict(X_test)\n",
    "            mse = mean_squared_error(Y_test, y_pred)\n",
    "            mse_scores_cv.append(mse)\n",
    "\n",
    "        # 计算当前自助样本集上k折交叉验证的平均均方误差\n",
    "        mse_boot_cv = np.mean(mse_scores_cv)\n",
    "        mse_scores_combined.append(mse_boot_cv)\n",
    "\n",
    "    # 计算所有自助样本集上交叉验证均方误差的平均值\n",
    "    combined_mse[j] = np.mean(mse_scores_combined)\n",
    "\n",
    "print(\"不同alpha值的结合方法均方误差:\", combined_mse)"
   ]
  },
  {
   "cell_type": "code",
   "execution_count": 49,
   "id": "8ec470c8-21e0-454a-a590-981f3ed263db",
   "metadata": {},
   "outputs": [
    {
     "data": {
      "text/plain": [
       "array([1.28122875e-04, 1.42472637e-01, 2.84817152e-01, 4.27161666e-01,\n",
       "       5.69506180e-01, 7.11850695e-01, 8.54195209e-01, 9.96539723e-01,\n",
       "       1.13888424e+00, 1.28122875e+00])"
      ]
     },
     "execution_count": 49,
     "metadata": {},
     "output_type": "execute_result"
    }
   ],
   "source": [
    "lambdas = np.linspace(0.001, 10,10)/ Y.std()\n",
    "lambdas"
   ]
  },
  {
   "cell_type": "markdown",
   "id": "da20576f-08f9-48ca-bcc3-1fef80ae02a1",
   "metadata": {},
   "source": [
    "————————\n",
    "##### 应用1：估计统计量的分布，计算置信区间"
   ]
  },
  {
   "cell_type": "code",
   "execution_count": 52,
   "id": "b610ae25-46ab-4deb-b0aa-27ab4da5e834",
   "metadata": {},
   "outputs": [],
   "source": [
    "def boot_SE(func,D,n=None,B=1000,seed=0):\n",
    "    rng = np.random.default_rng(seed)\n",
    "    first_, second_ = 0, 0\n",
    "    values = []\n",
    "    n = n or D.shape[0]\n",
    "    for _ in range(B):\n",
    "        idx = rng.choice(D.index,n,replace=True)\n",
    "        value = func(D, idx)\n",
    "        values.append(value)\n",
    "        first_ += value\n",
    "        second_ += value**2\n",
    "    values = np.array(values)\n",
    "    mean = np.mean(values, axis=0)\n",
    "    return mean,np.sqrt(second_ / B - (first_ / B)**2), np.percentile(values, [2.5, 97.5], axis=0)"
   ]
  },
  {
   "cell_type": "code",
   "execution_count": 53,
   "id": "ab3950c9-8ef1-4574-9bc5-f6e57bfcd1a0",
   "metadata": {},
   "outputs": [],
   "source": [
    "def boot_OLS(model_matrix, response, D, idx):\n",
    "    D_ = D.loc[idx]\n",
    "    Y_ = D_[response]\n",
    "    X_ = clone(model_matrix).fit_transform(D_)\n",
    "    return sm.OLS(Y_, X_).fit().params"
   ]
  },
  {
   "cell_type": "code",
   "execution_count": 54,
   "id": "b78a5b3e-5095-44fe-a207-2d58adcb212f",
   "metadata": {},
   "outputs": [],
   "source": [
    "hp_func = partial(boot_OLS, MS(['horsepower']), 'mpg')\n",
    "## 部分参数固定，创建了一个新的可调用对象\n",
    "## partial函数将boot_OLS函数的model_matrix参数固定为MS(['horsepower'])，response参数固定为'mpg' "
   ]
  },
  {
   "cell_type": "code",
   "execution_count": 55,
   "id": "0a64c932-6dfa-4cf5-ac5b-b90f82858ad0",
   "metadata": {},
   "outputs": [
    {
     "data": {
      "text/plain": [
       "RangeIndex(start=0, stop=392, step=1)"
      ]
     },
     "execution_count": 55,
     "metadata": {},
     "output_type": "execute_result"
    }
   ],
   "source": [
    "Auto = Auto.reset_index(drop=True) \n",
    "Auto.index"
   ]
  },
  {
   "cell_type": "code",
   "execution_count": 56,
   "id": "9e8a8605-3110-4513-bc18-d4e53efe8e69",
   "metadata": {},
   "outputs": [
    {
     "name": "stdout",
     "output_type": "stream",
     "text": [
      "Bootstrap Linear Model:\n",
      "Mean: [39.99071897 -0.15835748]\n",
      "Standard Error: intercept     0.848807\n",
      "horsepower    0.007352\n",
      "dtype: float64\n",
      "95% Confidence Interval:\n",
      " [[38.32508087 -0.17326841]\n",
      " [41.65702675 -0.14410481]]\n"
     ]
    }
   ],
   "source": [
    "# 线性模型\n",
    "hp_func = partial(boot_OLS, MS(['horsepower']), 'mpg')\n",
    "mean, se, ci = boot_SE(hp_func, Auto, B=1000, seed=10)\n",
    "print(\"Bootstrap Linear Model:\")\n",
    "print(\"Mean:\", mean)\n",
    "print(\"Standard Error:\", se)\n",
    "print(\"95% Confidence Interval:\\n\", ci)\n"
   ]
  },
  {
   "cell_type": "code",
   "execution_count": 57,
   "id": "6f64370d-75e6-4f0f-a782-e89e567b55b6",
   "metadata": {},
   "outputs": [
    {
     "name": "stdout",
     "output_type": "stream",
     "text": [
      "\n",
      "OLS Linear Model:\n",
      "Summary:\n",
      "                             OLS Regression Results                            \n",
      "==============================================================================\n",
      "Dep. Variable:                    mpg   R-squared:                       0.606\n",
      "Model:                            OLS   Adj. R-squared:                  0.605\n",
      "Method:                 Least Squares   F-statistic:                     599.7\n",
      "Date:                Fri, 11 Apr 2025   Prob (F-statistic):           7.03e-81\n",
      "Time:                        16:43:53   Log-Likelihood:                -1178.7\n",
      "No. Observations:                 392   AIC:                             2361.\n",
      "Df Residuals:                     390   BIC:                             2369.\n",
      "Df Model:                           1                                         \n",
      "Covariance Type:            nonrobust                                         \n",
      "==============================================================================\n",
      "                 coef    std err          t      P>|t|      [0.025      0.975]\n",
      "------------------------------------------------------------------------------\n",
      "const         39.9359      0.717     55.660      0.000      38.525      41.347\n",
      "horsepower    -0.1578      0.006    -24.489      0.000      -0.171      -0.145\n",
      "==============================================================================\n",
      "Omnibus:                       16.432   Durbin-Watson:                   0.920\n",
      "Prob(Omnibus):                  0.000   Jarque-Bera (JB):               17.305\n",
      "Skew:                           0.492   Prob(JB):                     0.000175\n",
      "Kurtosis:                       3.299   Cond. No.                         322.\n",
      "==============================================================================\n",
      "\n",
      "Notes:\n",
      "[1] Standard Errors assume that the covariance matrix of the errors is correctly specified.\n"
     ]
    }
   ],
   "source": [
    "# OLS 线性模型\n",
    "X = sm.add_constant(Auto[['horsepower']])\n",
    "model = sm.OLS(Auto['mpg'], X).fit()\n",
    "print(\"\\nOLS Linear Model:\")\n",
    "print(\"Summary:\\n\", model.summary())"
   ]
  },
  {
   "cell_type": "code",
   "execution_count": 58,
   "id": "146779e7-6e56-445c-9f15-707f4809dc19",
   "metadata": {},
   "outputs": [
    {
     "name": "stdout",
     "output_type": "stream",
     "text": [
      "\n",
      "Bootstrap Quadratic Model:\n",
      "Mean: [ 5.70293995e+01 -4.68264311e-01  1.23848008e-03]\n",
      "Standard Error: intercept                                  2.149153\n",
      "poly(horsepower, degree=2, raw=True)[0]    0.034437\n",
      "poly(horsepower, degree=2, raw=True)[1]    0.000125\n",
      "dtype: float64\n",
      "95% Confidence Interval:\n",
      " [[ 5.29380300e+01 -5.34128507e-01  9.97681066e-04]\n",
      " [ 6.11818082e+01 -4.02223090e-01  1.47896191e-03]]\n"
     ]
    }
   ],
   "source": [
    "# 二次模型\n",
    "quad_model = MS([poly('horsepower', 2, raw=True)])\n",
    "quad_func = partial(boot_OLS, quad_model, 'mpg')\n",
    "mean_quad, se_quad, ci_quad = boot_SE(quad_func, Auto, B=1000, seed=10)\n",
    "print(\"\\nBootstrap Quadratic Model:\")\n",
    "print(\"Mean:\", mean_quad)\n",
    "print(\"Standard Error:\", se_quad)\n",
    "print(\"95% Confidence Interval:\\n\", ci_quad)"
   ]
  },
  {
   "cell_type": "code",
   "execution_count": 59,
   "id": "10fb1f73-2a66-46a1-ad24-f39e227a4dbe",
   "metadata": {},
   "outputs": [
    {
     "name": "stdout",
     "output_type": "stream",
     "text": [
      "\n",
      "OLS Quadratic Model:\n",
      "Summary:\n",
      "                             OLS Regression Results                            \n",
      "==============================================================================\n",
      "Dep. Variable:                    mpg   R-squared:                       0.688\n",
      "Model:                            OLS   Adj. R-squared:                  0.686\n",
      "Method:                 Least Squares   F-statistic:                     428.0\n",
      "Date:                Fri, 11 Apr 2025   Prob (F-statistic):           5.40e-99\n",
      "Time:                        16:44:03   Log-Likelihood:                -1133.2\n",
      "No. Observations:                 392   AIC:                             2272.\n",
      "Df Residuals:                     389   BIC:                             2284.\n",
      "Df Model:                           2                                         \n",
      "Covariance Type:            nonrobust                                         \n",
      "===========================================================================================================\n",
      "                                              coef    std err          t      P>|t|      [0.025      0.975]\n",
      "-----------------------------------------------------------------------------------------------------------\n",
      "intercept                                  56.9001      1.800     31.604      0.000      53.360      60.440\n",
      "poly(horsepower, degree=2, raw=True)[0]    -0.4662      0.031    -14.978      0.000      -0.527      -0.405\n",
      "poly(horsepower, degree=2, raw=True)[1]     0.0012      0.000     10.080      0.000       0.001       0.001\n",
      "==============================================================================\n",
      "Omnibus:                       16.158   Durbin-Watson:                   1.078\n",
      "Prob(Omnibus):                  0.000   Jarque-Bera (JB):               30.662\n",
      "Skew:                           0.218   Prob(JB):                     2.20e-07\n",
      "Kurtosis:                       4.299   Cond. No.                     1.29e+05\n",
      "==============================================================================\n",
      "\n",
      "Notes:\n",
      "[1] Standard Errors assume that the covariance matrix of the errors is correctly specified.\n",
      "[2] The condition number is large, 1.29e+05. This might indicate that there are\n",
      "strong multicollinearity or other numerical problems.\n"
     ]
    }
   ],
   "source": [
    "# OLS 二次模型\n",
    "X_quad = quad_model.fit_transform(Auto[['horsepower']])\n",
    "model_quad = sm.OLS(Auto['mpg'], X_quad).fit()\n",
    "print(\"\\nOLS Quadratic Model:\")\n",
    "print(\"Summary:\\n\", model_quad.summary())"
   ]
  },
  {
   "cell_type": "markdown",
   "id": "3496e405-c1e4-4ac9-8eae-cc45b2bbd3fc",
   "metadata": {},
   "source": [
    "### 3. bootstrap类型\n",
    "标准Bootstrap 和.632估计器"
   ]
  },
  {
   "cell_type": "markdown",
   "id": "2a2c7578-0f55-4c07-aa98-319e6a076efb",
   "metadata": {},
   "source": [
    ".632 估计是对普通自助法的一种改进。\n",
    "$$\\Pr\\{\\text{观测} \\ i \\in \\text{自助法样本} \\ b\\} = 1 - \\left(1 - \\frac{1}{N}\\right)^N \\tag{7.55}\\approx 1 - e^{-1}= 0.632$$\n",
    "在普通自助法中，每个自助样本集大约包含原始数据集63.2%的不同样本。.632 估计利用了这一特性，通过对自助样本集和原始数据集上的模型性能进行加权平均，来得到更准确的模型性能估计。具体来说，它将自助样本集上的模型性能估计值与原始数据集上的模型性能估计值按照一定的权重进行组合，权重的选择基于自助样本集包含原始数据的比例。\n",
    "\n",
    "计算公式：设M为模型，D为原始数据集，$D_i$为第i个自助样本集，n为自助样本集的数量。$err_{in}(M)$表示模型M在原始数据集D上的误差，$err_{out}(M, D_i)$表示模型M在自助样本集$D_i$上的泛化误差（通过对未被抽到的样本进行预测得到）。则.632 估计的误差估计值$err_{.632}(M)$为：$$err_{.632}(M) = 0.368err_{in}(M)+ 0.632\\frac{1}{n}\\sum_{i = 1}^{n}err_{out}(M, D_i)$$\n",
    "\n",
    "相比普通自助法，.632 估计能够更好地平衡模型在原始数据集和自助样本集上的性能，减少了对模型性能的高估或低估，通常能提供更准确的模型性能估计。"
   ]
  },
  {
   "cell_type": "markdown",
   "id": "4e8c7cb2-4599-4c86-b0a6-c3cfc12c43ae",
   "metadata": {},
   "source": [
    "##### 应用2：模型评估：计算预测模型的平均准确率"
   ]
  },
  {
   "cell_type": "code",
   "execution_count": 60,
   "id": "5f3f9155-49df-42fc-9fa5-86fd00216fbf",
   "metadata": {},
   "outputs": [],
   "source": [
    "# 加载鸢尾花数据集\n",
    "iris = load_iris()\n",
    "X = iris.data\n",
    "y = iris.target"
   ]
  },
  {
   "cell_type": "code",
   "execution_count": 131,
   "id": "b0f00c6c-8b83-452b-8846-46ce1c1c3b1d",
   "metadata": {},
   "outputs": [
    {
     "data": {
      "text/plain": [
       "{'data': array([[5.1, 3.5, 1.4, 0.2],\n",
       "        [4.9, 3. , 1.4, 0.2],\n",
       "        [4.7, 3.2, 1.3, 0.2],\n",
       "        [4.6, 3.1, 1.5, 0.2],\n",
       "        [5. , 3.6, 1.4, 0.2],\n",
       "        [5.4, 3.9, 1.7, 0.4],\n",
       "        [4.6, 3.4, 1.4, 0.3],\n",
       "        [5. , 3.4, 1.5, 0.2],\n",
       "        [4.4, 2.9, 1.4, 0.2],\n",
       "        [4.9, 3.1, 1.5, 0.1],\n",
       "        [5.4, 3.7, 1.5, 0.2],\n",
       "        [4.8, 3.4, 1.6, 0.2],\n",
       "        [4.8, 3. , 1.4, 0.1],\n",
       "        [4.3, 3. , 1.1, 0.1],\n",
       "        [5.8, 4. , 1.2, 0.2],\n",
       "        [5.7, 4.4, 1.5, 0.4],\n",
       "        [5.4, 3.9, 1.3, 0.4],\n",
       "        [5.1, 3.5, 1.4, 0.3],\n",
       "        [5.7, 3.8, 1.7, 0.3],\n",
       "        [5.1, 3.8, 1.5, 0.3],\n",
       "        [5.4, 3.4, 1.7, 0.2],\n",
       "        [5.1, 3.7, 1.5, 0.4],\n",
       "        [4.6, 3.6, 1. , 0.2],\n",
       "        [5.1, 3.3, 1.7, 0.5],\n",
       "        [4.8, 3.4, 1.9, 0.2],\n",
       "        [5. , 3. , 1.6, 0.2],\n",
       "        [5. , 3.4, 1.6, 0.4],\n",
       "        [5.2, 3.5, 1.5, 0.2],\n",
       "        [5.2, 3.4, 1.4, 0.2],\n",
       "        [4.7, 3.2, 1.6, 0.2],\n",
       "        [4.8, 3.1, 1.6, 0.2],\n",
       "        [5.4, 3.4, 1.5, 0.4],\n",
       "        [5.2, 4.1, 1.5, 0.1],\n",
       "        [5.5, 4.2, 1.4, 0.2],\n",
       "        [4.9, 3.1, 1.5, 0.2],\n",
       "        [5. , 3.2, 1.2, 0.2],\n",
       "        [5.5, 3.5, 1.3, 0.2],\n",
       "        [4.9, 3.6, 1.4, 0.1],\n",
       "        [4.4, 3. , 1.3, 0.2],\n",
       "        [5.1, 3.4, 1.5, 0.2],\n",
       "        [5. , 3.5, 1.3, 0.3],\n",
       "        [4.5, 2.3, 1.3, 0.3],\n",
       "        [4.4, 3.2, 1.3, 0.2],\n",
       "        [5. , 3.5, 1.6, 0.6],\n",
       "        [5.1, 3.8, 1.9, 0.4],\n",
       "        [4.8, 3. , 1.4, 0.3],\n",
       "        [5.1, 3.8, 1.6, 0.2],\n",
       "        [4.6, 3.2, 1.4, 0.2],\n",
       "        [5.3, 3.7, 1.5, 0.2],\n",
       "        [5. , 3.3, 1.4, 0.2],\n",
       "        [7. , 3.2, 4.7, 1.4],\n",
       "        [6.4, 3.2, 4.5, 1.5],\n",
       "        [6.9, 3.1, 4.9, 1.5],\n",
       "        [5.5, 2.3, 4. , 1.3],\n",
       "        [6.5, 2.8, 4.6, 1.5],\n",
       "        [5.7, 2.8, 4.5, 1.3],\n",
       "        [6.3, 3.3, 4.7, 1.6],\n",
       "        [4.9, 2.4, 3.3, 1. ],\n",
       "        [6.6, 2.9, 4.6, 1.3],\n",
       "        [5.2, 2.7, 3.9, 1.4],\n",
       "        [5. , 2. , 3.5, 1. ],\n",
       "        [5.9, 3. , 4.2, 1.5],\n",
       "        [6. , 2.2, 4. , 1. ],\n",
       "        [6.1, 2.9, 4.7, 1.4],\n",
       "        [5.6, 2.9, 3.6, 1.3],\n",
       "        [6.7, 3.1, 4.4, 1.4],\n",
       "        [5.6, 3. , 4.5, 1.5],\n",
       "        [5.8, 2.7, 4.1, 1. ],\n",
       "        [6.2, 2.2, 4.5, 1.5],\n",
       "        [5.6, 2.5, 3.9, 1.1],\n",
       "        [5.9, 3.2, 4.8, 1.8],\n",
       "        [6.1, 2.8, 4. , 1.3],\n",
       "        [6.3, 2.5, 4.9, 1.5],\n",
       "        [6.1, 2.8, 4.7, 1.2],\n",
       "        [6.4, 2.9, 4.3, 1.3],\n",
       "        [6.6, 3. , 4.4, 1.4],\n",
       "        [6.8, 2.8, 4.8, 1.4],\n",
       "        [6.7, 3. , 5. , 1.7],\n",
       "        [6. , 2.9, 4.5, 1.5],\n",
       "        [5.7, 2.6, 3.5, 1. ],\n",
       "        [5.5, 2.4, 3.8, 1.1],\n",
       "        [5.5, 2.4, 3.7, 1. ],\n",
       "        [5.8, 2.7, 3.9, 1.2],\n",
       "        [6. , 2.7, 5.1, 1.6],\n",
       "        [5.4, 3. , 4.5, 1.5],\n",
       "        [6. , 3.4, 4.5, 1.6],\n",
       "        [6.7, 3.1, 4.7, 1.5],\n",
       "        [6.3, 2.3, 4.4, 1.3],\n",
       "        [5.6, 3. , 4.1, 1.3],\n",
       "        [5.5, 2.5, 4. , 1.3],\n",
       "        [5.5, 2.6, 4.4, 1.2],\n",
       "        [6.1, 3. , 4.6, 1.4],\n",
       "        [5.8, 2.6, 4. , 1.2],\n",
       "        [5. , 2.3, 3.3, 1. ],\n",
       "        [5.6, 2.7, 4.2, 1.3],\n",
       "        [5.7, 3. , 4.2, 1.2],\n",
       "        [5.7, 2.9, 4.2, 1.3],\n",
       "        [6.2, 2.9, 4.3, 1.3],\n",
       "        [5.1, 2.5, 3. , 1.1],\n",
       "        [5.7, 2.8, 4.1, 1.3],\n",
       "        [6.3, 3.3, 6. , 2.5],\n",
       "        [5.8, 2.7, 5.1, 1.9],\n",
       "        [7.1, 3. , 5.9, 2.1],\n",
       "        [6.3, 2.9, 5.6, 1.8],\n",
       "        [6.5, 3. , 5.8, 2.2],\n",
       "        [7.6, 3. , 6.6, 2.1],\n",
       "        [4.9, 2.5, 4.5, 1.7],\n",
       "        [7.3, 2.9, 6.3, 1.8],\n",
       "        [6.7, 2.5, 5.8, 1.8],\n",
       "        [7.2, 3.6, 6.1, 2.5],\n",
       "        [6.5, 3.2, 5.1, 2. ],\n",
       "        [6.4, 2.7, 5.3, 1.9],\n",
       "        [6.8, 3. , 5.5, 2.1],\n",
       "        [5.7, 2.5, 5. , 2. ],\n",
       "        [5.8, 2.8, 5.1, 2.4],\n",
       "        [6.4, 3.2, 5.3, 2.3],\n",
       "        [6.5, 3. , 5.5, 1.8],\n",
       "        [7.7, 3.8, 6.7, 2.2],\n",
       "        [7.7, 2.6, 6.9, 2.3],\n",
       "        [6. , 2.2, 5. , 1.5],\n",
       "        [6.9, 3.2, 5.7, 2.3],\n",
       "        [5.6, 2.8, 4.9, 2. ],\n",
       "        [7.7, 2.8, 6.7, 2. ],\n",
       "        [6.3, 2.7, 4.9, 1.8],\n",
       "        [6.7, 3.3, 5.7, 2.1],\n",
       "        [7.2, 3.2, 6. , 1.8],\n",
       "        [6.2, 2.8, 4.8, 1.8],\n",
       "        [6.1, 3. , 4.9, 1.8],\n",
       "        [6.4, 2.8, 5.6, 2.1],\n",
       "        [7.2, 3. , 5.8, 1.6],\n",
       "        [7.4, 2.8, 6.1, 1.9],\n",
       "        [7.9, 3.8, 6.4, 2. ],\n",
       "        [6.4, 2.8, 5.6, 2.2],\n",
       "        [6.3, 2.8, 5.1, 1.5],\n",
       "        [6.1, 2.6, 5.6, 1.4],\n",
       "        [7.7, 3. , 6.1, 2.3],\n",
       "        [6.3, 3.4, 5.6, 2.4],\n",
       "        [6.4, 3.1, 5.5, 1.8],\n",
       "        [6. , 3. , 4.8, 1.8],\n",
       "        [6.9, 3.1, 5.4, 2.1],\n",
       "        [6.7, 3.1, 5.6, 2.4],\n",
       "        [6.9, 3.1, 5.1, 2.3],\n",
       "        [5.8, 2.7, 5.1, 1.9],\n",
       "        [6.8, 3.2, 5.9, 2.3],\n",
       "        [6.7, 3.3, 5.7, 2.5],\n",
       "        [6.7, 3. , 5.2, 2.3],\n",
       "        [6.3, 2.5, 5. , 1.9],\n",
       "        [6.5, 3. , 5.2, 2. ],\n",
       "        [6.2, 3.4, 5.4, 2.3],\n",
       "        [5.9, 3. , 5.1, 1.8]]),\n",
       " 'target': array([0, 0, 0, 0, 0, 0, 0, 0, 0, 0, 0, 0, 0, 0, 0, 0, 0, 0, 0, 0, 0, 0,\n",
       "        0, 0, 0, 0, 0, 0, 0, 0, 0, 0, 0, 0, 0, 0, 0, 0, 0, 0, 0, 0, 0, 0,\n",
       "        0, 0, 0, 0, 0, 0, 1, 1, 1, 1, 1, 1, 1, 1, 1, 1, 1, 1, 1, 1, 1, 1,\n",
       "        1, 1, 1, 1, 1, 1, 1, 1, 1, 1, 1, 1, 1, 1, 1, 1, 1, 1, 1, 1, 1, 1,\n",
       "        1, 1, 1, 1, 1, 1, 1, 1, 1, 1, 1, 1, 2, 2, 2, 2, 2, 2, 2, 2, 2, 2,\n",
       "        2, 2, 2, 2, 2, 2, 2, 2, 2, 2, 2, 2, 2, 2, 2, 2, 2, 2, 2, 2, 2, 2,\n",
       "        2, 2, 2, 2, 2, 2, 2, 2, 2, 2, 2, 2, 2, 2, 2, 2, 2, 2]),\n",
       " 'frame': None,\n",
       " 'target_names': array(['setosa', 'versicolor', 'virginica'], dtype='<U10'),\n",
       " 'DESCR': '.. _iris_dataset:\\n\\nIris plants dataset\\n--------------------\\n\\n**Data Set Characteristics:**\\n\\n:Number of Instances: 150 (50 in each of three classes)\\n:Number of Attributes: 4 numeric, predictive attributes and the class\\n:Attribute Information:\\n    - sepal length in cm\\n    - sepal width in cm\\n    - petal length in cm\\n    - petal width in cm\\n    - class:\\n            - Iris-Setosa\\n            - Iris-Versicolour\\n            - Iris-Virginica\\n\\n:Summary Statistics:\\n\\n============== ==== ==== ======= ===== ====================\\n                Min  Max   Mean    SD   Class Correlation\\n============== ==== ==== ======= ===== ====================\\nsepal length:   4.3  7.9   5.84   0.83    0.7826\\nsepal width:    2.0  4.4   3.05   0.43   -0.4194\\npetal length:   1.0  6.9   3.76   1.76    0.9490  (high!)\\npetal width:    0.1  2.5   1.20   0.76    0.9565  (high!)\\n============== ==== ==== ======= ===== ====================\\n\\n:Missing Attribute Values: None\\n:Class Distribution: 33.3% for each of 3 classes.\\n:Creator: R.A. Fisher\\n:Donor: Michael Marshall (MARSHALL%PLU@io.arc.nasa.gov)\\n:Date: July, 1988\\n\\nThe famous Iris database, first used by Sir R.A. Fisher. The dataset is taken\\nfrom Fisher\\'s paper. Note that it\\'s the same as in R, but not as in the UCI\\nMachine Learning Repository, which has two wrong data points.\\n\\nThis is perhaps the best known database to be found in the\\npattern recognition literature.  Fisher\\'s paper is a classic in the field and\\nis referenced frequently to this day.  (See Duda & Hart, for example.)  The\\ndata set contains 3 classes of 50 instances each, where each class refers to a\\ntype of iris plant.  One class is linearly separable from the other 2; the\\nlatter are NOT linearly separable from each other.\\n\\n.. dropdown:: References\\n\\n  - Fisher, R.A. \"The use of multiple measurements in taxonomic problems\"\\n    Annual Eugenics, 7, Part II, 179-188 (1936); also in \"Contributions to\\n    Mathematical Statistics\" (John Wiley, NY, 1950).\\n  - Duda, R.O., & Hart, P.E. (1973) Pattern Classification and Scene Analysis.\\n    (Q327.D83) John Wiley & Sons.  ISBN 0-471-22361-1.  See page 218.\\n  - Dasarathy, B.V. (1980) \"Nosing Around the Neighborhood: A New System\\n    Structure and Classification Rule for Recognition in Partially Exposed\\n    Environments\".  IEEE Transactions on Pattern Analysis and Machine\\n    Intelligence, Vol. PAMI-2, No. 1, 67-71.\\n  - Gates, G.W. (1972) \"The Reduced Nearest Neighbor Rule\".  IEEE Transactions\\n    on Information Theory, May 1972, 431-433.\\n  - See also: 1988 MLC Proceedings, 54-64.  Cheeseman et al\"s AUTOCLASS II\\n    conceptual clustering system finds 3 classes in the data.\\n  - Many, many more ...\\n',\n",
       " 'feature_names': ['sepal length (cm)',\n",
       "  'sepal width (cm)',\n",
       "  'petal length (cm)',\n",
       "  'petal width (cm)'],\n",
       " 'filename': 'iris.csv',\n",
       " 'data_module': 'sklearn.datasets.data'}"
      ]
     },
     "execution_count": 131,
     "metadata": {},
     "output_type": "execute_result"
    }
   ],
   "source": [
    "iris "
   ]
  },
  {
   "cell_type": "code",
   "execution_count": 61,
   "id": "fe84f442-34bc-453c-b0bf-3fb202567e04",
   "metadata": {},
   "outputs": [
    {
     "name": "stdout",
     "output_type": "stream",
     "text": [
      "普通自助法的平均准确率: 0.9715133333333333\n"
     ]
    }
   ],
   "source": [
    "# 普通自助法\n",
    "n_bootstrap = 1000\n",
    "acc_scores_bootstrap = []\n",
    "for _ in range(n_bootstrap):\n",
    "    X_boot, y_boot = resample(X, y)\n",
    "    model = LogisticRegression()\n",
    "    model.fit(X_boot, y_boot)\n",
    "    y_pred = model.predict(X)\n",
    "    acc = accuracy_score(y, y_pred)\n",
    "    acc_scores_bootstrap.append(acc)\n",
    "\n",
    "mean_acc_bootstrap = np.mean(acc_scores_bootstrap)\n",
    "print(\"普通自助法的平均准确率:\", mean_acc_bootstrap)"
   ]
  },
  {
   "cell_type": "code",
   "execution_count": 62,
   "id": "d24fda82-549d-4e06-a386-83a0d783d66d",
   "metadata": {},
   "outputs": [
    {
     "name": "stdout",
     "output_type": "stream",
     "text": [
      ".632估计器的准确率: 0.9682301356829133\n"
     ]
    }
   ],
   "source": [
    "#.632估计器\n",
    "n_bootstrap = 1000\n",
    "in_bag_accs = []\n",
    "out_bag_accs = []\n",
    "for _ in range(n_bootstrap):\n",
    "    indices = np.random.choice(len(X), size=len(X), replace=True)\n",
    "    X_boot = X[indices]\n",
    "    y_boot = y[indices]\n",
    "    model = LogisticRegression()\n",
    "    model.fit(X_boot, y_boot)\n",
    "\n",
    "    # 计算袋内准确率（在自助样本集上的准确率）\n",
    "    y_pred_in_bag = model.predict(X_boot)\n",
    "    in_bag_acc = accuracy_score(y_boot, y_pred_in_bag)\n",
    "    in_bag_accs.append(in_bag_acc)\n",
    "\n",
    "    # 计算袋外准确率（在未被抽到的样本上的准确率）\n",
    "    out_indices = np.setdiff1d(np.arange(len(X)), indices)\n",
    "    X_out = X[out_indices]\n",
    "    y_out = y[out_indices]\n",
    "    y_pred_out = model.predict(X_out)\n",
    "    out_bag_acc = accuracy_score(y_out, y_pred_out) if len(y_out) > 0 else 0\n",
    "    out_bag_accs.append(out_bag_acc)\n",
    "\n",
    "# 计算.632估计的准确率\n",
    "mean_in_bag_acc = np.mean(in_bag_accs)\n",
    "mean_out_bag_acc = np.mean(out_bag_accs)\n",
    "acc_632 = 0.368 * mean_in_bag_acc + 0.632 * mean_out_bag_acc\n",
    "print(\".632估计器的准确率:\", acc_632)"
   ]
  },
  {
   "cell_type": "code",
   "execution_count": 63,
   "id": "a63636a2-93dd-4c65-b097-1fe8a6e53e99",
   "metadata": {},
   "outputs": [
    {
     "data": {
      "image/png": "[encoded data removed]",
      "text/plain": [
       "<Figure size 1200x600 with 1 Axes>"
      ]
     },
     "metadata": {},
     "output_type": "display_data"
    }
   ],
   "source": [
    "# 绘制直方图对比准确率分布\n",
    "plt.figure(figsize=(12, 6))\n",
    "# plt.subplot(1, 2, 1)\n",
    "plt.hist(acc_scores_bootstrap, bins=30, density=True, alpha=0.7, label='普通自助法')\n",
    "plt.axvline(x=mean_acc_bootstrap, color='r', linestyle='--', label='普通自助法均值')\n",
    "plt.xlabel('准确率')\n",
    "plt.ylabel('频率')\n",
    "plt.title('普通自助法准确率分布')\n",
    "plt.legend()\n",
    "\n",
    "# plt.subplot(1, 2, 2)\n",
    "# # 这里假设我们用 acc_632 来模拟.632 估计器的分布（实际是一个值，为了对比绘制）\n",
    "# plt.hist([acc_632] * n_bootstrap, bins=30, density=True, alpha=0.7, label='.632估计器')\n",
    "# plt.axvline(x=acc_632, color='r', linestyle='--', label='.632估计器值')\n",
    "# plt.xlabel('准确率')\n",
    "# plt.ylabel('频率')\n",
    "# plt.title('.632估计器准确率分布')\n",
    "# plt.legend()\n",
    "\n",
    "plt.tight_layout()\n",
    "plt.show()"
   ]
  },
  {
   "cell_type": "markdown",
   "id": "64967b66-c9e1-44f4-b17f-3eaefe22d02e",
   "metadata": {},
   "source": [
    "###  4.Bagging"
   ]
  },
  {
   "cell_type": "markdown",
   "id": "88557021-1527-4b90-9a36-254717187041",
   "metadata": {},
   "source": [
    "自助法在集成学习中应用\n",
    "Bagging 全称叫 Bootstrap aggregating。每个基学习器都会对训练集进行有放回抽样得到子训练集。每个基学习器基于不同子训练集进行训练，并综合所有基学习器的预测值得到最终的预测结果。Bagging 常用的综合方法是投票法，票数最多的类别为预测类别。"
   ]
  },
  {
   "cell_type": "markdown",
   "id": "51055c52-254a-4276-b677-2c1393d558b6",
   "metadata": {},
   "source": [
    "![figurejicheng.jpg](figurejicheng.jpg)"
   ]
  },
  {
   "cell_type": "markdown",
   "id": "6496b6b9-ed2c-4457-bafb-aba01daf2daa",
   "metadata": {},
   "source": [
    "##### 应用3：减少过拟合，使用 Bagging 集成学习（基于自助法）"
   ]
  },
  {
   "cell_type": "code",
   "execution_count": 140,
   "id": "33e31914-f0b5-4ba8-90cc-b907ea31bfb6",
   "metadata": {},
   "outputs": [],
   "source": [
    "iris = load_iris()\n",
    "X, y = iris.data, iris.target "
   ]
  },
  {
   "cell_type": "markdown",
   "id": "b587d354-b2b5-48af-b7a6-436bcfa99ead",
   "metadata": {},
   "source": [
    "##### 决策树 \n",
    "![figure.tree.png](figure.tree.png)"
   ]
  },
  {
   "cell_type": "code",
   "execution_count": 164,
   "id": "aced2c39-fcac-448f-b9fc-f7da7400ccdb",
   "metadata": {},
   "outputs": [
    {
     "name": "stdout",
     "output_type": "stream",
     "text": [
      "single_tree train_accuracy: 1.0\n",
      "single_tree test_accuracy: 0.9469026548672567\n"
     ]
    }
   ],
   "source": [
    "# 简单决策树\n",
    "X_train, X_test, y_train, y_test = train_test_split(X, y, test_size=0.75, random_state=0)\n",
    "\n",
    "single_tree_clf = DecisionTreeClassifier(random_state=0)\n",
    "single_tree_clf.fit(X_train,y_train)\n",
    "print('single_tree train_accuracy: %s'%(single_tree_clf.score(X_train,y_train)))\n",
    "\n",
    "y_test_pred = single_tree_clf.predict(X_test)\n",
    "print('single_tree test_accuracy: %s'%(metrics.accuracy_score(y_test,y_test_pred)))"
   ]
  },
  {
   "cell_type": "code",
   "execution_count": 166,
   "id": "e51002cb-7177-416b-8f37-b0d883b70af8",
   "metadata": {},
   "outputs": [
    {
     "name": "stdout",
     "output_type": "stream",
     "text": [
      "Bagging oob_score: 0.9533333333333334\n",
      "Bagging test_accuracy: 0.9557522123893806\n"
     ]
    }
   ],
   "source": [
    "# Bagging\n",
    "# OOB_score\n",
    "X_train, X_test, y_train, y_test = train_test_split(X, y, test_size=0.75, random_state=0)\n",
    "\n",
    "bagging_clf_OOB = BaggingClassifier(DecisionTreeClassifier(),\n",
    "                               n_estimators=100,random_state=0,\n",
    "                               bootstrap=True, oob_score=True,n_jobs=-1)\n",
    "bagging_clf_OOB.fit(X,y)\n",
    "print('Bagging oob_score: %s'%(bagging_clf_OOB.oob_score_))\n",
    "\n",
    "# test_score\n",
    "bagging_clf_test = BaggingClassifier(DecisionTreeClassifier(),\n",
    "                               n_estimators=100,random_state=0,\n",
    "                               bootstrap=True, oob_score=False,n_jobs=-1)\n",
    "bagging_clf_test.fit(X_train,y_train)\n",
    "y_test_pred = bagging_clf_test.predict(X_test)\n",
    "print('Bagging test_accuracy: %s'%(metrics.accuracy_score(y_test,y_test_pred)))"
   ]
  },
  {
   "cell_type": "code",
   "execution_count": 148,
   "id": "64d6f086-65d6-488d-ac96-5e5dc6699e2c",
   "metadata": {},
   "outputs": [
    {
     "data": {
      "text/plain": [
       "array([0.00761667, 0.00695037, 0.51600735, 0.46942561])"
      ]
     },
     "execution_count": 148,
     "metadata": {},
     "output_type": "execute_result"
    }
   ],
   "source": [
    "# 默认的变量特征重要性是在所有树的节点划分中，每个变量划分带来的基尼系数增益，\n",
    "# 并除总增益值使所有变量特征重要性和为1\n",
    "feature_importances = np.mean([tree.feature_importances_ for tree in bagging_clf_test.estimators_], axis=0)\n",
    "feature_importances"
   ]
  },
  {
   "cell_type": "code",
   "execution_count": 150,
   "id": "8edd7810-4a37-41cf-8c36-6f77a37c898f",
   "metadata": {},
   "outputs": [
    {
     "data": {
      "image/png": "[encoded data removed]",
      "text/plain": [
       "<Figure size 640x480 with 1 Axes>"
      ]
     },
     "metadata": {},
     "output_type": "display_data"
    }
   ],
   "source": [
    "Importance = pd.DataFrame({'Importance':feature_importances}, index = iris.feature_names)\n",
    "Importance.sort_values('Importance', axis=0, ascending=True).plot(kind='barh', color='r', )\n",
    "plt.xlabel('Variable Importance')\n",
    "plt.gca().legend_ = None\n",
    "plt.show()"
   ]
  },
  {
   "cell_type": "code",
   "execution_count": null,
   "id": "afa2f7d4-9d9f-4477-a0ae-1cd7e3d7b6c1",
   "metadata": {},
   "outputs": [],
   "source": []
  }
 ],
 "metadata": {
  "kernelspec": {
   "display_name": "Python 3 (ipykernel)",
   "language": "python",
   "name": "python3"
  },
  "language_info": {
   "codemirror_mode": {
    "name": "ipython",
    "version": 3
   },
   "file_extension": ".py",
   "mimetype": "text/x-python",
   "name": "python",
   "nbconvert_exporter": "python",
   "pygments_lexer": "ipython3",
   "version": "3.12.7"
  }
 },
 "nbformat": 4,
 "nbformat_minor": 5
}
