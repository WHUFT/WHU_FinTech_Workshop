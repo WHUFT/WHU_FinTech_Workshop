{
 "cells": [
  {
   "cell_type": "markdown",
   "id": "5afc399d",
   "metadata": {},
   "source": [
    "# Deep Learning\n",
    "# 深度学习"
   ]
  },
  {
   "cell_type": "markdown",
   "id": "783f60f1-9c31-4802-8a4b-e30cfc8d79fd",
   "metadata": {},
   "source": [
    "一、深度学习核心思路：  \n",
    "表示学习和特征学习，深度学习一般自动学习有用的特征  \n",
    "<img src=\"deep_learning_core.png\" width=\"400\">   \n",
    "\n",
    "二、万能逼近原理:   \n",
    "当隐含层节点数目足够多时，具有一个隐含层的神经网络可以以任意精度逼近 任意具有有限间断点的函数。  \n",
    "深度学习通过一种深层网络结构，实现复杂函数逼近。  \n",
    "网络层数越多，需要的隐含节点数目指数减小。    \n",
    "<img src=\"万能逼近.png\" width=\"600\">  \n",
    "\n",
    "三、端到端学习:  \n",
    "从原始输入直接学习到目标的函数，中间的函数和参数都是可学习的。  \n",
    "不需要做其他额外处理，从原始数据输入到任务结果输出，整个训练和预测过程，都是在模型里完成的  \n",
    "<img src=\"端到端.png\" width=\"600\">  "
   ]
  },
  {
   "cell_type": "markdown",
   "id": "2c40c73e-7023-4a41-85ee-8eb2825ed7cb",
   "metadata": {
    "jp-MarkdownHeadingCollapsed": true
   },
   "source": [
    "### 导入需要的包"
   ]
  },
  {
   "cell_type": "code",
   "execution_count": 1,
   "id": "71bd6b71",
   "metadata": {
    "lines_to_next_cell": 2
   },
   "outputs": [],
   "source": [
    "# 导入 NumPy 和 Pandas\n",
    "import numpy as np           # 用于数值计算，特别是数组操作\n",
    "import pandas as pd          # 用于数据读取、处理和分析（表格数据）\n",
    "\n",
    "# 从 matplotlib.pyplot 中导入 subplots，用于绘图和可视化\n",
    "from matplotlib.pyplot import subplots\n",
    "\n",
    "# 从 sklearn.linear_model 模块中导入线性回归、逻辑回归和 Lasso 回归模型\n",
    "from sklearn.linear_model import (\n",
    "     LinearRegression,       # 普通最小二乘线性回归\n",
    "     LogisticRegression,     # 用于分类的逻辑回归\n",
    "     Lasso                   # 加入 L1 正则化的线性回归（用于特征选择）\n",
    ")\n",
    "\n",
    "# 导入标准化工具 StandardScaler：将特征缩放为均值为 0，标准差为 1\n",
    "from sklearn.preprocessing import StandardScaler\n",
    "\n",
    "# 导入 K 折交叉验证工具\n",
    "from sklearn.model_selection import KFold\n",
    "\n",
    "# 导入 Pipeline，用于将多个处理步骤（如标准化 + 模型）封装为一个整体\n",
    "from sklearn.pipeline import Pipeline\n",
    "\n",
    "# 从 ISLP 库中导入数据加载函数（ISLP 是《An Introduction to Statistical Learning》教材配套库）\n",
    "from ISLP import load_data\n",
    "\n",
    "# 从 ISLP.models 模块中导入 ModelSpec，用于指定模型公式（R 语言风格）\n",
    "from ISLP.models import ModelSpec as MS\n",
    "\n",
    "# 导入训练集/测试集划分工具和超参数搜索工具 GridSearchCV\n",
    "from sklearn.model_selection import (\n",
    "     train_test_split,       # 将数据划分为训练集和测试集\n",
    "     GridSearchCV            # 网格搜索交叉验证，用于模型调参\n",
    ")\n"
   ]
  },
  {
   "cell_type": "code",
   "execution_count": 2,
   "id": "3298bdf1",
   "metadata": {},
   "outputs": [],
   "source": [
    "# 导入 PyTorch 主库，包含张量操作和自动求导等功能\n",
    "import torch\n",
    "\n",
    "# 从 torch.nn 模块中导入神经网络相关的功能，例如层结构、激活函数、损失函数等\n",
    "from torch import nn\n",
    "\n",
    "# 从优化器模块中导入 RMSprop 优化算法，用于更新模型参数\n",
    "from torch.optim import RMSprop\n",
    "\n",
    "# 从数据工具模块中导入 TensorDataset 和 DataLoader\n",
    "# TensorDataset 用于将特征和标签打包成一个数据集对象\n",
    "# DataLoader 用于按批次加载数据，支持打乱顺序、并行加载等功能\n",
    "from torch.utils.data import TensorDataset, DataLoader"
   ]
  },
  {
   "cell_type": "code",
   "execution_count": 3,
   "id": "aeae9bd9",
   "metadata": {},
   "outputs": [],
   "source": [
    "# 从 torchmetrics 库中导入评估指标：\n",
    "from torchmetrics import (\n",
    "    MeanAbsoluteError,  # 平均绝对误差（MAE），衡量预测值与真实值之间的绝对差异\n",
    "    R2Score              # 决定系数 R²，用于衡量模型对数据的拟合程度\n",
    ")\n",
    "\n",
    "# 从 torchinfo 库中导入 summary 函数：\n",
    "from torchinfo import summary  # 用于打印模型结构摘要（类似 Keras 的 model.summary()）\n"
   ]
  },
  {
   "cell_type": "code",
   "execution_count": 4,
   "id": "a5a39702",
   "metadata": {},
   "outputs": [],
   "source": [
    "# 从 PyTorch Lightning 中导入 Trainer，这是训练模型的核心控制器\n",
    "from pytorch_lightning import Trainer\n",
    "\n",
    "# 从 PyTorch Lightning 的日志模块中导入 CSVLogger，用于将训练过程中的指标记录到 CSV 文件中\n",
    "from pytorch_lightning.loggers import CSVLogger\n",
    "\n"
   ]
  },
  {
   "cell_type": "code",
   "execution_count": 5,
   "id": "11bf06a4",
   "metadata": {},
   "outputs": [
    {
     "name": "stderr",
     "output_type": "stream",
     "text": [
      "Seed set to 0\n"
     ]
    }
   ],
   "source": [
    "# 从 PyTorch Lightning 中导入设置随机种子的工具函数\n",
    "from pytorch_lightning import seed_everything\n",
    "\n",
    "# 设置所有相关库的随机种子为 0，以确保实验具有可重复性\n",
    "# workers=True 还会确保多线程的数据加载也是可控的（对 DataLoader 的 num_workers 生效）\n",
    "seed_everything(0, workers=True)\n",
    "\n",
    "# 让 PyTorch 使用确定性算法（即每次运行都得到完全相同的结果）\n",
    "# warn_only=True 表示如果某些操作无法确定性执行，仅发出警告而不中断程序\n",
    "torch.use_deterministic_algorithms(True, warn_only=True)\n"
   ]
  },
  {
   "cell_type": "markdown",
   "id": "752d2dda-5529-4c74-a93b-d71e11ed5625",
   "metadata": {},
   "source": [
    "我们将使用torchvision附带的几个数据集作为示例：用于图像分类的预训练网络，以及用于预处理的一些变换。"
   ]
  },
  {
   "cell_type": "code",
   "execution_count": 6,
   "id": "062cd869",
   "metadata": {
    "lines_to_next_cell": 0
   },
   "outputs": [],
   "source": [
    "# 从 torchvision.io 模块中导入 read_image，用于读取图像文件为张量格式\n",
    "from torchvision.io import read_image\n",
    "\n",
    "# 导入两个常用的数据集：\n",
    "from torchvision.datasets import MNIST, CIFAR100\n",
    "# MNIST 是手写数字识别数据集（灰度图像 28x28）\n",
    "# CIFAR100 是彩色图像分类数据集（共 100 类，图像大小为 32x32）\n",
    "\n",
    "# 导入 ResNet50 模型和其预训练权重\n",
    "from torchvision.models import (\n",
    "    resnet50,              # ResNet-50 模型结构，适合图像分类任务\n",
    "    ResNet50_Weights       # 包含预训练模型的权重配置（如 ImageNet 上训练好的）\n",
    ")\n",
    "\n",
    "# 导入图像变换操作，这些常用于数据预处理或增强\n",
    "from torchvision.transforms import (\n",
    "    Resize,                # 缩放图像到指定尺寸\n",
    "    Normalize,             # 对图像做标准化（通常用于预训练模型）\n",
    "    CenterCrop,            # 中心裁剪图像\n",
    "    ToTensor               # 将 PIL 图像或 numpy 数组转为 PyTorch 的张量（并自动归一化到 [0,1]）\n",
    ")\n"
   ]
  },
  {
   "cell_type": "code",
   "execution_count": 7,
   "id": "4a05884a",
   "metadata": {},
   "outputs": [],
   "source": [
    "# 从 ISLP.torch 模块中导入一些 PyTorch 相关的工具和类：\n",
    "from ISLP.torch import (\n",
    "    SimpleDataModule,      # 用于加载和处理数据的简单模块，通常包含数据集加载、预处理等功能\n",
    "    SimpleModule,          # 用于构建简单神经网络模型的类，封装了常见的 PyTorch 模型训练过程\n",
    "    ErrorTracker,          # 用于跟踪训练过程中的误差和其他指标\n",
    "    rec_num_workers        # 推荐的 DataLoader 中的 num_workers 设置，帮助加速数据加载\n",
    ")"
   ]
  },
  {
   "cell_type": "code",
   "execution_count": 8,
   "id": "1474e88b",
   "metadata": {},
   "outputs": [],
   "source": [
    "# 从 ISLP.torch.imdb 模块中导入四个函数，用于加载 IMDB 数据集相关的数据\n",
    "from ISLP.torch.imdb import (\n",
    "    load_lookup,           # 加载词汇表（词与索引的映射关系）\n",
    "    load_tensor,           # 加载并转换数据为 PyTorch 张量（通常是文本数据）\n",
    "    load_sparse,           # 加载稀疏数据（例如稀疏矩阵）\n",
    "    load_sequential        # 加载序列数据（例如逐字或逐词处理的文本数据）\n",
    ")"
   ]
  },
  {
   "cell_type": "code",
   "execution_count": 9,
   "id": "0100ff28",
   "metadata": {
    "lines_to_next_cell": 2
   },
   "outputs": [],
   "source": [
    "# 从 glob 模块导入 glob 函数，用于查找匹配特定规则的文件路径\n",
    "from glob import glob\n",
    "\n",
    "# 导入 json 模块，用于处理 JSON 格式的数据，用于查找类以识别ResNet50示例中图片的标签。\n",
    "import json"
   ]
  },
  {
   "cell_type": "markdown",
   "id": "b0f81cea",
   "metadata": {},
   "source": [
    "## Single Layer Network on Hitters Data\n",
    "## 在 Hitters 数据集上应用单层神经网络进行回归任务\n",
    "输入层 + 一个隐藏层+ 输出层"
   ]
  },
  {
   "cell_type": "markdown",
   "id": "45cc6446-3fa3-4d15-9eb8-e4bd38fb93e3",
   "metadata": {},
   "source": [
    "### 一、线性回归模型\n",
    "\n",
    "- 模型参数：$\\hat{w}_1$ 和 $\\hat{w}_0$  \n",
    "- 模型预测值：$\\hat{y}_i$  \n",
    "- 残差定义：$\\varepsilon_i = y_i - \\hat{y}_i$  \n",
    "- 若输入数据维度从 1 维上升到 $d$ 维，多元线性回归形式为：\n",
    "\n",
    "$$\n",
    "\\hat{y}_i = \\hat{w}_0 + \\hat{w}_1 x_{i1} + \\hat{w}_2 x_{i2} + \\cdots + \\hat{w}_d x_{id}\n",
    "$$\n",
    "\n",
    "向量形式为：\n",
    "\n",
    "$$\n",
    "\\hat{y}_i = \\mathbf{x}_i^\\top \\hat{\\mathbf{w}} = \\sum_{j=1}^{d} \\hat{w}_j x_{ij}\n",
    "$$\n",
    "\n",
    "多元线性回归模型也可以表示为如下的图结构：\n",
    "\n",
    "- 每一个圆形代表一个神经元（即输入变量的一维）  \n",
    "- 该图结构可视为一个没有隐藏层的神经网络（只有输入层和输出层）  \n",
    "\n",
    "<img src=\"多元回归.png\" width=\"400\">\n",
    "\n",
    "---\n",
    "\n",
    "### 二、逻辑回归模型\n",
    "\n",
    "- 属于线性分类模型  \n",
    "- 使用 Sigmoid 函数将线性回归的输出转化为概率值  \n",
    "- 可视为一种单层神经网络，激活函数为 Sigmoid  \n",
    "\n",
    "<img src=\"逻辑回归.png\" width=\"500\">\n",
    "\n",
    "> 💡 逻辑回归与线性回归模型都可以作为神经网络的基础“组件”\n",
    "\n",
    "---\n",
    "\n",
    "### 三、神经网络\n",
    "\n",
    "神经网络是 20 世纪 80 年代以来人工智能领域兴起的研究热点。其广泛应用包括：\n",
    "\n",
    "- **欺诈检测**：自动检测信用卡欺诈交易  \n",
    "- **信用评级**：基于用户或企业经济信息进行风险评估  \n",
    "- **语音识别**：将语音数据转换为自然语言文本  \n",
    "- **医疗诊断**：根据医学指标判断疾病可能性  \n",
    "\n",
    "人工神经网络是对人脑神经元网络的抽象，其基本构成包括：\n",
    "\n",
    "- 节点（神经元）和连接关系  \n",
    "- **激活函数**：控制神经元输出  \n",
    "- **权重**：表示信号强度，决定网络的“记忆能力”  \n",
    "\n",
    "<img src=\"神经元.png\" width=\"600\">\n",
    "\n",
    "在 M-P 神经元模型中：\n",
    "\n",
    "- 接收其他神经元的输入信号  \n",
    "- 信号通过加权连接传递  \n",
    "- 输入总信号与阈值比较，经过激活函数得到输出  \n",
    "\n",
    "---\n",
    "\n",
    "### 四、感知机模型（Perceptron）\n",
    "\n",
    "感知机是由两层神经元组成的简单神经网络模型：\n",
    "\n",
    "- **输入层**：接收外界输入  \n",
    "- **输出层**：由 M-P 神经元构成，带激活函数  \n",
    "- 仅输出层使用激活函数，输入层为“直通”连接\n",
    "- 下图为输入层到输出层的感知机模型\n",
    "\n",
    "<img src=\"Perceptron.png\" width=\"300\">\n",
    "\n",
    "---\n",
    "### 五、多层感知机（MLP, Multi-Layer Perceptron）\n",
    "\n",
    "MLP 是感知机的拓展，结构中引入隐藏层：\n",
    "\n",
    "- 可以有多个隐藏层，支持复杂非线性函数建模  \n",
    "- 每一层神经元均可使用激活函数  \n",
    "- 在图像分类、文本处理、推荐系统等任务中广泛应用\n",
    "- 下图感知机隐藏层为一层\n",
    "\n",
    "<img src=\"MLP.png\" width=\"500\">\n",
    "\n",
    "- **前馈神经网络**：信息从输入层到输出层是单向流动的，没有环路。\n",
    "  \n",
    "- **监督学习模型**：多层感知机是一个监督学习模型，通常作为 **函数逼近器** 使用。\n",
    "  \n",
    "- **函数逼近**：通过在训练集中寻找最优参数 $\\theta$，从而得到函数 $f(x, \\theta)$ 的最优近似。\n",
    "\n",
    "- **多层网络结构**：将含有一层隐含层的感知机网络推广到多层结构，数学表达式为：\n",
    "\n",
    "  $$\n",
    "  f(x) = f_n(f_{n-1}(\\dots f_1(x)))\n",
    "  $$\n",
    "\n",
    "  其中，$f_1(x)$ 是输入层到第一个隐藏层的映射，$f_2(x)$ 是第一个隐藏层到第二个隐藏层的映射，依此类推，最终通过 $f_n(x)$ 生成输出层的预测值。\n",
    "\n",
    "通过这种多层结构，MLP 可以通过组合多个非线性变换来逼近复杂的函数映射，因此它非常适用于分类和回归任务。\n",
    "<img src=\"多层感知机.png\" width=\"500\">\n"
   ]
  },
  {
   "cell_type": "markdown",
   "id": "3d8bb28c-7ab6-4c9b-8bcf-6003a787a200",
   "metadata": {},
   "source": [
    "激活函数（Activation Functions）\n",
    "\n",
    "为什么需要激活函数？\n",
    "\n",
    "- 如果没有非线性因素（即不使用激活函数），**无论神经网络有多少层，其输出都是输入的线性组合**，无法表示复杂的非线性关系。\n",
    "- 激活函数的作用是在**线性模型的基础上引入非线性因素**，从而让神经网络具备更强的表达能力。\n",
    "\n",
    "---\n",
    "\n",
    "常见激活函数\n",
    "\n",
    " 1. 线性函数（Linear）\n",
    "$$\n",
    "f(x) = x\n",
    "$$\n",
    "\n",
    "- 特点：恒等映射，不引入非线性\n",
    "- 缺点：无法建模非线性关系，**不常用于隐藏层**\n",
    "\n",
    "---\n",
    "\n",
    " 2. 阈值激活函数（Threshold / Step）\n",
    "$$\n",
    "f(x) = \\begin{cases} \n",
    "1 & x > 0 \\\\\n",
    "0 & x \\leq 0 \n",
    "\\end{cases}\n",
    "$$\n",
    "\n",
    "- 模拟生物神经元“有/无”信号传递\n",
    "- 缺点：不可导，**不适合梯度下降法**\n",
    "\n",
    "---\n",
    "\n",
    " 3. Sigmoid 函数\n",
    "$$\n",
    "f(x) = \\frac{1}{1 + e^{-x}}\n",
    "$$\n",
    "\n",
    "- 输出范围：$(0, 1)$\n",
    "- 应用：适合用于二分类任务输出层\n",
    "- 缺点：\n",
    "  - 梯度消失（在极端值处导数接近 0）\n",
    "  - 输出非零均值，导致训练不稳定\n",
    "\n",
    "---\n",
    "\n",
    " 4. Tanh 函数（双曲正切）\n",
    "$$\n",
    "f(x) = \\tanh(x) = \\frac{e^x - e^{-x}}{e^x + e^{-x}}\n",
    "$$\n",
    "\n",
    "- 输出范围：$(-1, 1)$\n",
    "- 比 Sigmoid 更强（零均值，有助于优化）\n",
    "- 同样存在梯度消失问题\n",
    "\n",
    "---\n",
    "\n",
    " 5. ReLU 函数（Rectified Linear Unit）\n",
    "$$\n",
    "f(x) = \\begin{cases}\n",
    "x & x > 0 \\\\\n",
    "0 & x \\leq 0\n",
    "\\end{cases}\n",
    "$$\n",
    "\n",
    "- 应用广泛，是大多数深度前馈神经网络的默认激活函数\n",
    "- 优点：\n",
    "  - 计算简单，快速训练\n",
    "  - 减少梯度消失问题\n",
    "  - 提供稀疏性（部分神经元输出为 0）\n",
    "- 缺点：\n",
    "  - 当输入为负数时，梯度为 0，可能导致“神经元死亡”\n",
    "\n",
    "---\n",
    "\n",
    " 6. Softmax 函数\n",
    "用于多分类任务的输出层：\n",
    "\n",
    "$$\n",
    "f_i(x) = \\frac{e^{x_i}}{\\sum_{j} e^{x_j}}\n",
    "$$\n",
    "\n",
    "- 输出为一个概率分布，所有输出之和为 1\n",
    "- 常用于多类分类问题的最后一层\n",
    "\n",
    "---"
   ]
  },
  {
   "cell_type": "markdown",
   "id": "05ce1080-1f66-4989-8bf6-93dfaab772f5",
   "metadata": {},
   "source": [
    "损失函数\n",
    "\n",
    "损失函数是神经网络优化的目标函数，它反映了神经网络对数据集的拟合程度。\n",
    "\n",
    "- **拟合程度**：当神经网络对数据集拟合得越差时，损失函数的值会越大。\n",
    "- **梯度更新**：损失函数值较大时，梯度也会比较大，从而能够更快速地更新模型的参数（即神经网络的权重）。\n",
    "\n",
    "神经网络损失函数的特征：\n",
    "\n",
    "- **非负性**：损失函数的值总是非负的。它的值越小，表示模型对数据集的拟合程度越好。\n",
    "- **收敛性**：当预测值 $ \\hat{y} $ 与真实值 $ y $ 接近时，损失函数值趋近于零。\n",
    "\n",
    "数学表达式：\n",
    "\n",
    "神经网络的目标是最小化损失函数 $ \\text{loss}(y, \\hat{y}) $：\n",
    "\n",
    "$$\n",
    "\\min \\text{loss}(y, \\hat{y})\n",
    "$$\n",
    "\n",
    "其中，$ y $ 是真实值，$ \\hat{y} $ 是预测值，损失函数根据具体任务（如回归、分类）选择不同的计算方式。\n",
    "\n",
    "损失函数：均方误差（MSE）与交叉熵（Cross-Entropy）\n",
    "\n",
    " 1. **均方误差（MSE）**\n",
    "\n",
    "均方误差（Mean Squared Error, MSE）是回归问题中最常用的损失函数之一，它测量的是预测值与真实值之间的平均平方差。\n",
    "\n",
    "- **公式**：\n",
    "\n",
    "  对于一组预测值 $ \\hat{y}_i $ 和真实值 $ y_i $，均方误差的公式为：\n",
    "\n",
    "  $$\n",
    "  \\text{MSE} = \\frac{1}{n} \\sum_{i=1}^{n} (y_i - \\hat{y}_i)^2\n",
    "  $$\n",
    "\n",
    "  其中，$ n $ 是样本数，$ y_i $ 是真实值，$ \\hat{y}_i $ 是模型的预测值。\n",
    "\n",
    "- **特性**：\n",
    "  - MSE 越小，模型的预测结果与实际结果越接近。\n",
    "  - 它对异常值敏感，因为平方差放大了较大的误差。\n",
    "\n",
    " 2. **交叉熵（Cross-Entropy）**\n",
    "\n",
    "交叉熵（Cross-Entropy）通常用于分类问题，尤其是二分类和多分类问题。它用来衡量两个概率分布之间的差异，即真实标签的概率分布与模型预测的概率分布之间的差异。\n",
    "\n",
    "- **二分类交叉熵**：\n",
    "\n",
    "  对于二分类问题，交叉熵损失函数的公式为：\n",
    "\n",
    "  $$\n",
    "  \\text{Cross-Entropy} = - \\frac{1}{n} \\sum_{i=1}^{n} \\left[ y_i \\log(\\hat{y}_i) + (1 - y_i) \\log(1 - \\hat{y}_i) \\right]\n",
    "  $$\n",
    "\n",
    "  其中，$ n $ 是样本数，$ y_i $ 是真实标签（0 或 1），$ \\hat{y}_i $ 是模型的预测概率。\n",
    "\n",
    "- **多分类交叉熵**：\n",
    "\n",
    "  对于多分类问题，交叉熵的公式为：\n",
    "\n",
    "  $$\n",
    "  \\text{Cross-Entropy} = - \\frac{1}{n} \\sum_{i=1}^{n} \\sum_{c=1}^{C} y_{ic} \\log(\\hat{y}_{ic})\n",
    "  $$\n",
    "\n",
    "  其中，$ C $ 是类别数，$ y_{ic} $ 是样本 $ i $ 的真实类别标签（1 表示属于类别 $ c $，0 表示不属于），$ \\hat{y}_{ic} $ 是模型预测样本 $ i $ 属于类别 $ c $ 的概率。\n",
    "\n",
    "- **特性**：\n",
    "  - 交叉熵越小，表示模型预测的类别概率分布越接近真实标签的分布。\n",
    "  - 对于二分类问题，交叉熵会根据模型预测的概率调整损失值，帮助模型更快地收敛。\n"
   ]
  },
  {
   "cell_type": "code",
   "execution_count": 10,
   "id": "ef59d53a",
   "metadata": {
    "lines_to_next_cell": 0
   },
   "outputs": [],
   "source": [
    "# 加载 Hitters 数据集，并去除含有缺失值的行\n",
    "Hitters = load_data('Hitters').dropna()\n",
    "\n",
    "# 获取数据集中的样本数（即行数）\n",
    "n = Hitters.shape[0]"
   ]
  },
  {
   "cell_type": "code",
   "execution_count": 11,
   "id": "7f58a24e-5af1-41d4-8226-c5967a416eff",
   "metadata": {},
   "outputs": [
    {
     "data": {
      "text/html": [
       "<div>\n",
       "<style scoped>\n",
       "    .dataframe tbody tr th:only-of-type {\n",
       "        vertical-align: middle;\n",
       "    }\n",
       "\n",
       "    .dataframe tbody tr th {\n",
       "        vertical-align: top;\n",
       "    }\n",
       "\n",
       "    .dataframe thead th {\n",
       "        text-align: right;\n",
       "    }\n",
       "</style>\n",
       "<table border=\"1\" class=\"dataframe\">\n",
       "  <thead>\n",
       "    <tr style=\"text-align: right;\">\n",
       "      <th></th>\n",
       "      <th>AtBat</th>\n",
       "      <th>Hits</th>\n",
       "      <th>HmRun</th>\n",
       "      <th>Runs</th>\n",
       "      <th>RBI</th>\n",
       "      <th>Walks</th>\n",
       "      <th>Years</th>\n",
       "      <th>CAtBat</th>\n",
       "      <th>CHits</th>\n",
       "      <th>CHmRun</th>\n",
       "      <th>CRuns</th>\n",
       "      <th>CRBI</th>\n",
       "      <th>CWalks</th>\n",
       "      <th>League</th>\n",
       "      <th>Division</th>\n",
       "      <th>PutOuts</th>\n",
       "      <th>Assists</th>\n",
       "      <th>Errors</th>\n",
       "      <th>Salary</th>\n",
       "      <th>NewLeague</th>\n",
       "    </tr>\n",
       "  </thead>\n",
       "  <tbody>\n",
       "    <tr>\n",
       "      <th>1</th>\n",
       "      <td>315</td>\n",
       "      <td>81</td>\n",
       "      <td>7</td>\n",
       "      <td>24</td>\n",
       "      <td>38</td>\n",
       "      <td>39</td>\n",
       "      <td>14</td>\n",
       "      <td>3449</td>\n",
       "      <td>835</td>\n",
       "      <td>69</td>\n",
       "      <td>321</td>\n",
       "      <td>414</td>\n",
       "      <td>375</td>\n",
       "      <td>N</td>\n",
       "      <td>W</td>\n",
       "      <td>632</td>\n",
       "      <td>43</td>\n",
       "      <td>10</td>\n",
       "      <td>475.0</td>\n",
       "      <td>N</td>\n",
       "    </tr>\n",
       "    <tr>\n",
       "      <th>2</th>\n",
       "      <td>479</td>\n",
       "      <td>130</td>\n",
       "      <td>18</td>\n",
       "      <td>66</td>\n",
       "      <td>72</td>\n",
       "      <td>76</td>\n",
       "      <td>3</td>\n",
       "      <td>1624</td>\n",
       "      <td>457</td>\n",
       "      <td>63</td>\n",
       "      <td>224</td>\n",
       "      <td>266</td>\n",
       "      <td>263</td>\n",
       "      <td>A</td>\n",
       "      <td>W</td>\n",
       "      <td>880</td>\n",
       "      <td>82</td>\n",
       "      <td>14</td>\n",
       "      <td>480.0</td>\n",
       "      <td>A</td>\n",
       "    </tr>\n",
       "    <tr>\n",
       "      <th>3</th>\n",
       "      <td>496</td>\n",
       "      <td>141</td>\n",
       "      <td>20</td>\n",
       "      <td>65</td>\n",
       "      <td>78</td>\n",
       "      <td>37</td>\n",
       "      <td>11</td>\n",
       "      <td>5628</td>\n",
       "      <td>1575</td>\n",
       "      <td>225</td>\n",
       "      <td>828</td>\n",
       "      <td>838</td>\n",
       "      <td>354</td>\n",
       "      <td>N</td>\n",
       "      <td>E</td>\n",
       "      <td>200</td>\n",
       "      <td>11</td>\n",
       "      <td>3</td>\n",
       "      <td>500.0</td>\n",
       "      <td>N</td>\n",
       "    </tr>\n",
       "    <tr>\n",
       "      <th>4</th>\n",
       "      <td>321</td>\n",
       "      <td>87</td>\n",
       "      <td>10</td>\n",
       "      <td>39</td>\n",
       "      <td>42</td>\n",
       "      <td>30</td>\n",
       "      <td>2</td>\n",
       "      <td>396</td>\n",
       "      <td>101</td>\n",
       "      <td>12</td>\n",
       "      <td>48</td>\n",
       "      <td>46</td>\n",
       "      <td>33</td>\n",
       "      <td>N</td>\n",
       "      <td>E</td>\n",
       "      <td>805</td>\n",
       "      <td>40</td>\n",
       "      <td>4</td>\n",
       "      <td>91.5</td>\n",
       "      <td>N</td>\n",
       "    </tr>\n",
       "    <tr>\n",
       "      <th>5</th>\n",
       "      <td>594</td>\n",
       "      <td>169</td>\n",
       "      <td>4</td>\n",
       "      <td>74</td>\n",
       "      <td>51</td>\n",
       "      <td>35</td>\n",
       "      <td>11</td>\n",
       "      <td>4408</td>\n",
       "      <td>1133</td>\n",
       "      <td>19</td>\n",
       "      <td>501</td>\n",
       "      <td>336</td>\n",
       "      <td>194</td>\n",
       "      <td>A</td>\n",
       "      <td>W</td>\n",
       "      <td>282</td>\n",
       "      <td>421</td>\n",
       "      <td>25</td>\n",
       "      <td>750.0</td>\n",
       "      <td>A</td>\n",
       "    </tr>\n",
       "    <tr>\n",
       "      <th>...</th>\n",
       "      <td>...</td>\n",
       "      <td>...</td>\n",
       "      <td>...</td>\n",
       "      <td>...</td>\n",
       "      <td>...</td>\n",
       "      <td>...</td>\n",
       "      <td>...</td>\n",
       "      <td>...</td>\n",
       "      <td>...</td>\n",
       "      <td>...</td>\n",
       "      <td>...</td>\n",
       "      <td>...</td>\n",
       "      <td>...</td>\n",
       "      <td>...</td>\n",
       "      <td>...</td>\n",
       "      <td>...</td>\n",
       "      <td>...</td>\n",
       "      <td>...</td>\n",
       "      <td>...</td>\n",
       "      <td>...</td>\n",
       "    </tr>\n",
       "    <tr>\n",
       "      <th>317</th>\n",
       "      <td>497</td>\n",
       "      <td>127</td>\n",
       "      <td>7</td>\n",
       "      <td>65</td>\n",
       "      <td>48</td>\n",
       "      <td>37</td>\n",
       "      <td>5</td>\n",
       "      <td>2703</td>\n",
       "      <td>806</td>\n",
       "      <td>32</td>\n",
       "      <td>379</td>\n",
       "      <td>311</td>\n",
       "      <td>138</td>\n",
       "      <td>N</td>\n",
       "      <td>E</td>\n",
       "      <td>325</td>\n",
       "      <td>9</td>\n",
       "      <td>3</td>\n",
       "      <td>700.0</td>\n",
       "      <td>N</td>\n",
       "    </tr>\n",
       "    <tr>\n",
       "      <th>318</th>\n",
       "      <td>492</td>\n",
       "      <td>136</td>\n",
       "      <td>5</td>\n",
       "      <td>76</td>\n",
       "      <td>50</td>\n",
       "      <td>94</td>\n",
       "      <td>12</td>\n",
       "      <td>5511</td>\n",
       "      <td>1511</td>\n",
       "      <td>39</td>\n",
       "      <td>897</td>\n",
       "      <td>451</td>\n",
       "      <td>875</td>\n",
       "      <td>A</td>\n",
       "      <td>E</td>\n",
       "      <td>313</td>\n",
       "      <td>381</td>\n",
       "      <td>20</td>\n",
       "      <td>875.0</td>\n",
       "      <td>A</td>\n",
       "    </tr>\n",
       "    <tr>\n",
       "      <th>319</th>\n",
       "      <td>475</td>\n",
       "      <td>126</td>\n",
       "      <td>3</td>\n",
       "      <td>61</td>\n",
       "      <td>43</td>\n",
       "      <td>52</td>\n",
       "      <td>6</td>\n",
       "      <td>1700</td>\n",
       "      <td>433</td>\n",
       "      <td>7</td>\n",
       "      <td>217</td>\n",
       "      <td>93</td>\n",
       "      <td>146</td>\n",
       "      <td>A</td>\n",
       "      <td>W</td>\n",
       "      <td>37</td>\n",
       "      <td>113</td>\n",
       "      <td>7</td>\n",
       "      <td>385.0</td>\n",
       "      <td>A</td>\n",
       "    </tr>\n",
       "    <tr>\n",
       "      <th>320</th>\n",
       "      <td>573</td>\n",
       "      <td>144</td>\n",
       "      <td>9</td>\n",
       "      <td>85</td>\n",
       "      <td>60</td>\n",
       "      <td>78</td>\n",
       "      <td>8</td>\n",
       "      <td>3198</td>\n",
       "      <td>857</td>\n",
       "      <td>97</td>\n",
       "      <td>470</td>\n",
       "      <td>420</td>\n",
       "      <td>332</td>\n",
       "      <td>A</td>\n",
       "      <td>E</td>\n",
       "      <td>1314</td>\n",
       "      <td>131</td>\n",
       "      <td>12</td>\n",
       "      <td>960.0</td>\n",
       "      <td>A</td>\n",
       "    </tr>\n",
       "    <tr>\n",
       "      <th>321</th>\n",
       "      <td>631</td>\n",
       "      <td>170</td>\n",
       "      <td>9</td>\n",
       "      <td>77</td>\n",
       "      <td>44</td>\n",
       "      <td>31</td>\n",
       "      <td>11</td>\n",
       "      <td>4908</td>\n",
       "      <td>1457</td>\n",
       "      <td>30</td>\n",
       "      <td>775</td>\n",
       "      <td>357</td>\n",
       "      <td>249</td>\n",
       "      <td>A</td>\n",
       "      <td>W</td>\n",
       "      <td>408</td>\n",
       "      <td>4</td>\n",
       "      <td>3</td>\n",
       "      <td>1000.0</td>\n",
       "      <td>A</td>\n",
       "    </tr>\n",
       "  </tbody>\n",
       "</table>\n",
       "<p>263 rows × 20 columns</p>\n",
       "</div>"
      ],
      "text/plain": [
       "     AtBat  Hits  HmRun  Runs  RBI  Walks  Years  CAtBat  CHits  CHmRun  \\\n",
       "1      315    81      7    24   38     39     14    3449    835      69   \n",
       "2      479   130     18    66   72     76      3    1624    457      63   \n",
       "3      496   141     20    65   78     37     11    5628   1575     225   \n",
       "4      321    87     10    39   42     30      2     396    101      12   \n",
       "5      594   169      4    74   51     35     11    4408   1133      19   \n",
       "..     ...   ...    ...   ...  ...    ...    ...     ...    ...     ...   \n",
       "317    497   127      7    65   48     37      5    2703    806      32   \n",
       "318    492   136      5    76   50     94     12    5511   1511      39   \n",
       "319    475   126      3    61   43     52      6    1700    433       7   \n",
       "320    573   144      9    85   60     78      8    3198    857      97   \n",
       "321    631   170      9    77   44     31     11    4908   1457      30   \n",
       "\n",
       "     CRuns  CRBI  CWalks League Division  PutOuts  Assists  Errors  Salary  \\\n",
       "1      321   414     375      N        W      632       43      10   475.0   \n",
       "2      224   266     263      A        W      880       82      14   480.0   \n",
       "3      828   838     354      N        E      200       11       3   500.0   \n",
       "4       48    46      33      N        E      805       40       4    91.5   \n",
       "5      501   336     194      A        W      282      421      25   750.0   \n",
       "..     ...   ...     ...    ...      ...      ...      ...     ...     ...   \n",
       "317    379   311     138      N        E      325        9       3   700.0   \n",
       "318    897   451     875      A        E      313      381      20   875.0   \n",
       "319    217    93     146      A        W       37      113       7   385.0   \n",
       "320    470   420     332      A        E     1314      131      12   960.0   \n",
       "321    775   357     249      A        W      408        4       3  1000.0   \n",
       "\n",
       "    NewLeague  \n",
       "1           N  \n",
       "2           A  \n",
       "3           N  \n",
       "4           N  \n",
       "5           A  \n",
       "..        ...  \n",
       "317         N  \n",
       "318         A  \n",
       "319         A  \n",
       "320         A  \n",
       "321         A  \n",
       "\n",
       "[263 rows x 20 columns]"
      ]
     },
     "execution_count": 11,
     "metadata": {},
     "output_type": "execute_result"
    }
   ],
   "source": [
    "Hitters"
   ]
  },
  {
   "cell_type": "markdown",
   "id": "e302823e",
   "metadata": {},
   "source": [
    " 要比较 线性回归模型（最小二乘法）、Lasso 回归模型 和 神经网络模型 的表现，我们将使用 平均绝对误差（Mean Absolute Error, MAE） 作为性能指标，并使用验证集进行评估。\n",
    "\\begin{equation*}\n",
    "\\begin{split}\n",
    "\\mbox{MAE}(y,\\hat{y}) = \\frac{1}{n} \\sum_{i=1}^n |y_i-\\hat{y}_i|.\n",
    "\\end{split}\n",
    "\\end{equation*}\n",
    "设置模型矩阵：将数据集的特征（ Hitters 数据集中的各种属性）作为模型矩阵。\n",
    "设置响应变量：将目标变量（ Salary，即球员年薪）提取为响应变量。"
   ]
  },
  {
   "cell_type": "code",
   "execution_count": 12,
   "id": "4deacf91",
   "metadata": {
    "lines_to_next_cell": 0
   },
   "outputs": [
    {
     "name": "stdout",
     "output_type": "stream",
     "text": [
      "特征矩阵 X:\n",
      "[[3.150e+02 8.100e+01 7.000e+00 2.400e+01 3.800e+01 3.900e+01 1.400e+01\n",
      "  3.449e+03 8.350e+02 6.900e+01 3.210e+02 4.140e+02 3.750e+02 1.000e+00\n",
      "  1.000e+00 6.320e+02 4.300e+01 1.000e+01 1.000e+00]\n",
      " [4.790e+02 1.300e+02 1.800e+01 6.600e+01 7.200e+01 7.600e+01 3.000e+00\n",
      "  1.624e+03 4.570e+02 6.300e+01 2.240e+02 2.660e+02 2.630e+02 0.000e+00\n",
      "  1.000e+00 8.800e+02 8.200e+01 1.400e+01 0.000e+00]\n",
      " [4.960e+02 1.410e+02 2.000e+01 6.500e+01 7.800e+01 3.700e+01 1.100e+01\n",
      "  5.628e+03 1.575e+03 2.250e+02 8.280e+02 8.380e+02 3.540e+02 1.000e+00\n",
      "  0.000e+00 2.000e+02 1.100e+01 3.000e+00 1.000e+00]\n",
      " [3.210e+02 8.700e+01 1.000e+01 3.900e+01 4.200e+01 3.000e+01 2.000e+00\n",
      "  3.960e+02 1.010e+02 1.200e+01 4.800e+01 4.600e+01 3.300e+01 1.000e+00\n",
      "  0.000e+00 8.050e+02 4.000e+01 4.000e+00 1.000e+00]\n",
      " [5.940e+02 1.690e+02 4.000e+00 7.400e+01 5.100e+01 3.500e+01 1.100e+01\n",
      "  4.408e+03 1.133e+03 1.900e+01 5.010e+02 3.360e+02 1.940e+02 0.000e+00\n",
      "  1.000e+00 2.820e+02 4.210e+02 2.500e+01 0.000e+00]]\n",
      "\n",
      "目标变量 Y (薪水):\n",
      "[475.  480.  500.   91.5 750. ]\n"
     ]
    }
   ],
   "source": [
    "#  从 Hitters 数据集的列中移除 Salary 列，不包括截距项，\n",
    "#  将数据集传递给模型规范 MS，并执行数据转换，返回一个已处理的特征矩阵 X\n",
    "model = MS(Hitters.columns.drop('Salary'), intercept=False)\n",
    "\n",
    "# 使用 fit_transform 处理数据，得到特征矩阵 X\n",
    "X = model.fit_transform(Hitters).to_numpy()\n",
    "\n",
    "# 提取目标变量（薪水）Y\n",
    "Y = Hitters['Salary'].to_numpy()\n",
    "\n",
    "# 显示特征矩阵 X 的前5行\n",
    "print(\"特征矩阵 X:\")\n",
    "print(X[:5])  # 显示前5个样本的特征\n",
    "\n",
    "# 显示目标变量 Y (薪水) 的前5个值\n",
    "print(\"\\n目标变量 Y (薪水):\")\n",
    "print(Y[:5])  # 显示前5个薪水值"
   ]
  },
  {
   "cell_type": "markdown",
   "id": "d030ccab",
   "metadata": {},
   "source": [
    "上面提到的 to_numpy() 方法将 Pandas 的数据框（DataFrame）或序列（Series）转换为 NumPy 数组。\n",
    "我们这样做是因为在拟合 Lasso 模型时需要使用 scikit-learn，而它要求输入数据是 NumPy 数组格式。\n",
    "我们还使用了 scikit-learn 中的线性回归方法，而不是第 3 章中 statsmodels 的方法，以便于进行比较。"
   ]
  },
  {
   "cell_type": "markdown",
   "id": "13ffb53a",
   "metadata": {},
   "source": [
    "我们将数据集分成训练集和测试集，并固定使用 sklearn 中的随机种子（random_state），以确保每次分割数据时的结果是相同的。"
   ]
  },
  {
   "cell_type": "code",
   "execution_count": 13,
   "id": "8593f62b",
   "metadata": {},
   "outputs": [
    {
     "name": "stdout",
     "output_type": "stream",
     "text": [
      "训练集特征 X_train 形状: (175, 19)\n",
      "测试集特征 X_test 形状: (88, 19)\n",
      "训练集目标 Y_train 形状: (175,)\n",
      "测试集目标 Y_test 形状: (88,)\n"
     ]
    }
   ],
   "source": [
    "# 特征矩阵 X 和目标变量 Y 分割为训练集和测试集\n",
    "(X_train, \n",
    " X_test,\n",
    " Y_train,\n",
    " Y_test) = train_test_split(X,\n",
    "                            Y,\n",
    "                            test_size=1/3,  # 数据集的 1/3 用作测试集，剩下的 2/3 用作训练集\n",
    "                            random_state=1)\n",
    "\n",
    "# 输出训练集和测试集的形状\n",
    "print(\"训练集特征 X_train 形状:\", X_train.shape)\n",
    "print(\"测试集特征 X_test 形状:\", X_test.shape)\n",
    "print(\"训练集目标 Y_train 形状:\", Y_train.shape)\n",
    "print(\"测试集目标 Y_test 形状:\", Y_test.shape)\n"
   ]
  },
  {
   "cell_type": "markdown",
   "id": "d1e980ad",
   "metadata": {},
   "source": [
    "### Linear Models\n",
    "我们拟合线性模型并直接评估测试误差"
   ]
  },
  {
   "cell_type": "code",
   "execution_count": 14,
   "id": "54b14993",
   "metadata": {},
   "outputs": [
    {
     "data": {
      "text/plain": [
       "259.71528833146294"
      ]
     },
     "execution_count": 14,
     "metadata": {},
     "output_type": "execute_result"
    }
   ],
   "source": [
    "hit_lm = LinearRegression().fit(X_train, Y_train) #使用训练集 X_train 和 Y_train 拟合线性回归模型\n",
    "Yhat_test = hit_lm.predict(X_test) #训练好的模型对测试集 X_test 进行预测，得到预测值 Yhat_test\n",
    "np.abs(Yhat_test - Y_test).mean() #计算 平均绝对误差（MAE），即预测值与实际值之间的绝对差的平均值"
   ]
  },
  {
   "cell_type": "markdown",
   "id": "c18abe13",
   "metadata": {},
   "source": [
    "接下来，我们使用 sklearn 拟合 Lasso 模型。\n",
    "我们将使用 平均绝对误差（MAE） 来选择和评估模型，而不是使用均方误差（MSE）。  \n",
    "在这里，我们将创建一个交叉验证网格，并直接执行交叉验证。  \n",
    "我们使用一个包含两个步骤：首先使用 StandardScaler() 转换标准化特征，然后拟合 Lasso 模型。\n",
    "- 构建一个“标准化 + Lasso”的流水线模型，\n",
    "- 用 交叉验证 + 网格搜索 自动选出最佳参数，\n",
    "- 并用 MAE 来评估模型效果。"
   ]
  },
  {
   "cell_type": "code",
   "execution_count": 15,
   "id": "84c668ad",
   "metadata": {},
   "outputs": [],
   "source": [
    "# 在一组不同的正则化强度（λ）下训练模型 → 评估性能 → 选择最优的 λ。\n",
    "\n",
    "scaler = StandardScaler(with_mean=True, with_std=True) \n",
    "# 特征标准化，将每个特征的均值设为 0，标准差设为 1\n",
    "\n",
    "lasso = Lasso(warm_start=True, max_iter=30000) \n",
    "# 启用 warm start 功能，允许你在多次调用 .fit() 方法时复用上一次训练的结果，最大迭代次数为 30,000\n",
    "\n",
    "standard_lasso = Pipeline(steps=[('scaler', scaler), #首先使用 StandardScaler 对数据进行标准化处理\n",
    "                                 ('lasso', lasso)]) #标准化后的数据传递给 Lasso 回归模型进行训练和预测"
   ]
  },
  {
   "cell_type": "markdown",
   "id": "aab2c215",
   "metadata": {},
   "source": [
    "我们需要为 λ 创建一个值的网格。  \n",
    "通常的做法是选择 100 个 λ 值，这些值在对数尺度上均匀分布，从 `lam_max` 到 `0.01 * lam_max`。  \n",
    "其中，`lam_max` 是使所有回归系数为零时的最小 λ 值。  \n",
    "该值等于预测变量与中心化后的响应变量之间的最大绝对内积。  \n",
    "通过选择这样一个 λ 值的网格，我们能够控制模型的正则化强度，并帮助选择最合适的 λ 来防止过拟合。\n"
   ]
  },
  {
   "cell_type": "code",
   "execution_count": 16,
   "id": "093f8ce9",
   "metadata": {
    "lines_to_next_cell": 0
   },
   "outputs": [],
   "source": [
    "# 对训练集特征进行标准化，确保每个特征的均值为0，标准差为1\n",
    "X_s = scaler.fit_transform(X_train)\n",
    "\n",
    "# 获取样本数 n，即标准化后特征矩阵的行数\n",
    "n = X_s.shape[0]\n",
    "\n",
    "# 计算 lam_max，这是使所有回归系数为零的最小 lambda 值\n",
    "# 首先，中心化 Y_train（即减去其均值），然后计算标准化特征与中心化响应的内积\n",
    "# 获取该内积的最大绝对值，并除以样本数 n 得到 lam_max\n",
    "lam_max = np.fabs(X_s.T.dot(Y_train - Y_train.mean())).max() / n\n",
    "\n",
    "# 创建 λ 的网格，生成100个 λ 值，这些值在对数尺度上均匀分布\n",
    "# λ 的范围从 lam_max 到 0.01*lam_max\n",
    "# np.linspace 生成从 0 到 np.log(0.01) 的100个对数值，然后通过 np.exp 进行指数变换得到实际的 λ 值\n",
    "# 最后，乘以 lam_max 来调整 λ 的范围\n",
    "param_grid = {'lasso__alpha': np.exp(np.linspace(0, np.log(0.01), 100)) * lam_max}\n"
   ]
  },
  {
   "cell_type": "markdown",
   "id": "def35611",
   "metadata": {},
   "source": [
    "我们必须先对数据进行转换（标准化），因为变量的尺度会影响 λ 的选择。现在，我们使用这一系列 λ 值进行交叉验证"
   ]
  },
  {
   "cell_type": "code",
   "execution_count": 17,
   "id": "38773381",
   "metadata": {},
   "outputs": [
    {
     "data": {
      "text/html": [
       "<style>#sk-container-id-1 {\n",
       "  /* Definition of color scheme common for light and dark mode */\n",
       "  --sklearn-color-text: black;\n",
       "  --sklearn-color-line: gray;\n",
       "  /* Definition of color scheme for unfitted estimators */\n",
       "  --sklearn-color-unfitted-level-0: #fff5e6;\n",
       "  --sklearn-color-unfitted-level-1: #f6e4d2;\n",
       "  --sklearn-color-unfitted-level-2: #ffe0b3;\n",
       "  --sklearn-color-unfitted-level-3: chocolate;\n",
       "  /* Definition of color scheme for fitted estimators */\n",
       "  --sklearn-color-fitted-level-0: #f0f8ff;\n",
       "  --sklearn-color-fitted-level-1: #d4ebff;\n",
       "  --sklearn-color-fitted-level-2: #b3dbfd;\n",
       "  --sklearn-color-fitted-level-3: cornflowerblue;\n",
       "\n",
       "  /* Specific color for light theme */\n",
       "  --sklearn-color-text-on-default-background: var(--sg-text-color, var(--theme-code-foreground, var(--jp-content-font-color1, black)));\n",
       "  --sklearn-color-background: var(--sg-background-color, var(--theme-background, var(--jp-layout-color0, white)));\n",
       "  --sklearn-color-border-box: var(--sg-text-color, var(--theme-code-foreground, var(--jp-content-font-color1, black)));\n",
       "  --sklearn-color-icon: #696969;\n",
       "\n",
       "  @media (prefers-color-scheme: dark) {\n",
       "    /* Redefinition of color scheme for dark theme */\n",
       "    --sklearn-color-text-on-default-background: var(--sg-text-color, var(--theme-code-foreground, var(--jp-content-font-color1, white)));\n",
       "    --sklearn-color-background: var(--sg-background-color, var(--theme-background, var(--jp-layout-color0, #111)));\n",
       "    --sklearn-color-border-box: var(--sg-text-color, var(--theme-code-foreground, var(--jp-content-font-color1, white)));\n",
       "    --sklearn-color-icon: #878787;\n",
       "  }\n",
       "}\n",
       "\n",
       "#sk-container-id-1 {\n",
       "  color: var(--sklearn-color-text);\n",
       "}\n",
       "\n",
       "#sk-container-id-1 pre {\n",
       "  padding: 0;\n",
       "}\n",
       "\n",
       "#sk-container-id-1 input.sk-hidden--visually {\n",
       "  border: 0;\n",
       "  clip: rect(1px 1px 1px 1px);\n",
       "  clip: rect(1px, 1px, 1px, 1px);\n",
       "  height: 1px;\n",
       "  margin: -1px;\n",
       "  overflow: hidden;\n",
       "  padding: 0;\n",
       "  position: absolute;\n",
       "  width: 1px;\n",
       "}\n",
       "\n",
       "#sk-container-id-1 div.sk-dashed-wrapped {\n",
       "  border: 1px dashed var(--sklearn-color-line);\n",
       "  margin: 0 0.4em 0.5em 0.4em;\n",
       "  box-sizing: border-box;\n",
       "  padding-bottom: 0.4em;\n",
       "  background-color: var(--sklearn-color-background);\n",
       "}\n",
       "\n",
       "#sk-container-id-1 div.sk-container {\n",
       "  /* jupyter's `normalize.less` sets `[hidden] { display: none; }`\n",
       "     but bootstrap.min.css set `[hidden] { display: none !important; }`\n",
       "     so we also need the `!important` here to be able to override the\n",
       "     default hidden behavior on the sphinx rendered scikit-learn.org.\n",
       "     See: https://github.com/scikit-learn/scikit-learn/issues/21755 */\n",
       "  display: inline-block !important;\n",
       "  position: relative;\n",
       "}\n",
       "\n",
       "#sk-container-id-1 div.sk-text-repr-fallback {\n",
       "  display: none;\n",
       "}\n",
       "\n",
       "div.sk-parallel-item,\n",
       "div.sk-serial,\n",
       "div.sk-item {\n",
       "  /* draw centered vertical line to link estimators */\n",
       "  background-image: linear-gradient(var(--sklearn-color-text-on-default-background), var(--sklearn-color-text-on-default-background));\n",
       "  background-size: 2px 100%;\n",
       "  background-repeat: no-repeat;\n",
       "  background-position: center center;\n",
       "}\n",
       "\n",
       "/* Parallel-specific style estimator block */\n",
       "\n",
       "#sk-container-id-1 div.sk-parallel-item::after {\n",
       "  content: \"\";\n",
       "  width: 100%;\n",
       "  border-bottom: 2px solid var(--sklearn-color-text-on-default-background);\n",
       "  flex-grow: 1;\n",
       "}\n",
       "\n",
       "#sk-container-id-1 div.sk-parallel {\n",
       "  display: flex;\n",
       "  align-items: stretch;\n",
       "  justify-content: center;\n",
       "  background-color: var(--sklearn-color-background);\n",
       "  position: relative;\n",
       "}\n",
       "\n",
       "#sk-container-id-1 div.sk-parallel-item {\n",
       "  display: flex;\n",
       "  flex-direction: column;\n",
       "}\n",
       "\n",
       "#sk-container-id-1 div.sk-parallel-item:first-child::after {\n",
       "  align-self: flex-end;\n",
       "  width: 50%;\n",
       "}\n",
       "\n",
       "#sk-container-id-1 div.sk-parallel-item:last-child::after {\n",
       "  align-self: flex-start;\n",
       "  width: 50%;\n",
       "}\n",
       "\n",
       "#sk-container-id-1 div.sk-parallel-item:only-child::after {\n",
       "  width: 0;\n",
       "}\n",
       "\n",
       "/* Serial-specific style estimator block */\n",
       "\n",
       "#sk-container-id-1 div.sk-serial {\n",
       "  display: flex;\n",
       "  flex-direction: column;\n",
       "  align-items: center;\n",
       "  background-color: var(--sklearn-color-background);\n",
       "  padding-right: 1em;\n",
       "  padding-left: 1em;\n",
       "}\n",
       "\n",
       "\n",
       "/* Toggleable style: style used for estimator/Pipeline/ColumnTransformer box that is\n",
       "clickable and can be expanded/collapsed.\n",
       "- Pipeline and ColumnTransformer use this feature and define the default style\n",
       "- Estimators will overwrite some part of the style using the `sk-estimator` class\n",
       "*/\n",
       "\n",
       "/* Pipeline and ColumnTransformer style (default) */\n",
       "\n",
       "#sk-container-id-1 div.sk-toggleable {\n",
       "  /* Default theme specific background. It is overwritten whether we have a\n",
       "  specific estimator or a Pipeline/ColumnTransformer */\n",
       "  background-color: var(--sklearn-color-background);\n",
       "}\n",
       "\n",
       "/* Toggleable label */\n",
       "#sk-container-id-1 label.sk-toggleable__label {\n",
       "  cursor: pointer;\n",
       "  display: block;\n",
       "  width: 100%;\n",
       "  margin-bottom: 0;\n",
       "  padding: 0.5em;\n",
       "  box-sizing: border-box;\n",
       "  text-align: center;\n",
       "}\n",
       "\n",
       "#sk-container-id-1 label.sk-toggleable__label-arrow:before {\n",
       "  /* Arrow on the left of the label */\n",
       "  content: \"▸\";\n",
       "  float: left;\n",
       "  margin-right: 0.25em;\n",
       "  color: var(--sklearn-color-icon);\n",
       "}\n",
       "\n",
       "#sk-container-id-1 label.sk-toggleable__label-arrow:hover:before {\n",
       "  color: var(--sklearn-color-text);\n",
       "}\n",
       "\n",
       "/* Toggleable content - dropdown */\n",
       "\n",
       "#sk-container-id-1 div.sk-toggleable__content {\n",
       "  max-height: 0;\n",
       "  max-width: 0;\n",
       "  overflow: hidden;\n",
       "  text-align: left;\n",
       "  /* unfitted */\n",
       "  background-color: var(--sklearn-color-unfitted-level-0);\n",
       "}\n",
       "\n",
       "#sk-container-id-1 div.sk-toggleable__content.fitted {\n",
       "  /* fitted */\n",
       "  background-color: var(--sklearn-color-fitted-level-0);\n",
       "}\n",
       "\n",
       "#sk-container-id-1 div.sk-toggleable__content pre {\n",
       "  margin: 0.2em;\n",
       "  border-radius: 0.25em;\n",
       "  color: var(--sklearn-color-text);\n",
       "  /* unfitted */\n",
       "  background-color: var(--sklearn-color-unfitted-level-0);\n",
       "}\n",
       "\n",
       "#sk-container-id-1 div.sk-toggleable__content.fitted pre {\n",
       "  /* unfitted */\n",
       "  background-color: var(--sklearn-color-fitted-level-0);\n",
       "}\n",
       "\n",
       "#sk-container-id-1 input.sk-toggleable__control:checked~div.sk-toggleable__content {\n",
       "  /* Expand drop-down */\n",
       "  max-height: 200px;\n",
       "  max-width: 100%;\n",
       "  overflow: auto;\n",
       "}\n",
       "\n",
       "#sk-container-id-1 input.sk-toggleable__control:checked~label.sk-toggleable__label-arrow:before {\n",
       "  content: \"▾\";\n",
       "}\n",
       "\n",
       "/* Pipeline/ColumnTransformer-specific style */\n",
       "\n",
       "#sk-container-id-1 div.sk-label input.sk-toggleable__control:checked~label.sk-toggleable__label {\n",
       "  color: var(--sklearn-color-text);\n",
       "  background-color: var(--sklearn-color-unfitted-level-2);\n",
       "}\n",
       "\n",
       "#sk-container-id-1 div.sk-label.fitted input.sk-toggleable__control:checked~label.sk-toggleable__label {\n",
       "  background-color: var(--sklearn-color-fitted-level-2);\n",
       "}\n",
       "\n",
       "/* Estimator-specific style */\n",
       "\n",
       "/* Colorize estimator box */\n",
       "#sk-container-id-1 div.sk-estimator input.sk-toggleable__control:checked~label.sk-toggleable__label {\n",
       "  /* unfitted */\n",
       "  background-color: var(--sklearn-color-unfitted-level-2);\n",
       "}\n",
       "\n",
       "#sk-container-id-1 div.sk-estimator.fitted input.sk-toggleable__control:checked~label.sk-toggleable__label {\n",
       "  /* fitted */\n",
       "  background-color: var(--sklearn-color-fitted-level-2);\n",
       "}\n",
       "\n",
       "#sk-container-id-1 div.sk-label label.sk-toggleable__label,\n",
       "#sk-container-id-1 div.sk-label label {\n",
       "  /* The background is the default theme color */\n",
       "  color: var(--sklearn-color-text-on-default-background);\n",
       "}\n",
       "\n",
       "/* On hover, darken the color of the background */\n",
       "#sk-container-id-1 div.sk-label:hover label.sk-toggleable__label {\n",
       "  color: var(--sklearn-color-text);\n",
       "  background-color: var(--sklearn-color-unfitted-level-2);\n",
       "}\n",
       "\n",
       "/* Label box, darken color on hover, fitted */\n",
       "#sk-container-id-1 div.sk-label.fitted:hover label.sk-toggleable__label.fitted {\n",
       "  color: var(--sklearn-color-text);\n",
       "  background-color: var(--sklearn-color-fitted-level-2);\n",
       "}\n",
       "\n",
       "/* Estimator label */\n",
       "\n",
       "#sk-container-id-1 div.sk-label label {\n",
       "  font-family: monospace;\n",
       "  font-weight: bold;\n",
       "  display: inline-block;\n",
       "  line-height: 1.2em;\n",
       "}\n",
       "\n",
       "#sk-container-id-1 div.sk-label-container {\n",
       "  text-align: center;\n",
       "}\n",
       "\n",
       "/* Estimator-specific */\n",
       "#sk-container-id-1 div.sk-estimator {\n",
       "  font-family: monospace;\n",
       "  border: 1px dotted var(--sklearn-color-border-box);\n",
       "  border-radius: 0.25em;\n",
       "  box-sizing: border-box;\n",
       "  margin-bottom: 0.5em;\n",
       "  /* unfitted */\n",
       "  background-color: var(--sklearn-color-unfitted-level-0);\n",
       "}\n",
       "\n",
       "#sk-container-id-1 div.sk-estimator.fitted {\n",
       "  /* fitted */\n",
       "  background-color: var(--sklearn-color-fitted-level-0);\n",
       "}\n",
       "\n",
       "/* on hover */\n",
       "#sk-container-id-1 div.sk-estimator:hover {\n",
       "  /* unfitted */\n",
       "  background-color: var(--sklearn-color-unfitted-level-2);\n",
       "}\n",
       "\n",
       "#sk-container-id-1 div.sk-estimator.fitted:hover {\n",
       "  /* fitted */\n",
       "  background-color: var(--sklearn-color-fitted-level-2);\n",
       "}\n",
       "\n",
       "/* Specification for estimator info (e.g. \"i\" and \"?\") */\n",
       "\n",
       "/* Common style for \"i\" and \"?\" */\n",
       "\n",
       ".sk-estimator-doc-link,\n",
       "a:link.sk-estimator-doc-link,\n",
       "a:visited.sk-estimator-doc-link {\n",
       "  float: right;\n",
       "  font-size: smaller;\n",
       "  line-height: 1em;\n",
       "  font-family: monospace;\n",
       "  background-color: var(--sklearn-color-background);\n",
       "  border-radius: 1em;\n",
       "  height: 1em;\n",
       "  width: 1em;\n",
       "  text-decoration: none !important;\n",
       "  margin-left: 1ex;\n",
       "  /* unfitted */\n",
       "  border: var(--sklearn-color-unfitted-level-1) 1pt solid;\n",
       "  color: var(--sklearn-color-unfitted-level-1);\n",
       "}\n",
       "\n",
       ".sk-estimator-doc-link.fitted,\n",
       "a:link.sk-estimator-doc-link.fitted,\n",
       "a:visited.sk-estimator-doc-link.fitted {\n",
       "  /* fitted */\n",
       "  border: var(--sklearn-color-fitted-level-1) 1pt solid;\n",
       "  color: var(--sklearn-color-fitted-level-1);\n",
       "}\n",
       "\n",
       "/* On hover */\n",
       "div.sk-estimator:hover .sk-estimator-doc-link:hover,\n",
       ".sk-estimator-doc-link:hover,\n",
       "div.sk-label-container:hover .sk-estimator-doc-link:hover,\n",
       ".sk-estimator-doc-link:hover {\n",
       "  /* unfitted */\n",
       "  background-color: var(--sklearn-color-unfitted-level-3);\n",
       "  color: var(--sklearn-color-background);\n",
       "  text-decoration: none;\n",
       "}\n",
       "\n",
       "div.sk-estimator.fitted:hover .sk-estimator-doc-link.fitted:hover,\n",
       ".sk-estimator-doc-link.fitted:hover,\n",
       "div.sk-label-container:hover .sk-estimator-doc-link.fitted:hover,\n",
       ".sk-estimator-doc-link.fitted:hover {\n",
       "  /* fitted */\n",
       "  background-color: var(--sklearn-color-fitted-level-3);\n",
       "  color: var(--sklearn-color-background);\n",
       "  text-decoration: none;\n",
       "}\n",
       "\n",
       "/* Span, style for the box shown on hovering the info icon */\n",
       ".sk-estimator-doc-link span {\n",
       "  display: none;\n",
       "  z-index: 9999;\n",
       "  position: relative;\n",
       "  font-weight: normal;\n",
       "  right: .2ex;\n",
       "  padding: .5ex;\n",
       "  margin: .5ex;\n",
       "  width: min-content;\n",
       "  min-width: 20ex;\n",
       "  max-width: 50ex;\n",
       "  color: var(--sklearn-color-text);\n",
       "  box-shadow: 2pt 2pt 4pt #999;\n",
       "  /* unfitted */\n",
       "  background: var(--sklearn-color-unfitted-level-0);\n",
       "  border: .5pt solid var(--sklearn-color-unfitted-level-3);\n",
       "}\n",
       "\n",
       ".sk-estimator-doc-link.fitted span {\n",
       "  /* fitted */\n",
       "  background: var(--sklearn-color-fitted-level-0);\n",
       "  border: var(--sklearn-color-fitted-level-3);\n",
       "}\n",
       "\n",
       ".sk-estimator-doc-link:hover span {\n",
       "  display: block;\n",
       "}\n",
       "\n",
       "/* \"?\"-specific style due to the `<a>` HTML tag */\n",
       "\n",
       "#sk-container-id-1 a.estimator_doc_link {\n",
       "  float: right;\n",
       "  font-size: 1rem;\n",
       "  line-height: 1em;\n",
       "  font-family: monospace;\n",
       "  background-color: var(--sklearn-color-background);\n",
       "  border-radius: 1rem;\n",
       "  height: 1rem;\n",
       "  width: 1rem;\n",
       "  text-decoration: none;\n",
       "  /* unfitted */\n",
       "  color: var(--sklearn-color-unfitted-level-1);\n",
       "  border: var(--sklearn-color-unfitted-level-1) 1pt solid;\n",
       "}\n",
       "\n",
       "#sk-container-id-1 a.estimator_doc_link.fitted {\n",
       "  /* fitted */\n",
       "  border: var(--sklearn-color-fitted-level-1) 1pt solid;\n",
       "  color: var(--sklearn-color-fitted-level-1);\n",
       "}\n",
       "\n",
       "/* On hover */\n",
       "#sk-container-id-1 a.estimator_doc_link:hover {\n",
       "  /* unfitted */\n",
       "  background-color: var(--sklearn-color-unfitted-level-3);\n",
       "  color: var(--sklearn-color-background);\n",
       "  text-decoration: none;\n",
       "}\n",
       "\n",
       "#sk-container-id-1 a.estimator_doc_link.fitted:hover {\n",
       "  /* fitted */\n",
       "  background-color: var(--sklearn-color-fitted-level-3);\n",
       "}\n",
       "</style><div id=\"sk-container-id-1\" class=\"sk-top-container\"><div class=\"sk-text-repr-fallback\"><pre>GridSearchCV(cv=KFold(n_splits=10, random_state=1, shuffle=True),\n",
       "             estimator=Pipeline(steps=[(&#x27;scaler&#x27;, StandardScaler()),\n",
       "                                       (&#x27;lasso&#x27;,\n",
       "                                        Lasso(max_iter=30000,\n",
       "                                              warm_start=True))]),\n",
       "             param_grid={&#x27;lasso__alpha&#x27;: array([255.65755026, 244.03752004, 232.94563812, 222.35789935,\n",
       "       212.25138966, 202.60423642, 193.39556119, 184.60543446,\n",
       "       176.21483255, 168.20559645, 160.5603925 , 153.262...\n",
       "        10.81237873,  10.32093943,   9.8518368 ,   9.40405561,\n",
       "         8.97662677,   8.56862523,   8.17916799,   7.80741218,\n",
       "         7.45255325,   7.1138232 ,   6.79048896,   6.48185076,\n",
       "         6.18724064,   5.906021  ,   5.63758323,   5.38134637,\n",
       "         5.13675587,   4.90328239,   4.68042064,   4.4676883 ,\n",
       "         4.26462497,   4.07079118,   3.88576744,   3.70915331,\n",
       "         3.54056657,   3.37964236,   3.2260324 ,   3.07940424,\n",
       "         2.93944057,   2.80583846,   2.67830877,   2.5565755 ])},\n",
       "             scoring=&#x27;neg_mean_absolute_error&#x27;)</pre><b>In a Jupyter environment, please rerun this cell to show the HTML representation or trust the notebook. <br />On GitHub, the HTML representation is unable to render, please try loading this page with nbviewer.org.</b></div><div class=\"sk-container\" hidden><div class=\"sk-item sk-dashed-wrapped\"><div class=\"sk-label-container\"><div class=\"sk-label fitted sk-toggleable\"><input class=\"sk-toggleable__control sk-hidden--visually\" id=\"sk-estimator-id-1\" type=\"checkbox\" ><label for=\"sk-estimator-id-1\" class=\"sk-toggleable__label fitted sk-toggleable__label-arrow fitted\">&nbsp;&nbsp;GridSearchCV<a class=\"sk-estimator-doc-link fitted\" rel=\"noreferrer\" target=\"_blank\" href=\"https://scikit-learn.org/1.5/modules/generated/sklearn.model_selection.GridSearchCV.html\">?<span>Documentation for GridSearchCV</span></a><span class=\"sk-estimator-doc-link fitted\">i<span>Fitted</span></span></label><div class=\"sk-toggleable__content fitted\"><pre>GridSearchCV(cv=KFold(n_splits=10, random_state=1, shuffle=True),\n",
       "             estimator=Pipeline(steps=[(&#x27;scaler&#x27;, StandardScaler()),\n",
       "                                       (&#x27;lasso&#x27;,\n",
       "                                        Lasso(max_iter=30000,\n",
       "                                              warm_start=True))]),\n",
       "             param_grid={&#x27;lasso__alpha&#x27;: array([255.65755026, 244.03752004, 232.94563812, 222.35789935,\n",
       "       212.25138966, 202.60423642, 193.39556119, 184.60543446,\n",
       "       176.21483255, 168.20559645, 160.5603925 , 153.262...\n",
       "        10.81237873,  10.32093943,   9.8518368 ,   9.40405561,\n",
       "         8.97662677,   8.56862523,   8.17916799,   7.80741218,\n",
       "         7.45255325,   7.1138232 ,   6.79048896,   6.48185076,\n",
       "         6.18724064,   5.906021  ,   5.63758323,   5.38134637,\n",
       "         5.13675587,   4.90328239,   4.68042064,   4.4676883 ,\n",
       "         4.26462497,   4.07079118,   3.88576744,   3.70915331,\n",
       "         3.54056657,   3.37964236,   3.2260324 ,   3.07940424,\n",
       "         2.93944057,   2.80583846,   2.67830877,   2.5565755 ])},\n",
       "             scoring=&#x27;neg_mean_absolute_error&#x27;)</pre></div> </div></div><div class=\"sk-parallel\"><div class=\"sk-parallel-item\"><div class=\"sk-item\"><div class=\"sk-label-container\"><div class=\"sk-label fitted sk-toggleable\"><input class=\"sk-toggleable__control sk-hidden--visually\" id=\"sk-estimator-id-2\" type=\"checkbox\" ><label for=\"sk-estimator-id-2\" class=\"sk-toggleable__label fitted sk-toggleable__label-arrow fitted\">best_estimator_: Pipeline</label><div class=\"sk-toggleable__content fitted\"><pre>Pipeline(steps=[(&#x27;scaler&#x27;, StandardScaler()),\n",
       "                (&#x27;lasso&#x27;,\n",
       "                 Lasso(alpha=14.973915941949635, max_iter=30000,\n",
       "                       warm_start=True))])</pre></div> </div></div><div class=\"sk-serial\"><div class=\"sk-item\"><div class=\"sk-serial\"><div class=\"sk-item\"><div class=\"sk-estimator fitted sk-toggleable\"><input class=\"sk-toggleable__control sk-hidden--visually\" id=\"sk-estimator-id-3\" type=\"checkbox\" ><label for=\"sk-estimator-id-3\" class=\"sk-toggleable__label fitted sk-toggleable__label-arrow fitted\">&nbsp;StandardScaler<a class=\"sk-estimator-doc-link fitted\" rel=\"noreferrer\" target=\"_blank\" href=\"https://scikit-learn.org/1.5/modules/generated/sklearn.preprocessing.StandardScaler.html\">?<span>Documentation for StandardScaler</span></a></label><div class=\"sk-toggleable__content fitted\"><pre>StandardScaler()</pre></div> </div></div><div class=\"sk-item\"><div class=\"sk-estimator fitted sk-toggleable\"><input class=\"sk-toggleable__control sk-hidden--visually\" id=\"sk-estimator-id-4\" type=\"checkbox\" ><label for=\"sk-estimator-id-4\" class=\"sk-toggleable__label fitted sk-toggleable__label-arrow fitted\">&nbsp;Lasso<a class=\"sk-estimator-doc-link fitted\" rel=\"noreferrer\" target=\"_blank\" href=\"https://scikit-learn.org/1.5/modules/generated/sklearn.linear_model.Lasso.html\">?<span>Documentation for Lasso</span></a></label><div class=\"sk-toggleable__content fitted\"><pre>Lasso(alpha=14.973915941949635, max_iter=30000, warm_start=True)</pre></div> </div></div></div></div></div></div></div></div></div></div></div>"
      ],
      "text/plain": [
       "GridSearchCV(cv=KFold(n_splits=10, random_state=1, shuffle=True),\n",
       "             estimator=Pipeline(steps=[('scaler', StandardScaler()),\n",
       "                                       ('lasso',\n",
       "                                        Lasso(max_iter=30000,\n",
       "                                              warm_start=True))]),\n",
       "             param_grid={'lasso__alpha': array([255.65755026, 244.03752004, 232.94563812, 222.35789935,\n",
       "       212.25138966, 202.60423642, 193.39556119, 184.60543446,\n",
       "       176.21483255, 168.20559645, 160.5603925 , 153.262...\n",
       "        10.81237873,  10.32093943,   9.8518368 ,   9.40405561,\n",
       "         8.97662677,   8.56862523,   8.17916799,   7.80741218,\n",
       "         7.45255325,   7.1138232 ,   6.79048896,   6.48185076,\n",
       "         6.18724064,   5.906021  ,   5.63758323,   5.38134637,\n",
       "         5.13675587,   4.90328239,   4.68042064,   4.4676883 ,\n",
       "         4.26462497,   4.07079118,   3.88576744,   3.70915331,\n",
       "         3.54056657,   3.37964236,   3.2260324 ,   3.07940424,\n",
       "         2.93944057,   2.80583846,   2.67830877,   2.5565755 ])},\n",
       "             scoring='neg_mean_absolute_error')"
      ]
     },
     "execution_count": 17,
     "metadata": {},
     "output_type": "execute_result"
    }
   ],
   "source": [
    "# 定义 10 折交叉验证，数据集分为 10 份，每次用 9 份数据训练，剩下 1 份作为验证集。\n",
    "cv = KFold(10, \n",
    "           shuffle=True,  # 打乱数据，避免数据顺序影响交叉验证结果\n",
    "           random_state=1)  # 设置随机种子，保证每次划分的折叠相同\n",
    "\n",
    "# 使用 GridSearchCV 进行网格搜索，选择最佳的 lambda \n",
    "# `standard_lasso` 是包含标准化步骤和 Lasso 回归的管道\n",
    "# `param_grid` 是我们之前创建的包含不同 lambda 值的参数网格\n",
    "# `cv=cv` 表示使用 10 折交叉验证\n",
    "# `scoring='neg_mean_absolute_error'` 表示使用负的平均绝对误差（MAE）来选择最优模型\n",
    "grid = GridSearchCV(standard_lasso,\n",
    "                    param_grid,    # 参数网格\n",
    "                    cv=cv,         # 交叉验证\n",
    "                    scoring='neg_mean_absolute_error')  # 使用负 MAE 作为评估标准\n",
    "\n",
    "# 执行网格搜索，找到最佳的 lambda 值\n",
    "grid.fit(X_train, Y_train)\n"
   ]
  },
  {
   "cell_type": "markdown",
   "id": "53f2dc95",
   "metadata": {},
   "source": [
    "我们提取具有最佳交叉验证平均绝对误差（MAE）的 Lasso 模型（lamada=14.97），并在 X_test 和 Y_test 上评估其性能，这些测试数据没有参与交叉验证过程。"
   ]
  },
  {
   "cell_type": "code",
   "execution_count": 18,
   "id": "adc24a51",
   "metadata": {
    "lines_to_next_cell": 0
   },
   "outputs": [
    {
     "name": "stdout",
     "output_type": "stream",
     "text": [
      "测试集的平均绝对误差 (MAE): 235.67548374780287\n"
     ]
    }
   ],
   "source": [
    "# 提取最佳的 Lasso 模型\n",
    "trained_lasso = grid.best_estimator_\n",
    "\n",
    "# 使用最佳模型对测试集进行预测\n",
    "Yhat_test = trained_lasso.predict(X_test)\n",
    "\n",
    "# 计算测试集的平均绝对误差（MAE）\n",
    "mae_test = np.fabs(Yhat_test - Y_test).mean()\n",
    "\n",
    "# 打印测试集的 MAE\n",
    "print(\"测试集的平均绝对误差 (MAE):\", mae_test)"
   ]
  },
  {
   "cell_type": "markdown",
   "id": "252e9dc1",
   "metadata": {},
   "source": [
    "这与我们通过最小二乘拟合线性模型时得到的结果(259)类似。然而，对于不同的训练集/测试集划分，这些结果可能会有很大变化；\n",
    "\n",
    "### Specifying a Network: Classes and Inheritance\n",
    "在 PyTorch 中，我们通常通过 **继承** 来定义神经网络结构。以下是具体步骤：\n",
    "\n",
    "---\n",
    "#### 1. **继承 `nn.Module`**\n",
    "\n",
    "- 我们创建一个新的类，继承 `nn.Module` 类，以便利用 PyTorch 的模型管理、参数优化、反向传播等功能。\n",
    "\n",
    "---\n",
    "\n",
    "#### 2. **定义网络结构（`__init__` 方法）**\n",
    "\n",
    "- 在新类中，我们通常会通过 `__init__` 方法来定义网络的各个层，例如卷积层、线性层、激活函数等。\n",
    "- `__init__` 方法用于初始化网络的各个层和参数。\n",
    "\n",
    "---\n",
    "\n",
    "#### 3. **实现前向传播（`forward` 方法）**\n",
    "\n",
    "- 通过重写 `forward` 方法，我们定义数据如何在各个层之间流动。\n",
    "- PyTorch 会自动处理梯度计算和优化过程，无需手动实现反向传播。\n",
    "\n",
    "---\n"
   ]
  },
  {
   "cell_type": "code",
   "execution_count": 19,
   "id": "415cf74b",
   "metadata": {},
   "outputs": [],
   "source": [
    "class HittersModel(nn.Module):\n",
    "    # 定义一个用于 Hitters 数据的神经网络模型，继承自 PyTorch 的 nn.Module 基类\n",
    "\n",
    "    def __init__(self, input_size):\n",
    "        # 构造函数，input_size 是输入特征的维度（即 X 的列数）\n",
    "        super(HittersModel, self).__init__()\n",
    "\n",
    "        # 定义一个展平层（多维数组转变为一维向量）\n",
    "        self.flatten = nn.Flatten()\n",
    "\n",
    "        # 定义一个顺序网络：\tLinear + ReLU + Dropout 构成一个隐藏层模块\n",
    "        # - 第一层：全连接层，将输入映射到 50 个神经元\n",
    "        # - 第二层：ReLU 激活函数\n",
    "        # - 第三层：Dropout 层，防止过拟合，丢弃 40% 的神经元\n",
    "        # - 第四层：全连接层，将 50 个输出映射到 1 个输出值（回归任务）\n",
    "        self.sequential = nn.Sequential(\n",
    "            nn.Linear(input_size, 50),\n",
    "            nn.ReLU(),\n",
    "            nn.Dropout(0.4),\n",
    "            nn.Linear(50, 1))\n",
    "\n",
    "    def forward(self, x):\n",
    "        # 前向传播函数，定义数据如何流经网络\n",
    "        x = self.flatten(x)  # 展平输入（主要用于兼容某些输入格式）\n",
    "        return torch.flatten(self.sequential(x))  # 输出展平为一维张量（与目标 Y 对齐）\n"
   ]
  },
  {
   "cell_type": "code",
   "execution_count": 20,
   "id": "60469c96",
   "metadata": {},
   "outputs": [],
   "source": [
    "# 创建一个 HittersModel 类的实例，输入特征数量为 X 的列数（即每个样本的特征维度）\n",
    "hit_model = HittersModel(X.shape[1])\n"
   ]
  },
  {
   "cell_type": "markdown",
   "id": "114db3d4",
   "metadata": {},
   "source": [
    "对象 self.sequential 是由四个映射（层）组成的一个复合结构：\n",
    "\n",
    "第一层将 Hitters 数据集中的 19 个特征映射到 50 维，\n",
    "这会引入 $50 \\times 19 + 50$ 个可训练参数，分别对应于：\n",
    "\n",
    "50 个输出神经元 × 19 个输入特征（权重）\n",
    "\n",
    "50 个偏置项（bias，即截距）\n",
    "\n",
    "然后，输出被送入一个 ReLU 激活层，用于引入非线性。\n",
    "\n",
    "接着是一个 Dropout 层，随机丢弃 40% 的神经元，用于减少过拟合。\n",
    "\n",
    "最后是一个 线性输出层，将 50 维的向量映射为 1 个输出值（即预测的工资），\n",
    "这会再引入 50 个权重和 1 个偏置参数。\n",
    "\n",
    "因此，模型中可训练参数的总数为：\n",
    "\n",
    "50×19+50+50+1=1051"
   ]
  },
  {
   "cell_type": "markdown",
   "id": "9f5be00d",
   "metadata": {},
   "source": [
    "torchinfo 包提供了一个 summary() 函数，可以整洁地汇总神经网络结构的信息。\n",
    "\n",
    "我们可以指定输入张量的尺寸，然后 summary() 会展示每一层的张量在网络中传播时的尺寸变化，以及每一层的参数数量。\n",
    "\n",
    "这有助于我们更好地理解模型的结构和复杂度"
   ]
  },
  {
   "cell_type": "code",
   "execution_count": 21,
   "id": "84720ca7",
   "metadata": {
    "lines_to_next_cell": 0
   },
   "outputs": [
    {
     "data": {
      "text/plain": [
       "===================================================================================================================\n",
       "Layer (type:depth-idx)                   Input Shape               Output Shape              Param #\n",
       "===================================================================================================================\n",
       "HittersModel                             [175, 19]                 [175]                     --\n",
       "├─Flatten: 1-1                           [175, 19]                 [175, 19]                 --\n",
       "├─Sequential: 1-2                        [175, 19]                 [175, 1]                  --\n",
       "│    └─Linear: 2-1                       [175, 19]                 [175, 50]                 1,000\n",
       "│    └─ReLU: 2-2                         [175, 50]                 [175, 50]                 --\n",
       "│    └─Dropout: 2-3                      [175, 50]                 [175, 50]                 --\n",
       "│    └─Linear: 2-4                       [175, 50]                 [175, 1]                  51\n",
       "===================================================================================================================\n",
       "Total params: 1,051\n",
       "Trainable params: 1,051\n",
       "Non-trainable params: 0\n",
       "Total mult-adds (Units.MEGABYTES): 0.18\n",
       "===================================================================================================================\n",
       "Input size (MB): 0.01\n",
       "Forward/backward pass size (MB): 0.07\n",
       "Params size (MB): 0.00\n",
       "Estimated Total Size (MB): 0.09\n",
       "==================================================================================================================="
      ]
     },
     "execution_count": 21,
     "metadata": {},
     "output_type": "execute_result"
    }
   ],
   "source": [
    "# 使用 summary 函数展示模型的结构信息\n",
    "# 其中 input_size=X_train.shape 指定了输入张量的大小\n",
    "# col_names 参数指定了输出中列的名称\n",
    "# 包括 'input_size'（输入大小），'output_size'（输出大小），'num_params'（参数数量）\n",
    "summary(hit_model, \n",
    "        input_size=X_train.shape,  # 指定输入的大小，这里是训练数据的形状\n",
    "        col_names=['input_size',  # 输出中列名为：输入大小\n",
    "                   'output_size',  # 输出大小\n",
    "                   'num_params'])  # 参数数量"
   ]
  },
  {
   "cell_type": "markdown",
   "id": "48833aad",
   "metadata": {},
   "source": [
    "接下来，我们需要将训练数据转换为 torch 可以访问的格式。\n",
    "torch 中的基本数据类型是 tensor（张量），它与之前章节中的 ndarray（N维数组） 非常相似。\n",
    "\n",
    "此外，需要注意的是，torch 通常使用 32 位单精度浮点数（float32），而不是 64 位双精度浮点数（float64）。\n",
    "因此，在创建张量之前，我们需要将数据转换为 np.float32 类型。\n",
    "\n",
    "然后，我们将 $X$ 和 $Y$ 转换为 Dataset，这是 torch 可以识别的数据集格式，\n",
    "使用 TensorDataset() 来构造。"
   ]
  },
  {
   "cell_type": "code",
   "execution_count": 22,
   "id": "6f8038ce",
   "metadata": {
    "lines_to_next_cell": 0
   },
   "outputs": [],
   "source": [
    "# 将训练数据 X_train 转换为 torch 的张量，并将数据类型设置为 float32（单精度浮点数）\n",
    "X_train_t = torch.tensor(X_train.astype(np.float32))\n",
    "\n",
    "# 将目标数据 Y_train 转换为 torch 的张量，并将数据类型设置为 float32（单精度浮点数）\n",
    "Y_train_t = torch.tensor(Y_train.astype(np.float32))\n",
    "\n",
    "# 创建一个 TensorDataset，将输入特征张量 X_train_t 和目标张量 Y_train_t 封装在一起\n",
    "hit_train = TensorDataset(X_train_t, Y_train_t)\n"
   ]
  },
  {
   "cell_type": "code",
   "execution_count": 23,
   "id": "ffe8314e",
   "metadata": {},
   "outputs": [],
   "source": [
    "X_test_t = torch.tensor(X_test.astype(np.float32))\n",
    "Y_test_t = torch.tensor(Y_test.astype(np.float32))\n",
    "hit_test = TensorDataset(X_test_t, Y_test_t)\n"
   ]
  },
  {
   "cell_type": "markdown",
   "id": "8806a619",
   "metadata": {},
   "source": [
    "最终，这个数据集被传递给 DataLoader()，后者将数据传入我们的神经网络。虽然这看起来可能会增加一些开销，但这种结构对于更复杂的任务是非常有用的，尤其是在数据可能分布在不同机器上，或者数据需要传递到 GPU 上的情况下。\n",
    "\n",
    "在 ISLP 中，我们提供了一个辅助函数 SimpleDataModule() 来简化这个任务，便于标准使用。\n",
    "它的一个参数是 num_workers，表示我们将使用多少个进程来加载数据。对于像 Hitters 这样的较小数据集，这个参数的影响不大，但对于下面的 MNIST 和 CIFAR100 示例，它会有显著的性能提升。\n",
    "\n",
    "torch 包会检查当前运行的进程并确定最大可用的工作进程数。\n",
    "（这取决于计算硬件和可用的核心数量）。\n",
    "我们还提供了一个函数 rec_num_workers() 来计算这个值，以帮助我们确定合理的工作进程数（在这里最大值是 16）。"
   ]
  },
  {
   "cell_type": "code",
   "execution_count": 24,
   "id": "337f4f07",
   "metadata": {},
   "outputs": [],
   "source": [
    "# 调用 rec_num_workers() 函数来计算合理的最大工作进程数，并将结果赋值给 max_num_workers\n",
    "max_num_workers = rec_num_workers()\n"
   ]
  },
  {
   "cell_type": "markdown",
   "id": "18928238",
   "metadata": {},
   "source": [
    "在 pytorch_lightning 中，一般的训练设置包括训练、验证和测试数据。这些数据分别由不同的数据加载器（data loaders）表示。每个训练周期（epoch）中，我们会执行以下步骤：\n",
    "\n",
    "训练步骤：用于训练模型并学习参数。\n",
    "\n",
    "验证步骤：用于跟踪误差并监控模型在验证集上的表现。\n",
    "\n",
    "测试数据通常在训练结束时用来评估模型。\n",
    "\n",
    "在本例中，由于我们只进行了训练集和测试集的划分，因此我们将使用测试数据作为验证数据，并通过 validation=hit_test 来指定。\n",
    "validation 参数可以是以下几种形式：\n",
    "\n",
    "浮动数值（float）：介于 0 和 1 之间，表示训练数据中用于验证的比例。\n",
    "\n",
    "整数（integer）：表示用于验证的训练数据的样本数量。\n",
    "\n",
    "Dataset 对象：直接作为验证数据传递给数据加载器。"
   ]
  },
  {
   "cell_type": "code",
   "execution_count": 25,
   "id": "c60b1e3f",
   "metadata": {},
   "outputs": [],
   "source": [
    "# 使用 SimpleDataModule 创建数据模块\n",
    "# 传入训练数据 hit_train、测试数据 hit_test，并设置以下参数：\n",
    "# - batch_size=32：每个批次包含32个样本\n",
    "# - num_workers=min(4, max_num_workers)：数据加载的工作进程数，取 4 和 max_num_workers 中的较小值\n",
    "# - validation=hit_test：将测试数据作为验证数据\n",
    "hit_dm = SimpleDataModule(hit_train,\n",
    "                          hit_test,\n",
    "                          batch_size=32,\n",
    "                          num_workers=min(4, max_num_workers),\n",
    "                          validation=hit_test)\n"
   ]
  },
  {
   "cell_type": "markdown",
   "id": "9e5f527d",
   "metadata": {},
   "source": [
    "接下来，我们需要提供一个 pytorch_lightning 模块，用于控制训练过程中的各个步骤。\n",
    "我们为 SimpleModule() 提供了方法，这些方法在每个训练周期（epoch）结束时，简单地记录损失函数的值和任何附加的度量指标（metrics）。\n",
    "这些操作是通过 SimpleModule.[training/test/validation]_step() 方法来控制的"
   ]
  },
  {
   "cell_type": "code",
   "execution_count": 26,
   "id": "916cfd66",
   "metadata": {},
   "outputs": [],
   "source": [
    "# 使用 SimpleModule 创建一个回归模型模块\n",
    "# 传入已经定义的 hit_model 作为模型，并设置评估指标为均值绝对误差 (Mean Absolute Error, MAE)\n",
    "hit_module = SimpleModule.regression(hit_model,\n",
    "                           metrics={'mae': MeanAbsoluteError()})\n"
   ]
  },
  {
   "cell_type": "markdown",
   "id": "cf7f2d1b",
   "metadata": {},
   "source": [
    "通过使用 SimpleModule.regression() 方法，我们表明将使用 平方误差损失（squared-error loss）。\n",
    "我们还要求跟踪 均值绝对误差（MAE） 作为附加的度量指标，并将其记录在日志中。\n",
    "\n",
    "我们通过 CSVLogger() 来记录结果，该方法将在 logs/hitters 目录下存储结果的 CSV 文件。训练完成后，我们可以加载这个 CSV 文件，将其转换为 pd.DataFrame()，然后在后续步骤中对结果进行可视化。\n",
    "pytorch_lightning 提供了多种日志记录方式"
   ]
  },
  {
   "cell_type": "code",
   "execution_count": 27,
   "id": "44a44fb1",
   "metadata": {},
   "outputs": [],
   "source": [
    "from pytorch_lightning.loggers import CSVLogger\n",
    "\n",
    "# 使用 CSVLogger 记录训练过程的日志\n",
    "# 日志将存储在 'logs' 目录下，并命名为 'hitters' 文件夹\n",
    "hit_logger = CSVLogger('logs', name='hitters')\n"
   ]
  },
  {
   "cell_type": "markdown",
   "id": "f37f19f0",
   "metadata": {},
   "source": [
    "最后，我们准备好训练模型并记录结果。我们使用 pytorch_lightning 中的 Trainer() 对象来执行这项工作。\n",
    "参数 datamodule=hit_dm 告诉训练器如何生成训练、验证和测试日志，而第一个参数 hit_module 则指定了网络架构，并包含了训练、验证和测试步骤。\n",
    "\n",
    "callbacks 参数允许在训练过程中多个阶段执行不同的任务。在这里，我们使用 ErrorTracker() 回调，它会在训练过程中帮助我们计算验证误差，并最终计算测试误差。\n",
    "\n",
    "我们将训练模型 50 个周期（epochs）\n",
    "\n",
    "一个训练周期（epoch）指的是模型完成对整个训练数据集的遍历和参数更新。"
   ]
  },
  {
   "cell_type": "code",
   "execution_count": 29,
   "id": "8e91122a",
   "metadata": {
    "lines_to_next_cell": 0
   },
   "outputs": [
    {
     "name": "stderr",
     "output_type": "stream",
     "text": [
      "Using default `ModelCheckpoint`. Consider installing `litmodels` package to enable `LitModelCheckpoint` for automatic upload to the Lightning model registry.\n",
      "GPU available: False, used: False\n",
      "TPU available: False, using: 0 TPU cores\n",
      "HPU available: False, using: 0 HPUs\n",
      "\n",
      "  | Name  | Type         | Params | Mode \n",
      "-----------------------------------------------\n",
      "0 | model | HittersModel | 1.1 K  | train\n",
      "1 | loss  | MSELoss      | 0      | train\n",
      "-----------------------------------------------\n",
      "1.1 K     Trainable params\n",
      "0         Non-trainable params\n",
      "1.1 K     Total params\n",
      "0.004     Total estimated model params size (MB)\n",
      "8         Modules in train mode\n",
      "0         Modules in eval mode\n",
      "`Trainer.fit` stopped: `max_epochs=50` reached.\n"
     ]
    }
   ],
   "source": [
    "from pytorch_lightning import Trainer\n",
    "# 创建一个 Trainer 对象来管理模型训练过程\n",
    "hit_trainer = Trainer(\n",
    "    deterministic=True,             # 设置确定性结果（确保每次运行结果一致，便于调试）\n",
    "    max_epochs=50,                  # 设置训练周期数为 50\n",
    "    log_every_n_steps=5,            # 每训练 5 个步骤记录一次日志\n",
    "    logger=hit_logger,              # 使用之前定义的 CSVLogger 对象记录日志\n",
    "    callbacks=[ErrorTracker()],      # 使用 ErrorTracker 回调函数跟踪验证和测试误差\n",
    "    enable_progress_bar=False\n",
    ")\n",
    "\n",
    "# 开始训练模型，使用定义好的模型结构和数据模块\n",
    "hit_trainer.fit(hit_module, datamodule=hit_dm)\n"
   ]
  },
  {
   "cell_type": "markdown",
   "id": "67e67f2d",
   "metadata": {},
   "source": [
    "在每一步随机梯度下降（SGD）中，算法会随机选择 32 个训练样本来计算梯度。\n",
    "一个 epoch 的定义是：完成对全部 n 个训练样本的一次处理所需的 SGD 步数。\n",
    "由于我们的训练集共有 n=175 个样本，并且我们在构建 hit_dm 时设定了 batch_size=32，\n",
    "因此一个 epoch 约等于：\n",
    "175/32≈5.5\n",
    "也就是说，一个 epoch 包含大约 5.5 次 SGD 更新步骤。\n",
    "（梯度下降：选择能使得损失函数下降最快的设置迭代更新）"
   ]
  },
  {
   "cell_type": "code",
   "execution_count": 30,
   "id": "e6012d1f",
   "metadata": {
    "lines_to_next_cell": 2
   },
   "outputs": [
    {
     "data": {
      "text/html": [
       "<pre style=\"white-space:pre;overflow-x:auto;line-height:normal;font-family:Menlo,'DejaVu Sans Mono',consolas,'Courier New',monospace\">┏━━━━━━━━━━━━━━━━━━━━━━━━━━━┳━━━━━━━━━━━━━━━━━━━━━━━━━━━┓\n",
       "┃<span style=\"font-weight: bold\">        Test metric        </span>┃<span style=\"font-weight: bold\">       DataLoader 0        </span>┃\n",
       "┡━━━━━━━━━━━━━━━━━━━━━━━━━━━╇━━━━━━━━━━━━━━━━━━━━━━━━━━━┩\n",
       "│<span style=\"color: #008080; text-decoration-color: #008080\">         test_loss         </span>│<span style=\"color: #800080; text-decoration-color: #800080\">      103304.8671875       </span>│\n",
       "│<span style=\"color: #008080; text-decoration-color: #008080\">         test_mae          </span>│<span style=\"color: #800080; text-decoration-color: #800080\">    224.26962280273438     </span>│\n",
       "└───────────────────────────┴───────────────────────────┘\n",
       "</pre>\n"
      ],
      "text/plain": [
       "┏━━━━━━━━━━━━━━━━━━━━━━━━━━━┳━━━━━━━━━━━━━━━━━━━━━━━━━━━┓\n",
       "┃\u001b[1m \u001b[0m\u001b[1m       Test metric       \u001b[0m\u001b[1m \u001b[0m┃\u001b[1m \u001b[0m\u001b[1m      DataLoader 0       \u001b[0m\u001b[1m \u001b[0m┃\n",
       "┡━━━━━━━━━━━━━━━━━━━━━━━━━━━╇━━━━━━━━━━━━━━━━━━━━━━━━━━━┩\n",
       "│\u001b[36m \u001b[0m\u001b[36m        test_loss        \u001b[0m\u001b[36m \u001b[0m│\u001b[35m \u001b[0m\u001b[35m     103304.8671875      \u001b[0m\u001b[35m \u001b[0m│\n",
       "│\u001b[36m \u001b[0m\u001b[36m        test_mae         \u001b[0m\u001b[36m \u001b[0m│\u001b[35m \u001b[0m\u001b[35m   224.26962280273438    \u001b[0m\u001b[35m \u001b[0m│\n",
       "└───────────────────────────┴───────────────────────────┘\n"
      ]
     },
     "metadata": {},
     "output_type": "display_data"
    },
    {
     "data": {
      "text/plain": [
       "[{'test_loss': 103304.8671875, 'test_mae': 224.26962280273438}]"
      ]
     },
     "execution_count": 30,
     "metadata": {},
     "output_type": "execute_result"
    }
   ],
   "source": [
    "# 使用训练好的模型在测试数据集上评估性能\n",
    "# hit_trainer 是训练器对象，控制训练与测试流程\n",
    "# hit_module 是定义好的神经网络模型\n",
    "# datamodule=hit_dm 指定测试数据集来源（hit_dm 中已包含 test 集）\n",
    "hit_trainer.test(hit_module, datamodule=hit_dm)\n"
   ]
  },
  {
   "cell_type": "markdown",
   "id": "88fcc245",
   "metadata": {},
   "source": [
    "本次拟合的结果已被记录到一个 CSV 文件中。我们可以通过 logger 的 experiment.metrics_file_path 属性，找到与此次运行相关的结果文件。\n",
    "\n",
    "请注意：每次训练模型时，logger 都会将结果输出到我们指定的目录 logs/hitters 的一个新的子目录中。\n",
    "\n",
    "接下来，我们将绘制平均绝对误差（MAE）随训练轮数（epoch）变化的图像。\n",
    "首先，我们需要读取记录下来的训练摘要数据。"
   ]
  },
  {
   "cell_type": "code",
   "execution_count": 31,
   "id": "48313d02",
   "metadata": {},
   "outputs": [],
   "source": [
    "# 读取训练过程中记录的结果数据\n",
    "# 使用 pandas 的 read_csv 函数读取 CSV 文件\n",
    "# hit_logger.experiment.metrics_file_path 提供了记录文件的路径\n",
    "# 该路径包含了模型训练过程中记录的所有指标和日志信息\n",
    "hit_results = pd.read_csv(hit_logger.experiment.metrics_file_path)"
   ]
  },
  {
   "cell_type": "code",
   "execution_count": 32,
   "id": "4f9ccf9b",
   "metadata": {
    "lines_to_next_cell": 0
   },
   "outputs": [],
   "source": [
    "# 定义绘制训练和验证指标的函数\n",
    "def summary_plot(results, #包含训练日志数据的 DataFrame\n",
    "                 ax, #要绘制的图形区域\n",
    "                 col='loss', #要绘制的指标名称（默认为 'loss'）\n",
    "                 valid_legend='Validation', #验证集的标签\n",
    "                 training_legend='Training', #训练集的标签\n",
    "                 ylabel='Loss', #Y 轴的标签\n",
    "                 fontsize=20): #字体大小\n",
    "    # 遍历训练和验证集的数据列，依次绘制训练集和验证集的指标\n",
    "    for (column,\n",
    "         color,\n",
    "         label) in zip([f'train_{col}_epoch',   # 训练集的指标列名（如 'train_loss_epoch'）\n",
    "                        f'valid_{col}'],        # 验证集的指标列名（如 'valid_loss'）\n",
    "                   ['black',                   # 训练集使用黑色\n",
    "                    'red'],                    # 验证集使用红色\n",
    "                   [training_legend,          # 训练集的标签\n",
    "                    valid_legend]):           # 验证集的标签\n",
    "        # 在指定的图形区域上绘制每一条曲线\n",
    "        results.plot(x='epoch',          # X 轴：训练的 epoch 数\n",
    "                     y=column,           # Y 轴：要绘制的指标数据（训练或验证）\n",
    "                     label=label,        # 曲线的标签\n",
    "                     marker='o',         # 数据点标记为圆圈\n",
    "                     color=color,        # 设置颜色\n",
    "                     ax=ax)              # 在指定的图形区域绘制\n",
    "    ax.set_xlabel('Epoch')                # 设置 X 轴标签\n",
    "    ax.set_ylabel(ylabel)                 # 设置 Y 轴标签\n",
    "    return ax                             # 返回图形区域对象（ax）\n"
   ]
  },
  {
   "cell_type": "code",
   "execution_count": 33,
   "id": "3d77370a",
   "metadata": {
    "lines_to_next_cell": 2
   },
   "outputs": [
    {
     "data": {
      "image/png": "[encoded data removed]",
      "text/plain": [
       "<Figure size 600x600 with 1 Axes>"
      ]
     },
     "metadata": {},
     "output_type": "display_data"
    }
   ],
   "source": [
    "# 创建一个 1x1 的子图，图像大小为 6x6 英寸\n",
    "fig, ax = subplots(1, 1, figsize=(6, 6))\n",
    "\n",
    "# 绘制 MAE 随训练轮数变化的曲线，并设置 Y 轴标签和验证集标签\n",
    "ax = summary_plot(hit_results,\n",
    "                  ax,\n",
    "                  col='mae',                # 绘制 MAE 指标\n",
    "                  ylabel='MAE',             # 设置 Y 轴标签\n",
    "                  valid_legend='Validation (=Test)')  # 设置验证集标签\n",
    "\n",
    "# 设置 Y 轴范围为 0 到 400\n",
    "ax.set_ylim([0, 400])\n",
    "\n",
    "# 设置 X 轴刻度为 0 到 50 之间的 11 个整数\n",
    "ax.set_xticks(np.linspace(0, 50, 11).astype(int));  \n"
   ]
  },
  {
   "cell_type": "markdown",
   "id": "ac0b2b37",
   "metadata": {},
   "source": [
    "我们可以直接使用最终模型进行预测，并在测试数据上评估其性能。\n",
    "\n",
    "在拟合之前，我们调用 hit_model 的 eval() 方法。这告诉 torch 将模型视为已经拟合完成，从而可以用于对新数据进行预测。对于我们的模型，最大的变化是 dropout 层将被关闭，即在对新数据进行预测时，不会随机丢弃权重。"
   ]
  },
  {
   "cell_type": "code",
   "execution_count": 34,
   "id": "e6a48733",
   "metadata": {
    "lines_to_next_cell": 0
   },
   "outputs": [
    {
     "data": {
      "text/plain": [
       "tensor(224.2696, grad_fn=<MeanBackward0>)"
      ]
     },
     "execution_count": 34,
     "metadata": {},
     "output_type": "execute_result"
    }
   ],
   "source": [
    "# 设置模型为评估模式，禁用 dropout 层，以便在预测时使用完整的模型\n",
    "hit_model.eval()\n",
    "\n",
    "# 使用训练好的模型进行预测，X_test_t 是测试集特征数据\n",
    "preds = hit_module(X_test_t)\n",
    "\n",
    "# 计算预测值与真实值之间的绝对误差，并求平均值\n",
    "# torch.abs() 计算绝对值，mean() 求平均\n",
    "torch.abs(Y_test_t - preds).mean()\n"
   ]
  },
  {
   "cell_type": "markdown",
   "id": "b51594bb",
   "metadata": {},
   "source": [
    "### Cleanup"
   ]
  },
  {
   "cell_type": "code",
   "execution_count": 35,
   "id": "78ca542d",
   "metadata": {
    "lines_to_next_cell": 2
   },
   "outputs": [],
   "source": [
    "del(Hitters,\n",
    "    hit_model, hit_dm,\n",
    "    hit_logger,\n",
    "    hit_test, hit_train,\n",
    "    X, Y,\n",
    "    X_test, X_train,\n",
    "    Y_test, Y_train,\n",
    "    X_test_t, Y_test_t,\n",
    "    hit_trainer, hit_module)\n"
   ]
  },
  {
   "cell_type": "markdown",
   "id": "42547131",
   "metadata": {},
   "source": [
    "## Multilayer Network on the MNIST Digit Data\n",
    "多层神经网络在 MNIST 数字数据集上的应用\n",
    "torchvision 包提供了多个示例数据集，其中包括 MNIST 数字数据集。\n",
    "第一步是获取训练集和测试集，torchvision.datasets 中的 MNIST() 函数便是为此提供的。"
   ]
  },
  {
   "cell_type": "code",
   "execution_count": 36,
   "id": "7a6d7416",
   "metadata": {},
   "outputs": [
    {
     "data": {
      "text/plain": [
       "Dataset MNIST\n",
       "    Number of datapoints: 60000\n",
       "    Root location: data\n",
       "    Split: Train\n",
       "    StandardTransform\n",
       "Transform: ToTensor()"
      ]
     },
     "execution_count": 36,
     "metadata": {},
     "output_type": "execute_result"
    }
   ],
   "source": [
    "# 加载 MNIST 数据集，分为训练集和测试集\n",
    "# root='data' 指定数据存储的目录，train=True 表示加载训练集，train=False 表示加载测试集\n",
    "# download=True 表示如果数据不存在会自动下载\n",
    "# transform=ToTensor() 将数据转换为 tensor 格式，便于后续使用\n",
    "(mnist_train, \n",
    " mnist_test) = [MNIST(root='data',\n",
    "                      train=train,\n",
    "                      download=True,\n",
    "                      transform=ToTensor())\n",
    "                for train in [True, False]]\n",
    "\n",
    "# 输出训练集数据（mnist_train）\n",
    "mnist_train  # 这行代码显示训练集的基本信息（如样本数、类别等）\n"
   ]
  },
  {
   "cell_type": "code",
   "execution_count": 38,
   "id": "f1f76fa8-d05b-4f63-86db-ee7a59422341",
   "metadata": {},
   "outputs": [
    {
     "data": {
      "image/png": "[encoded data removed]",
      "text/plain": [
       "<Figure size 640x480 with 5 Axes>"
      ]
     },
     "metadata": {},
     "output_type": "display_data"
    }
   ],
   "source": [
    "import matplotlib.pyplot as plt\n",
    "\n",
    "# 显示前5张图片及其标签\n",
    "for i in range(5):\n",
    "    image, label = mnist_train[i]\n",
    "    plt.subplot(1, 5, i+1)\n",
    "    plt.imshow(image.squeeze(), cmap='gray')  # squeeze() 去掉通道维度\n",
    "    plt.title(str(label))\n",
    "    plt.axis('off')\n",
    "\n",
    "plt.show()\n"
   ]
  },
  {
   "cell_type": "markdown",
   "id": "23bf4a88",
   "metadata": {},
   "source": [
    "训练数据集中有 60,000 张图像，测试数据集中有 10,000 张图像。每张图像的大小为 $28 \\times 28$，并以像素矩阵的形式存储。我们需要将每张图像转换成一个向量。\n",
    "\n",
    "神经网络对输入数据的尺度比较敏感，就像岭回归和 Lasso 正则化对数据尺度的敏感性一样。在这里，输入数据是 8 位灰度值，范围从 0 到 255，因此我们需要将其归一化到单位区间 [0, 1]。{注意：8 位意味着 $2^8$，即 256。由于约定从 0 开始，因此可能的值范围是从 0 到 255。} 这个转换过程以及一些轴重排操作由 torchvision.transforms 包中的 ToTensor() 转换实现。\n",
    "\n",
    "与我们在 Hitters 示例中做的类似，我们将训练集和测试集构建为数据模块，并将 20% 的训练图像留作验证集。"
   ]
  },
  {
   "cell_type": "code",
   "execution_count": 39,
   "id": "e6c5e82c",
   "metadata": {},
   "outputs": [],
   "source": [
    "# 创建 MNIST 数据模块，分为训练集和测试集\n",
    "mnist_dm = SimpleDataModule(mnist_train,\n",
    "                            mnist_test,\n",
    "                            validation=0.2,        # 留出 20% 训练集数据作为验证集\n",
    "                            num_workers=max_num_workers,  # 设置数据加载的最大工作进程数\n",
    "                            batch_size=256)        # 每批次 256 张图像\n"
   ]
  },
  {
   "cell_type": "markdown",
   "id": "73614d27",
   "metadata": {},
   "source": [
    "让我们看一下将被输入到神经网络中的数据。我们遍历测试数据集的前几个批次，处理完两个批次后停止"
   ]
  },
  {
   "cell_type": "code",
   "execution_count": 40,
   "id": "6ecf940c",
   "metadata": {
    "lines_to_next_cell": 2
   },
   "outputs": [
    {
     "name": "stdout",
     "output_type": "stream",
     "text": [
      "X:  torch.Size([256, 1, 28, 28])\n",
      "Y:  torch.Size([256])\n",
      "X:  torch.Size([256, 1, 28, 28])\n",
      "Y:  torch.Size([256])\n"
     ]
    }
   ],
   "source": [
    "# 遍历训练数据集的批次，查看每个批次的特征数据和标签数据的形状\n",
    "for idx, (X_, Y_) in enumerate(mnist_dm.train_dataloader()):\n",
    "    print('X: ', X_.shape)  # 输出当前批次的特征数据的形状\n",
    "    print('Y: ', Y_.shape)  # 输出当前批次的标签数据的形状\n",
    "    if idx >= 1:  # 处理完第一个批次后停止\n",
    "        break\n"
   ]
  },
  {
   "cell_type": "markdown",
   "id": "6e0b2d96",
   "metadata": {},
   "source": [
    "我们看到每个批次的 X 包含 256 张大小为 1x28x28 的图像。这里的 1 表示单通道（灰度图像）。对于像 CIFAR100 这样的 RGB 图像，我们会看到图像的大小中 1 被替换为 3，表示三个 RGB 通道。\n",
    "\n",
    "现在，我们准备好定义我们的神经网络。"
   ]
  },
  {
   "cell_type": "code",
   "execution_count": 41,
   "id": "f4c49bab",
   "metadata": {},
   "outputs": [],
   "source": [
    "# 定义 MNIST 模型类\n",
    "class MNISTModel(nn.Module):\n",
    "    def __init__(self):\n",
    "        super(MNISTModel, self).__init__()  # 调用父类的构造函数\n",
    "        # 第一个层，包含展平层、全连接层、ReLU 激活函数和 Dropout 层\n",
    "        self.layer1 = nn.Sequential(\n",
    "            nn.Flatten(),  # 展平输入数据，将 28x28 的图像转换为 1D 向量\n",
    "            nn.Linear(28*28, 256),  # 全连接层，输入 28*28（784），输出 256\n",
    "            nn.ReLU(),  # 激活函数 ReLU\n",
    "            nn.Dropout(0.4))  # Dropout 层，防止过拟合，随机丢弃 40% 的神经元\n",
    "\n",
    "        # 第二个层，包含全连接层、ReLU 激活函数和 Dropout 层\n",
    "        self.layer2 = nn.Sequential(\n",
    "            nn.Linear(256, 128),  # 全连接层，输入 256，输出 128\n",
    "            nn.ReLU(),  # 激活函数 ReLU\n",
    "            nn.Dropout(0.3))  # Dropout 层，随机丢弃 30% 的神经元\n",
    "\n",
    "        # 定义最后的前向传播部分\n",
    "        self._forward = nn.Sequential(\n",
    "            self.layer1,  # 第一个层\n",
    "            self.layer2,  # 第二个层\n",
    "            nn.Linear(128, 10))  # 最后的全连接层，输出 10 类\n",
    "\n",
    "    # 定义前向传播方法\n",
    "    def forward(self, x):\n",
    "        return self._forward(x)  # 返回前向传播的结果\n"
   ]
  },
  {
   "cell_type": "markdown",
   "id": "7e25c568",
   "metadata": {},
   "source": [
    "我们看到在第一层中，每张 1x28x28 的图像首先被展平（flatten），然后映射到 256 个维度，并应用 ReLU 激活函数，同时进行 40% 的 Dropout 操作。\n",
    "\n",
    "第二层将第一层的输出映射到 128 个维度，应用 ReLU 激活函数并进行 30% 的 Dropout 操作。\n",
    "\n",
    "最后，将 128 个维度映射到 10 个维度，表示 MNIST 数据集中的 10 个类别。"
   ]
  },
  {
   "cell_type": "code",
   "execution_count": 42,
   "id": "8dd2770f",
   "metadata": {},
   "outputs": [],
   "source": [
    "mnist_model = MNISTModel()"
   ]
  },
  {
   "cell_type": "markdown",
   "id": "3d0e8c1b",
   "metadata": {},
   "source": [
    "我们可以检查模型是否能根据我们之前的批次 X_ 生成预期大小的输出"
   ]
  },
  {
   "cell_type": "code",
   "execution_count": 43,
   "id": "c916312b",
   "metadata": {},
   "outputs": [
    {
     "data": {
      "text/plain": [
       "torch.Size([256, 10])"
      ]
     },
     "execution_count": 43,
     "metadata": {},
     "output_type": "execute_result"
    }
   ],
   "source": [
    "mnist_model(X_).size()"
   ]
  },
  {
   "cell_type": "markdown",
   "id": "a3158809",
   "metadata": {},
   "source": [
    "我们可以查看模型的摘要。不同于传递 input_size，我们可以直接传递一个形状正确的张量。在这种情况下，我们传递之前批处理的 X_。"
   ]
  },
  {
   "cell_type": "code",
   "execution_count": 44,
   "id": "54a6b6b2",
   "metadata": {},
   "outputs": [
    {
     "data": {
      "text/plain": [
       "===================================================================================================================\n",
       "Layer (type:depth-idx)                   Input Shape               Output Shape              Param #\n",
       "===================================================================================================================\n",
       "MNISTModel                               [256, 1, 28, 28]          [256, 10]                 --\n",
       "├─Sequential: 1-1                        [256, 1, 28, 28]          [256, 10]                 --\n",
       "│    └─Sequential: 2-1                   [256, 1, 28, 28]          [256, 256]                --\n",
       "│    │    └─Flatten: 3-1                 [256, 1, 28, 28]          [256, 784]                --\n",
       "│    │    └─Linear: 3-2                  [256, 784]                [256, 256]                200,960\n",
       "│    │    └─ReLU: 3-3                    [256, 256]                [256, 256]                --\n",
       "│    │    └─Dropout: 3-4                 [256, 256]                [256, 256]                --\n",
       "│    └─Sequential: 2-2                   [256, 256]                [256, 128]                --\n",
       "│    │    └─Linear: 3-5                  [256, 256]                [256, 128]                32,896\n",
       "│    │    └─ReLU: 3-6                    [256, 128]                [256, 128]                --\n",
       "│    │    └─Dropout: 3-7                 [256, 128]                [256, 128]                --\n",
       "│    └─Linear: 2-3                       [256, 128]                [256, 10]                 1,290\n",
       "===================================================================================================================\n",
       "Total params: 235,146\n",
       "Trainable params: 235,146\n",
       "Non-trainable params: 0\n",
       "Total mult-adds (Units.MEGABYTES): 60.20\n",
       "===================================================================================================================\n",
       "Input size (MB): 0.80\n",
       "Forward/backward pass size (MB): 0.81\n",
       "Params size (MB): 0.94\n",
       "Estimated Total Size (MB): 2.55\n",
       "==================================================================================================================="
      ]
     },
     "execution_count": 44,
     "metadata": {},
     "output_type": "execute_result"
    }
   ],
   "source": [
    "summary(mnist_model,\n",
    "        input_data=X_,\n",
    "        col_names=['input_size',\n",
    "                   'output_size',\n",
    "                   'num_params'])  # 传递模型和输入数据，查看模型摘要，包括输入大小、输出大小和参数数量\n"
   ]
  },
  {
   "cell_type": "markdown",
   "id": "e76a07df",
   "metadata": {},
   "source": [
    "设置模型和数据模块后，拟合模型\n",
    "一旦设置好模型和数据模块，拟合这个模型与 Hitters 示例几乎是相同的。\n",
    "与回归模型不同的是，这里我们将使用 SimpleModule.classification() 方法，该方法使用交叉熵损失函数，而不是均方误差损失函数。"
   ]
  },
  {
   "cell_type": "code",
   "execution_count": 45,
   "id": "c1fa96fd",
   "metadata": {},
   "outputs": [],
   "source": [
    "mnist_module = SimpleModule.classification(mnist_model,  # 使用 SimpleModule 类的 classification 方法，设置为分类任务\n",
    "                                           num_classes=10)  # 设置分类问题的类别数，这里是 10 类\n",
    "\n",
    "mnist_logger = CSVLogger('logs', name='MNIST')  # 创建 CSVLogger 对象，用于记录训练过程中的日志数据\n"
   ]
  },
  {
   "cell_type": "markdown",
   "id": "106c0f38",
   "metadata": {},
   "source": [
    "准备训练数据并拟合模型\n",
    "现在，我们准备好进行训练了。最后一步是提供训练数据并拟合模型。我们禁用了进度条，以避免在浏览器中运行时出现冗长的输出。"
   ]
  },
  {
   "cell_type": "code",
   "execution_count": 46,
   "id": "25515af7",
   "metadata": {
    "lines_to_next_cell": 0
   },
   "outputs": [
    {
     "name": "stderr",
     "output_type": "stream",
     "text": [
      "Using default `ModelCheckpoint`. Consider installing `litmodels` package to enable `LitModelCheckpoint` for automatic upload to the Lightning model registry.\n",
      "GPU available: False, used: False\n",
      "TPU available: False, using: 0 TPU cores\n",
      "HPU available: False, using: 0 HPUs\n",
      "\n",
      "  | Name  | Type             | Params | Mode \n",
      "---------------------------------------------------\n",
      "0 | model | MNISTModel       | 235 K  | train\n",
      "1 | loss  | CrossEntropyLoss | 0      | train\n",
      "---------------------------------------------------\n",
      "235 K     Trainable params\n",
      "0         Non-trainable params\n",
      "235 K     Total params\n",
      "0.941     Total estimated model params size (MB)\n",
      "13        Modules in train mode\n",
      "0         Modules in eval mode\n",
      "`Trainer.fit` stopped: `max_epochs=30` reached.\n"
     ]
    }
   ],
   "source": [
    "mnist_trainer = Trainer(deterministic=True,  # 设置为确定性训练，确保每次训练的结果相同\n",
    "                        max_epochs=30,  # 设置最大训练轮数为 30\n",
    "                        logger=mnist_logger,  # 传入日志记录器，将训练过程中的日志存储到指定位置\n",
    "                        enable_progress_bar=False,  # 禁用进度条，避免在浏览器中看到过长的输出\n",
    "                        callbacks=[ErrorTracker()])  # 添加回调函数，计算并记录验证误差和测试误差\n",
    "\n",
    "mnist_trainer.fit(mnist_module,  # 开始训练，传入分类模型\n",
    "                  datamodule=mnist_dm)  # 传入数据模块，用于加载训练和验证数据\n"
   ]
  },
  {
   "cell_type": "markdown",
   "id": "0e12d8c7",
   "metadata": {},
   "source": [
    "在这里，我们指定了 20% 的验证集拆分，因此训练实际上是在训练集的 60,000 个样本中的 80% 上进行的。这是另一种指定验证数据集的方式，类似于我们在 Hitters 数据中所做的操作。\n",
    "\n",
    "SGD 使用 256 个样本的小批量来计算梯度，经过计算，我们得出一个 epoch 对应 188 次梯度更新步骤。"
   ]
  },
  {
   "cell_type": "markdown",
   "id": "eb25107e",
   "metadata": {},
   "source": [
    "SimpleModule.classification() 包含默认的准确率指标\n",
    "SimpleModule.classification() 默认包含了一个准确率指标。其他分类指标可以从 torchmetrics 中添加。我们将使用我们的 summary_plot() 函数来展示准确率随 epoch 变化的情况。"
   ]
  },
  {
   "cell_type": "code",
   "execution_count": 47,
   "id": "872fed35",
   "metadata": {
    "lines_to_next_cell": 0
   },
   "outputs": [
    {
     "data": {
      "text/plain": [
       "[<matplotlib.axis.XTick at 0x1aea10c32c0>,\n",
       " <matplotlib.axis.XTick at 0x1aea23d0d70>,\n",
       " <matplotlib.axis.XTick at 0x1aea23db530>,\n",
       " <matplotlib.axis.XTick at 0x1aea23dc470>,\n",
       " <matplotlib.axis.XTick at 0x1aea23df920>,\n",
       " <matplotlib.axis.XTick at 0x1aea23de870>,\n",
       " <matplotlib.axis.XTick at 0x1aea23be810>]"
      ]
     },
     "execution_count": 47,
     "metadata": {},
     "output_type": "execute_result"
    },
    {
     "data": {
      "image/png": "[encoded data removed]",
      "text/plain": [
       "<Figure size 600x600 with 1 Axes>"
      ]
     },
     "metadata": {},
     "output_type": "display_data"
    }
   ],
   "source": [
    "# 读取训练过程中记录的结果\n",
    "mnist_results = pd.read_csv(mnist_logger.experiment.metrics_file_path)\n",
    "\n",
    "# 创建一个新的图形和坐标轴，设置图形大小为 6x6\n",
    "fig, ax = subplots(1, 1, figsize=(6, 6))\n",
    "\n",
    "# 使用 summary_plot 函数绘制训练和验证准确率随 epoch 变化的图\n",
    "summary_plot(mnist_results,  # 使用训练过程中的结果数据\n",
    "             ax,  # 传入坐标轴\n",
    "             col='accuracy',  # 指定显示准确率\n",
    "             ylabel='Accuracy')  # 设置 y 轴标签为准确率\n",
    "\n",
    "# 设置 y 轴的范围为 0.5 到 1，因为准确率通常在这个区间内\n",
    "ax.set_ylim([0.5, 1])\n",
    "\n",
    "# 设置 y 轴的标签为 'Accuracy'\n",
    "ax.set_ylabel('Accuracy')\n",
    "\n",
    "# 设置 x 轴的刻度为 0 到 30，显示 7 个等间距的值\n",
    "ax.set_xticks(np.linspace(0, 30, 7).astype(int))\n"
   ]
  },
  {
   "cell_type": "markdown",
   "id": "5e1c8d5c",
   "metadata": {},
   "source": [
    "再次使用 test() 方法评估准确率\n",
    "我们再次使用 trainer 的 test() 方法来评估模型的准确率。该模型在测试数据上达到了 96% 的准确率。"
   ]
  },
  {
   "cell_type": "code",
   "execution_count": 48,
   "id": "4551c956",
   "metadata": {},
   "outputs": [
    {
     "data": {
      "text/html": [
       "<pre style=\"white-space:pre;overflow-x:auto;line-height:normal;font-family:Menlo,'DejaVu Sans Mono',consolas,'Courier New',monospace\">┏━━━━━━━━━━━━━━━━━━━━━━━━━━━┳━━━━━━━━━━━━━━━━━━━━━━━━━━━┓\n",
       "┃<span style=\"font-weight: bold\">        Test metric        </span>┃<span style=\"font-weight: bold\">       DataLoader 0        </span>┃\n",
       "┡━━━━━━━━━━━━━━━━━━━━━━━━━━━╇━━━━━━━━━━━━━━━━━━━━━━━━━━━┩\n",
       "│<span style=\"color: #008080; text-decoration-color: #008080\">       test_accuracy       </span>│<span style=\"color: #800080; text-decoration-color: #800080\">     0.967199981212616     </span>│\n",
       "│<span style=\"color: #008080; text-decoration-color: #008080\">         test_loss         </span>│<span style=\"color: #800080; text-decoration-color: #800080\">    0.14888174831867218    </span>│\n",
       "└───────────────────────────┴───────────────────────────┘\n",
       "</pre>\n"
      ],
      "text/plain": [
       "┏━━━━━━━━━━━━━━━━━━━━━━━━━━━┳━━━━━━━━━━━━━━━━━━━━━━━━━━━┓\n",
       "┃\u001b[1m \u001b[0m\u001b[1m       Test metric       \u001b[0m\u001b[1m \u001b[0m┃\u001b[1m \u001b[0m\u001b[1m      DataLoader 0       \u001b[0m\u001b[1m \u001b[0m┃\n",
       "┡━━━━━━━━━━━━━━━━━━━━━━━━━━━╇━━━━━━━━━━━━━━━━━━━━━━━━━━━┩\n",
       "│\u001b[36m \u001b[0m\u001b[36m      test_accuracy      \u001b[0m\u001b[36m \u001b[0m│\u001b[35m \u001b[0m\u001b[35m    0.967199981212616    \u001b[0m\u001b[35m \u001b[0m│\n",
       "│\u001b[36m \u001b[0m\u001b[36m        test_loss        \u001b[0m\u001b[36m \u001b[0m│\u001b[35m \u001b[0m\u001b[35m   0.14888174831867218   \u001b[0m\u001b[35m \u001b[0m│\n",
       "└───────────────────────────┴───────────────────────────┘\n"
      ]
     },
     "metadata": {},
     "output_type": "display_data"
    },
    {
     "data": {
      "text/plain": [
       "[{'test_loss': 0.14888174831867218, 'test_accuracy': 0.967199981212616}]"
      ]
     },
     "execution_count": 48,
     "metadata": {},
     "output_type": "execute_result"
    }
   ],
   "source": [
    "mnist_trainer.test(mnist_module,\n",
    "                   datamodule=mnist_dm)"
   ]
  },
  {
   "cell_type": "code",
   "execution_count": 49,
   "id": "cbf4d0d2",
   "metadata": {},
   "outputs": [],
   "source": [
    "# 定义一个简单的线性分类器，用于 MNIST 数据集的分类任务\n",
    "class MNIST_MLR(nn.Module):\n",
    "    def __init__(self):\n",
    "        # 初始化父类 nn.Module\n",
    "        super(MNIST_MLR, self).__init__()\n",
    "        \n",
    "        # 定义一个顺序层，其中包含 Flatten 和 Linear 层\n",
    "        # Flatten：将输入的 28x28 图像展平为一维向量（784个元素）\n",
    "        # Linear：从784维的输入映射到10个类别（对应数字0-9）\n",
    "        self.linear = nn.Sequential(\n",
    "            nn.Flatten(),  # 将输入的28x28图像展平\n",
    "            nn.Linear(784, 10)  # 从784维到10维（10个分类）\n",
    "        )\n",
    "\n",
    "    def forward(self, x):\n",
    "        # 前向传播，通过线性层进行分类\n",
    "        return self.linear(x)\n",
    "\n",
    "# 创建模型实例\n",
    "mlr_model = MNIST_MLR()\n",
    "\n",
    "# 使用 SimpleModule.classification 来定义一个分类任务的模块\n",
    "# 该模块用于训练和评估模型，并且会使用交叉熵损失\n",
    "mlr_module = SimpleModule.classification(mlr_model,\n",
    "                                         num_classes=10)\n",
    "\n",
    "# 创建一个 CSVLogger 用于日志记录，保存训练过程中的日志信息\n",
    "mlr_logger = CSVLogger('logs', name='MNIST_MLR')\n"
   ]
  },
  {
   "cell_type": "code",
   "execution_count": 50,
   "id": "6ff23014",
   "metadata": {
    "lines_to_next_cell": 0
   },
   "outputs": [
    {
     "name": "stderr",
     "output_type": "stream",
     "text": [
      "Using default `ModelCheckpoint`. Consider installing `litmodels` package to enable `LitModelCheckpoint` for automatic upload to the Lightning model registry.\n",
      "GPU available: False, used: False\n",
      "TPU available: False, using: 0 TPU cores\n",
      "HPU available: False, using: 0 HPUs\n",
      "E:\\fenglixuan\\anaconda3\\Lib\\site-packages\\pytorch_lightning\\trainer\\connectors\\logger_connector\\logger_connector.py:76: Starting from v1.9.0, `tensorboardX` has been removed as a dependency of the `pytorch_lightning` package, due to potential conflicts with other packages in the ML ecosystem. For this reason, `logger=True` will use `CSVLogger` as the default logger, unless the `tensorboard` or `tensorboardX` packages are found. Please `pip install lightning[extra]` or one of them to enable TensorBoard support by default\n",
      "\n",
      "  | Name  | Type             | Params | Mode \n",
      "---------------------------------------------------\n",
      "0 | model | MNIST_MLR        | 7.9 K  | train\n",
      "1 | loss  | CrossEntropyLoss | 0      | train\n",
      "---------------------------------------------------\n",
      "7.9 K     Trainable params\n",
      "0         Non-trainable params\n",
      "7.9 K     Total params\n",
      "0.031     Total estimated model params size (MB)\n",
      "5         Modules in train mode\n",
      "0         Modules in eval mode\n",
      "`Trainer.fit` stopped: `max_epochs=30` reached.\n"
     ]
    }
   ],
   "source": [
    "# 创建一个 Trainer 对象，用于训练模型\n",
    "# 设置 deterministic=True 以确保每次训练结果相同（即使使用随机数），保证可复现性\n",
    "# 设置 max_epochs=30 进行 30 个训练周期\n",
    "# enable_progress_bar=False 禁用进度条显示，避免输出过长\n",
    "# callbacks=[ErrorTracker()] 添加一个回调函数，追踪训练过程中的错误\n",
    "mlr_trainer = Trainer(deterministic=True,\n",
    "                      max_epochs=30,  # 设置训练周期数\n",
    "                      enable_progress_bar=False,  # 禁用进度条\n",
    "                      callbacks=[ErrorTracker()])  # 添加错误追踪回调函数\n",
    "\n",
    "# 训练模型，通过传入 mlr_module 和 mnist_dm 数据模块来启动训练\n",
    "mlr_trainer.fit(mlr_module, datamodule=mnist_dm)  # 开始训练\n"
   ]
  },
  {
   "cell_type": "code",
   "execution_count": 51,
   "id": "ca159ef2",
   "metadata": {
    "lines_to_next_cell": 0
   },
   "outputs": [
    {
     "data": {
      "text/html": [
       "<pre style=\"white-space:pre;overflow-x:auto;line-height:normal;font-family:Menlo,'DejaVu Sans Mono',consolas,'Courier New',monospace\">┏━━━━━━━━━━━━━━━━━━━━━━━━━━━┳━━━━━━━━━━━━━━━━━━━━━━━━━━━┓\n",
       "┃<span style=\"font-weight: bold\">        Test metric        </span>┃<span style=\"font-weight: bold\">       DataLoader 0        </span>┃\n",
       "┡━━━━━━━━━━━━━━━━━━━━━━━━━━━╇━━━━━━━━━━━━━━━━━━━━━━━━━━━┩\n",
       "│<span style=\"color: #008080; text-decoration-color: #008080\">       test_accuracy       </span>│<span style=\"color: #800080; text-decoration-color: #800080\">    0.9240999817848206     </span>│\n",
       "│<span style=\"color: #008080; text-decoration-color: #008080\">         test_loss         </span>│<span style=\"color: #800080; text-decoration-color: #800080\">    0.3186826705932617     </span>│\n",
       "└───────────────────────────┴───────────────────────────┘\n",
       "</pre>\n"
      ],
      "text/plain": [
       "┏━━━━━━━━━━━━━━━━━━━━━━━━━━━┳━━━━━━━━━━━━━━━━━━━━━━━━━━━┓\n",
       "┃\u001b[1m \u001b[0m\u001b[1m       Test metric       \u001b[0m\u001b[1m \u001b[0m┃\u001b[1m \u001b[0m\u001b[1m      DataLoader 0       \u001b[0m\u001b[1m \u001b[0m┃\n",
       "┡━━━━━━━━━━━━━━━━━━━━━━━━━━━╇━━━━━━━━━━━━━━━━━━━━━━━━━━━┩\n",
       "│\u001b[36m \u001b[0m\u001b[36m      test_accuracy      \u001b[0m\u001b[36m \u001b[0m│\u001b[35m \u001b[0m\u001b[35m   0.9240999817848206    \u001b[0m\u001b[35m \u001b[0m│\n",
       "│\u001b[36m \u001b[0m\u001b[36m        test_loss        \u001b[0m\u001b[36m \u001b[0m│\u001b[35m \u001b[0m\u001b[35m   0.3186826705932617    \u001b[0m\u001b[35m \u001b[0m│\n",
       "└───────────────────────────┴───────────────────────────┘\n"
      ]
     },
     "metadata": {},
     "output_type": "display_data"
    },
    {
     "data": {
      "text/plain": [
       "[{'test_loss': 0.3186826705932617, 'test_accuracy': 0.9240999817848206}]"
      ]
     },
     "execution_count": 51,
     "metadata": {},
     "output_type": "execute_result"
    }
   ],
   "source": [
    "mlr_trainer.test(mlr_module,\n",
    "                 datamodule=mnist_dm)"
   ]
  },
  {
   "cell_type": "code",
   "execution_count": 52,
   "id": "5842c930",
   "metadata": {
    "lines_to_next_cell": 2
   },
   "outputs": [],
   "source": [
    "del(mnist_test,\n",
    "    mnist_train,\n",
    "    mnist_model,\n",
    "    mnist_dm,\n",
    "    mnist_trainer,\n",
    "    mnist_module,\n",
    "    mnist_results,\n",
    "    mlr_model,\n",
    "    mlr_module,\n",
    "    mlr_trainer)"
   ]
  },
  {
   "cell_type": "markdown",
   "id": "e80c2601",
   "metadata": {},
   "source": [
    "## IMDB Document Classification\n",
    "对 IMDB 数据集实现情感分类模型"
   ]
  },
  {
   "cell_type": "code",
   "execution_count": 14,
   "id": "30285383",
   "metadata": {
    "lines_to_next_cell": 0
   },
   "outputs": [
    {
     "data": {
      "text/plain": [
       "array([   1,   14,   22,   16,   43,  530,  973, 1622, 1385,   65,  458,\n",
       "       4468])"
      ]
     },
     "execution_count": 14,
     "metadata": {},
     "output_type": "execute_result"
    }
   ],
   "source": [
    "# 影评数据已经被预处理成了数字序列 —— 每个数字代表一个单词在词典中的编号\n",
    "(imdb_seq_train, imdb_seq_test) = load_sequential(root='data/IMDB') \n",
    "# 加载顺序化的 IMDB 数据，限制每条影评最多保留 500 个词\n",
    "\n",
    "padded_sample = np.asarray(imdb_seq_train.tensors[0][0]) \n",
    "# 取训练集中第一个样本的张量数据，并转换为 NumPy 数组（shape: [500]）\n",
    "\n",
    "sample_review = padded_sample[padded_sample > 0][:12] \n",
    "# 去除填充（值为0的部分），只保留前12个非0单词索引\n",
    "\n",
    "sample_review[:12]  \n",
    "# 查看前12个有效的词索引，表示一段真实影评的词语编号\n"
   ]
  },
  {
   "cell_type": "markdown",
   "id": "cf823309",
   "metadata": {},
   "source": [
    "数据集 imdb_seq_train 和 imdb_seq_test 都是 TensorDataset 类的实例。\n",
    "用于构建它们的张量保存在其 tensors 属性中，其中第一个张量是特征 X，第二个是标签 Y。\n",
    "我们取了特征的第一行并将其存储为 padded_sample。在对这些数据进行预处理时，如果序列长度不足，会在开头用 0 进行填充，因此我们通过仅保留 padded_sample > 0 的部分来去除这些填充。\n",
    "随后，我们提供了该影评样本的前 12 个单词。\n",
    "\n",
    "我们可以通过 ISLP.torch.imdb 模块中的 lookup 字典来查找这些单词的具体内容。"
   ]
  },
  {
   "cell_type": "code",
   "execution_count": 15,
   "id": "0bfe31c0",
   "metadata": {},
   "outputs": [
    {
     "data": {
      "text/plain": [
       "\"<START> this film was just brilliant casting location scenery story direction everyone's\""
      ]
     },
     "execution_count": 15,
     "metadata": {},
     "output_type": "execute_result"
    }
   ],
   "source": [
    "lookup = load_lookup(root='data/IMDB')  # 加载词汇索引表（字典），将整数索引映射回原始单词\n",
    "\n",
    "' '.join(lookup[i] for i in sample_review)  # 将 sample_review 中的索引转换为单词，并用空格连接成一句完整的影评片段\n"
   ]
  },
  {
   "cell_type": "markdown",
   "id": "be8794d4",
   "metadata": {},
   "source": [
    "在我们的第一个模型中，我们为数据集中所有可能的 10,000 个单词分别创建了一个二元特征（binary feature）：\n",
    "\n",
    "如果某个单词在某条影评中出现，该单词对应的特征位置就设为 1；\n",
    "\n",
    "如果没有出现，则设为 0。\n",
    "\n",
    "由于大多数影评都比较短（远远少于 10,000 个单词），因此这个特征矩阵中 超过 98% 的元素都是 0，也就是一个高度稀疏的矩阵。\n",
    "\n",
    "这些数据可以通过 ISLP 库中的 load_tensor() 函数访问。"
   ]
  },
  {
   "cell_type": "code",
   "execution_count": 16,
   "id": "46a4749f",
   "metadata": {
    "lines_to_next_cell": 0
   },
   "outputs": [],
   "source": [
    "max_num_workers = 10  # 设置允许使用的最大线程数为 10（用于数据加载）\n",
    "\n",
    "(imdb_train, imdb_test) = load_tensor(root='data/IMDB')  # 加载词袋形式的 IMDB 数据（稀疏张量），包括训练集和测试集\n",
    "\n",
    "imdb_dm = SimpleDataModule(  # 创建一个数据模块（用于训练、验证和测试）\n",
    "    imdb_train,              # 训练数据集（TensorDataset 类型，包含 X 和 Y）\n",
    "    imdb_test,               # 测试数据集\n",
    "    validation=2000,         # 从训练集中划分 2000 个样本作为验证集\n",
    "    num_workers=min(6, max_num_workers),  # 设置用于数据加载的线程数，最多使用 6 个\n",
    "    batch_size=512           # 设置批次大小为 512，加速训练过程\n",
    ")\n"
   ]
  },
  {
   "cell_type": "markdown",
   "id": "b1772177",
   "metadata": {},
   "source": [
    "two-layer model "
   ]
  },
  {
   "cell_type": "code",
   "execution_count": 17,
   "id": "7400ab60",
   "metadata": {
    "lines_to_next_cell": 0
   },
   "outputs": [],
   "source": [
    "class IMDBModel(nn.Module):  # 定义一个用于 IMDB 情感分类的神经网络模型\n",
    "    def __init__(self, input_size):  # 构造函数，input_size 是输入特征维度（这里是 10000）\n",
    "        super(IMDBModel, self).__init__()  # 初始化父类 nn.Module\n",
    "\n",
    "        self.dense1 = nn.Linear(input_size, 16)  # 第一层：线性层，从 input_size 映射到 16 维\n",
    "        self.activation = nn.ReLU()  # 使用 ReLU 激活函数\n",
    "        self.dense2 = nn.Linear(16, 16)  # 第二层：全连接层，16 -> 16\n",
    "        self.output = nn.Linear(16, 1)  # 输出层：将 16 维映射为一个标量（用于二分类）\n",
    "\n",
    "    def forward(self, x):  # 定义前向传播逻辑\n",
    "        val = x  # 输入赋值给 val\n",
    "        for _map in [self.dense1,           # 第1层全连接\n",
    "                     self.activation,       # ReLU\n",
    "                     self.dense2,           # 第2层全连接\n",
    "                     self.activation,       # ReLU\n",
    "                     self.output]:          # 输出层\n",
    "            val = _map(val)  # 顺序执行每个层\n",
    "        return torch.flatten(val)  # 展平输出为一维向量（大小为 batch_size）\n",
    "\n"
   ]
  },
  {
   "cell_type": "code",
   "execution_count": 18,
   "id": "51960f4e",
   "metadata": {},
   "outputs": [
    {
     "data": {
      "text/plain": [
       "===================================================================================================================\n",
       "Layer (type:depth-idx)                   Input Shape               Output Shape              Param #\n",
       "===================================================================================================================\n",
       "IMDBModel                                [25000, 10003]            [25000]                   --\n",
       "├─Linear: 1-1                            [25000, 10003]            [25000, 16]               160,064\n",
       "├─ReLU: 1-2                              [25000, 16]               [25000, 16]               --\n",
       "├─Linear: 1-3                            [25000, 16]               [25000, 16]               272\n",
       "├─ReLU: 1-4                              [25000, 16]               [25000, 16]               --\n",
       "├─Linear: 1-5                            [25000, 16]               [25000, 1]                17\n",
       "===================================================================================================================\n",
       "Total params: 160,353\n",
       "Trainable params: 160,353\n",
       "Non-trainable params: 0\n",
       "Total mult-adds (Units.GIGABYTES): 4.01\n",
       "===================================================================================================================\n",
       "Input size (MB): 1000.30\n",
       "Forward/backward pass size (MB): 6.60\n",
       "Params size (MB): 0.64\n",
       "Estimated Total Size (MB): 1007.54\n",
       "==================================================================================================================="
      ]
     },
     "execution_count": 18,
     "metadata": {},
     "output_type": "execute_result"
    }
   ],
   "source": [
    "imdb_model = IMDBModel(imdb_test.tensors[0].size()[1]) \n",
    "# 创建模型实例，输入大小为测试集中每条样本的特征维度（通常为10000）\n",
    "\n",
    "summary(imdb_model,                                     # 使用 torchinfo.summary 打印模型结构信息\n",
    "        input_size=imdb_test.tensors[0].size(),         # 指定输入张量的尺寸（batch_size, input_dim）\n",
    "        col_names=['input_size',                        # 显示输入尺寸\n",
    "                   'output_size',                       # 显示输出尺寸\n",
    "                   'num_params'])                       # 显示每层参数个数\n",
    "\n"
   ]
  },
  {
   "cell_type": "markdown",
   "id": "a0987471-23a4-4253-8041-21a179a26e72",
   "metadata": {},
   "source": [
    "模型概述\n",
    "\n",
    "- **模型名称**: `IMDBModel`\n",
    "- **输入形状**: `[25000, 10003]`，表示 **训练集中的 25000 条影评，每条影评包含 10003 个特征**（通常是词典大小）。\n",
    "- **输出形状**: `[25000]`，表示每条影评对应一个预测结果，通常是情感分类的概率或标签。\n",
    "\n",
    "各层详细解析\n",
    "\n",
    "1. **线性层 (Linear) 1-1**\n",
    "   - **输入形状**: `[25000, 10003]`，即每条影评包含 10003 个特征。\n",
    "   - **输出形状**: `[25000, 16]`，该层将输入的 10003 个特征映射为 16 个特征。\n",
    "   - **参数数量**: `160,064`\n",
    "     - 计算方式：`10003 * 16 + 16 = 160,064`\n",
    "\n",
    "2. **ReLU 激活层 (ReLU) 1-2**\n",
    "   - **输入形状**: `[25000, 16]`，输出维度为 16。\n",
    "   - **输出形状**: `[25000, 16]`，ReLU 激活函数后，输出维度保持不变。\n",
    "   - **参数数量**: `--`，ReLU 层没有学习参数。\n",
    "\n",
    "3. **线性层 (Linear) 1-3**\n",
    "   - **输入形状**: `[25000, 16]`，即上一层的 16 个特征。\n",
    "   - **输出形状**: `[25000, 16]`，该层输出 16 个特征。\n",
    "   - **参数数量**: `272`\n",
    "     - 计算方式：`16 * 16 + 16 = 272`\n",
    "\n",
    "4. **ReLU 激活层 (ReLU) 1-4**\n",
    "   - **输入形状**: `[25000, 16]`，输出维度为 16。\n",
    "   - **输出形状**: `[25000, 16]`，ReLU 激活函数后，输出维度保持不变。\n",
    "   - **参数数量**: `--`，ReLU 层没有学习参数。\n",
    "\n",
    "5. **线性层 (Linear) 1-5**\n",
    "   - **输入形状**: `[25000, 16]`，即上一层的 16 个特征。\n",
    "   - **输出形状**: `[25000, 1]`，每个样本输出一个值（通常是情感分类的分数或标签）。\n",
    "   - **参数数量**: `17`\n",
    "     - 计算方式：`16 * 1 + 1 = 17`\n",
    "\n",
    "---\n",
    "\n",
    "模型总参数\n",
    "\n",
    "- **总参数数量**: `160,353`\n",
    "- **可训练参数数量**: `160,353`\n",
    "- **不可训练参数数量**: `0`\n",
    "\n",
    "模型中所有的参数都是可训练的。\n",
    "\n",
    "---"
   ]
  },
  {
   "cell_type": "markdown",
   "id": "6433c5a4",
   "metadata": {},
   "source": [
    "我们将再次使用较小的学习率来训练这些数据，因此我们将一个 优化器（optimizer）传递给 SimpleModule。\n",
    "由于影评被分类为 正面 或 负面 情感，因此我们使用 SimpleModule.binary_classification()。\n",
    "{我们使用 binary_classification() 而不是 classification() 是因为 torchmetrics.Accuracy() 工作方式的微妙差异，以及目标数据类型的不同。}"
   ]
  },
  {
   "cell_type": "code",
   "execution_count": 19,
   "id": "75faa2be",
   "metadata": {},
   "outputs": [],
   "source": [
    "imdb_optimizer = RMSprop(imdb_model.parameters(), lr=0.001)  \n",
    "# 使用 RMSprop 优化器，学习率为 0.001，优化 imdb_model 的参数\n",
    "\n",
    "# 使用 SimpleModule 的 binary_classification 方法进行二分类任务，传入模型和优化器\n",
    "imdb_module = SimpleModule.binary_classification(\n",
    "    imdb_model,                # 传入模型（IMDBModel）\n",
    "    optimizer=imdb_optimizer   # 使用之前定义的优化器\n",
    ")"
   ]
  },
  {
   "cell_type": "code",
   "execution_count": 20,
   "id": "2637adf5",
   "metadata": {},
   "outputs": [
    {
     "name": "stderr",
     "output_type": "stream",
     "text": [
      "Using default `ModelCheckpoint`. Consider installing `litmodels` package to enable `LitModelCheckpoint` for automatic upload to the Lightning model registry.\n",
      "GPU available: False, used: False\n",
      "TPU available: False, using: 0 TPU cores\n",
      "HPU available: False, using: 0 HPUs\n",
      "\n",
      "  | Name  | Type              | Params | Mode \n",
      "----------------------------------------------------\n",
      "0 | model | IMDBModel         | 160 K  | train\n",
      "1 | loss  | BCEWithLogitsLoss | 0      | train\n",
      "----------------------------------------------------\n",
      "160 K     Trainable params\n",
      "0         Non-trainable params\n",
      "160 K     Total params\n",
      "0.641     Total estimated model params size (MB)\n",
      "6         Modules in train mode\n",
      "0         Modules in eval mode\n",
      "E:\\fenglixuan\\anaconda3\\Lib\\site-packages\\pytorch_lightning\\loops\\fit_loop.py:310: The number of training batches (45) is smaller than the logging interval Trainer(log_every_n_steps=50). Set a lower value for log_every_n_steps if you want to see logs for the training epoch.\n",
      "`Trainer.fit` stopped: `max_epochs=30` reached.\n"
     ]
    }
   ],
   "source": [
    "imdb_logger = CSVLogger('logs', name='IMDB')  # 创建一个 CSVLogger，用于记录训练日志，日志保存在 'logs' 目录下，命名为 'IMDB'\n",
    "\n",
    "# 创建 Trainer 实例，用于训练模型\n",
    "imdb_trainer = Trainer(\n",
    "    deterministic=True,  # 设置为确定性训练（确保每次训练结果一致），即禁用所有的随机性\n",
    "    max_epochs=30,       # 设置最大训练轮数为 30\n",
    "    logger=imdb_logger,  # 将 CSVLogger 用于记录训练日志\n",
    "    enable_progress_bar=False,  # 禁用进度条显示（适合不需要显示进度条的环境）\n",
    "    callbacks=[ErrorTracker()]  # 添加回调函数 ErrorTracker，用于跟踪训练过程中的错误\n",
    ")\n",
    "\n",
    "# 使用 Trainer 进行模型训练\n",
    "imdb_trainer.fit(imdb_module,            # 训练模型，传入先前定义的 imdb_module（包含模型和数据）\n",
    "                 datamodule=imdb_dm)    # 传入数据模块 imdb_dm（管理数据加载和处理）\n"
   ]
  },
  {
   "cell_type": "markdown",
   "id": "e077efc8",
   "metadata": {},
   "source": [
    "Evaluating the test error yields roughly 85% accuracy."
   ]
  },
  {
   "cell_type": "code",
   "execution_count": 21,
   "id": "0500cc62",
   "metadata": {
    "lines_to_next_cell": 2
   },
   "outputs": [
    {
     "data": {
      "text/html": [
       "<pre style=\"white-space:pre;overflow-x:auto;line-height:normal;font-family:Menlo,'DejaVu Sans Mono',consolas,'Courier New',monospace\">┏━━━━━━━━━━━━━━━━━━━━━━━━━━━┳━━━━━━━━━━━━━━━━━━━━━━━━━━━┓\n",
       "┃<span style=\"font-weight: bold\">        Test metric        </span>┃<span style=\"font-weight: bold\">       DataLoader 0        </span>┃\n",
       "┡━━━━━━━━━━━━━━━━━━━━━━━━━━━╇━━━━━━━━━━━━━━━━━━━━━━━━━━━┩\n",
       "│<span style=\"color: #008080; text-decoration-color: #008080\">       test_accuracy       </span>│<span style=\"color: #800080; text-decoration-color: #800080\">    0.8501200079917908     </span>│\n",
       "│<span style=\"color: #008080; text-decoration-color: #008080\">         test_loss         </span>│<span style=\"color: #800080; text-decoration-color: #800080\">    1.0867838859558105     </span>│\n",
       "└───────────────────────────┴───────────────────────────┘\n",
       "</pre>\n"
      ],
      "text/plain": [
       "┏━━━━━━━━━━━━━━━━━━━━━━━━━━━┳━━━━━━━━━━━━━━━━━━━━━━━━━━━┓\n",
       "┃\u001b[1m \u001b[0m\u001b[1m       Test metric       \u001b[0m\u001b[1m \u001b[0m┃\u001b[1m \u001b[0m\u001b[1m      DataLoader 0       \u001b[0m\u001b[1m \u001b[0m┃\n",
       "┡━━━━━━━━━━━━━━━━━━━━━━━━━━━╇━━━━━━━━━━━━━━━━━━━━━━━━━━━┩\n",
       "│\u001b[36m \u001b[0m\u001b[36m      test_accuracy      \u001b[0m\u001b[36m \u001b[0m│\u001b[35m \u001b[0m\u001b[35m   0.8501200079917908    \u001b[0m\u001b[35m \u001b[0m│\n",
       "│\u001b[36m \u001b[0m\u001b[36m        test_loss        \u001b[0m\u001b[36m \u001b[0m│\u001b[35m \u001b[0m\u001b[35m   1.0867838859558105    \u001b[0m\u001b[35m \u001b[0m│\n",
       "└───────────────────────────┴───────────────────────────┘\n"
      ]
     },
     "metadata": {},
     "output_type": "display_data"
    },
    {
     "data": {
      "text/plain": [
       "[{'test_loss': 1.0867838859558105, 'test_accuracy': 0.8501200079917908}]"
      ]
     },
     "execution_count": 21,
     "metadata": {},
     "output_type": "execute_result"
    }
   ],
   "source": [
    "test_results = imdb_trainer.test(imdb_module, datamodule=imdb_dm)  # 使用训练器 imdb_trainer 在测试集上评估模型\n",
    "test_results  # 输出测试结果\n"
   ]
  },
  {
   "cell_type": "code",
   "execution_count": 24,
   "id": "a6e81d74",
   "metadata": {},
   "outputs": [
    {
     "ename": "NameError",
     "evalue": "name 'X_train' is not defined",
     "output_type": "error",
     "traceback": [
      "\u001b[1;31m---------------------------------------------------------------------------\u001b[0m",
      "\u001b[1;31mNameError\u001b[0m                                 Traceback (most recent call last)",
      "Cell \u001b[1;32mIn[24], line 1\u001b[0m\n\u001b[1;32m----> 1\u001b[0m (X_train, Y_train),  \u001b[38;5;66;03m# 从加载的数据中获取训练集的特征（X_train）和标签（Y_train）\u001b[39;00m\n\u001b[0;32m      2\u001b[0m (X_valid, Y_valid),  \u001b[38;5;66;03m# 获取验证集的特征（X_valid）和标签（Y_valid）\u001b[39;00m\n\u001b[0;32m      3\u001b[0m (X_test, Y_test) \u001b[38;5;241m=\u001b[39m load_sparse(  \u001b[38;5;66;03m# 从 ISLP 中加载稀疏矩阵数据（用于 scikit-learn）\u001b[39;00m\n\u001b[0;32m      4\u001b[0m     validation\u001b[38;5;241m=\u001b[39m\u001b[38;5;241m2000\u001b[39m,  \u001b[38;5;66;03m# 指定从训练数据中划分 2000 个样本作为验证集\u001b[39;00m\n\u001b[0;32m      5\u001b[0m     random_state\u001b[38;5;241m=\u001b[39m\u001b[38;5;241m0\u001b[39m,   \u001b[38;5;66;03m# 设置随机种子，以保证数据划分的可重复性\u001b[39;00m\n\u001b[0;32m      6\u001b[0m     root\u001b[38;5;241m=\u001b[39m\u001b[38;5;124m'\u001b[39m\u001b[38;5;124mdata/IMDB\u001b[39m\u001b[38;5;124m'\u001b[39m  \u001b[38;5;66;03m# 数据所在的文件夹路径\u001b[39;00m\n\u001b[0;32m      7\u001b[0m )\n",
      "\u001b[1;31mNameError\u001b[0m: name 'X_train' is not defined"
     ]
    }
   ],
   "source": [
    "(X_train, Y_train),  # 从加载的数据中获取训练集的特征（X_train）和标签（Y_train）\n",
    "(X_valid, Y_valid),  # 获取验证集的特征（X_valid）和标签（Y_valid）\n",
    "(X_test, Y_test) = load_sparse(  # 从 ISLP 中加载稀疏矩阵数据（用于 scikit-learn）\n",
    "    validation=2000,  # 指定从训练数据中划分 2000 个样本作为验证集\n",
    "    random_state=0,   # 设置随机种子，以保证数据划分的可重复性\n",
    "    root='data/IMDB'  # 数据所在的文件夹路径\n",
    ")\n",
    "\n"
   ]
  },
  {
   "cell_type": "code",
   "execution_count": 79,
   "id": "b3049398",
   "metadata": {
    "lines_to_next_cell": 0
   },
   "outputs": [],
   "source": [
    "lam_max = np.abs(X_train.T * (Y_train - Y_train.mean())).max()  # 计算 X_train 和标签 Y_train 的相关性，得到 lam_max，衡量特征的重要性\n",
    "\n",
    "# 创建一组 lambda（正则化参数），其范围从 1 到 1e-4，通过对数均匀分布生成 50 个值\n",
    "lam_val = lam_max * np.exp(np.linspace(np.log(1),   # 从 log(1) 开始\n",
    "                                       np.log(1e-4),  # 到 log(1e-4) 结束\n",
    "                                       50))           # 生成 50 个对数均匀分布的值\n"
   ]
  },
  {
   "cell_type": "markdown",
   "id": "f08819f7",
   "metadata": {},
   "source": [
    "在使用 LogisticRegression() 时，正则化参数 $C$ 被指定为 $\\lambda$ 的倒数。\n",
    "Logistic 回归有多个求解器可供选择；这里我们使用的是 liblinear，它在稀疏输入格式下表现良好"
   ]
  },
  {
   "cell_type": "code",
   "execution_count": 80,
   "id": "e075f0b6",
   "metadata": {
    "lines_to_next_cell": 0
   },
   "outputs": [],
   "source": [
    "logit = LogisticRegression(           # 创建逻辑回归模型实例\n",
    "    penalty='l1',                      # 使用 L1 正则化（Lasso），有助于特征选择\n",
    "    C=1/lam_max,                       # 设置正则化参数 C，C 是 λ 的倒数，lam_max 是从之前计算得出的最大相关性\n",
    "    solver='liblinear',                # 使用 liblinear 求解器，适用于小规模数据集和稀疏数据\n",
    "    warm_start=True,                   # warm_start=True 允许继续从上次训练中开始（适用于增量训练）\n",
    "    fit_intercept=True                 # fit_intercept=True 表示模型会学习截距项（偏置）\n",
    ")\n"
   ]
  },
  {
   "cell_type": "code",
   "execution_count": 81,
   "id": "a546c39a",
   "metadata": {},
   "outputs": [],
   "source": [
    "coefs = []  # 用于存储每个正则化参数下的系数\n",
    "intercepts = []  # 用于存储每个正则化参数下的截距项\n",
    "\n",
    "# 对每个正则化参数值 lam_val 进行循环\n",
    "for l in lam_val:\n",
    "    logit.C = 1/l  # 设置正则化参数 C（C = 1 / lambda）\n",
    "    logit.fit(X_train, Y_train)  # 用训练数据拟合模型\n",
    "    coefs.append(logit.coef_.copy())  # 将当前模型的系数添加到 coefs 列表中\n",
    "    intercepts.append(logit.intercept_)  # 将当前模型的截距项添加到 intercepts 列表中\n",
    "\n"
   ]
  },
  {
   "cell_type": "markdown",
   "id": "5a33b90e",
   "metadata": {},
   "source": [
    "np.squeeze() 函数是用来移除数组中所有维度为 1 的轴（即多余的维度）"
   ]
  },
  {
   "cell_type": "code",
   "execution_count": 82,
   "id": "2190268a",
   "metadata": {
    "lines_to_next_cell": 0
   },
   "outputs": [],
   "source": [
    "coefs = np.squeeze(coefs)  # 去除 coefs 中的所有多余维度\n",
    "intercepts = np.squeeze(intercepts)  # 去除 intercepts 中的所有多余维度\n"
   ]
  },
  {
   "cell_type": "code",
   "execution_count": 83,
   "id": "39221738",
   "metadata": {
    "lines_to_next_cell": 0
   },
   "outputs": [],
   "source": [
    "%%capture\n",
    "# 创建一个 1x2 的子图，图像大小为 (16, 8)，y 轴共享\n",
    "fig, axes = subplots(1, 2, figsize=(16, 8), sharey=True)\n",
    "\n",
    "# 对训练集、验证集、测试集进行循环，依次计算准确率\n",
    "for ((X_, Y_), data_, color) in zip([(X_train, Y_train),\n",
    "                                      (X_valid, Y_valid),\n",
    "                                      (X_test, Y_test)],\n",
    "                                     ['Training', 'Validation', 'Test'],\n",
    "                                     ['black', 'red', 'blue']):\n",
    "    \n",
    "    # 计算线性预测值 (X * coef^T + intercept)，用于模型预测\n",
    "    linpred_ = X_ * coefs.T + intercepts[None, :]\n",
    "    \n",
    "    # 通过比较线性预测值是否大于 0 来生成预测标签\n",
    "    label_ = np.array(linpred_ > 0)\n",
    "    \n",
    "    # 计算每个预测标签的准确率\n",
    "    accuracy_ = np.array([np.mean(Y_ == l) for l in label_.T])\n",
    "    \n",
    "    # 在第一个子图 axes[0] 上绘制 -log(lambda) 对应的准确率曲线\n",
    "    axes[0].plot(-np.log(lam_val / X_train.shape[0]),\n",
    "                 accuracy_,\n",
    "                 '.--',  # 点线样式\n",
    "                 color=color,\n",
    "                 markersize=13,\n",
    "                 linewidth=2,\n",
    "                 label=data_)\n",
    "\n",
    "# 添加图例\n",
    "axes[0].legend()\n",
    "\n",
    "# 设置 x 轴标签和 y 轴标签\n",
    "axes[0].set_xlabel(r'$-\\log(\\lambda)$', fontsize=20)\n",
    "axes[0].set_ylabel('Accuracy', fontsize=20)\n",
    "\n"
   ]
  },
  {
   "cell_type": "markdown",
   "id": "d40e3d0e",
   "metadata": {},
   "source": [
    "注意使用 %%capture，它可以抑制部分完成的图形的显示。当绘制复杂的图形时，这非常有用，因为步骤可以分布在两个或多个单元格中。现在，我们添加了一个 Lasso 准确率的图，并通过在单元格末尾输入图形的名称来显示组合后的图形。"
   ]
  },
  {
   "cell_type": "code",
   "execution_count": 84,
   "id": "9ba471b4",
   "metadata": {
    "lines_to_next_cell": 0
   },
   "outputs": [
    {
     "data": {
      "image/png": "[encoded data removed]",
      "text/plain": [
       "<Figure size 1600x800 with 2 Axes>"
      ]
     },
     "execution_count": 84,
     "metadata": {},
     "output_type": "execute_result"
    }
   ],
   "source": [
    "imdb_results = pd.read_csv(imdb_logger.experiment.metrics_file_path)  # 读取记录在 imdb_logger 中的模型指标结果，返回一个 DataFrame\n",
    "\n",
    "summary_plot(imdb_results,  # 使用 summary_plot 绘制图形\n",
    "             axes[1],  # 绘制在第二个子图 axes[1] 上\n",
    "             col='accuracy',  # 选择绘制准确率（'accuracy'）列\n",
    "             ylabel='Accuracy')  # 设置 y 轴标签为 'Accuracy'\n",
    "\n",
    "# 设置 x 轴刻度为从 0 到 30 的 7 个等距的整数值\n",
    "axes[1].set_xticks(np.linspace(0, 30, 7).astype(int)) \n",
    "\n",
    "# 设置 y 轴标签的字体大小\n",
    "axes[1].set_ylabel('Accuracy', fontsize=20)\n",
    "\n",
    "# 设置 x 轴标签的字体大小\n",
    "axes[1].set_xlabel('Epoch', fontsize=20)\n",
    "\n",
    "# 设置 y 轴的显示范围，准确率从 0.5 到 1 之间\n",
    "axes[1].set_ylim([0.5, 1])\n",
    "\n",
    "# 在图上绘制一条水平线，表示测试集的最终准确率\n",
    "axes[1].axhline(test_results[0]['test_accuracy'],  # 使用从 test_results 中获取的测试集准确率\n",
    "                color='blue',  # 设置线条颜色为蓝色\n",
    "                linestyle='--',  # 设置线条为虚线\n",
    "                linewidth=3)  # 设置线条宽度为 3\n",
    "\n",
    "fig  # 显示图形\n"
   ]
  },
  {
   "cell_type": "markdown",
   "id": "95e2c89f",
   "metadata": {},
   "source": [
    "从图表中可以看到，Lasso 逻辑回归的准确率在大约 0.88 时达到峰值，神经网络的表现也是如此。"
   ]
  },
  {
   "cell_type": "code",
   "execution_count": 85,
   "id": "5f8c7df0",
   "metadata": {
    "lines_to_next_cell": 2
   },
   "outputs": [],
   "source": [
    "del(imdb_model,\n",
    "    imdb_trainer,\n",
    "    imdb_logger,\n",
    "    imdb_dm,\n",
    "    imdb_train,\n",
    "    imdb_test)"
   ]
  }
 ],
 "metadata": {
  "jupytext": {
   "cell_metadata_filter": "-all",
   "main_language": "python",
   "notebook_metadata_filter": "-all"
  },
  "kernelspec": {
   "display_name": "Python 3 (ipykernel)",
   "language": "python",
   "name": "python3"
  },
  "language_info": {
   "codemirror_mode": {
    "name": "ipython",
    "version": 3
   },
   "file_extension": ".py",
   "mimetype": "text/x-python",
   "name": "python",
   "nbconvert_exporter": "python",
   "pygments_lexer": "ipython3",
   "version": "3.12.7"
  }
 },
 "nbformat": 4,
 "nbformat_minor": 5
}
