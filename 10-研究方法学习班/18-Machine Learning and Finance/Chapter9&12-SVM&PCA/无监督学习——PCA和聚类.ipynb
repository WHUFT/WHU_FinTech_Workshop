{
 "cells": [
  {
   "cell_type": "markdown",
   "id": "5234081b-b86d-4a80-b6d9-23c5dd9c4d31",
   "metadata": {},
   "source": [
    "# **Unsupervised Learning----PCA and Clustering**\n",
    "### **赵吕宇佳、赵伟皓**\n",
    "### 2025-05-30\n",
    "在本章中，我们在几个数据集上演示了**PCA和聚类**。"
   ]
  },
  {
   "cell_type": "markdown",
   "id": "99d1c14a-ed72-48d1-aa40-bf40a392dc40",
   "metadata": {},
   "source": [
    "## **无监督学习**\n",
    "- 无监督学习是从无标注的数据中学习数据的统计规律或者说内在结构的机器学习。\n",
    "- 在无监督学习中，我们不再关注预测结果，因为没有相应的响应变量Y（即标签）。我们的目标是可视化输入实例。\n",
    "- 或者是发现输入实例的子集间的内在规律。\n",
    "\n",
    "本章主要介绍主成分分析（PCA），一种在应用监督技术之前用于数据可视化或数据预处理的方法；  \n",
    "聚类（clustering），对原始数据进行分组的方法。"
   ]
  },
  {
   "cell_type": "code",
   "execution_count": 1,
   "id": "55743408-822b-496c-9822-2aec3351943d",
   "metadata": {},
   "outputs": [],
   "source": [
    "import numpy as np\n",
    "import pandas as pd\n",
    "import matplotlib.pyplot as plt\n",
    "# 加载 R 语言中的公开数据集\n",
    "from statsmodels.datasets import get_rdataset\n",
    "# 导入降维模块\n",
    "from sklearn.decomposition import PCA\n",
    "# 导入数据标准化工具\n",
    "from sklearn.preprocessing import StandardScaler\n",
    "from ISLP import load_data\n",
    "\n",
    "plt.rcParams['font.sans-serif'] = ['SimHei']  # 中文黑体\n",
    "plt.rcParams['axes.unicode_minus'] = False    # 正常显示负号\n",
    "import warnings\n",
    "warnings.filterwarnings('ignore')"
   ]
  },
  {
   "cell_type": "code",
   "execution_count": 2,
   "id": "74337dbe-153f-4479-9e76-29bcc8dff75f",
   "metadata": {},
   "outputs": [],
   "source": [
    "# K 均值聚类 和 层次聚类\n",
    "from sklearn.cluster import \\\n",
    "     (KMeans, AgglomerativeClustering) \n",
    "# 画出聚类的树状图\n",
    "from scipy.cluster.hierarchy import \\\n",
    "     (dendrogram, cut_tree)  \n",
    "# 计算层次聚类链接矩阵的函数 compute_linkage\n",
    "from ISLP.cluster import compute_linkage  "
   ]
  },
  {
   "cell_type": "markdown",
   "id": "12e0ca7a-0eb0-4cc8-b85c-e1fe0fe6dacb",
   "metadata": {},
   "source": [
    "## **1. 主成分分析 Principal Components Analysis**\n",
    "- 机器学习问题涉及的每个训练实例有成千上万甚至数百万个特征，所有这些特征不仅使训练变得极其缓慢，而且还会使得找到好的解决方案变得更加困难。这个问题通常称为**维度灾难**。\n",
    "\n",
    "- **数据维度越高，过拟合的风险就越大**。\n",
    "    - 如果在单位平面中随机挑两个点，这两个点之间的平均距离大约为0.52。如果在三维的单位立方体中随机挑两个点，两点之间的平均距离大约为0.66。\n",
    "    - 但是如果在一个100万维的超立方体中随机挑两个点，平均距离高达408.25。\n",
    "    - 这个事实说明高维数据集有很大可能是非常稀疏的：大多数训练实例可能彼此之间相距很远。所以这也意味着新的实例很可能远离任何一个训练实例，导致跟低维度相比，预测更加不可靠。**简言之，训练集的维度越高，过拟合的风险就越大**。\n",
    "\n",
    "- 理论上来说，通过增大训练集，使训练实例达到足够的密度是可以解决维度灾难的。然而在实践中，要达到给定密度，所需要的训练实例数量随着维度的增加呈指数式上升。"
   ]
  },
  {
   "cell_type": "markdown",
   "id": "a65f772e-4cd4-4576-a252-4be9a3b8db1c",
   "metadata": {},
   "source": [
    "### **Mathematical Implentation**\n",
    "\n",
    "**主成分分析方法主要有两种**，可以通过**相关矩阵的特征值分解**或**样本矩阵的奇异值分解**进行。\n",
    "\n",
    "**（1）相关矩阵的特征值分解算法。针对$m \\times n$样本矩阵$X$，求样本相关矩阵**  $R = \\frac { 1 } { n - 1 } X X ^ { T }$\n",
    "\n",
    "再求样本相关矩阵的$k$个特征值和对应的单位特征向量，构造正交矩阵  $V = ( v _ { 1 } , v _ { 2 } , \\cdots , v _ { k } )$\n",
    "\n",
    "$V$的每一列对应一个主成分，得到$k \\times n$样本主成分矩阵   \n",
    "$$Y = V ^ { T } X$$\n",
    "\n",
    "\n",
    "**（2）矩阵$X$的奇异值分解算法。针对$m \\times n$样本矩阵$X$，求**   $X ^ { \\prime } = \\frac { 1 } { \\sqrt { n - 1 } } X ^ { T }$\n",
    "\n",
    "对矩阵$X ^ { \\prime }$进行截断奇异值分解，保留$k$个奇异值、奇异向量，得到  $X ^ { \\prime } = U S V ^ { T }$\n",
    "\n",
    "$V$的每一列对应一个主成分，得到$k \\times n$样本主成分矩阵$Y$  \n",
    "$$Y = V ^ { T } X$$"
   ]
  },
  {
   "cell_type": "markdown",
   "id": "c27ce261-3dc1-4175-b693-e4c233bdc55e",
   "metadata": {},
   "source": [
    "#### **数据降维的优点**\n",
    "1. 数据降维能够加速训练，但也会轻微降低系统性能。\n",
    "2. 除了加快训练，降维对于数据可视化也非常有用。\n",
    "\n",
    "#### **在这一节中，对R计算环境中的数据集USArrests执行PCA**。\n",
    "- 使用get_rdataset（）检索数据，它可以从许多标准R包中获取数据。\n",
    "- 数据集的行按字母顺序包含50个州。"
   ]
  },
  {
   "cell_type": "code",
   "execution_count": 3,
   "id": "db33fb25-bfab-48f2-a228-05d7b049115c",
   "metadata": {
    "scrolled": true
   },
   "outputs": [
    {
     "data": {
      "text/html": [
       "<div>\n",
       "<style scoped>\n",
       "    .dataframe tbody tr th:only-of-type {\n",
       "        vertical-align: middle;\n",
       "    }\n",
       "\n",
       "    .dataframe tbody tr th {\n",
       "        vertical-align: top;\n",
       "    }\n",
       "\n",
       "    .dataframe thead th {\n",
       "        text-align: right;\n",
       "    }\n",
       "</style>\n",
       "<table border=\"1\" class=\"dataframe\">\n",
       "  <thead>\n",
       "    <tr style=\"text-align: right;\">\n",
       "      <th></th>\n",
       "      <th>Murder</th>\n",
       "      <th>Assault</th>\n",
       "      <th>UrbanPop</th>\n",
       "      <th>Rape</th>\n",
       "    </tr>\n",
       "    <tr>\n",
       "      <th>rownames</th>\n",
       "      <th></th>\n",
       "      <th></th>\n",
       "      <th></th>\n",
       "      <th></th>\n",
       "    </tr>\n",
       "  </thead>\n",
       "  <tbody>\n",
       "    <tr>\n",
       "      <th>Alabama</th>\n",
       "      <td>13.2</td>\n",
       "      <td>236</td>\n",
       "      <td>58</td>\n",
       "      <td>21.2</td>\n",
       "    </tr>\n",
       "    <tr>\n",
       "      <th>Alaska</th>\n",
       "      <td>10.0</td>\n",
       "      <td>263</td>\n",
       "      <td>48</td>\n",
       "      <td>44.5</td>\n",
       "    </tr>\n",
       "    <tr>\n",
       "      <th>Arizona</th>\n",
       "      <td>8.1</td>\n",
       "      <td>294</td>\n",
       "      <td>80</td>\n",
       "      <td>31.0</td>\n",
       "    </tr>\n",
       "    <tr>\n",
       "      <th>Arkansas</th>\n",
       "      <td>8.8</td>\n",
       "      <td>190</td>\n",
       "      <td>50</td>\n",
       "      <td>19.5</td>\n",
       "    </tr>\n",
       "    <tr>\n",
       "      <th>California</th>\n",
       "      <td>9.0</td>\n",
       "      <td>276</td>\n",
       "      <td>91</td>\n",
       "      <td>40.6</td>\n",
       "    </tr>\n",
       "    <tr>\n",
       "      <th>Colorado</th>\n",
       "      <td>7.9</td>\n",
       "      <td>204</td>\n",
       "      <td>78</td>\n",
       "      <td>38.7</td>\n",
       "    </tr>\n",
       "    <tr>\n",
       "      <th>Connecticut</th>\n",
       "      <td>3.3</td>\n",
       "      <td>110</td>\n",
       "      <td>77</td>\n",
       "      <td>11.1</td>\n",
       "    </tr>\n",
       "    <tr>\n",
       "      <th>Delaware</th>\n",
       "      <td>5.9</td>\n",
       "      <td>238</td>\n",
       "      <td>72</td>\n",
       "      <td>15.8</td>\n",
       "    </tr>\n",
       "    <tr>\n",
       "      <th>Florida</th>\n",
       "      <td>15.4</td>\n",
       "      <td>335</td>\n",
       "      <td>80</td>\n",
       "      <td>31.9</td>\n",
       "    </tr>\n",
       "    <tr>\n",
       "      <th>Georgia</th>\n",
       "      <td>17.4</td>\n",
       "      <td>211</td>\n",
       "      <td>60</td>\n",
       "      <td>25.8</td>\n",
       "    </tr>\n",
       "    <tr>\n",
       "      <th>Hawaii</th>\n",
       "      <td>5.3</td>\n",
       "      <td>46</td>\n",
       "      <td>83</td>\n",
       "      <td>20.2</td>\n",
       "    </tr>\n",
       "    <tr>\n",
       "      <th>Idaho</th>\n",
       "      <td>2.6</td>\n",
       "      <td>120</td>\n",
       "      <td>54</td>\n",
       "      <td>14.2</td>\n",
       "    </tr>\n",
       "    <tr>\n",
       "      <th>Illinois</th>\n",
       "      <td>10.4</td>\n",
       "      <td>249</td>\n",
       "      <td>83</td>\n",
       "      <td>24.0</td>\n",
       "    </tr>\n",
       "    <tr>\n",
       "      <th>Indiana</th>\n",
       "      <td>7.2</td>\n",
       "      <td>113</td>\n",
       "      <td>65</td>\n",
       "      <td>21.0</td>\n",
       "    </tr>\n",
       "    <tr>\n",
       "      <th>Iowa</th>\n",
       "      <td>2.2</td>\n",
       "      <td>56</td>\n",
       "      <td>57</td>\n",
       "      <td>11.3</td>\n",
       "    </tr>\n",
       "    <tr>\n",
       "      <th>Kansas</th>\n",
       "      <td>6.0</td>\n",
       "      <td>115</td>\n",
       "      <td>66</td>\n",
       "      <td>18.0</td>\n",
       "    </tr>\n",
       "    <tr>\n",
       "      <th>Kentucky</th>\n",
       "      <td>9.7</td>\n",
       "      <td>109</td>\n",
       "      <td>52</td>\n",
       "      <td>16.3</td>\n",
       "    </tr>\n",
       "    <tr>\n",
       "      <th>Louisiana</th>\n",
       "      <td>15.4</td>\n",
       "      <td>249</td>\n",
       "      <td>66</td>\n",
       "      <td>22.2</td>\n",
       "    </tr>\n",
       "    <tr>\n",
       "      <th>Maine</th>\n",
       "      <td>2.1</td>\n",
       "      <td>83</td>\n",
       "      <td>51</td>\n",
       "      <td>7.8</td>\n",
       "    </tr>\n",
       "    <tr>\n",
       "      <th>Maryland</th>\n",
       "      <td>11.3</td>\n",
       "      <td>300</td>\n",
       "      <td>67</td>\n",
       "      <td>27.8</td>\n",
       "    </tr>\n",
       "    <tr>\n",
       "      <th>Massachusetts</th>\n",
       "      <td>4.4</td>\n",
       "      <td>149</td>\n",
       "      <td>85</td>\n",
       "      <td>16.3</td>\n",
       "    </tr>\n",
       "    <tr>\n",
       "      <th>Michigan</th>\n",
       "      <td>12.1</td>\n",
       "      <td>255</td>\n",
       "      <td>74</td>\n",
       "      <td>35.1</td>\n",
       "    </tr>\n",
       "    <tr>\n",
       "      <th>Minnesota</th>\n",
       "      <td>2.7</td>\n",
       "      <td>72</td>\n",
       "      <td>66</td>\n",
       "      <td>14.9</td>\n",
       "    </tr>\n",
       "    <tr>\n",
       "      <th>Mississippi</th>\n",
       "      <td>16.1</td>\n",
       "      <td>259</td>\n",
       "      <td>44</td>\n",
       "      <td>17.1</td>\n",
       "    </tr>\n",
       "    <tr>\n",
       "      <th>Missouri</th>\n",
       "      <td>9.0</td>\n",
       "      <td>178</td>\n",
       "      <td>70</td>\n",
       "      <td>28.2</td>\n",
       "    </tr>\n",
       "    <tr>\n",
       "      <th>Montana</th>\n",
       "      <td>6.0</td>\n",
       "      <td>109</td>\n",
       "      <td>53</td>\n",
       "      <td>16.4</td>\n",
       "    </tr>\n",
       "    <tr>\n",
       "      <th>Nebraska</th>\n",
       "      <td>4.3</td>\n",
       "      <td>102</td>\n",
       "      <td>62</td>\n",
       "      <td>16.5</td>\n",
       "    </tr>\n",
       "    <tr>\n",
       "      <th>Nevada</th>\n",
       "      <td>12.2</td>\n",
       "      <td>252</td>\n",
       "      <td>81</td>\n",
       "      <td>46.0</td>\n",
       "    </tr>\n",
       "    <tr>\n",
       "      <th>New Hampshire</th>\n",
       "      <td>2.1</td>\n",
       "      <td>57</td>\n",
       "      <td>56</td>\n",
       "      <td>9.5</td>\n",
       "    </tr>\n",
       "    <tr>\n",
       "      <th>New Jersey</th>\n",
       "      <td>7.4</td>\n",
       "      <td>159</td>\n",
       "      <td>89</td>\n",
       "      <td>18.8</td>\n",
       "    </tr>\n",
       "    <tr>\n",
       "      <th>New Mexico</th>\n",
       "      <td>11.4</td>\n",
       "      <td>285</td>\n",
       "      <td>70</td>\n",
       "      <td>32.1</td>\n",
       "    </tr>\n",
       "    <tr>\n",
       "      <th>New York</th>\n",
       "      <td>11.1</td>\n",
       "      <td>254</td>\n",
       "      <td>86</td>\n",
       "      <td>26.1</td>\n",
       "    </tr>\n",
       "    <tr>\n",
       "      <th>North Carolina</th>\n",
       "      <td>13.0</td>\n",
       "      <td>337</td>\n",
       "      <td>45</td>\n",
       "      <td>16.1</td>\n",
       "    </tr>\n",
       "    <tr>\n",
       "      <th>North Dakota</th>\n",
       "      <td>0.8</td>\n",
       "      <td>45</td>\n",
       "      <td>44</td>\n",
       "      <td>7.3</td>\n",
       "    </tr>\n",
       "    <tr>\n",
       "      <th>Ohio</th>\n",
       "      <td>7.3</td>\n",
       "      <td>120</td>\n",
       "      <td>75</td>\n",
       "      <td>21.4</td>\n",
       "    </tr>\n",
       "    <tr>\n",
       "      <th>Oklahoma</th>\n",
       "      <td>6.6</td>\n",
       "      <td>151</td>\n",
       "      <td>68</td>\n",
       "      <td>20.0</td>\n",
       "    </tr>\n",
       "    <tr>\n",
       "      <th>Oregon</th>\n",
       "      <td>4.9</td>\n",
       "      <td>159</td>\n",
       "      <td>67</td>\n",
       "      <td>29.3</td>\n",
       "    </tr>\n",
       "    <tr>\n",
       "      <th>Pennsylvania</th>\n",
       "      <td>6.3</td>\n",
       "      <td>106</td>\n",
       "      <td>72</td>\n",
       "      <td>14.9</td>\n",
       "    </tr>\n",
       "    <tr>\n",
       "      <th>Rhode Island</th>\n",
       "      <td>3.4</td>\n",
       "      <td>174</td>\n",
       "      <td>87</td>\n",
       "      <td>8.3</td>\n",
       "    </tr>\n",
       "    <tr>\n",
       "      <th>South Carolina</th>\n",
       "      <td>14.4</td>\n",
       "      <td>279</td>\n",
       "      <td>48</td>\n",
       "      <td>22.5</td>\n",
       "    </tr>\n",
       "    <tr>\n",
       "      <th>South Dakota</th>\n",
       "      <td>3.8</td>\n",
       "      <td>86</td>\n",
       "      <td>45</td>\n",
       "      <td>12.8</td>\n",
       "    </tr>\n",
       "    <tr>\n",
       "      <th>Tennessee</th>\n",
       "      <td>13.2</td>\n",
       "      <td>188</td>\n",
       "      <td>59</td>\n",
       "      <td>26.9</td>\n",
       "    </tr>\n",
       "    <tr>\n",
       "      <th>Texas</th>\n",
       "      <td>12.7</td>\n",
       "      <td>201</td>\n",
       "      <td>80</td>\n",
       "      <td>25.5</td>\n",
       "    </tr>\n",
       "    <tr>\n",
       "      <th>Utah</th>\n",
       "      <td>3.2</td>\n",
       "      <td>120</td>\n",
       "      <td>80</td>\n",
       "      <td>22.9</td>\n",
       "    </tr>\n",
       "    <tr>\n",
       "      <th>Vermont</th>\n",
       "      <td>2.2</td>\n",
       "      <td>48</td>\n",
       "      <td>32</td>\n",
       "      <td>11.2</td>\n",
       "    </tr>\n",
       "    <tr>\n",
       "      <th>Virginia</th>\n",
       "      <td>8.5</td>\n",
       "      <td>156</td>\n",
       "      <td>63</td>\n",
       "      <td>20.7</td>\n",
       "    </tr>\n",
       "    <tr>\n",
       "      <th>Washington</th>\n",
       "      <td>4.0</td>\n",
       "      <td>145</td>\n",
       "      <td>73</td>\n",
       "      <td>26.2</td>\n",
       "    </tr>\n",
       "    <tr>\n",
       "      <th>West Virginia</th>\n",
       "      <td>5.7</td>\n",
       "      <td>81</td>\n",
       "      <td>39</td>\n",
       "      <td>9.3</td>\n",
       "    </tr>\n",
       "    <tr>\n",
       "      <th>Wisconsin</th>\n",
       "      <td>2.6</td>\n",
       "      <td>53</td>\n",
       "      <td>66</td>\n",
       "      <td>10.8</td>\n",
       "    </tr>\n",
       "    <tr>\n",
       "      <th>Wyoming</th>\n",
       "      <td>6.8</td>\n",
       "      <td>161</td>\n",
       "      <td>60</td>\n",
       "      <td>15.6</td>\n",
       "    </tr>\n",
       "  </tbody>\n",
       "</table>\n",
       "</div>"
      ],
      "text/plain": [
       "                Murder  Assault  UrbanPop  Rape\n",
       "rownames                                       \n",
       "Alabama           13.2      236        58  21.2\n",
       "Alaska            10.0      263        48  44.5\n",
       "Arizona            8.1      294        80  31.0\n",
       "Arkansas           8.8      190        50  19.5\n",
       "California         9.0      276        91  40.6\n",
       "Colorado           7.9      204        78  38.7\n",
       "Connecticut        3.3      110        77  11.1\n",
       "Delaware           5.9      238        72  15.8\n",
       "Florida           15.4      335        80  31.9\n",
       "Georgia           17.4      211        60  25.8\n",
       "Hawaii             5.3       46        83  20.2\n",
       "Idaho              2.6      120        54  14.2\n",
       "Illinois          10.4      249        83  24.0\n",
       "Indiana            7.2      113        65  21.0\n",
       "Iowa               2.2       56        57  11.3\n",
       "Kansas             6.0      115        66  18.0\n",
       "Kentucky           9.7      109        52  16.3\n",
       "Louisiana         15.4      249        66  22.2\n",
       "Maine              2.1       83        51   7.8\n",
       "Maryland          11.3      300        67  27.8\n",
       "Massachusetts      4.4      149        85  16.3\n",
       "Michigan          12.1      255        74  35.1\n",
       "Minnesota          2.7       72        66  14.9\n",
       "Mississippi       16.1      259        44  17.1\n",
       "Missouri           9.0      178        70  28.2\n",
       "Montana            6.0      109        53  16.4\n",
       "Nebraska           4.3      102        62  16.5\n",
       "Nevada            12.2      252        81  46.0\n",
       "New Hampshire      2.1       57        56   9.5\n",
       "New Jersey         7.4      159        89  18.8\n",
       "New Mexico        11.4      285        70  32.1\n",
       "New York          11.1      254        86  26.1\n",
       "North Carolina    13.0      337        45  16.1\n",
       "North Dakota       0.8       45        44   7.3\n",
       "Ohio               7.3      120        75  21.4\n",
       "Oklahoma           6.6      151        68  20.0\n",
       "Oregon             4.9      159        67  29.3\n",
       "Pennsylvania       6.3      106        72  14.9\n",
       "Rhode Island       3.4      174        87   8.3\n",
       "South Carolina    14.4      279        48  22.5\n",
       "South Dakota       3.8       86        45  12.8\n",
       "Tennessee         13.2      188        59  26.9\n",
       "Texas             12.7      201        80  25.5\n",
       "Utah               3.2      120        80  22.9\n",
       "Vermont            2.2       48        32  11.2\n",
       "Virginia           8.5      156        63  20.7\n",
       "Washington         4.0      145        73  26.2\n",
       "West Virginia      5.7       81        39   9.3\n",
       "Wisconsin          2.6       53        66  10.8\n",
       "Wyoming            6.8      161        60  15.6"
      ]
     },
     "execution_count": 3,
     "metadata": {},
     "output_type": "execute_result"
    }
   ],
   "source": [
    "USArrests = get_rdataset('USArrests').data\n",
    "USArrests"
   ]
  },
  {
   "cell_type": "code",
   "execution_count": 4,
   "id": "2b4505ed-39c0-4a20-8e2e-a158eafbf4d7",
   "metadata": {},
   "outputs": [
    {
     "data": {
      "text/plain": [
       "Index(['谋杀', '袭击', '城市居住人口占比', '侵犯'], dtype='object')"
      ]
     },
     "execution_count": 4,
     "metadata": {},
     "output_type": "execute_result"
    }
   ],
   "source": [
    "USArrests = USArrests.rename(columns={'Murder': '谋杀', 'Assault': '袭击','UrbanPop': '城市居住人口占比', 'Rape': '侵犯'})\n",
    "USArrests.columns"
   ]
  },
  {
   "cell_type": "markdown",
   "id": "acb59fbc-4122-46e4-8df7-324c83a0f50b",
   "metadata": {},
   "source": [
    "#### **首先简要检查数据，可以发现这些变量的含义大不相同**。\n",
    "- 数据框有几种计算列汇总的有用方法。\n",
    "- 可以使用var()方法检查四个变量的方差。"
   ]
  },
  {
   "cell_type": "code",
   "execution_count": 5,
   "id": "93f1725a-b259-4d2c-bb2c-56215b6df2a9",
   "metadata": {},
   "outputs": [
    {
     "data": {
      "text/plain": [
       "谋杀            7.788\n",
       "袭击          170.760\n",
       "城市居住人口占比     65.540\n",
       "侵犯           21.232\n",
       "dtype: float64"
      ]
     },
     "execution_count": 5,
     "metadata": {},
     "output_type": "execute_result"
    }
   ],
   "source": [
    "USArrests.mean()"
   ]
  },
  {
   "cell_type": "code",
   "execution_count": 6,
   "id": "972dc11d-22a1-4cf3-bf85-70c49e741842",
   "metadata": {},
   "outputs": [
    {
     "data": {
      "text/plain": [
       "谋杀            18.970465\n",
       "袭击          6945.165714\n",
       "城市居住人口占比     209.518776\n",
       "侵犯            87.729159\n",
       "dtype: float64"
      ]
     },
     "execution_count": 6,
     "metadata": {},
     "output_type": "execute_result"
    }
   ],
   "source": [
    "# 这些变量的方差也大不相同\n",
    "USArrests.var()"
   ]
  },
  {
   "cell_type": "markdown",
   "id": "199c1b87-93b7-4159-b231-a7d2c5b1c99b",
   "metadata": {},
   "source": [
    "**城市居住人口占比**变量衡量的是每个州居住在城市地区的人口比例。\n",
    "\n",
    "**PCA寻找解释数据集中大部分方差的衍生变量**。  \n",
    "- 如果在执行PCA之前不缩放变量，那么主成分将主要由**袭击**变量驱动，因为它具有迄今为止最大的方差。\n",
    "- **标准化是 PCA 的重要前置步骤**。因为 PCA 基于协方差矩阵，如果不标准化，变量的尺度（例如 \"袭击\" 数值大、\"城市人口占比\" 数值小）会影响分析结果。"
   ]
  },
  {
   "cell_type": "code",
   "execution_count": 7,
   "id": "36d59a87-3a65-4484-9b21-842758c825fd",
   "metadata": {
    "scrolled": true
   },
   "outputs": [
    {
     "data": {
      "text/plain": [
       "array([[ 1.25517927,  0.79078716, -0.52619514, -0.00345116],\n",
       "       [ 0.51301858,  1.11805959, -1.22406668,  2.50942392],\n",
       "       [ 0.07236067,  1.49381682,  1.00912225,  1.05346626],\n",
       "       [ 0.23470832,  0.23321191, -1.08449238, -0.18679398],\n",
       "       [ 0.28109336,  1.2756352 ,  1.77678094,  2.08881393],\n",
       "       [ 0.02597562,  0.40290872,  0.86954794,  1.88390137],\n",
       "       [-1.04088037, -0.73648418,  0.79976079, -1.09272319],\n",
       "       [-0.43787481,  0.81502956,  0.45082502, -0.58583422],\n",
       "       [ 1.76541475,  1.99078607,  1.00912225,  1.1505301 ],\n",
       "       [ 2.22926518,  0.48775713, -0.38662083,  0.49265293],\n",
       "       [-0.57702994, -1.51224105,  1.21848371, -0.11129987],\n",
       "       [-1.20322802, -0.61527217, -0.80534376, -0.75839217],\n",
       "       [ 0.60578867,  0.94836277,  1.21848371,  0.29852525],\n",
       "       [-0.13637203, -0.70012057, -0.03768506, -0.0250209 ],\n",
       "       [-1.29599811, -1.39102904, -0.5959823 , -1.07115345],\n",
       "       [-0.41468229, -0.67587817,  0.03210209, -0.34856705],\n",
       "       [ 0.44344101, -0.74860538, -0.94491807, -0.53190987],\n",
       "       [ 1.76541475,  0.94836277,  0.03210209,  0.10439756],\n",
       "       [-1.31919063, -1.06375661, -1.01470522, -1.44862395],\n",
       "       [ 0.81452136,  1.56654403,  0.10188925,  0.70835037],\n",
       "       [-0.78576263, -0.26375734,  1.35805802, -0.53190987],\n",
       "       [ 1.00006153,  1.02108998,  0.59039932,  1.49564599],\n",
       "       [-1.1800355 , -1.19708982,  0.03210209, -0.68289807],\n",
       "       [ 1.9277624 ,  1.06957478, -1.5032153 , -0.44563089],\n",
       "       [ 0.28109336,  0.0877575 ,  0.31125071,  0.75148985],\n",
       "       [-0.41468229, -0.74860538, -0.87513091, -0.521125  ],\n",
       "       [-0.80895515, -0.83345379, -0.24704653, -0.51034012],\n",
       "       [ 1.02325405,  0.98472638,  1.0789094 ,  2.671197  ],\n",
       "       [-1.31919063, -1.37890783, -0.66576945, -1.26528114],\n",
       "       [-0.08998698, -0.14254532,  1.63720664, -0.26228808],\n",
       "       [ 0.83771388,  1.38472601,  0.31125071,  1.17209984],\n",
       "       [ 0.76813632,  1.00896878,  1.42784517,  0.52500755],\n",
       "       [ 1.20879423,  2.01502847, -1.43342815, -0.55347961],\n",
       "       [-1.62069341, -1.52436225, -1.5032153 , -1.50254831],\n",
       "       [-0.11317951, -0.61527217,  0.66018648,  0.01811858],\n",
       "       [-0.27552716, -0.23951493,  0.1716764 , -0.13286962],\n",
       "       [-0.66980002, -0.14254532,  0.10188925,  0.87012344],\n",
       "       [-0.34510472, -0.78496898,  0.45082502, -0.68289807],\n",
       "       [-1.01768785,  0.03927269,  1.49763233, -1.39469959],\n",
       "       [ 1.53348953,  1.3119988 , -1.22406668,  0.13675217],\n",
       "       [-0.92491776, -1.027393  , -1.43342815, -0.90938037],\n",
       "       [ 1.25517927,  0.20896951, -0.45640799,  0.61128652],\n",
       "       [ 1.13921666,  0.36654512,  1.00912225,  0.46029832],\n",
       "       [-1.06407289, -0.61527217,  1.00912225,  0.17989166],\n",
       "       [-1.29599811, -1.48799864, -2.34066115, -1.08193832],\n",
       "       [ 0.16513075, -0.17890893, -0.17725937, -0.05737552],\n",
       "       [-0.87853272, -0.31224214,  0.52061217,  0.53579242],\n",
       "       [-0.48425985, -1.08799901, -1.85215107, -1.28685088],\n",
       "       [-1.20322802, -1.42739264,  0.03210209, -1.1250778 ],\n",
       "       [-0.22914211, -0.11830292, -0.38662083, -0.60740397]])"
      ]
     },
     "execution_count": 7,
     "metadata": {},
     "output_type": "execute_result"
    }
   ],
   "source": [
    "# 将每列变量变为均值为0、标准差为1的标准正态分布\n",
    "scaler = StandardScaler(with_std=True, with_mean=True)\n",
    "USArrests_scaled = scaler.fit_transform(USArrests)\n",
    "USArrests_scaled"
   ]
  },
  {
   "cell_type": "code",
   "execution_count": 8,
   "id": "57f84ff3-f439-4166-8887-35f25ccb79ae",
   "metadata": {},
   "outputs": [],
   "source": [
    "# 创建一个 PCA 对象，默认保留所有主成分（不指定主成分数，默认提取全部）\n",
    "pcaUS = PCA()"
   ]
  },
  {
   "cell_type": "markdown",
   "id": "0b8dd06d-35bf-4b21-b112-abbbe418d856",
   "metadata": {},
   "source": [
    "#### **对已经标准化的数据 USArrests_scaled 应用 PCA 算法**：\n",
    "- 计算数据的协方差矩阵。\n",
    "- 求其特征值与特征向量。\n",
    "- 得到主成分方向（loading vectors）及解释的方差大小（explained variance）"
   ]
  },
  {
   "cell_type": "code",
   "execution_count": 9,
   "id": "1c8196d6-e941-43f5-a270-33fb98a25ae8",
   "metadata": {},
   "outputs": [
    {
     "data": {
      "text/html": [
       "<style>#sk-container-id-1 {\n",
       "  /* Definition of color scheme common for light and dark mode */\n",
       "  --sklearn-color-text: #000;\n",
       "  --sklearn-color-text-muted: #666;\n",
       "  --sklearn-color-line: gray;\n",
       "  /* Definition of color scheme for unfitted estimators */\n",
       "  --sklearn-color-unfitted-level-0: #fff5e6;\n",
       "  --sklearn-color-unfitted-level-1: #f6e4d2;\n",
       "  --sklearn-color-unfitted-level-2: #ffe0b3;\n",
       "  --sklearn-color-unfitted-level-3: chocolate;\n",
       "  /* Definition of color scheme for fitted estimators */\n",
       "  --sklearn-color-fitted-level-0: #f0f8ff;\n",
       "  --sklearn-color-fitted-level-1: #d4ebff;\n",
       "  --sklearn-color-fitted-level-2: #b3dbfd;\n",
       "  --sklearn-color-fitted-level-3: cornflowerblue;\n",
       "\n",
       "  /* Specific color for light theme */\n",
       "  --sklearn-color-text-on-default-background: var(--sg-text-color, var(--theme-code-foreground, var(--jp-content-font-color1, black)));\n",
       "  --sklearn-color-background: var(--sg-background-color, var(--theme-background, var(--jp-layout-color0, white)));\n",
       "  --sklearn-color-border-box: var(--sg-text-color, var(--theme-code-foreground, var(--jp-content-font-color1, black)));\n",
       "  --sklearn-color-icon: #696969;\n",
       "\n",
       "  @media (prefers-color-scheme: dark) {\n",
       "    /* Redefinition of color scheme for dark theme */\n",
       "    --sklearn-color-text-on-default-background: var(--sg-text-color, var(--theme-code-foreground, var(--jp-content-font-color1, white)));\n",
       "    --sklearn-color-background: var(--sg-background-color, var(--theme-background, var(--jp-layout-color0, #111)));\n",
       "    --sklearn-color-border-box: var(--sg-text-color, var(--theme-code-foreground, var(--jp-content-font-color1, white)));\n",
       "    --sklearn-color-icon: #878787;\n",
       "  }\n",
       "}\n",
       "\n",
       "#sk-container-id-1 {\n",
       "  color: var(--sklearn-color-text);\n",
       "}\n",
       "\n",
       "#sk-container-id-1 pre {\n",
       "  padding: 0;\n",
       "}\n",
       "\n",
       "#sk-container-id-1 input.sk-hidden--visually {\n",
       "  border: 0;\n",
       "  clip: rect(1px 1px 1px 1px);\n",
       "  clip: rect(1px, 1px, 1px, 1px);\n",
       "  height: 1px;\n",
       "  margin: -1px;\n",
       "  overflow: hidden;\n",
       "  padding: 0;\n",
       "  position: absolute;\n",
       "  width: 1px;\n",
       "}\n",
       "\n",
       "#sk-container-id-1 div.sk-dashed-wrapped {\n",
       "  border: 1px dashed var(--sklearn-color-line);\n",
       "  margin: 0 0.4em 0.5em 0.4em;\n",
       "  box-sizing: border-box;\n",
       "  padding-bottom: 0.4em;\n",
       "  background-color: var(--sklearn-color-background);\n",
       "}\n",
       "\n",
       "#sk-container-id-1 div.sk-container {\n",
       "  /* jupyter's `normalize.less` sets `[hidden] { display: none; }`\n",
       "     but bootstrap.min.css set `[hidden] { display: none !important; }`\n",
       "     so we also need the `!important` here to be able to override the\n",
       "     default hidden behavior on the sphinx rendered scikit-learn.org.\n",
       "     See: https://github.com/scikit-learn/scikit-learn/issues/21755 */\n",
       "  display: inline-block !important;\n",
       "  position: relative;\n",
       "}\n",
       "\n",
       "#sk-container-id-1 div.sk-text-repr-fallback {\n",
       "  display: none;\n",
       "}\n",
       "\n",
       "div.sk-parallel-item,\n",
       "div.sk-serial,\n",
       "div.sk-item {\n",
       "  /* draw centered vertical line to link estimators */\n",
       "  background-image: linear-gradient(var(--sklearn-color-text-on-default-background), var(--sklearn-color-text-on-default-background));\n",
       "  background-size: 2px 100%;\n",
       "  background-repeat: no-repeat;\n",
       "  background-position: center center;\n",
       "}\n",
       "\n",
       "/* Parallel-specific style estimator block */\n",
       "\n",
       "#sk-container-id-1 div.sk-parallel-item::after {\n",
       "  content: \"\";\n",
       "  width: 100%;\n",
       "  border-bottom: 2px solid var(--sklearn-color-text-on-default-background);\n",
       "  flex-grow: 1;\n",
       "}\n",
       "\n",
       "#sk-container-id-1 div.sk-parallel {\n",
       "  display: flex;\n",
       "  align-items: stretch;\n",
       "  justify-content: center;\n",
       "  background-color: var(--sklearn-color-background);\n",
       "  position: relative;\n",
       "}\n",
       "\n",
       "#sk-container-id-1 div.sk-parallel-item {\n",
       "  display: flex;\n",
       "  flex-direction: column;\n",
       "}\n",
       "\n",
       "#sk-container-id-1 div.sk-parallel-item:first-child::after {\n",
       "  align-self: flex-end;\n",
       "  width: 50%;\n",
       "}\n",
       "\n",
       "#sk-container-id-1 div.sk-parallel-item:last-child::after {\n",
       "  align-self: flex-start;\n",
       "  width: 50%;\n",
       "}\n",
       "\n",
       "#sk-container-id-1 div.sk-parallel-item:only-child::after {\n",
       "  width: 0;\n",
       "}\n",
       "\n",
       "/* Serial-specific style estimator block */\n",
       "\n",
       "#sk-container-id-1 div.sk-serial {\n",
       "  display: flex;\n",
       "  flex-direction: column;\n",
       "  align-items: center;\n",
       "  background-color: var(--sklearn-color-background);\n",
       "  padding-right: 1em;\n",
       "  padding-left: 1em;\n",
       "}\n",
       "\n",
       "\n",
       "/* Toggleable style: style used for estimator/Pipeline/ColumnTransformer box that is\n",
       "clickable and can be expanded/collapsed.\n",
       "- Pipeline and ColumnTransformer use this feature and define the default style\n",
       "- Estimators will overwrite some part of the style using the `sk-estimator` class\n",
       "*/\n",
       "\n",
       "/* Pipeline and ColumnTransformer style (default) */\n",
       "\n",
       "#sk-container-id-1 div.sk-toggleable {\n",
       "  /* Default theme specific background. It is overwritten whether we have a\n",
       "  specific estimator or a Pipeline/ColumnTransformer */\n",
       "  background-color: var(--sklearn-color-background);\n",
       "}\n",
       "\n",
       "/* Toggleable label */\n",
       "#sk-container-id-1 label.sk-toggleable__label {\n",
       "  cursor: pointer;\n",
       "  display: flex;\n",
       "  width: 100%;\n",
       "  margin-bottom: 0;\n",
       "  padding: 0.5em;\n",
       "  box-sizing: border-box;\n",
       "  text-align: center;\n",
       "  align-items: start;\n",
       "  justify-content: space-between;\n",
       "  gap: 0.5em;\n",
       "}\n",
       "\n",
       "#sk-container-id-1 label.sk-toggleable__label .caption {\n",
       "  font-size: 0.6rem;\n",
       "  font-weight: lighter;\n",
       "  color: var(--sklearn-color-text-muted);\n",
       "}\n",
       "\n",
       "#sk-container-id-1 label.sk-toggleable__label-arrow:before {\n",
       "  /* Arrow on the left of the label */\n",
       "  content: \"▸\";\n",
       "  float: left;\n",
       "  margin-right: 0.25em;\n",
       "  color: var(--sklearn-color-icon);\n",
       "}\n",
       "\n",
       "#sk-container-id-1 label.sk-toggleable__label-arrow:hover:before {\n",
       "  color: var(--sklearn-color-text);\n",
       "}\n",
       "\n",
       "/* Toggleable content - dropdown */\n",
       "\n",
       "#sk-container-id-1 div.sk-toggleable__content {\n",
       "  max-height: 0;\n",
       "  max-width: 0;\n",
       "  overflow: hidden;\n",
       "  text-align: left;\n",
       "  /* unfitted */\n",
       "  background-color: var(--sklearn-color-unfitted-level-0);\n",
       "}\n",
       "\n",
       "#sk-container-id-1 div.sk-toggleable__content.fitted {\n",
       "  /* fitted */\n",
       "  background-color: var(--sklearn-color-fitted-level-0);\n",
       "}\n",
       "\n",
       "#sk-container-id-1 div.sk-toggleable__content pre {\n",
       "  margin: 0.2em;\n",
       "  border-radius: 0.25em;\n",
       "  color: var(--sklearn-color-text);\n",
       "  /* unfitted */\n",
       "  background-color: var(--sklearn-color-unfitted-level-0);\n",
       "}\n",
       "\n",
       "#sk-container-id-1 div.sk-toggleable__content.fitted pre {\n",
       "  /* unfitted */\n",
       "  background-color: var(--sklearn-color-fitted-level-0);\n",
       "}\n",
       "\n",
       "#sk-container-id-1 input.sk-toggleable__control:checked~div.sk-toggleable__content {\n",
       "  /* Expand drop-down */\n",
       "  max-height: 200px;\n",
       "  max-width: 100%;\n",
       "  overflow: auto;\n",
       "}\n",
       "\n",
       "#sk-container-id-1 input.sk-toggleable__control:checked~label.sk-toggleable__label-arrow:before {\n",
       "  content: \"▾\";\n",
       "}\n",
       "\n",
       "/* Pipeline/ColumnTransformer-specific style */\n",
       "\n",
       "#sk-container-id-1 div.sk-label input.sk-toggleable__control:checked~label.sk-toggleable__label {\n",
       "  color: var(--sklearn-color-text);\n",
       "  background-color: var(--sklearn-color-unfitted-level-2);\n",
       "}\n",
       "\n",
       "#sk-container-id-1 div.sk-label.fitted input.sk-toggleable__control:checked~label.sk-toggleable__label {\n",
       "  background-color: var(--sklearn-color-fitted-level-2);\n",
       "}\n",
       "\n",
       "/* Estimator-specific style */\n",
       "\n",
       "/* Colorize estimator box */\n",
       "#sk-container-id-1 div.sk-estimator input.sk-toggleable__control:checked~label.sk-toggleable__label {\n",
       "  /* unfitted */\n",
       "  background-color: var(--sklearn-color-unfitted-level-2);\n",
       "}\n",
       "\n",
       "#sk-container-id-1 div.sk-estimator.fitted input.sk-toggleable__control:checked~label.sk-toggleable__label {\n",
       "  /* fitted */\n",
       "  background-color: var(--sklearn-color-fitted-level-2);\n",
       "}\n",
       "\n",
       "#sk-container-id-1 div.sk-label label.sk-toggleable__label,\n",
       "#sk-container-id-1 div.sk-label label {\n",
       "  /* The background is the default theme color */\n",
       "  color: var(--sklearn-color-text-on-default-background);\n",
       "}\n",
       "\n",
       "/* On hover, darken the color of the background */\n",
       "#sk-container-id-1 div.sk-label:hover label.sk-toggleable__label {\n",
       "  color: var(--sklearn-color-text);\n",
       "  background-color: var(--sklearn-color-unfitted-level-2);\n",
       "}\n",
       "\n",
       "/* Label box, darken color on hover, fitted */\n",
       "#sk-container-id-1 div.sk-label.fitted:hover label.sk-toggleable__label.fitted {\n",
       "  color: var(--sklearn-color-text);\n",
       "  background-color: var(--sklearn-color-fitted-level-2);\n",
       "}\n",
       "\n",
       "/* Estimator label */\n",
       "\n",
       "#sk-container-id-1 div.sk-label label {\n",
       "  font-family: monospace;\n",
       "  font-weight: bold;\n",
       "  display: inline-block;\n",
       "  line-height: 1.2em;\n",
       "}\n",
       "\n",
       "#sk-container-id-1 div.sk-label-container {\n",
       "  text-align: center;\n",
       "}\n",
       "\n",
       "/* Estimator-specific */\n",
       "#sk-container-id-1 div.sk-estimator {\n",
       "  font-family: monospace;\n",
       "  border: 1px dotted var(--sklearn-color-border-box);\n",
       "  border-radius: 0.25em;\n",
       "  box-sizing: border-box;\n",
       "  margin-bottom: 0.5em;\n",
       "  /* unfitted */\n",
       "  background-color: var(--sklearn-color-unfitted-level-0);\n",
       "}\n",
       "\n",
       "#sk-container-id-1 div.sk-estimator.fitted {\n",
       "  /* fitted */\n",
       "  background-color: var(--sklearn-color-fitted-level-0);\n",
       "}\n",
       "\n",
       "/* on hover */\n",
       "#sk-container-id-1 div.sk-estimator:hover {\n",
       "  /* unfitted */\n",
       "  background-color: var(--sklearn-color-unfitted-level-2);\n",
       "}\n",
       "\n",
       "#sk-container-id-1 div.sk-estimator.fitted:hover {\n",
       "  /* fitted */\n",
       "  background-color: var(--sklearn-color-fitted-level-2);\n",
       "}\n",
       "\n",
       "/* Specification for estimator info (e.g. \"i\" and \"?\") */\n",
       "\n",
       "/* Common style for \"i\" and \"?\" */\n",
       "\n",
       ".sk-estimator-doc-link,\n",
       "a:link.sk-estimator-doc-link,\n",
       "a:visited.sk-estimator-doc-link {\n",
       "  float: right;\n",
       "  font-size: smaller;\n",
       "  line-height: 1em;\n",
       "  font-family: monospace;\n",
       "  background-color: var(--sklearn-color-background);\n",
       "  border-radius: 1em;\n",
       "  height: 1em;\n",
       "  width: 1em;\n",
       "  text-decoration: none !important;\n",
       "  margin-left: 0.5em;\n",
       "  text-align: center;\n",
       "  /* unfitted */\n",
       "  border: var(--sklearn-color-unfitted-level-1) 1pt solid;\n",
       "  color: var(--sklearn-color-unfitted-level-1);\n",
       "}\n",
       "\n",
       ".sk-estimator-doc-link.fitted,\n",
       "a:link.sk-estimator-doc-link.fitted,\n",
       "a:visited.sk-estimator-doc-link.fitted {\n",
       "  /* fitted */\n",
       "  border: var(--sklearn-color-fitted-level-1) 1pt solid;\n",
       "  color: var(--sklearn-color-fitted-level-1);\n",
       "}\n",
       "\n",
       "/* On hover */\n",
       "div.sk-estimator:hover .sk-estimator-doc-link:hover,\n",
       ".sk-estimator-doc-link:hover,\n",
       "div.sk-label-container:hover .sk-estimator-doc-link:hover,\n",
       ".sk-estimator-doc-link:hover {\n",
       "  /* unfitted */\n",
       "  background-color: var(--sklearn-color-unfitted-level-3);\n",
       "  color: var(--sklearn-color-background);\n",
       "  text-decoration: none;\n",
       "}\n",
       "\n",
       "div.sk-estimator.fitted:hover .sk-estimator-doc-link.fitted:hover,\n",
       ".sk-estimator-doc-link.fitted:hover,\n",
       "div.sk-label-container:hover .sk-estimator-doc-link.fitted:hover,\n",
       ".sk-estimator-doc-link.fitted:hover {\n",
       "  /* fitted */\n",
       "  background-color: var(--sklearn-color-fitted-level-3);\n",
       "  color: var(--sklearn-color-background);\n",
       "  text-decoration: none;\n",
       "}\n",
       "\n",
       "/* Span, style for the box shown on hovering the info icon */\n",
       ".sk-estimator-doc-link span {\n",
       "  display: none;\n",
       "  z-index: 9999;\n",
       "  position: relative;\n",
       "  font-weight: normal;\n",
       "  right: .2ex;\n",
       "  padding: .5ex;\n",
       "  margin: .5ex;\n",
       "  width: min-content;\n",
       "  min-width: 20ex;\n",
       "  max-width: 50ex;\n",
       "  color: var(--sklearn-color-text);\n",
       "  box-shadow: 2pt 2pt 4pt #999;\n",
       "  /* unfitted */\n",
       "  background: var(--sklearn-color-unfitted-level-0);\n",
       "  border: .5pt solid var(--sklearn-color-unfitted-level-3);\n",
       "}\n",
       "\n",
       ".sk-estimator-doc-link.fitted span {\n",
       "  /* fitted */\n",
       "  background: var(--sklearn-color-fitted-level-0);\n",
       "  border: var(--sklearn-color-fitted-level-3);\n",
       "}\n",
       "\n",
       ".sk-estimator-doc-link:hover span {\n",
       "  display: block;\n",
       "}\n",
       "\n",
       "/* \"?\"-specific style due to the `<a>` HTML tag */\n",
       "\n",
       "#sk-container-id-1 a.estimator_doc_link {\n",
       "  float: right;\n",
       "  font-size: 1rem;\n",
       "  line-height: 1em;\n",
       "  font-family: monospace;\n",
       "  background-color: var(--sklearn-color-background);\n",
       "  border-radius: 1rem;\n",
       "  height: 1rem;\n",
       "  width: 1rem;\n",
       "  text-decoration: none;\n",
       "  /* unfitted */\n",
       "  color: var(--sklearn-color-unfitted-level-1);\n",
       "  border: var(--sklearn-color-unfitted-level-1) 1pt solid;\n",
       "}\n",
       "\n",
       "#sk-container-id-1 a.estimator_doc_link.fitted {\n",
       "  /* fitted */\n",
       "  border: var(--sklearn-color-fitted-level-1) 1pt solid;\n",
       "  color: var(--sklearn-color-fitted-level-1);\n",
       "}\n",
       "\n",
       "/* On hover */\n",
       "#sk-container-id-1 a.estimator_doc_link:hover {\n",
       "  /* unfitted */\n",
       "  background-color: var(--sklearn-color-unfitted-level-3);\n",
       "  color: var(--sklearn-color-background);\n",
       "  text-decoration: none;\n",
       "}\n",
       "\n",
       "#sk-container-id-1 a.estimator_doc_link.fitted:hover {\n",
       "  /* fitted */\n",
       "  background-color: var(--sklearn-color-fitted-level-3);\n",
       "}\n",
       "</style><div id=\"sk-container-id-1\" class=\"sk-top-container\"><div class=\"sk-text-repr-fallback\"><pre>PCA()</pre><b>In a Jupyter environment, please rerun this cell to show the HTML representation or trust the notebook. <br />On GitHub, the HTML representation is unable to render, please try loading this page with nbviewer.org.</b></div><div class=\"sk-container\" hidden><div class=\"sk-item\"><div class=\"sk-estimator fitted sk-toggleable\"><input class=\"sk-toggleable__control sk-hidden--visually\" id=\"sk-estimator-id-1\" type=\"checkbox\" checked><label for=\"sk-estimator-id-1\" class=\"sk-toggleable__label fitted sk-toggleable__label-arrow\"><div><div>PCA</div></div><div><a class=\"sk-estimator-doc-link fitted\" rel=\"noreferrer\" target=\"_blank\" href=\"https://scikit-learn.org/1.6/modules/generated/sklearn.decomposition.PCA.html\">?<span>Documentation for PCA</span></a><span class=\"sk-estimator-doc-link fitted\">i<span>Fitted</span></span></div></label><div class=\"sk-toggleable__content fitted\"><pre>PCA()</pre></div> </div></div></div></div>"
      ],
      "text/plain": [
       "PCA()"
      ]
     },
     "execution_count": 9,
     "metadata": {},
     "output_type": "execute_result"
    }
   ],
   "source": [
    "pcaUS.fit(USArrests_scaled)"
   ]
  },
  {
   "cell_type": "markdown",
   "id": "56d08f77-d054-4e99-a057-93e88396ea8f",
   "metadata": {},
   "source": [
    "拟合后，mean_属性对应于变量的均值。在这种情况下，由于使用了scaler()对数据进行居中和缩放，因此均值将全部为0。"
   ]
  },
  {
   "cell_type": "code",
   "execution_count": 10,
   "id": "a7e9a0a4-fb9f-4a0f-8aaf-cfca5b61133b",
   "metadata": {},
   "outputs": [
    {
     "data": {
      "text/plain": [
       "array([-7.10542736e-17,  1.38777878e-16, -4.39648318e-16,  8.59312621e-16])"
      ]
     },
     "execution_count": 10,
     "metadata": {},
     "output_type": "execute_result"
    }
   ],
   "source": [
    "pcaUS.mean_"
   ]
  },
  {
   "cell_type": "code",
   "execution_count": 11,
   "id": "59b1f118-dc06-4feb-8464-8770201ca527",
   "metadata": {},
   "outputs": [
    {
     "data": {
      "text/plain": [
       "array([[ 0.53589947,  0.58318363,  0.27819087,  0.54343209],\n",
       "       [-0.41818087, -0.1879856 ,  0.87280619,  0.16731864],\n",
       "       [-0.34123273, -0.26814843, -0.37801579,  0.81777791],\n",
       "       [-0.6492278 ,  0.74340748, -0.13387773, -0.08902432]])"
      ]
     },
     "execution_count": 11,
     "metadata": {},
     "output_type": "execute_result"
    }
   ],
   "source": [
    "# 查看每个主成分的方向（特征向量）\n",
    "pcaUS.components_"
   ]
  },
  {
   "cell_type": "markdown",
   "id": "d86a270e-f091-4686-af4a-3976902e0244",
   "metadata": {},
   "source": [
    "**第1主成分（PC1）方向**  \n",
    "$$PC1 = 0.5359 × Murder + 0.5832 × Assault + 0.2782 × UrbanPop + 0.5434 × Rape$$\n",
    "它大致是各个变量的加权平均，特别是 Murder、Assault 和 Rape 的加权组合，**代表“总体暴力程度”**。\n",
    "\n",
    "**第2行 是 PC2 的方向**：  \n",
    "$$PC2=−0.418×Murder−0.188×Assault+0.873×UrbanPop+0.167×Rape$$\n",
    "**主要反映“城市化（UrbanPop）”方向，其他变量反向变化**。"
   ]
  },
  {
   "cell_type": "code",
   "execution_count": 12,
   "id": "4f7f0787-0049-434f-a20b-bd3c75cb1474",
   "metadata": {},
   "outputs": [
    {
     "data": {
      "text/plain": [
       "1.9407060600000001"
      ]
     },
     "execution_count": 12,
     "metadata": {},
     "output_type": "execute_result"
    }
   ],
   "source": [
    "# 为什么这些向量的“系数之和”不等于 1？\n",
    "tutor = np.array([0.53589947,  0.58318363,  0.27819087,  0.54343209])\n",
    "np.sum(tutor)          # 和约为 1.94，不是1"
   ]
  },
  {
   "cell_type": "code",
   "execution_count": 13,
   "id": "9fc658ee-1adc-40ab-855d-de124fd7562b",
   "metadata": {},
   "outputs": [
    {
     "data": {
      "text/plain": [
       "0.9999999924196914"
      ]
     },
     "execution_count": 13,
     "metadata": {},
     "output_type": "execute_result"
    }
   ],
   "source": [
    "np.linalg.norm(tutor)  # L2范数约为 1.0（符合单位向量）"
   ]
  },
  {
   "cell_type": "markdown",
   "id": "9fa82365-d69c-4f12-adc6-b72d2ea638e6",
   "metadata": {},
   "source": [
    "| 问题             | 回答                                              |\n",
    "| -------------- | ----------------------------------------------- |\n",
    "| 主成分的系数和为什么不为1？ | 因为它们是单位向量，满足 $\\sum v_i^2 = 1$，不是 $\\sum v_i = 1$ |\n",
    "| 是不是有问题？        | 完全正常，PCA 的特征向量是“方向”，其 L2 范数为 1 是规范要求            |\n",
    "| 可以转换成和为1吗？     | 可以手动 L1 归一化，但这样失去 PCA 的原始意义           |\n"
   ]
  },
  {
   "cell_type": "markdown",
   "id": "5ed42fe5-40a7-4aa8-a13d-068538a47852",
   "metadata": {},
   "source": [
    "在拟合后，可以使用pcaUS的transform()方法计算分数。"
   ]
  },
  {
   "cell_type": "code",
   "execution_count": 14,
   "id": "72c0c3c9-b044-4d01-8bd8-c4cbfdb211e0",
   "metadata": {
    "scrolled": true
   },
   "outputs": [
    {
     "data": {
      "text/plain": [
       "array([[ 9.85565885e-01, -1.13339238e+00, -4.44268788e-01,\n",
       "        -1.56267145e-01],\n",
       "       [ 1.95013775e+00, -1.07321326e+00,  2.04000333e+00,\n",
       "         4.38583440e-01],\n",
       "       [ 1.76316354e+00,  7.45956781e-01,  5.47808243e-02,\n",
       "         8.34652924e-01],\n",
       "       [-1.41420290e-01, -1.11979678e+00,  1.14573692e-01,\n",
       "         1.82810896e-01],\n",
       "       [ 2.52398013e+00,  1.54293399e+00,  5.98556799e-01,\n",
       "         3.41996478e-01],\n",
       "       [ 1.51456286e+00,  9.87555085e-01,  1.09500699e+00,\n",
       "        -1.46488703e-03],\n",
       "       [-1.35864746e+00,  1.08892789e+00, -6.43257569e-01,\n",
       "         1.18469414e-01],\n",
       "       [ 4.77093091e-02,  3.25358925e-01, -7.18632942e-01,\n",
       "         8.81977637e-01],\n",
       "       [ 3.01304227e+00, -3.92285133e-02, -5.76829492e-01,\n",
       "         9.62847520e-02],\n",
       "       [ 1.63928304e+00, -1.27894240e+00, -3.42460080e-01,\n",
       "        -1.07679681e+00],\n",
       "       [-9.12657146e-01,  1.57046001e+00,  5.07818939e-02,\n",
       "        -9.02806864e-01],\n",
       "       [-1.63979985e+00, -2.10972917e-01,  2.59801342e-01,\n",
       "         4.99104101e-01],\n",
       "       [ 1.37891072e+00,  6.81841189e-01, -6.77495641e-01,\n",
       "         1.22021292e-01],\n",
       "       [-5.05461361e-01,  1.51562542e-01,  2.28054838e-01,\n",
       "        -4.24665700e-01],\n",
       "       [-2.25364607e+00,  1.04054073e-01,  1.64564315e-01,\n",
       "        -1.75559157e-02],\n",
       "       [-7.96881121e-01,  2.70164705e-01,  2.55533072e-02,\n",
       "        -2.06496428e-01],\n",
       "       [-7.50859074e-01, -9.58440286e-01, -2.83694170e-02,\n",
       "        -6.70556671e-01],\n",
       "       [ 1.56481798e+00, -8.71054655e-01, -7.83480358e-01,\n",
       "        -4.54728038e-01],\n",
       "       [-2.39682949e+00, -3.76391576e-01, -6.56823864e-02,\n",
       "         3.30459817e-01],\n",
       "       [ 1.76336939e+00, -4.27655192e-01, -1.57250127e-01,\n",
       "         5.59069521e-01],\n",
       "       [-4.86166287e-01,  1.47449650e+00, -6.09497476e-01,\n",
       "         1.79598963e-01],\n",
       "       [ 2.10844115e+00,  1.55396819e-01,  3.84868584e-01,\n",
       "        -1.02372019e-01],\n",
       "       [-1.69268181e+00,  6.32261251e-01,  1.53070434e-01,\n",
       "        -6.73168850e-02],\n",
       "       [ 9.96494459e-01, -2.39379599e+00, -7.40808395e-01,\n",
       "        -2.15508013e-01],\n",
       "       [ 6.96787329e-01,  2.63354790e-01,  3.77443827e-01,\n",
       "        -2.25824461e-01],\n",
       "       [-1.18545191e+00, -5.36874372e-01,  2.46889321e-01,\n",
       "        -1.23742227e-01],\n",
       "       [-1.26563654e+00,  1.93953730e-01,  1.75573906e-01,\n",
       "        -1.58928878e-02],\n",
       "       [ 2.87439454e+00,  7.75600196e-01,  1.16338049e+00,\n",
       "        -3.14515476e-01],\n",
       "       [-2.38391541e+00,  1.80822897e-02,  3.68553932e-02,\n",
       "         3.31373376e-02],\n",
       "       [ 1.81566110e-01,  1.44950571e+00, -7.64453551e-01,\n",
       "        -2.43382700e-01],\n",
       "       [ 1.98002375e+00, -1.42848780e-01,  1.83692180e-01,\n",
       "         3.39533597e-01],\n",
       "       [ 1.68257738e+00,  8.23184142e-01, -6.43075093e-01,\n",
       "         1.34843689e-02],\n",
       "       [ 1.12337861e+00, -2.22800338e+00, -8.63571788e-01,\n",
       "         9.54381667e-01],\n",
       "       [-2.99222562e+00, -5.99118824e-01,  3.01277285e-01,\n",
       "         2.53987327e-01],\n",
       "       [-2.25965422e-01,  7.42238237e-01, -3.11391215e-02,\n",
       "        -4.73915911e-01],\n",
       "       [-3.11782855e-01,  2.87854206e-01, -1.53097922e-02,\n",
       "        -1.03323208e-02],\n",
       "       [ 5.91220768e-02,  5.41411454e-01,  9.39832977e-01,\n",
       "         2.37780688e-01],\n",
       "       [-8.88415824e-01,  5.71100352e-01, -4.00628706e-01,\n",
       "        -3.59061124e-01],\n",
       "       [-8.63772064e-01,  1.49197842e+00, -1.36994570e+00,\n",
       "         6.13569430e-01],\n",
       "       [ 1.32072380e+00, -1.93340466e+00, -3.00537790e-01,\n",
       "         1.31466685e-01],\n",
       "       [-1.98777484e+00, -8.23343241e-01,  3.89293329e-01,\n",
       "         1.09571764e-01],\n",
       "       [ 9.99741684e-01, -8.60251305e-01,  1.88082949e-01,\n",
       "        -6.52864291e-01],\n",
       "       [ 1.35513821e+00,  4.12480819e-01, -4.92068858e-01,\n",
       "        -6.43195491e-01],\n",
       "       [-5.50565262e-01,  1.47150461e+00,  2.93728037e-01,\n",
       "         8.23140470e-02],\n",
       "       [-2.80141174e+00, -1.40228806e+00,  8.41263094e-01,\n",
       "         1.44889914e-01],\n",
       "       [-9.63349112e-02, -1.99735289e-01,  1.17125418e-02,\n",
       "        -2.11370813e-01],\n",
       "       [-2.16903379e-01,  9.70124183e-01,  6.24870938e-01,\n",
       "         2.20847793e-01],\n",
       "       [-2.10858541e+00, -1.42484670e+00,  1.04774671e-01,\n",
       "        -1.31908831e-01],\n",
       "       [-2.07971417e+00,  6.11268624e-01, -1.38864998e-01,\n",
       "        -1.84103743e-01],\n",
       "       [-6.29426664e-01, -3.21012967e-01, -2.40659234e-01,\n",
       "         1.66651801e-01]])"
      ]
     },
     "execution_count": 14,
     "metadata": {},
     "output_type": "execute_result"
    }
   ],
   "source": [
    "scores = pcaUS.transform(USArrests_scaled)\n",
    "scores"
   ]
  },
  {
   "cell_type": "markdown",
   "id": "2e7ba3f1-3d45-4f92-8686-f73574b2c879",
   "metadata": {},
   "source": [
    "### **得分描述了样本在“主要变化方向”上的表达**。\n",
    "#### **原始样本投影到主成分方向上，得到的是 每个样本在主成分方向上的坐标**。  \n",
    "**PC1 和 PC2 是从原始变量中提取的两个新的坐标轴。每个州在这个新坐标系中的位置反映了它的整体特征**。\n",
    "- 靠近右上角的州：在 PC1、PC2 得分都高 → 说明这些州在谋杀、侵犯等方面的值较高；\n",
    "- 靠近左下角的州：得分低 → 上述变量的值较低。"
   ]
  },
  {
   "cell_type": "code",
   "execution_count": 15,
   "id": "bf3b03dc-d492-4961-972f-920dc346a352",
   "metadata": {},
   "outputs": [
    {
     "data": {
      "image/png": "[encoded data removed]",
      "text/plain": [
       "<Figure size 800x800 with 1 Axes>"
      ]
     },
     "metadata": {},
     "output_type": "display_data"
    }
   ],
   "source": [
    "i, j = 0, 1 # 指定绘制第1和第2主成分\n",
    "fig, ax = plt.subplots(1, 1, figsize=(8, 8))\n",
    "# 绘制了所有样本在 PC1-PC2 平面上的分布图\n",
    "ax.scatter(scores[:,0], scores[:,1])\n",
    "ax.set_xlabel('PC%d' % (i+1))\n",
    "ax.set_ylabel('PC%d' % (j+1))\n",
    "for k in range(pcaUS.components_.shape[1]):\n",
    "    # 表示第 1、2 个主成分在第 k 个变量方向上的分量\n",
    "    ax.arrow(0, 0, pcaUS.components_[i,k], pcaUS.components_[j,k])\n",
    "    ax.text(pcaUS.components_[i,k], pcaUS.components_[j,k], USArrests.columns[k])"
   ]
  },
  {
   "cell_type": "markdown",
   "id": "041d5652-a89b-45c9-a515-d658b92d4bbc",
   "metadata": {},
   "source": [
    "**1. 变量之间的相关性（看夹角）**：\n",
    "- 谋杀、袭击、侵犯 的箭头几乎是同方向（夹角小），说明它们之间高度正相关；  \n",
    "- 城市居住人口占比（UrbanPop） 和其它三个箭头的夹角偏大（接近 90°），说明它与其它变量相关性不强。  \n",
    "\n",
    "\n",
    "**2. 变量在主成分上的贡献**：\n",
    "- 箭头长度 代表该变量在 PC1-PC2 平面上的投影强度，越长表示越能区分样本。  \n",
    "- 谋杀、袭击、侵犯 这三个线在横轴上都较长，说明它们在 PC1 的解释力较强；  \n",
    "- 城市居住人口占比 在纵轴上较长，说明这个变量在 PC2 的解释力较强。"
   ]
  },
  {
   "cell_type": "code",
   "execution_count": 16,
   "id": "4057ff97-0e90-434c-9b8f-da51cc8e42f8",
   "metadata": {},
   "outputs": [
    {
     "data": {
      "image/png": "[encoded data removed]",
      "text/plain": [
       "<Figure size 800x800 with 1 Axes>"
      ]
     },
     "metadata": {},
     "output_type": "display_data"
    }
   ],
   "source": [
    "# 翻转方向不改变主成分的数学意义\n",
    "scale_arrow = s_ = 2\n",
    "scores[:,1] *= -1\n",
    "# 翻转y轴\n",
    "pcaUS.components_[1] *= -1 \n",
    "fig, ax = plt.subplots(1, 1, figsize=(8, 8))\n",
    "ax.scatter(scores[:,0], scores[:,1])\n",
    "ax.set_xlabel('PC%d' % (i+1))\n",
    "ax.set_ylabel('PC%d' % (j+1))\n",
    "# 让图看起来更符合人类直觉，比如：变量箭头朝向数据聚集区；PC1 高值表示“高犯罪”，而不是反着\n",
    "for k in range(pcaUS.components_.shape[1]):\n",
    "    ax.arrow(0, 0, s_*pcaUS.components_[i,k], s_*pcaUS.components_[j,k])\n",
    "    ax.text(s_*pcaUS.components_[i,k], s_*pcaUS.components_[j,k], USArrests.columns[k])"
   ]
  },
  {
   "cell_type": "markdown",
   "id": "01939256-d3f2-421a-9d6b-6fcc1db81d65",
   "metadata": {},
   "source": [
    "#### **每个主成分的特征值，表示每个主成分解释了多少方差。**\n",
    "- 数值越大，说明该主成分越重要。\n",
    "- 总和就是数据的总方差（标准化后的数据总方差等于原变量个数，即4）"
   ]
  },
  {
   "cell_type": "code",
   "execution_count": 17,
   "id": "5fa671c5-d719-4141-b013-5e4ae9b44413",
   "metadata": {},
   "outputs": [
    {
     "data": {
      "text/plain": [
       "array([2.53085875, 1.00996444, 0.36383998, 0.17696948])"
      ]
     },
     "execution_count": 17,
     "metadata": {},
     "output_type": "execute_result"
    }
   ],
   "source": [
    "# 查看每个主成分的解释方差（特征值）\n",
    "pcaUS.explained_variance_"
   ]
  },
  {
   "cell_type": "code",
   "execution_count": 18,
   "id": "3f4b5370-fc63-4b8d-b4c3-17f7ade479f5",
   "metadata": {},
   "outputs": [
    {
     "data": {
      "text/plain": [
       "array([0.62006039, 0.24744129, 0.0891408 , 0.04335752])"
      ]
     },
     "execution_count": 18,
     "metadata": {},
     "output_type": "execute_result"
    }
   ],
   "source": [
    "# 查看每个主成分解释的方差比例\n",
    "pcaUS.explained_variance_ratio_"
   ]
  },
  {
   "cell_type": "markdown",
   "id": "6596827c-c800-4a3a-bf7d-eced4a2a97c5",
   "metadata": {},
   "source": [
    "**实际使用中，我们常常只保留前2个主成分来实现降维（例如二维可视化），因为它们合起来已经解释了 87% 的信息**。\n",
    "- 第一个主成分解释了数据中62.0%的方差，下一个主成分则解释了24.7%的方差，以此类推。\n",
    "- 因此可以绘制每个组件解释的**PVE**，以及累积的**PVE**。 **PVE: Proportion of Variance Explained**"
   ]
  },
  {
   "cell_type": "code",
   "execution_count": 19,
   "id": "824f8d06-654b-456f-8125-e941ff670120",
   "metadata": {},
   "outputs": [
    {
     "data": {
      "text/plain": [
       "[<matplotlib.axis.XTick at 0x2aabda168d0>,\n",
       " <matplotlib.axis.XTick at 0x2aabda15220>,\n",
       " <matplotlib.axis.XTick at 0x2aabd9b6630>,\n",
       " <matplotlib.axis.XTick at 0x2aabd2ee750>]"
      ]
     },
     "execution_count": 19,
     "metadata": {},
     "output_type": "execute_result"
    },
    {
     "data": {
      "image/png": "[encoded data removed]",
      "text/plain": [
       "<Figure size 1500x600 with 2 Axes>"
      ]
     },
     "metadata": {},
     "output_type": "display_data"
    }
   ],
   "source": [
    "# 首先绘制所解释的方差比例。 \n",
    "#%%capture\n",
    "fig, axes = plt.subplots(1, 2, figsize = (15, 6))\n",
    "# 创建横坐标刻度标签（主成分编号）\n",
    "ticks = np.arange(pcaUS.n_components_) + 1\n",
    "ax = axes[0]\n",
    "ax.plot(ticks, pcaUS.explained_variance_ratio_, marker='o')\n",
    "ax.set_xlabel('Principal Component');\n",
    "ax.set_ylabel('Proportion of Variance Explained')\n",
    "ax.set_ylim([0,1])\n",
    "ax.set_xticks(ticks)"
   ]
  },
  {
   "cell_type": "code",
   "execution_count": 20,
   "id": "980ec8d3-bd53-4576-acbf-e792b0463085",
   "metadata": {},
   "outputs": [
    {
     "data": {
      "image/png": "[encoded data removed]",
      "text/plain": [
       "<Figure size 1500x600 with 2 Axes>"
      ]
     },
     "execution_count": 20,
     "metadata": {},
     "output_type": "execute_result"
    }
   ],
   "source": [
    "# 累积解释方差比例图\n",
    "ax = axes[1]\n",
    "# 累计求和，表示前n个主成分累计解释的方差比例。\n",
    "ax.plot(ticks, pcaUS.explained_variance_ratio_.cumsum(), marker='o')\n",
    "ax.set_xlabel('Principal Component')\n",
    "ax.set_ylabel('Cumulative Proportion of Variance Explained')\n",
    "ax.set_ylim([0, 1])\n",
    "ax.set_xticks(ticks)\n",
    "fig"
   ]
  },
  {
   "cell_type": "markdown",
   "id": "55612989-5287-4472-901a-fbce9cfb4ffb",
   "metadata": {},
   "source": [
    "#### **总结**\n",
    "- **左图**：前两个主成分合计解释约 87% 的总变异；后两个主成分的贡献可以忽略不计（PC3 和 PC4 的解释量较少（分别约 9% 和 4%））\n",
    "- **右图**：纵轴是累计解释比例，即 PC1+PC2+...+PCk 的总解释比例\n",
    "    - 从图中可以看出：PC1 → 62%；PC1+PC2 → 87%； PC1+PC2+PC3 → 97%；全部主成分解释 100%\n",
    "\n",
    "**我们的数据有四个变量：谋杀、袭击、强奸 和 城市居民占比。**  \n",
    "**根据这图可以判断**：  \n",
    "- 第一主成分（PC1）是最重要的，它代表整体的“暴力水平”或“治安风险”维度\n",
    "- 第二主成分（PC2）与城市化率相关\n",
    "- 后两个主成分贡献极小，可视为噪声或细节差异。"
   ]
  },
  {
   "cell_type": "code",
   "execution_count": 21,
   "id": "01721443-24b4-4c76-aecd-9f416a24679f",
   "metadata": {},
   "outputs": [
    {
     "data": {
      "text/plain": [
       "array([ 1,  3, 11,  8])"
      ]
     },
     "execution_count": 21,
     "metadata": {},
     "output_type": "execute_result"
    }
   ],
   "source": [
    "# cumsum()方法计算数值向量元素的累积和。例如：\n",
    "a = np.array([1,2,8,-3])\n",
    "np.cumsum(a)"
   ]
  },
  {
   "cell_type": "markdown",
   "id": "8d8fbef9-67b8-4366-b3d2-8ba86fbb652a",
   "metadata": {},
   "source": [
    "## **2. 矩阵完成 Matrix Completion**\n",
    "- 现在重新创建对USArrests数据进行的分析。  \n",
    "- 我们使用按比例和中心排列的USArrests数据，如下所示。奇异值分解（SVD）是降维PCA的另一通用算法。\n",
    "\n",
    "| 名称 | 含义                   | SVD结果 | PCA等价物                   |\n",
    "| -- | -------------------- | ----- | ------------------------ |\n",
    "| U  | 样本在主成分方向的单位坐标        | `U`   | `scores / D`             |\n",
    "| D  | 奇异值（标准差 × sqrt(n-1)） | `D`   | $\\sqrt{\\lambda_i (n-1)}$ |\n",
    "| V  | 主成分方向（变量组合）          | `V`   | `pca.components_`        |\n"
   ]
  },
  {
   "cell_type": "code",
   "execution_count": 22,
   "id": "e7339be5-53ba-47da-bb67-3b0c4b81cf51",
   "metadata": {},
   "outputs": [
    {
     "data": {
      "text/plain": [
       "((50, 4), (4,), (4, 4))"
      ]
     },
     "execution_count": 22,
     "metadata": {},
     "output_type": "execute_result"
    }
   ],
   "source": [
    "X = USArrests_scaled\n",
    "U, D, V = np.linalg.svd(X, full_matrices=False)\n",
    "U.shape, D.shape, V.shape"
   ]
  },
  {
   "cell_type": "markdown",
   "id": "54431caf-eb25-4a17-b367-c67021539e5a",
   "metadata": {},
   "source": [
    "**对 X 做奇异值分解（Singular Value Decomposition）**：\n",
    "- U 是左奇异向量矩阵（形状为 50×4）对应样本方向；  \n",
    "- D 是奇异值向量（长度为 4）表示主成分的标准差；  \n",
    "- V 是右奇异向量矩阵（形状为 4×4）对应变量方向，即主成分方向\n",
    "\n",
    "**矩阵V相当于从主分量加载矩阵（符号可能不同，因为奇异值分解允许符号翻转）**。  \n",
    "\n",
    "**full_matrices=True（默认值）**\n",
    "- 优点：数学上完整，矩阵可以完全重建；\n",
    "- 缺点：对于 高维数据（尤其是列远少于行时），会导致大量冗余计算和存储"
   ]
  },
  {
   "cell_type": "code",
   "execution_count": 23,
   "id": "01b4699a-a95c-47f8-b038-0abbf280e263",
   "metadata": {},
   "outputs": [
    {
     "data": {
      "text/plain": [
       "array([[-0.53589947, -0.58318363, -0.27819087, -0.54343209],\n",
       "       [ 0.41818087,  0.1879856 , -0.87280619, -0.16731864],\n",
       "       [-0.34123273, -0.26814843, -0.37801579,  0.81777791],\n",
       "       [ 0.6492278 , -0.74340748,  0.13387773,  0.08902432]])"
      ]
     },
     "execution_count": 23,
     "metadata": {},
     "output_type": "execute_result"
    }
   ],
   "source": [
    "V"
   ]
  },
  {
   "cell_type": "code",
   "execution_count": 24,
   "id": "ca9b2707-a4a0-480f-8120-ec3333d3b6f0",
   "metadata": {},
   "outputs": [
    {
     "data": {
      "text/plain": [
       "array([[ 0.53589947,  0.58318363,  0.27819087,  0.54343209],\n",
       "       [ 0.41818087,  0.1879856 , -0.87280619, -0.16731864],\n",
       "       [-0.34123273, -0.26814843, -0.37801579,  0.81777791],\n",
       "       [-0.6492278 ,  0.74340748, -0.13387773, -0.08902432]])"
      ]
     },
     "execution_count": 24,
     "metadata": {},
     "output_type": "execute_result"
    }
   ],
   "source": [
    "pcaUS.components_"
   ]
  },
  {
   "cell_type": "markdown",
   "id": "09f93d0c-8db9-4163-bc79-627f5a4b5485",
   "metadata": {},
   "source": [
    "- **对应矩阵U于PCA得分矩阵的标准化版本（每列标准化为平方和为1）**。\n",
    "- 如果将U的每一列乘以D的相应元素，可以精确地恢复PCA得分（SVD允许符号翻转）。\n",
    "\n",
    "\n",
    "U * D[None, :] 是广播机制：每一列的 U[:, i] 乘以对应 D[i]\n",
    "\n",
    "这相当于：$𝑈⋅diag(𝐷)=𝑋⋅𝑉$   \n",
    "正好是 PCA 的 主成分得分（scores）。"
   ]
  },
  {
   "cell_type": "code",
   "execution_count": 25,
   "id": "59c1773f-eb34-4490-b5a3-13d2d1f29c24",
   "metadata": {},
   "outputs": [
    {
     "data": {
      "text/plain": [
       "array([[-0.98556588,  1.13339238, -0.44426879,  0.15626714],\n",
       "       [-1.95013775,  1.07321326,  2.04000333, -0.43858344],\n",
       "       [-1.76316354, -0.74595678,  0.05478082, -0.83465292]])"
      ]
     },
     "execution_count": 25,
     "metadata": {},
     "output_type": "execute_result"
    }
   ],
   "source": [
    "# 还原出 PCA 得分（scores）。\n",
    "(U * D[None,:])[:3]"
   ]
  },
  {
   "cell_type": "code",
   "execution_count": 26,
   "id": "5ed83770-3560-4874-b2fa-7233cf69189a",
   "metadata": {},
   "outputs": [
    {
     "data": {
      "text/plain": [
       "array([[ 0.98556588,  1.13339238, -0.44426879, -0.15626714],\n",
       "       [ 1.95013775,  1.07321326,  2.04000333,  0.43858344],\n",
       "       [ 1.76316354, -0.74595678,  0.05478082,  0.83465292]])"
      ]
     },
     "execution_count": 26,
     "metadata": {},
     "output_type": "execute_result"
    }
   ],
   "source": [
    "scores[:3]"
   ]
  },
  {
   "cell_type": "markdown",
   "id": "0d0ad170-6836-4f2d-987a-d6731444efa1",
   "metadata": {},
   "source": [
    "**PCA 得分的计算**  \n",
    "\n",
    "PCA的变换过程是：\n",
    "$\\text{scores} = X \\cdot V^T$\n",
    "\n",
    "其中：\n",
    "\n",
    "- $X$ 是标准化后的原始数据（通常指均值为0，标准差为1）\n",
    "- $V^T$ 是主成分方向矩阵（即 `PCA.components_.T`）\n",
    "\n",
    "---\n",
    "\n",
    "**SVD 的变换**\n",
    "\n",
    "SVD 分解形式为：$X = U \\cdot \\mathrm{diag}(D) \\cdot V^T$\n",
    "\n",
    "两边右乘 \\( V \\) 得：$X \\cdot V = U \\cdot \\mathrm{diag}(D)$\n",
    "\n",
    "因此有：$\\text{scores} = X \\cdot V = U \\cdot \\mathrm{diag}(D)$\n",
    "\n",
    "也就是说，PCA 得分矩阵其实就是 SVD 中的左奇异向量 $U$ 乘以奇异值对角阵 $\\mathrm{diag}(D)$。\n",
    "\n",
    "---"
   ]
  },
  {
   "cell_type": "markdown",
   "id": "3aba29c2-43e1-45fb-be0f-d73fd7f6937f",
   "metadata": {},
   "source": [
    "### **低秩矩阵完成（Low-rank Matrix Completion）的一个具体实例**\n",
    "特别是基于奇异值分解（SVD）的缺失值迭代填充。\n",
    "\n",
    "**在原始标准化数据矩阵 X 中随机插入缺失值（NaN），为后续进行 矩阵完成（Matrix Completion）做准备。**\n",
    "- 现在随机省略50*4数据矩阵中的20个条目。\n",
    "    - 首先随机选择20行（状态），然后随机选择每行中的四个条目中的一个。\n",
    "    - 这确保了每一行至少有三个观测值。"
   ]
  },
  {
   "cell_type": "code",
   "execution_count": 27,
   "id": "ee027117-65e9-47bf-b961-d01a54f50155",
   "metadata": {},
   "outputs": [
    {
     "data": {
      "text/plain": [
       "array([35, 37, 41, 26, 38, 43,  3, 33, 30, 36, 14, 16, 20,  9, 44, 47, 49,\n",
       "       22, 25, 42])"
      ]
     },
     "execution_count": 27,
     "metadata": {},
     "output_type": "execute_result"
    }
   ],
   "source": [
    "n_omit = 20\n",
    "np.random.seed(15)\n",
    "# 不放回抽样，确保每个缺失值来自不同的行。\n",
    "r_idx = np.random.choice(np.arange(X.shape[0]), n_omit, replace=False) \n",
    "r_idx"
   ]
  },
  {
   "cell_type": "code",
   "execution_count": 28,
   "id": "50bfbb49-7dd6-4db7-9c9e-1866964c9801",
   "metadata": {},
   "outputs": [
    {
     "data": {
      "text/plain": [
       "array([3, 3, 0, 1, 0, 1, 3, 1, 0, 0, 3, 1, 1, 0, 0, 2, 2, 0, 1, 2])"
      ]
     },
     "execution_count": 28,
     "metadata": {},
     "output_type": "execute_result"
    }
   ],
   "source": [
    "# 随机从 X 的列索引中选出 20 个可以重复的列。\n",
    "c_idx = np.random.choice(np.arange(X.shape[1]), n_omit, replace=True)\n",
    "c_idx"
   ]
  },
  {
   "cell_type": "code",
   "execution_count": 29,
   "id": "8d68737c-d497-4a0c-91df-a2db9b290a56",
   "metadata": {
    "scrolled": true
   },
   "outputs": [
    {
     "data": {
      "text/plain": [
       "array([[ 1.25517927,  0.79078716, -0.52619514, -0.00345116],\n",
       "       [ 0.51301858,  1.11805959, -1.22406668,  2.50942392],\n",
       "       [ 0.07236067,  1.49381682,  1.00912225,  1.05346626],\n",
       "       [ 0.23470832,  0.23321191, -1.08449238,         nan],\n",
       "       [ 0.28109336,  1.2756352 ,  1.77678094,  2.08881393],\n",
       "       [ 0.02597562,  0.40290872,  0.86954794,  1.88390137],\n",
       "       [-1.04088037, -0.73648418,  0.79976079, -1.09272319],\n",
       "       [-0.43787481,  0.81502956,  0.45082502, -0.58583422],\n",
       "       [ 1.76541475,  1.99078607,  1.00912225,  1.1505301 ],\n",
       "       [        nan,  0.48775713, -0.38662083,  0.49265293],\n",
       "       [-0.57702994, -1.51224105,  1.21848371, -0.11129987],\n",
       "       [-1.20322802, -0.61527217, -0.80534376, -0.75839217],\n",
       "       [ 0.60578867,  0.94836277,  1.21848371,  0.29852525],\n",
       "       [-0.13637203, -0.70012057, -0.03768506, -0.0250209 ],\n",
       "       [-1.29599811, -1.39102904, -0.5959823 ,         nan],\n",
       "       [-0.41468229, -0.67587817,  0.03210209, -0.34856705],\n",
       "       [ 0.44344101,         nan, -0.94491807, -0.53190987],\n",
       "       [ 1.76541475,  0.94836277,  0.03210209,  0.10439756],\n",
       "       [-1.31919063, -1.06375661, -1.01470522, -1.44862395],\n",
       "       [ 0.81452136,  1.56654403,  0.10188925,  0.70835037],\n",
       "       [-0.78576263,         nan,  1.35805802, -0.53190987],\n",
       "       [ 1.00006153,  1.02108998,  0.59039932,  1.49564599],\n",
       "       [        nan, -1.19708982,  0.03210209, -0.68289807],\n",
       "       [ 1.9277624 ,  1.06957478, -1.5032153 , -0.44563089],\n",
       "       [ 0.28109336,  0.0877575 ,  0.31125071,  0.75148985],\n",
       "       [-0.41468229,         nan, -0.87513091, -0.521125  ],\n",
       "       [-0.80895515,         nan, -0.24704653, -0.51034012],\n",
       "       [ 1.02325405,  0.98472638,  1.0789094 ,  2.671197  ],\n",
       "       [-1.31919063, -1.37890783, -0.66576945, -1.26528114],\n",
       "       [-0.08998698, -0.14254532,  1.63720664, -0.26228808],\n",
       "       [        nan,  1.38472601,  0.31125071,  1.17209984],\n",
       "       [ 0.76813632,  1.00896878,  1.42784517,  0.52500755],\n",
       "       [ 1.20879423,  2.01502847, -1.43342815, -0.55347961],\n",
       "       [-1.62069341,         nan, -1.5032153 , -1.50254831],\n",
       "       [-0.11317951, -0.61527217,  0.66018648,  0.01811858],\n",
       "       [-0.27552716, -0.23951493,  0.1716764 ,         nan],\n",
       "       [        nan, -0.14254532,  0.10188925,  0.87012344],\n",
       "       [-0.34510472, -0.78496898,  0.45082502,         nan],\n",
       "       [        nan,  0.03927269,  1.49763233, -1.39469959],\n",
       "       [ 1.53348953,  1.3119988 , -1.22406668,  0.13675217],\n",
       "       [-0.92491776, -1.027393  , -1.43342815, -0.90938037],\n",
       "       [        nan,  0.20896951, -0.45640799,  0.61128652],\n",
       "       [ 1.13921666,  0.36654512,         nan,  0.46029832],\n",
       "       [-1.06407289,         nan,  1.00912225,  0.17989166],\n",
       "       [        nan, -1.48799864, -2.34066115, -1.08193832],\n",
       "       [ 0.16513075, -0.17890893, -0.17725937, -0.05737552],\n",
       "       [-0.87853272, -0.31224214,  0.52061217,  0.53579242],\n",
       "       [-0.48425985, -1.08799901,         nan, -1.28685088],\n",
       "       [-1.20322802, -1.42739264,  0.03210209, -1.1250778 ],\n",
       "       [-0.22914211, -0.11830292,         nan, -0.60740397]])"
      ]
     },
     "execution_count": 29,
     "metadata": {},
     "output_type": "execute_result"
    }
   ],
   "source": [
    "Xna = X.copy()\n",
    "Xna[r_idx, c_idx] = np.nan\n",
    "Xna"
   ]
  },
  {
   "cell_type": "markdown",
   "id": "5b3036a7-09b1-4d05-9067-db69f0f88b2a",
   "metadata": {},
   "source": [
    "**通过用非缺失条目的列均值替换缺失值**。  \n",
    "- 对每一列（变量）计算非缺失的均值。\n",
    "- 把缺失位置替换为对应列的均值，作为初始猜测"
   ]
  },
  {
   "cell_type": "code",
   "execution_count": 30,
   "id": "5874819f-2192-4123-b779-15ef504abaee",
   "metadata": {
    "scrolled": true
   },
   "outputs": [
    {
     "data": {
      "text/plain": [
       "array([[ 1.25517927,  0.79078716, -0.52619514, -0.00345116],\n",
       "       [ 0.51301858,  1.11805959, -1.22406668,  2.50942392],\n",
       "       [ 0.07236067,  1.49381682,  1.00912225,  1.05346626],\n",
       "       [ 0.23470832,  0.23321191, -1.08449238,  0.04508076],\n",
       "       [ 0.28109336,  1.2756352 ,  1.77678094,  2.08881393],\n",
       "       [ 0.02597562,  0.40290872,  0.86954794,  1.88390137],\n",
       "       [-1.04088037, -0.73648418,  0.79976079, -1.09272319],\n",
       "       [-0.43787481,  0.81502956,  0.45082502, -0.58583422],\n",
       "       [ 1.76541475,  1.99078607,  1.00912225,  1.1505301 ],\n",
       "       [-0.00368923,  0.48775713, -0.38662083,  0.49265293],\n",
       "       [-0.57702994, -1.51224105,  1.21848371, -0.11129987],\n",
       "       [-1.20322802, -0.61527217, -0.80534376, -0.75839217],\n",
       "       [ 0.60578867,  0.94836277,  1.21848371,  0.29852525],\n",
       "       [-0.13637203, -0.70012057, -0.03768506, -0.0250209 ],\n",
       "       [-1.29599811, -1.39102904, -0.5959823 ,  0.04508076],\n",
       "       [-0.41468229, -0.67587817,  0.03210209, -0.34856705],\n",
       "       [ 0.44344101,  0.10759219, -0.94491807, -0.53190987],\n",
       "       [ 1.76541475,  0.94836277,  0.03210209,  0.10439756],\n",
       "       [-1.31919063, -1.06375661, -1.01470522, -1.44862395],\n",
       "       [ 0.81452136,  1.56654403,  0.10188925,  0.70835037],\n",
       "       [-0.78576263,  0.10759219,  1.35805802, -0.53190987],\n",
       "       [ 1.00006153,  1.02108998,  0.59039932,  1.49564599],\n",
       "       [-0.00368923, -1.19708982,  0.03210209, -0.68289807],\n",
       "       [ 1.9277624 ,  1.06957478, -1.5032153 , -0.44563089],\n",
       "       [ 0.28109336,  0.0877575 ,  0.31125071,  0.75148985],\n",
       "       [-0.41468229,  0.10759219, -0.87513091, -0.521125  ],\n",
       "       [-0.80895515,  0.10759219, -0.24704653, -0.51034012],\n",
       "       [ 1.02325405,  0.98472638,  1.0789094 ,  2.671197  ],\n",
       "       [-1.31919063, -1.37890783, -0.66576945, -1.26528114],\n",
       "       [-0.08998698, -0.14254532,  1.63720664, -0.26228808],\n",
       "       [-0.00368923,  1.38472601,  0.31125071,  1.17209984],\n",
       "       [ 0.76813632,  1.00896878,  1.42784517,  0.52500755],\n",
       "       [ 1.20879423,  2.01502847, -1.43342815, -0.55347961],\n",
       "       [-1.62069341,  0.10759219, -1.5032153 , -1.50254831],\n",
       "       [-0.11317951, -0.61527217,  0.66018648,  0.01811858],\n",
       "       [-0.27552716, -0.23951493,  0.1716764 ,  0.04508076],\n",
       "       [-0.00368923, -0.14254532,  0.10188925,  0.87012344],\n",
       "       [-0.34510472, -0.78496898,  0.45082502,  0.04508076],\n",
       "       [-0.00368923,  0.03927269,  1.49763233, -1.39469959],\n",
       "       [ 1.53348953,  1.3119988 , -1.22406668,  0.13675217],\n",
       "       [-0.92491776, -1.027393  , -1.43342815, -0.90938037],\n",
       "       [-0.00368923,  0.20896951, -0.45640799,  0.61128652],\n",
       "       [ 1.13921666,  0.36654512,  0.02616276,  0.46029832],\n",
       "       [-1.06407289,  0.10759219,  1.00912225,  0.17989166],\n",
       "       [-0.00368923, -1.48799864, -2.34066115, -1.08193832],\n",
       "       [ 0.16513075, -0.17890893, -0.17725937, -0.05737552],\n",
       "       [-0.87853272, -0.31224214,  0.52061217,  0.53579242],\n",
       "       [-0.48425985, -1.08799901,  0.02616276, -1.28685088],\n",
       "       [-1.20322802, -1.42739264,  0.03210209, -1.1250778 ],\n",
       "       [-0.22914211, -0.11830292,  0.02616276, -0.60740397]])"
      ]
     },
     "execution_count": 30,
     "metadata": {},
     "output_type": "execute_result"
    }
   ],
   "source": [
    "Xhat = Xna.copy()\n",
    "Xbar = np.nanmean(Xhat, axis=0)\n",
    "Xhat[r_idx, c_idx] = Xbar[c_idx]\n",
    "Xhat"
   ]
  },
  {
   "cell_type": "code",
   "execution_count": 31,
   "id": "d3d18676-a03c-48f2-bb97-48b127dc38e2",
   "metadata": {},
   "outputs": [],
   "source": [
    "# 返回矩阵 X 的秩为 M 的近似矩阵\n",
    "def low_rank(X, M=1):\n",
    "    U, D, V = np.linalg.svd(X)\n",
    "    L = U[:,:M] * D[None,:M]\n",
    "    return L.dot(V[:M])"
   ]
  },
  {
   "cell_type": "markdown",
   "id": "4db05b22-9acc-474b-a00b-dde58b25479f",
   "metadata": {},
   "source": [
    "**low_rank函数**：它返回一个矩阵 X^，这是原始矩阵 X 的秩为 M 的近似版本 —— 它只保留了前 M 个主成分（奇异值/方向），用于重建一个保留最多结构信息的简化矩阵。  \n",
    "1. 基于当前填补矩阵 Xhat 构造其秩为1的近似 Xapp。    \n",
    "2. 用 Xapp 的值替换掉Xna中缺失值位置的内容，更新 Xhat。  \n",
    "3. 计算非缺失部分的均方误差 mss，更新相对误差 rel_err。  "
   ]
  },
  {
   "cell_type": "code",
   "execution_count": 32,
   "id": "0e4852ff-6bda-46f2-968c-aa5e87824ad2",
   "metadata": {},
   "outputs": [],
   "source": [
    "# 设置误差计算指标：\n",
    "thresh = 1e-7                        # t相对误差阈值（用于停止迭代）。\n",
    "rel_err = 1                          # 初始设为1，使得可以进入 while 循环。\n",
    "count = 0                           \n",
    "ismiss = np.isnan(Xna)               # 记录缺失值的位置（布尔矩阵）。\n",
    "mssold = np.mean(Xhat[~ismiss]**2)   # 初始的均方误差\n",
    "mss0 = np.mean(Xna[~ismiss]**2)      # 真实数据的参考均方值（标准化前）"
   ]
  },
  {
   "cell_type": "code",
   "execution_count": 33,
   "id": "82adc6cc-c825-47be-b9e3-13884f47a452",
   "metadata": {},
   "outputs": [
    {
     "name": "stdout",
     "output_type": "stream",
     "text": [
      "Iteration: 1, MSS:0.395, Rel.Err 5.99e-01\n",
      "Iteration: 2, MSS:0.382, Rel.Err 1.33e-02\n",
      "Iteration: 3, MSS:0.381, Rel.Err 1.44e-03\n",
      "Iteration: 4, MSS:0.381, Rel.Err 1.79e-04\n",
      "Iteration: 5, MSS:0.381, Rel.Err 2.58e-05\n",
      "Iteration: 6, MSS:0.381, Rel.Err 4.22e-06\n",
      "Iteration: 7, MSS:0.381, Rel.Err 7.65e-07\n",
      "Iteration: 8, MSS:0.381, Rel.Err 1.48e-07\n",
      "Iteration: 9, MSS:0.381, Rel.Err 2.95e-08\n"
     ]
    }
   ],
   "source": [
    "while rel_err > thresh:\n",
    "    count += 1\n",
    "    # Step 1\n",
    "    Xapp = low_rank(Xhat, M=1) \n",
    "    # Step 2\n",
    "    Xhat[ismiss] = Xapp[ismiss]\n",
    "    # Step 3\n",
    "    mss = np.mean(((Xna - Xapp)[~ismiss])**2)\n",
    "    rel_err = (mssold - mss) / mss0\n",
    "    mssold = mss\n",
    "    print(\"Iteration: {0}, MSS:{1:.3f}, Rel.Err {2:.2e}\"\n",
    "          .format(count, mss, rel_err))"
   ]
  },
  {
   "cell_type": "markdown",
   "id": "5c4841ce-f5da-4ea4-ab19-41b2294f4c20",
   "metadata": {},
   "source": [
    "观察如上可以发现，**经过八次迭代，相对误差已经降至阈值=1e-7以下，因此算法终止**。  \n",
    "当这种情况发生时，非缺失元素的均方误差等于0.381。"
   ]
  },
  {
   "cell_type": "code",
   "execution_count": 34,
   "id": "73ec62a3-6a4f-4232-9479-233905e23664",
   "metadata": {},
   "outputs": [
    {
     "data": {
      "text/plain": [
       "0.711356743429736"
      ]
     },
     "execution_count": 34,
     "metadata": {},
     "output_type": "execute_result"
    }
   ],
   "source": [
    "# 20个估算值和实际值之间的相关性\n",
    "np.corrcoef(Xapp[ismiss], X[ismiss])[0,1]"
   ]
  },
  {
   "cell_type": "markdown",
   "id": "e5c6fb6f-e911-40af-be9a-507c6c037016",
   "metadata": {},
   "source": [
    "#### **总结**\n",
    "**用 SVD 和低秩约束迭代地恢复了一个带有缺失值的矩阵。具体来说**：\n",
    "- 假设矩阵是低秩的（只用最主要的奇异值做逼近）。\n",
    "\n",
    "- 每次用当前近似值来更新缺失项。\n",
    "\n",
    "- 整个算法是一种典型的交替最小化（Alternating Minimization）思想。\n",
    "\n",
    "- 用算法推测的 20 个缺失值 与其真实值之间的 线性相关性为 0.71。\n",
    "    - 0.71 属于中等偏强的正相关，说明矩阵完成的效果相当不错。\n",
    "    - 它说明**用低秩近似和迭代方法成功地捕捉到了真实数据的主要结构和趋势**，即使根本不知道这些缺失值的真实值。"
   ]
  },
  {
   "cell_type": "markdown",
   "id": "e8a54761-027e-4986-b8ea-7171b919df1b",
   "metadata": {},
   "source": [
    "## **3. 聚类 Clustering**\n",
    "\n",
    "聚类是指一组非常广泛的技术，用于在数据集中查找子组或聚类集群。当我们对一个数据集的观察结果进行聚类时，我们试图将它们划分为不同的组，以便每组内的观察结果彼此非常相似，而不同组内的观察结果彼此非常不同。\n",
    "\n",
    "由于聚类在许多领域都很流行，因此存在着大量的聚类方法。在本节中，我们关注两种最著名的聚类方法: **K均值聚类 和 层次聚类**。"
   ]
  },
  {
   "cell_type": "markdown",
   "id": "6a11886b-f233-4aa1-90e8-2919346857eb",
   "metadata": {},
   "source": [
    "### **3.1. $K$-Means 聚类**\n",
    "\n",
    "$K$-Means 聚类是一种简单而优雅的方法，用于将数据集划分为不同的、不重叠的 $K$ 个区域。  \n",
    "**请找出 $K$ 个点，作为中心，使得每个样本被分配到最近的一个中心，从而最小化所有点到其簇中心的平方距离之和。**\n",
    "   \n",
    "**一个简单的模拟例子**：在这个例子中，数据中确实有两个集群：  \n",
    "- 前25个观测值相对于下一个25个观测点有一个均值偏移。\n",
    "- 后 25 个点保持原来的标准正态分布"
   ]
  },
  {
   "cell_type": "code",
   "execution_count": 35,
   "id": "3add3b54-84e2-4ca5-9847-8501a6d7f6a1",
   "metadata": {},
   "outputs": [],
   "source": [
    "np.random.seed(0);\n",
    "X = np.random.standard_normal((50,2));\n",
    "# 前 25 个点偏向右下角（x 加3，y 减4）\n",
    "X[:25,0] += 3;\n",
    "# 对前 25 个样本的第二个特征（y 坐标）减去 4 \n",
    "X[:25,1] -= 4;"
   ]
  },
  {
   "cell_type": "markdown",
   "id": "ad93a3e2-06ce-4d81-936c-c74228aa57d7",
   "metadata": {},
   "source": [
    "**$K-Means$ 的优化过程容易陷入局部最优**。  \n",
    "由于它的初始中心是 随机选择的，不同的初始值可能会导致 不同的聚类结果：\n",
    "\n",
    "有的结果可能 更合理；\n",
    "\n",
    "有的结果则可能因为初始中心不佳而 聚类质量差。"
   ]
  },
  {
   "cell_type": "code",
   "execution_count": 36,
   "id": "9d23e20d-cbb9-4f32-9e80-42e7348757ce",
   "metadata": {},
   "outputs": [
    {
     "data": {
      "text/html": [
       "<style>#sk-container-id-2 {\n",
       "  /* Definition of color scheme common for light and dark mode */\n",
       "  --sklearn-color-text: #000;\n",
       "  --sklearn-color-text-muted: #666;\n",
       "  --sklearn-color-line: gray;\n",
       "  /* Definition of color scheme for unfitted estimators */\n",
       "  --sklearn-color-unfitted-level-0: #fff5e6;\n",
       "  --sklearn-color-unfitted-level-1: #f6e4d2;\n",
       "  --sklearn-color-unfitted-level-2: #ffe0b3;\n",
       "  --sklearn-color-unfitted-level-3: chocolate;\n",
       "  /* Definition of color scheme for fitted estimators */\n",
       "  --sklearn-color-fitted-level-0: #f0f8ff;\n",
       "  --sklearn-color-fitted-level-1: #d4ebff;\n",
       "  --sklearn-color-fitted-level-2: #b3dbfd;\n",
       "  --sklearn-color-fitted-level-3: cornflowerblue;\n",
       "\n",
       "  /* Specific color for light theme */\n",
       "  --sklearn-color-text-on-default-background: var(--sg-text-color, var(--theme-code-foreground, var(--jp-content-font-color1, black)));\n",
       "  --sklearn-color-background: var(--sg-background-color, var(--theme-background, var(--jp-layout-color0, white)));\n",
       "  --sklearn-color-border-box: var(--sg-text-color, var(--theme-code-foreground, var(--jp-content-font-color1, black)));\n",
       "  --sklearn-color-icon: #696969;\n",
       "\n",
       "  @media (prefers-color-scheme: dark) {\n",
       "    /* Redefinition of color scheme for dark theme */\n",
       "    --sklearn-color-text-on-default-background: var(--sg-text-color, var(--theme-code-foreground, var(--jp-content-font-color1, white)));\n",
       "    --sklearn-color-background: var(--sg-background-color, var(--theme-background, var(--jp-layout-color0, #111)));\n",
       "    --sklearn-color-border-box: var(--sg-text-color, var(--theme-code-foreground, var(--jp-content-font-color1, white)));\n",
       "    --sklearn-color-icon: #878787;\n",
       "  }\n",
       "}\n",
       "\n",
       "#sk-container-id-2 {\n",
       "  color: var(--sklearn-color-text);\n",
       "}\n",
       "\n",
       "#sk-container-id-2 pre {\n",
       "  padding: 0;\n",
       "}\n",
       "\n",
       "#sk-container-id-2 input.sk-hidden--visually {\n",
       "  border: 0;\n",
       "  clip: rect(1px 1px 1px 1px);\n",
       "  clip: rect(1px, 1px, 1px, 1px);\n",
       "  height: 1px;\n",
       "  margin: -1px;\n",
       "  overflow: hidden;\n",
       "  padding: 0;\n",
       "  position: absolute;\n",
       "  width: 1px;\n",
       "}\n",
       "\n",
       "#sk-container-id-2 div.sk-dashed-wrapped {\n",
       "  border: 1px dashed var(--sklearn-color-line);\n",
       "  margin: 0 0.4em 0.5em 0.4em;\n",
       "  box-sizing: border-box;\n",
       "  padding-bottom: 0.4em;\n",
       "  background-color: var(--sklearn-color-background);\n",
       "}\n",
       "\n",
       "#sk-container-id-2 div.sk-container {\n",
       "  /* jupyter's `normalize.less` sets `[hidden] { display: none; }`\n",
       "     but bootstrap.min.css set `[hidden] { display: none !important; }`\n",
       "     so we also need the `!important` here to be able to override the\n",
       "     default hidden behavior on the sphinx rendered scikit-learn.org.\n",
       "     See: https://github.com/scikit-learn/scikit-learn/issues/21755 */\n",
       "  display: inline-block !important;\n",
       "  position: relative;\n",
       "}\n",
       "\n",
       "#sk-container-id-2 div.sk-text-repr-fallback {\n",
       "  display: none;\n",
       "}\n",
       "\n",
       "div.sk-parallel-item,\n",
       "div.sk-serial,\n",
       "div.sk-item {\n",
       "  /* draw centered vertical line to link estimators */\n",
       "  background-image: linear-gradient(var(--sklearn-color-text-on-default-background), var(--sklearn-color-text-on-default-background));\n",
       "  background-size: 2px 100%;\n",
       "  background-repeat: no-repeat;\n",
       "  background-position: center center;\n",
       "}\n",
       "\n",
       "/* Parallel-specific style estimator block */\n",
       "\n",
       "#sk-container-id-2 div.sk-parallel-item::after {\n",
       "  content: \"\";\n",
       "  width: 100%;\n",
       "  border-bottom: 2px solid var(--sklearn-color-text-on-default-background);\n",
       "  flex-grow: 1;\n",
       "}\n",
       "\n",
       "#sk-container-id-2 div.sk-parallel {\n",
       "  display: flex;\n",
       "  align-items: stretch;\n",
       "  justify-content: center;\n",
       "  background-color: var(--sklearn-color-background);\n",
       "  position: relative;\n",
       "}\n",
       "\n",
       "#sk-container-id-2 div.sk-parallel-item {\n",
       "  display: flex;\n",
       "  flex-direction: column;\n",
       "}\n",
       "\n",
       "#sk-container-id-2 div.sk-parallel-item:first-child::after {\n",
       "  align-self: flex-end;\n",
       "  width: 50%;\n",
       "}\n",
       "\n",
       "#sk-container-id-2 div.sk-parallel-item:last-child::after {\n",
       "  align-self: flex-start;\n",
       "  width: 50%;\n",
       "}\n",
       "\n",
       "#sk-container-id-2 div.sk-parallel-item:only-child::after {\n",
       "  width: 0;\n",
       "}\n",
       "\n",
       "/* Serial-specific style estimator block */\n",
       "\n",
       "#sk-container-id-2 div.sk-serial {\n",
       "  display: flex;\n",
       "  flex-direction: column;\n",
       "  align-items: center;\n",
       "  background-color: var(--sklearn-color-background);\n",
       "  padding-right: 1em;\n",
       "  padding-left: 1em;\n",
       "}\n",
       "\n",
       "\n",
       "/* Toggleable style: style used for estimator/Pipeline/ColumnTransformer box that is\n",
       "clickable and can be expanded/collapsed.\n",
       "- Pipeline and ColumnTransformer use this feature and define the default style\n",
       "- Estimators will overwrite some part of the style using the `sk-estimator` class\n",
       "*/\n",
       "\n",
       "/* Pipeline and ColumnTransformer style (default) */\n",
       "\n",
       "#sk-container-id-2 div.sk-toggleable {\n",
       "  /* Default theme specific background. It is overwritten whether we have a\n",
       "  specific estimator or a Pipeline/ColumnTransformer */\n",
       "  background-color: var(--sklearn-color-background);\n",
       "}\n",
       "\n",
       "/* Toggleable label */\n",
       "#sk-container-id-2 label.sk-toggleable__label {\n",
       "  cursor: pointer;\n",
       "  display: flex;\n",
       "  width: 100%;\n",
       "  margin-bottom: 0;\n",
       "  padding: 0.5em;\n",
       "  box-sizing: border-box;\n",
       "  text-align: center;\n",
       "  align-items: start;\n",
       "  justify-content: space-between;\n",
       "  gap: 0.5em;\n",
       "}\n",
       "\n",
       "#sk-container-id-2 label.sk-toggleable__label .caption {\n",
       "  font-size: 0.6rem;\n",
       "  font-weight: lighter;\n",
       "  color: var(--sklearn-color-text-muted);\n",
       "}\n",
       "\n",
       "#sk-container-id-2 label.sk-toggleable__label-arrow:before {\n",
       "  /* Arrow on the left of the label */\n",
       "  content: \"▸\";\n",
       "  float: left;\n",
       "  margin-right: 0.25em;\n",
       "  color: var(--sklearn-color-icon);\n",
       "}\n",
       "\n",
       "#sk-container-id-2 label.sk-toggleable__label-arrow:hover:before {\n",
       "  color: var(--sklearn-color-text);\n",
       "}\n",
       "\n",
       "/* Toggleable content - dropdown */\n",
       "\n",
       "#sk-container-id-2 div.sk-toggleable__content {\n",
       "  max-height: 0;\n",
       "  max-width: 0;\n",
       "  overflow: hidden;\n",
       "  text-align: left;\n",
       "  /* unfitted */\n",
       "  background-color: var(--sklearn-color-unfitted-level-0);\n",
       "}\n",
       "\n",
       "#sk-container-id-2 div.sk-toggleable__content.fitted {\n",
       "  /* fitted */\n",
       "  background-color: var(--sklearn-color-fitted-level-0);\n",
       "}\n",
       "\n",
       "#sk-container-id-2 div.sk-toggleable__content pre {\n",
       "  margin: 0.2em;\n",
       "  border-radius: 0.25em;\n",
       "  color: var(--sklearn-color-text);\n",
       "  /* unfitted */\n",
       "  background-color: var(--sklearn-color-unfitted-level-0);\n",
       "}\n",
       "\n",
       "#sk-container-id-2 div.sk-toggleable__content.fitted pre {\n",
       "  /* unfitted */\n",
       "  background-color: var(--sklearn-color-fitted-level-0);\n",
       "}\n",
       "\n",
       "#sk-container-id-2 input.sk-toggleable__control:checked~div.sk-toggleable__content {\n",
       "  /* Expand drop-down */\n",
       "  max-height: 200px;\n",
       "  max-width: 100%;\n",
       "  overflow: auto;\n",
       "}\n",
       "\n",
       "#sk-container-id-2 input.sk-toggleable__control:checked~label.sk-toggleable__label-arrow:before {\n",
       "  content: \"▾\";\n",
       "}\n",
       "\n",
       "/* Pipeline/ColumnTransformer-specific style */\n",
       "\n",
       "#sk-container-id-2 div.sk-label input.sk-toggleable__control:checked~label.sk-toggleable__label {\n",
       "  color: var(--sklearn-color-text);\n",
       "  background-color: var(--sklearn-color-unfitted-level-2);\n",
       "}\n",
       "\n",
       "#sk-container-id-2 div.sk-label.fitted input.sk-toggleable__control:checked~label.sk-toggleable__label {\n",
       "  background-color: var(--sklearn-color-fitted-level-2);\n",
       "}\n",
       "\n",
       "/* Estimator-specific style */\n",
       "\n",
       "/* Colorize estimator box */\n",
       "#sk-container-id-2 div.sk-estimator input.sk-toggleable__control:checked~label.sk-toggleable__label {\n",
       "  /* unfitted */\n",
       "  background-color: var(--sklearn-color-unfitted-level-2);\n",
       "}\n",
       "\n",
       "#sk-container-id-2 div.sk-estimator.fitted input.sk-toggleable__control:checked~label.sk-toggleable__label {\n",
       "  /* fitted */\n",
       "  background-color: var(--sklearn-color-fitted-level-2);\n",
       "}\n",
       "\n",
       "#sk-container-id-2 div.sk-label label.sk-toggleable__label,\n",
       "#sk-container-id-2 div.sk-label label {\n",
       "  /* The background is the default theme color */\n",
       "  color: var(--sklearn-color-text-on-default-background);\n",
       "}\n",
       "\n",
       "/* On hover, darken the color of the background */\n",
       "#sk-container-id-2 div.sk-label:hover label.sk-toggleable__label {\n",
       "  color: var(--sklearn-color-text);\n",
       "  background-color: var(--sklearn-color-unfitted-level-2);\n",
       "}\n",
       "\n",
       "/* Label box, darken color on hover, fitted */\n",
       "#sk-container-id-2 div.sk-label.fitted:hover label.sk-toggleable__label.fitted {\n",
       "  color: var(--sklearn-color-text);\n",
       "  background-color: var(--sklearn-color-fitted-level-2);\n",
       "}\n",
       "\n",
       "/* Estimator label */\n",
       "\n",
       "#sk-container-id-2 div.sk-label label {\n",
       "  font-family: monospace;\n",
       "  font-weight: bold;\n",
       "  display: inline-block;\n",
       "  line-height: 1.2em;\n",
       "}\n",
       "\n",
       "#sk-container-id-2 div.sk-label-container {\n",
       "  text-align: center;\n",
       "}\n",
       "\n",
       "/* Estimator-specific */\n",
       "#sk-container-id-2 div.sk-estimator {\n",
       "  font-family: monospace;\n",
       "  border: 1px dotted var(--sklearn-color-border-box);\n",
       "  border-radius: 0.25em;\n",
       "  box-sizing: border-box;\n",
       "  margin-bottom: 0.5em;\n",
       "  /* unfitted */\n",
       "  background-color: var(--sklearn-color-unfitted-level-0);\n",
       "}\n",
       "\n",
       "#sk-container-id-2 div.sk-estimator.fitted {\n",
       "  /* fitted */\n",
       "  background-color: var(--sklearn-color-fitted-level-0);\n",
       "}\n",
       "\n",
       "/* on hover */\n",
       "#sk-container-id-2 div.sk-estimator:hover {\n",
       "  /* unfitted */\n",
       "  background-color: var(--sklearn-color-unfitted-level-2);\n",
       "}\n",
       "\n",
       "#sk-container-id-2 div.sk-estimator.fitted:hover {\n",
       "  /* fitted */\n",
       "  background-color: var(--sklearn-color-fitted-level-2);\n",
       "}\n",
       "\n",
       "/* Specification for estimator info (e.g. \"i\" and \"?\") */\n",
       "\n",
       "/* Common style for \"i\" and \"?\" */\n",
       "\n",
       ".sk-estimator-doc-link,\n",
       "a:link.sk-estimator-doc-link,\n",
       "a:visited.sk-estimator-doc-link {\n",
       "  float: right;\n",
       "  font-size: smaller;\n",
       "  line-height: 1em;\n",
       "  font-family: monospace;\n",
       "  background-color: var(--sklearn-color-background);\n",
       "  border-radius: 1em;\n",
       "  height: 1em;\n",
       "  width: 1em;\n",
       "  text-decoration: none !important;\n",
       "  margin-left: 0.5em;\n",
       "  text-align: center;\n",
       "  /* unfitted */\n",
       "  border: var(--sklearn-color-unfitted-level-1) 1pt solid;\n",
       "  color: var(--sklearn-color-unfitted-level-1);\n",
       "}\n",
       "\n",
       ".sk-estimator-doc-link.fitted,\n",
       "a:link.sk-estimator-doc-link.fitted,\n",
       "a:visited.sk-estimator-doc-link.fitted {\n",
       "  /* fitted */\n",
       "  border: var(--sklearn-color-fitted-level-1) 1pt solid;\n",
       "  color: var(--sklearn-color-fitted-level-1);\n",
       "}\n",
       "\n",
       "/* On hover */\n",
       "div.sk-estimator:hover .sk-estimator-doc-link:hover,\n",
       ".sk-estimator-doc-link:hover,\n",
       "div.sk-label-container:hover .sk-estimator-doc-link:hover,\n",
       ".sk-estimator-doc-link:hover {\n",
       "  /* unfitted */\n",
       "  background-color: var(--sklearn-color-unfitted-level-3);\n",
       "  color: var(--sklearn-color-background);\n",
       "  text-decoration: none;\n",
       "}\n",
       "\n",
       "div.sk-estimator.fitted:hover .sk-estimator-doc-link.fitted:hover,\n",
       ".sk-estimator-doc-link.fitted:hover,\n",
       "div.sk-label-container:hover .sk-estimator-doc-link.fitted:hover,\n",
       ".sk-estimator-doc-link.fitted:hover {\n",
       "  /* fitted */\n",
       "  background-color: var(--sklearn-color-fitted-level-3);\n",
       "  color: var(--sklearn-color-background);\n",
       "  text-decoration: none;\n",
       "}\n",
       "\n",
       "/* Span, style for the box shown on hovering the info icon */\n",
       ".sk-estimator-doc-link span {\n",
       "  display: none;\n",
       "  z-index: 9999;\n",
       "  position: relative;\n",
       "  font-weight: normal;\n",
       "  right: .2ex;\n",
       "  padding: .5ex;\n",
       "  margin: .5ex;\n",
       "  width: min-content;\n",
       "  min-width: 20ex;\n",
       "  max-width: 50ex;\n",
       "  color: var(--sklearn-color-text);\n",
       "  box-shadow: 2pt 2pt 4pt #999;\n",
       "  /* unfitted */\n",
       "  background: var(--sklearn-color-unfitted-level-0);\n",
       "  border: .5pt solid var(--sklearn-color-unfitted-level-3);\n",
       "}\n",
       "\n",
       ".sk-estimator-doc-link.fitted span {\n",
       "  /* fitted */\n",
       "  background: var(--sklearn-color-fitted-level-0);\n",
       "  border: var(--sklearn-color-fitted-level-3);\n",
       "}\n",
       "\n",
       ".sk-estimator-doc-link:hover span {\n",
       "  display: block;\n",
       "}\n",
       "\n",
       "/* \"?\"-specific style due to the `<a>` HTML tag */\n",
       "\n",
       "#sk-container-id-2 a.estimator_doc_link {\n",
       "  float: right;\n",
       "  font-size: 1rem;\n",
       "  line-height: 1em;\n",
       "  font-family: monospace;\n",
       "  background-color: var(--sklearn-color-background);\n",
       "  border-radius: 1rem;\n",
       "  height: 1rem;\n",
       "  width: 1rem;\n",
       "  text-decoration: none;\n",
       "  /* unfitted */\n",
       "  color: var(--sklearn-color-unfitted-level-1);\n",
       "  border: var(--sklearn-color-unfitted-level-1) 1pt solid;\n",
       "}\n",
       "\n",
       "#sk-container-id-2 a.estimator_doc_link.fitted {\n",
       "  /* fitted */\n",
       "  border: var(--sklearn-color-fitted-level-1) 1pt solid;\n",
       "  color: var(--sklearn-color-fitted-level-1);\n",
       "}\n",
       "\n",
       "/* On hover */\n",
       "#sk-container-id-2 a.estimator_doc_link:hover {\n",
       "  /* unfitted */\n",
       "  background-color: var(--sklearn-color-unfitted-level-3);\n",
       "  color: var(--sklearn-color-background);\n",
       "  text-decoration: none;\n",
       "}\n",
       "\n",
       "#sk-container-id-2 a.estimator_doc_link.fitted:hover {\n",
       "  /* fitted */\n",
       "  background-color: var(--sklearn-color-fitted-level-3);\n",
       "}\n",
       "</style><div id=\"sk-container-id-2\" class=\"sk-top-container\"><div class=\"sk-text-repr-fallback\"><pre>KMeans(n_clusters=2, n_init=20, random_state=2)</pre><b>In a Jupyter environment, please rerun this cell to show the HTML representation or trust the notebook. <br />On GitHub, the HTML representation is unable to render, please try loading this page with nbviewer.org.</b></div><div class=\"sk-container\" hidden><div class=\"sk-item\"><div class=\"sk-estimator fitted sk-toggleable\"><input class=\"sk-toggleable__control sk-hidden--visually\" id=\"sk-estimator-id-2\" type=\"checkbox\" checked><label for=\"sk-estimator-id-2\" class=\"sk-toggleable__label fitted sk-toggleable__label-arrow\"><div><div>KMeans</div></div><div><a class=\"sk-estimator-doc-link fitted\" rel=\"noreferrer\" target=\"_blank\" href=\"https://scikit-learn.org/1.6/modules/generated/sklearn.cluster.KMeans.html\">?<span>Documentation for KMeans</span></a><span class=\"sk-estimator-doc-link fitted\">i<span>Fitted</span></span></div></label><div class=\"sk-toggleable__content fitted\"><pre>KMeans(n_clusters=2, n_init=20, random_state=2)</pre></div> </div></div></div></div>"
      ],
      "text/plain": [
       "KMeans(n_clusters=2, n_init=20, random_state=2)"
      ]
     },
     "execution_count": 36,
     "metadata": {},
     "output_type": "execute_result"
    }
   ],
   "source": [
    "# 现在执行 K = 2 的聚类\n",
    "kmeans = KMeans(n_clusters=2, \n",
    "                random_state=2, \n",
    "                n_init=20).fit(X)\n",
    "kmeans"
   ]
  },
  {
   "cell_type": "markdown",
   "id": "6e675233-3d83-4e94-ad98-cc074f64d49d",
   "metadata": {},
   "source": [
    "**$K-Means$ 聚类会从不同的初始中心出发，重复执行算法 20 次，最后选择代价函数最小（最优）的那次结果**。\n",
    "\n",
    "1. 随机选择一组初始簇中心；  \n",
    "2. 执行完整的 KMeans 迭代；  \n",
    "3. 记录最后的 inertia（簇内距离平方和）；  \n",
    "4. 重复步骤1~3共 20 次；  \n",
    "5. 返回 inertia 最小的一次聚类结果。\n",
    "\n",
    "**也就是说，KMeans 内部运行了 20 套聚类过程，最后选择最成功的那一套**。  "
   ]
  },
  {
   "cell_type": "code",
   "execution_count": 37,
   "id": "d1221361-b472-4bc3-a2da-57e86ba7860b",
   "metadata": {},
   "outputs": [
    {
     "data": {
      "text/plain": [
       "array([0, 0, 0, 0, 0, 0, 0, 0, 0, 0, 0, 0, 0, 0, 0, 0, 0, 0, 0, 0, 0, 1,\n",
       "       0, 0, 0, 1, 1, 1, 1, 1, 1, 1, 1, 1, 1, 1, 1, 1, 1, 1, 1, 1, 1, 1,\n",
       "       1, 1, 1, 1, 1, 1])"
      ]
     },
     "execution_count": 37,
     "metadata": {},
     "output_type": "execute_result"
    }
   ],
   "source": [
    "# 每个样本所属的簇\n",
    "kmeans.labels_"
   ]
  },
  {
   "cell_type": "markdown",
   "id": "e815431f-57e5-4983-a708-750327518419",
   "metadata": {},
   "source": [
    "- $K$-means聚类将观察结果完美地分为两个聚类，即使我们没有向KMean()提供任何组信息。\n",
    "- 可以绘制数据，每个观测值根据其聚类分配着色。"
   ]
  },
  {
   "cell_type": "code",
   "execution_count": 38,
   "id": "278934e2-e849-48bc-8a03-76257f15fee4",
   "metadata": {},
   "outputs": [
    {
     "data": {
      "image/png": "[encoded data removed]",
      "text/plain": [
       "<Figure size 800x800 with 1 Axes>"
      ]
     },
     "metadata": {},
     "output_type": "display_data"
    }
   ],
   "source": [
    "fig, ax = plt.subplots(1, 1, figsize=(8,8))\n",
    "ax.scatter(X[:,0], X[:,1], c=kmeans.labels_)\n",
    "ax.set_title(\"K-Means Clustering Results with K=2\");"
   ]
  },
  {
   "cell_type": "markdown",
   "id": "1d5d6f44-8f34-434c-ae3d-3b71f6ad190d",
   "metadata": {},
   "source": [
    "**在这里，观测结果可以很容易地绘制出来，因为它们是二维的**。  \n",
    "**如果有N个变量(N>2)，那么可以执行PCA，并绘制前两个主成分得分向量来表示聚类**。\n",
    "\n",
    "对于真实数据，我们不知道集群的真实数量，也不知道它们是否以任何精确的方式存在。  \n",
    "可以在$K=3$的情况下对这个例子进行$K$-means聚类。"
   ]
  },
  {
   "cell_type": "code",
   "execution_count": 39,
   "id": "108f0012-db27-4043-b71a-00f538cea9f7",
   "metadata": {},
   "outputs": [
    {
     "data": {
      "image/png": "[encoded data removed]",
      "text/plain": [
       "<Figure size 800x800 with 1 Axes>"
      ]
     },
     "metadata": {},
     "output_type": "display_data"
    }
   ],
   "source": [
    "kmeans = KMeans(n_clusters=3, random_state=3, n_init=20).fit(X)\n",
    "fig, ax = plt.subplots(figsize=(8,8))\n",
    "ax.scatter(X[:,0], X[:,1], c=kmeans.labels_)\n",
    "ax.set_title(\"K-Means Clustering Results with K=3\");"
   ]
  },
  {
   "cell_type": "markdown",
   "id": "92c2be1e-2ab0-4202-b073-6b71a997a3c4",
   "metadata": {},
   "source": [
    "**不同参数结果比较**\n",
    "- 使用n_init参数运行 $K$-means，初始分配20个集群（默认值为10）。\n",
    "- 如果使用大于1的n_init值，则 $K$-means聚类将使用多个随机分配进行，KMeans（）函数将仅报告最佳结果。\n",
    "- 这里比较使用n_init=1和n_init=20。"
   ]
  },
  {
   "cell_type": "code",
   "execution_count": 40,
   "id": "ee5b9aaf-f8d0-4ca1-93f5-7530cb185389",
   "metadata": {},
   "outputs": [
    {
     "data": {
      "text/plain": [
       "(76.85131986999251, 75.06261242745384, 75.03508259100438, 75.03508259100438)"
      ]
     },
     "execution_count": 40,
     "metadata": {},
     "output_type": "execute_result"
    }
   ],
   "source": [
    "kmeans1 = KMeans(n_clusters=3, random_state=3, n_init=1).fit(X)\n",
    "kmeans20 = KMeans(n_clusters=3, random_state=3, n_init=20).fit(X);\n",
    "kmeans30 = KMeans(n_clusters=3, random_state=3, n_init=30).fit(X);\n",
    "kmeans40 = KMeans(n_clusters=3, random_state=3, n_init=40).fit(X);\n",
    "kmeans1.inertia_, kmeans20.inertia_, kmeans30.inertia_, kmeans40.inertia_"
   ]
  },
  {
   "cell_type": "markdown",
   "id": "e45add74-0a88-4a9b-b9d1-9942a759e583",
   "metadata": {},
   "source": [
    "- kmeans.inertia_是聚类内平方和的总和，通过执行 $K$-means 聚类来最小化它。\n",
    "- 尽量使用较大的n_init值（如20或30）运行 $K$-means聚类，否则可能会获得不希望的局部最优值。"
   ]
  },
  {
   "cell_type": "markdown",
   "id": "e75e5cc0-d59e-4b27-80db-f70f194589e5",
   "metadata": {},
   "source": [
    "### **3.2 层次聚类 Hierarchical Clustering**\n",
    "**sklearn.clustering包中的AgglomerativeClustering()类实现了分层聚类**。  \n",
    "算法的核心就是：\n",
    "\n",
    "1. **从每个样本一个簇开始**；\n",
    "\n",
    "2. 不断寻找**两个最近的簇合并**；\n",
    "\n",
    "3. 直到**所有样本合并为一个大簇**，形成 **“树状结构（dendrogram）”**。"
   ]
  },
  {
   "cell_type": "code",
   "execution_count": 41,
   "id": "e6c5ac7d-2005-4aa3-9de1-ed524036a4fb",
   "metadata": {},
   "outputs": [],
   "source": [
    "from sklearn.cluster import AgglomerativeClustering"
   ]
  },
  {
   "cell_type": "code",
   "execution_count": 42,
   "id": "079ea04d-3bb3-4d58-804b-bb7f089d70d8",
   "metadata": {},
   "outputs": [
    {
     "data": {
      "text/html": [
       "<style>#sk-container-id-3 {\n",
       "  /* Definition of color scheme common for light and dark mode */\n",
       "  --sklearn-color-text: #000;\n",
       "  --sklearn-color-text-muted: #666;\n",
       "  --sklearn-color-line: gray;\n",
       "  /* Definition of color scheme for unfitted estimators */\n",
       "  --sklearn-color-unfitted-level-0: #fff5e6;\n",
       "  --sklearn-color-unfitted-level-1: #f6e4d2;\n",
       "  --sklearn-color-unfitted-level-2: #ffe0b3;\n",
       "  --sklearn-color-unfitted-level-3: chocolate;\n",
       "  /* Definition of color scheme for fitted estimators */\n",
       "  --sklearn-color-fitted-level-0: #f0f8ff;\n",
       "  --sklearn-color-fitted-level-1: #d4ebff;\n",
       "  --sklearn-color-fitted-level-2: #b3dbfd;\n",
       "  --sklearn-color-fitted-level-3: cornflowerblue;\n",
       "\n",
       "  /* Specific color for light theme */\n",
       "  --sklearn-color-text-on-default-background: var(--sg-text-color, var(--theme-code-foreground, var(--jp-content-font-color1, black)));\n",
       "  --sklearn-color-background: var(--sg-background-color, var(--theme-background, var(--jp-layout-color0, white)));\n",
       "  --sklearn-color-border-box: var(--sg-text-color, var(--theme-code-foreground, var(--jp-content-font-color1, black)));\n",
       "  --sklearn-color-icon: #696969;\n",
       "\n",
       "  @media (prefers-color-scheme: dark) {\n",
       "    /* Redefinition of color scheme for dark theme */\n",
       "    --sklearn-color-text-on-default-background: var(--sg-text-color, var(--theme-code-foreground, var(--jp-content-font-color1, white)));\n",
       "    --sklearn-color-background: var(--sg-background-color, var(--theme-background, var(--jp-layout-color0, #111)));\n",
       "    --sklearn-color-border-box: var(--sg-text-color, var(--theme-code-foreground, var(--jp-content-font-color1, white)));\n",
       "    --sklearn-color-icon: #878787;\n",
       "  }\n",
       "}\n",
       "\n",
       "#sk-container-id-3 {\n",
       "  color: var(--sklearn-color-text);\n",
       "}\n",
       "\n",
       "#sk-container-id-3 pre {\n",
       "  padding: 0;\n",
       "}\n",
       "\n",
       "#sk-container-id-3 input.sk-hidden--visually {\n",
       "  border: 0;\n",
       "  clip: rect(1px 1px 1px 1px);\n",
       "  clip: rect(1px, 1px, 1px, 1px);\n",
       "  height: 1px;\n",
       "  margin: -1px;\n",
       "  overflow: hidden;\n",
       "  padding: 0;\n",
       "  position: absolute;\n",
       "  width: 1px;\n",
       "}\n",
       "\n",
       "#sk-container-id-3 div.sk-dashed-wrapped {\n",
       "  border: 1px dashed var(--sklearn-color-line);\n",
       "  margin: 0 0.4em 0.5em 0.4em;\n",
       "  box-sizing: border-box;\n",
       "  padding-bottom: 0.4em;\n",
       "  background-color: var(--sklearn-color-background);\n",
       "}\n",
       "\n",
       "#sk-container-id-3 div.sk-container {\n",
       "  /* jupyter's `normalize.less` sets `[hidden] { display: none; }`\n",
       "     but bootstrap.min.css set `[hidden] { display: none !important; }`\n",
       "     so we also need the `!important` here to be able to override the\n",
       "     default hidden behavior on the sphinx rendered scikit-learn.org.\n",
       "     See: https://github.com/scikit-learn/scikit-learn/issues/21755 */\n",
       "  display: inline-block !important;\n",
       "  position: relative;\n",
       "}\n",
       "\n",
       "#sk-container-id-3 div.sk-text-repr-fallback {\n",
       "  display: none;\n",
       "}\n",
       "\n",
       "div.sk-parallel-item,\n",
       "div.sk-serial,\n",
       "div.sk-item {\n",
       "  /* draw centered vertical line to link estimators */\n",
       "  background-image: linear-gradient(var(--sklearn-color-text-on-default-background), var(--sklearn-color-text-on-default-background));\n",
       "  background-size: 2px 100%;\n",
       "  background-repeat: no-repeat;\n",
       "  background-position: center center;\n",
       "}\n",
       "\n",
       "/* Parallel-specific style estimator block */\n",
       "\n",
       "#sk-container-id-3 div.sk-parallel-item::after {\n",
       "  content: \"\";\n",
       "  width: 100%;\n",
       "  border-bottom: 2px solid var(--sklearn-color-text-on-default-background);\n",
       "  flex-grow: 1;\n",
       "}\n",
       "\n",
       "#sk-container-id-3 div.sk-parallel {\n",
       "  display: flex;\n",
       "  align-items: stretch;\n",
       "  justify-content: center;\n",
       "  background-color: var(--sklearn-color-background);\n",
       "  position: relative;\n",
       "}\n",
       "\n",
       "#sk-container-id-3 div.sk-parallel-item {\n",
       "  display: flex;\n",
       "  flex-direction: column;\n",
       "}\n",
       "\n",
       "#sk-container-id-3 div.sk-parallel-item:first-child::after {\n",
       "  align-self: flex-end;\n",
       "  width: 50%;\n",
       "}\n",
       "\n",
       "#sk-container-id-3 div.sk-parallel-item:last-child::after {\n",
       "  align-self: flex-start;\n",
       "  width: 50%;\n",
       "}\n",
       "\n",
       "#sk-container-id-3 div.sk-parallel-item:only-child::after {\n",
       "  width: 0;\n",
       "}\n",
       "\n",
       "/* Serial-specific style estimator block */\n",
       "\n",
       "#sk-container-id-3 div.sk-serial {\n",
       "  display: flex;\n",
       "  flex-direction: column;\n",
       "  align-items: center;\n",
       "  background-color: var(--sklearn-color-background);\n",
       "  padding-right: 1em;\n",
       "  padding-left: 1em;\n",
       "}\n",
       "\n",
       "\n",
       "/* Toggleable style: style used for estimator/Pipeline/ColumnTransformer box that is\n",
       "clickable and can be expanded/collapsed.\n",
       "- Pipeline and ColumnTransformer use this feature and define the default style\n",
       "- Estimators will overwrite some part of the style using the `sk-estimator` class\n",
       "*/\n",
       "\n",
       "/* Pipeline and ColumnTransformer style (default) */\n",
       "\n",
       "#sk-container-id-3 div.sk-toggleable {\n",
       "  /* Default theme specific background. It is overwritten whether we have a\n",
       "  specific estimator or a Pipeline/ColumnTransformer */\n",
       "  background-color: var(--sklearn-color-background);\n",
       "}\n",
       "\n",
       "/* Toggleable label */\n",
       "#sk-container-id-3 label.sk-toggleable__label {\n",
       "  cursor: pointer;\n",
       "  display: flex;\n",
       "  width: 100%;\n",
       "  margin-bottom: 0;\n",
       "  padding: 0.5em;\n",
       "  box-sizing: border-box;\n",
       "  text-align: center;\n",
       "  align-items: start;\n",
       "  justify-content: space-between;\n",
       "  gap: 0.5em;\n",
       "}\n",
       "\n",
       "#sk-container-id-3 label.sk-toggleable__label .caption {\n",
       "  font-size: 0.6rem;\n",
       "  font-weight: lighter;\n",
       "  color: var(--sklearn-color-text-muted);\n",
       "}\n",
       "\n",
       "#sk-container-id-3 label.sk-toggleable__label-arrow:before {\n",
       "  /* Arrow on the left of the label */\n",
       "  content: \"▸\";\n",
       "  float: left;\n",
       "  margin-right: 0.25em;\n",
       "  color: var(--sklearn-color-icon);\n",
       "}\n",
       "\n",
       "#sk-container-id-3 label.sk-toggleable__label-arrow:hover:before {\n",
       "  color: var(--sklearn-color-text);\n",
       "}\n",
       "\n",
       "/* Toggleable content - dropdown */\n",
       "\n",
       "#sk-container-id-3 div.sk-toggleable__content {\n",
       "  max-height: 0;\n",
       "  max-width: 0;\n",
       "  overflow: hidden;\n",
       "  text-align: left;\n",
       "  /* unfitted */\n",
       "  background-color: var(--sklearn-color-unfitted-level-0);\n",
       "}\n",
       "\n",
       "#sk-container-id-3 div.sk-toggleable__content.fitted {\n",
       "  /* fitted */\n",
       "  background-color: var(--sklearn-color-fitted-level-0);\n",
       "}\n",
       "\n",
       "#sk-container-id-3 div.sk-toggleable__content pre {\n",
       "  margin: 0.2em;\n",
       "  border-radius: 0.25em;\n",
       "  color: var(--sklearn-color-text);\n",
       "  /* unfitted */\n",
       "  background-color: var(--sklearn-color-unfitted-level-0);\n",
       "}\n",
       "\n",
       "#sk-container-id-3 div.sk-toggleable__content.fitted pre {\n",
       "  /* unfitted */\n",
       "  background-color: var(--sklearn-color-fitted-level-0);\n",
       "}\n",
       "\n",
       "#sk-container-id-3 input.sk-toggleable__control:checked~div.sk-toggleable__content {\n",
       "  /* Expand drop-down */\n",
       "  max-height: 200px;\n",
       "  max-width: 100%;\n",
       "  overflow: auto;\n",
       "}\n",
       "\n",
       "#sk-container-id-3 input.sk-toggleable__control:checked~label.sk-toggleable__label-arrow:before {\n",
       "  content: \"▾\";\n",
       "}\n",
       "\n",
       "/* Pipeline/ColumnTransformer-specific style */\n",
       "\n",
       "#sk-container-id-3 div.sk-label input.sk-toggleable__control:checked~label.sk-toggleable__label {\n",
       "  color: var(--sklearn-color-text);\n",
       "  background-color: var(--sklearn-color-unfitted-level-2);\n",
       "}\n",
       "\n",
       "#sk-container-id-3 div.sk-label.fitted input.sk-toggleable__control:checked~label.sk-toggleable__label {\n",
       "  background-color: var(--sklearn-color-fitted-level-2);\n",
       "}\n",
       "\n",
       "/* Estimator-specific style */\n",
       "\n",
       "/* Colorize estimator box */\n",
       "#sk-container-id-3 div.sk-estimator input.sk-toggleable__control:checked~label.sk-toggleable__label {\n",
       "  /* unfitted */\n",
       "  background-color: var(--sklearn-color-unfitted-level-2);\n",
       "}\n",
       "\n",
       "#sk-container-id-3 div.sk-estimator.fitted input.sk-toggleable__control:checked~label.sk-toggleable__label {\n",
       "  /* fitted */\n",
       "  background-color: var(--sklearn-color-fitted-level-2);\n",
       "}\n",
       "\n",
       "#sk-container-id-3 div.sk-label label.sk-toggleable__label,\n",
       "#sk-container-id-3 div.sk-label label {\n",
       "  /* The background is the default theme color */\n",
       "  color: var(--sklearn-color-text-on-default-background);\n",
       "}\n",
       "\n",
       "/* On hover, darken the color of the background */\n",
       "#sk-container-id-3 div.sk-label:hover label.sk-toggleable__label {\n",
       "  color: var(--sklearn-color-text);\n",
       "  background-color: var(--sklearn-color-unfitted-level-2);\n",
       "}\n",
       "\n",
       "/* Label box, darken color on hover, fitted */\n",
       "#sk-container-id-3 div.sk-label.fitted:hover label.sk-toggleable__label.fitted {\n",
       "  color: var(--sklearn-color-text);\n",
       "  background-color: var(--sklearn-color-fitted-level-2);\n",
       "}\n",
       "\n",
       "/* Estimator label */\n",
       "\n",
       "#sk-container-id-3 div.sk-label label {\n",
       "  font-family: monospace;\n",
       "  font-weight: bold;\n",
       "  display: inline-block;\n",
       "  line-height: 1.2em;\n",
       "}\n",
       "\n",
       "#sk-container-id-3 div.sk-label-container {\n",
       "  text-align: center;\n",
       "}\n",
       "\n",
       "/* Estimator-specific */\n",
       "#sk-container-id-3 div.sk-estimator {\n",
       "  font-family: monospace;\n",
       "  border: 1px dotted var(--sklearn-color-border-box);\n",
       "  border-radius: 0.25em;\n",
       "  box-sizing: border-box;\n",
       "  margin-bottom: 0.5em;\n",
       "  /* unfitted */\n",
       "  background-color: var(--sklearn-color-unfitted-level-0);\n",
       "}\n",
       "\n",
       "#sk-container-id-3 div.sk-estimator.fitted {\n",
       "  /* fitted */\n",
       "  background-color: var(--sklearn-color-fitted-level-0);\n",
       "}\n",
       "\n",
       "/* on hover */\n",
       "#sk-container-id-3 div.sk-estimator:hover {\n",
       "  /* unfitted */\n",
       "  background-color: var(--sklearn-color-unfitted-level-2);\n",
       "}\n",
       "\n",
       "#sk-container-id-3 div.sk-estimator.fitted:hover {\n",
       "  /* fitted */\n",
       "  background-color: var(--sklearn-color-fitted-level-2);\n",
       "}\n",
       "\n",
       "/* Specification for estimator info (e.g. \"i\" and \"?\") */\n",
       "\n",
       "/* Common style for \"i\" and \"?\" */\n",
       "\n",
       ".sk-estimator-doc-link,\n",
       "a:link.sk-estimator-doc-link,\n",
       "a:visited.sk-estimator-doc-link {\n",
       "  float: right;\n",
       "  font-size: smaller;\n",
       "  line-height: 1em;\n",
       "  font-family: monospace;\n",
       "  background-color: var(--sklearn-color-background);\n",
       "  border-radius: 1em;\n",
       "  height: 1em;\n",
       "  width: 1em;\n",
       "  text-decoration: none !important;\n",
       "  margin-left: 0.5em;\n",
       "  text-align: center;\n",
       "  /* unfitted */\n",
       "  border: var(--sklearn-color-unfitted-level-1) 1pt solid;\n",
       "  color: var(--sklearn-color-unfitted-level-1);\n",
       "}\n",
       "\n",
       ".sk-estimator-doc-link.fitted,\n",
       "a:link.sk-estimator-doc-link.fitted,\n",
       "a:visited.sk-estimator-doc-link.fitted {\n",
       "  /* fitted */\n",
       "  border: var(--sklearn-color-fitted-level-1) 1pt solid;\n",
       "  color: var(--sklearn-color-fitted-level-1);\n",
       "}\n",
       "\n",
       "/* On hover */\n",
       "div.sk-estimator:hover .sk-estimator-doc-link:hover,\n",
       ".sk-estimator-doc-link:hover,\n",
       "div.sk-label-container:hover .sk-estimator-doc-link:hover,\n",
       ".sk-estimator-doc-link:hover {\n",
       "  /* unfitted */\n",
       "  background-color: var(--sklearn-color-unfitted-level-3);\n",
       "  color: var(--sklearn-color-background);\n",
       "  text-decoration: none;\n",
       "}\n",
       "\n",
       "div.sk-estimator.fitted:hover .sk-estimator-doc-link.fitted:hover,\n",
       ".sk-estimator-doc-link.fitted:hover,\n",
       "div.sk-label-container:hover .sk-estimator-doc-link.fitted:hover,\n",
       ".sk-estimator-doc-link.fitted:hover {\n",
       "  /* fitted */\n",
       "  background-color: var(--sklearn-color-fitted-level-3);\n",
       "  color: var(--sklearn-color-background);\n",
       "  text-decoration: none;\n",
       "}\n",
       "\n",
       "/* Span, style for the box shown on hovering the info icon */\n",
       ".sk-estimator-doc-link span {\n",
       "  display: none;\n",
       "  z-index: 9999;\n",
       "  position: relative;\n",
       "  font-weight: normal;\n",
       "  right: .2ex;\n",
       "  padding: .5ex;\n",
       "  margin: .5ex;\n",
       "  width: min-content;\n",
       "  min-width: 20ex;\n",
       "  max-width: 50ex;\n",
       "  color: var(--sklearn-color-text);\n",
       "  box-shadow: 2pt 2pt 4pt #999;\n",
       "  /* unfitted */\n",
       "  background: var(--sklearn-color-unfitted-level-0);\n",
       "  border: .5pt solid var(--sklearn-color-unfitted-level-3);\n",
       "}\n",
       "\n",
       ".sk-estimator-doc-link.fitted span {\n",
       "  /* fitted */\n",
       "  background: var(--sklearn-color-fitted-level-0);\n",
       "  border: var(--sklearn-color-fitted-level-3);\n",
       "}\n",
       "\n",
       ".sk-estimator-doc-link:hover span {\n",
       "  display: block;\n",
       "}\n",
       "\n",
       "/* \"?\"-specific style due to the `<a>` HTML tag */\n",
       "\n",
       "#sk-container-id-3 a.estimator_doc_link {\n",
       "  float: right;\n",
       "  font-size: 1rem;\n",
       "  line-height: 1em;\n",
       "  font-family: monospace;\n",
       "  background-color: var(--sklearn-color-background);\n",
       "  border-radius: 1rem;\n",
       "  height: 1rem;\n",
       "  width: 1rem;\n",
       "  text-decoration: none;\n",
       "  /* unfitted */\n",
       "  color: var(--sklearn-color-unfitted-level-1);\n",
       "  border: var(--sklearn-color-unfitted-level-1) 1pt solid;\n",
       "}\n",
       "\n",
       "#sk-container-id-3 a.estimator_doc_link.fitted {\n",
       "  /* fitted */\n",
       "  border: var(--sklearn-color-fitted-level-1) 1pt solid;\n",
       "  color: var(--sklearn-color-fitted-level-1);\n",
       "}\n",
       "\n",
       "/* On hover */\n",
       "#sk-container-id-3 a.estimator_doc_link:hover {\n",
       "  /* unfitted */\n",
       "  background-color: var(--sklearn-color-unfitted-level-3);\n",
       "  color: var(--sklearn-color-background);\n",
       "  text-decoration: none;\n",
       "}\n",
       "\n",
       "#sk-container-id-3 a.estimator_doc_link.fitted:hover {\n",
       "  /* fitted */\n",
       "  background-color: var(--sklearn-color-fitted-level-3);\n",
       "}\n",
       "</style><div id=\"sk-container-id-3\" class=\"sk-top-container\"><div class=\"sk-text-repr-fallback\"><pre>AgglomerativeClustering(distance_threshold=0, linkage=&#x27;complete&#x27;,\n",
       "                        n_clusters=None)</pre><b>In a Jupyter environment, please rerun this cell to show the HTML representation or trust the notebook. <br />On GitHub, the HTML representation is unable to render, please try loading this page with nbviewer.org.</b></div><div class=\"sk-container\" hidden><div class=\"sk-item\"><div class=\"sk-estimator fitted sk-toggleable\"><input class=\"sk-toggleable__control sk-hidden--visually\" id=\"sk-estimator-id-3\" type=\"checkbox\" checked><label for=\"sk-estimator-id-3\" class=\"sk-toggleable__label fitted sk-toggleable__label-arrow\"><div><div>AgglomerativeClustering</div></div><div><a class=\"sk-estimator-doc-link fitted\" rel=\"noreferrer\" target=\"_blank\" href=\"https://scikit-learn.org/1.6/modules/generated/sklearn.cluster.AgglomerativeClustering.html\">?<span>Documentation for AgglomerativeClustering</span></a><span class=\"sk-estimator-doc-link fitted\">i<span>Fitted</span></span></div></label><div class=\"sk-toggleable__content fitted\"><pre>AgglomerativeClustering(distance_threshold=0, linkage=&#x27;complete&#x27;,\n",
       "                        n_clusters=None)</pre></div> </div></div></div></div>"
      ],
      "text/plain": [
       "AgglomerativeClustering(distance_threshold=0, linkage='complete',\n",
       "                        n_clusters=None)"
      ]
     },
     "execution_count": 42,
     "metadata": {},
     "output_type": "execute_result"
    }
   ],
   "source": [
    "# 这将计算整个树状图\n",
    "HClust = AgglomerativeClustering\n",
    "# distance_threshold=0：不提前指定聚类个数，而是构建完整的树状图\n",
    "hc_comp = HClust(distance_threshold=0, n_clusters=None, linkage='complete') # n_clusters=None 必须和 distance_threshold=0 一起使用  \n",
    "hc_comp.fit(X)"
   ]
  },
  {
   "cell_type": "code",
   "execution_count": 43,
   "id": "23663ebc-fa1d-4f80-8fbc-96b1cf616c97",
   "metadata": {},
   "outputs": [],
   "source": [
    "# 也可以用平均或单个链接轻松地执行分层聚类：\n",
    "hc_avg = HClust(distance_threshold=0, n_clusters=None, linkage='average');\n",
    "hc_avg.fit(X)\n",
    "hc_sing = HClust(distance_threshold=0, n_clusters=None, linkage='single');\n",
    "hc_sing.fit(X);"
   ]
  },
  {
   "cell_type": "markdown",
   "id": "e2dd7ee6-e156-4a07-99e1-ff5812c96c56",
   "metadata": {},
   "source": [
    "#### **两个簇之间的距离”怎么定义？**\n",
    "| `linkage` 方法       | 两个簇 $A$, $B$ 之间的距离定义为：                                                  |\n",
    "| ------------------ | ----------------------------------------------------------------------- |\n",
    "| `'single'`（单链接）    | $\\min_{i \\in A, j \\in B} \\text{dist}(x_i, x_j)$：两簇中最**近**两个点的距离；会形成链状结构，对噪声和离群点非常敏感         |\n",
    "| `'average'`（平均链接）  | $\\text{mean}_{i \\in A, j \\in B} \\text{dist}(x_i, x_j)$：簇间**所有成对距离的平均值** ；折中方法，不太受极端值干扰|\n",
    "| `'complete'`（**完全链接**） | $\\max_{i \\in A, j \\in B} \\text{dist}(x_i, x_j)$：两簇中最**远**两个点的距离；聚合时偏向紧密小簇，对噪声敏感度较低         |\n"
   ]
  },
  {
   "cell_type": "code",
   "execution_count": 44,
   "id": "fdebe8fb-2e95-4119-9b4b-3258ae3ab3db",
   "metadata": {},
   "outputs": [
    {
     "data": {
      "image/png": "[encoded data removed]",
      "text/plain": [
       "<Figure size 800x800 with 1 Axes>"
      ]
     },
     "metadata": {},
     "output_type": "display_data"
    }
   ],
   "source": [
    "# 强制所有分支都使用 'above_threshold_color' 指定的颜色\n",
    "cargs = {'color_threshold':-np.inf, 'above_threshold_color':'black'}\n",
    "# ISLP.cluster包中的函数compute_linkage()就是计算聚类链接矩阵的。\n",
    "linkage_comp = compute_linkage(hc_comp)\n",
    "fig, ax = plt.subplots(1, 1, figsize=(8, 8))\n",
    "dendrogram(linkage_comp, ax=ax, **cargs);"
   ]
  },
  {
   "cell_type": "markdown",
   "id": "efe2fd77-9e40-4bd3-941c-42dd410455fe",
   "metadata": {},
   "source": [
    "**样本分布（横轴）**  \n",
    "- 图底部的数字 0 到 49 表示每个样本的编号（50个样本）  \n",
    "- 它们最初是独立的（每个样本是一个单独的簇）  \n",
    "\n",
    "**聚类过程（树枝）**  \n",
    "- 自下而上：越往上越是聚类的“合并”过程  \n",
    "- 每一个分支的“合并点”表示两个簇的最小距离  \n",
    "- 聚类方法是 linkage='complete'：簇间距离由“最远点对距离”决定  \n",
    "\n",
    "**距离解释（纵轴）**  \n",
    "- Y轴代表样本或簇之间的距离  \n",
    "- 高度越高表示合并时两个簇之间距离越远  \n",
    "- 比如，顶部两个大簇最终合并处的高度大概在 9 附近，说明它们之间相对较远  "
   ]
  },
  {
   "cell_type": "code",
   "execution_count": 45,
   "id": "adfb8fb6-ad44-47d6-9335-495e9feb74d5",
   "metadata": {},
   "outputs": [
    {
     "data": {
      "image/png": "[encoded data removed]",
      "text/plain": [
       "<Figure size 800x800 with 1 Axes>"
      ]
     },
     "metadata": {},
     "output_type": "display_data"
    }
   ],
   "source": [
    "fig, ax = plt.subplots(1, 1, figsize=(8, 8))\n",
    "dendrogram(linkage_comp, ax=ax, color_threshold=4, above_threshold_color='black');"
   ]
  },
  {
   "cell_type": "code",
   "execution_count": 46,
   "id": "75ee6976-b8a4-45e6-85a6-f7557b74e237",
   "metadata": {},
   "outputs": [
    {
     "data": {
      "text/plain": [
       "array([[0, 1, 0, 0, 1, 1, 0, 1, 0, 0, 2, 0, 0, 0, 1, 1, 0, 0, 1, 0, 0, 2,\n",
       "        0, 2, 2, 3, 2, 3, 3, 3, 3, 2, 3, 3, 3, 3, 2, 3, 3, 3, 3, 2, 3, 3,\n",
       "        3, 3, 3, 3, 3, 3]], dtype=int64)"
      ]
     },
     "execution_count": 46,
     "metadata": {},
     "output_type": "execute_result"
    }
   ],
   "source": [
    "# 在一定高度处切割”，从而形成指定数量的聚类（这里是 4 个簇）。\n",
    "cut_tree(linkage_comp, n_clusters=4).T"
   ]
  },
  {
   "cell_type": "markdown",
   "id": "528b8de2-ed54-46c7-b135-2f6f13932720",
   "metadata": {},
   "source": [
    "**聚类选择技巧**  \n",
    "- 可以通过“剪断”这棵树来选定想要的簇数（K）：\n",
    "- 剪断的位置（即选定一个阈值）越高，簇数越少\n",
    "- 剪得越低，簇数越多（每次合并形成新簇）\n",
    "- 例如，在高度约为 5 剪断，可以得到 2~3 个主要簇\n",
    "\n",
    "**这可以通过向HClust()提供参数n_clusters来实现**；\n",
    "- 然而，每次切割都需要重新计算聚类。\n",
    "- 这里不指定簇的数量，而是根据合并高度 height=5 来“剪断”树图\n",
    "    - 比如，在树图上剪断“高度 = 5”的水平线，所有在该线以下合并的簇将会被分组\n",
    "    - **有时这比指定 n_clusters 更直观**（从树图结构直接看到在哪个高度分几类）"
   ]
  },
  {
   "cell_type": "code",
   "execution_count": 47,
   "id": "1375efa9-394c-4649-b9c2-2c9fdcb62558",
   "metadata": {
    "scrolled": true
   },
   "outputs": [
    {
     "data": {
      "text/plain": [
       "array([[0],\n",
       "       [0],\n",
       "       [0],\n",
       "       [0],\n",
       "       [0],\n",
       "       [0],\n",
       "       [0],\n",
       "       [0],\n",
       "       [0],\n",
       "       [0],\n",
       "       [1],\n",
       "       [0],\n",
       "       [0],\n",
       "       [0],\n",
       "       [0],\n",
       "       [0],\n",
       "       [0],\n",
       "       [0],\n",
       "       [0],\n",
       "       [0],\n",
       "       [0],\n",
       "       [1],\n",
       "       [0],\n",
       "       [1],\n",
       "       [1],\n",
       "       [2],\n",
       "       [1],\n",
       "       [2],\n",
       "       [2],\n",
       "       [2],\n",
       "       [2],\n",
       "       [1],\n",
       "       [2],\n",
       "       [2],\n",
       "       [2],\n",
       "       [2],\n",
       "       [1],\n",
       "       [2],\n",
       "       [2],\n",
       "       [2],\n",
       "       [2],\n",
       "       [1],\n",
       "       [2],\n",
       "       [2],\n",
       "       [2],\n",
       "       [2],\n",
       "       [2],\n",
       "       [2],\n",
       "       [2],\n",
       "       [2]], dtype=int64)"
      ]
     },
     "execution_count": 47,
     "metadata": {},
     "output_type": "execute_result"
    }
   ],
   "source": [
    "cut_tree(linkage_comp, height=5)"
   ]
  },
  {
   "cell_type": "code",
   "execution_count": 48,
   "id": "21398f84-d5cb-4f3e-b7e1-183a38a21f16",
   "metadata": {},
   "outputs": [],
   "source": [
    "# 对观测值进行分层聚类之前缩放变量\n",
    "scaler = StandardScaler()\n",
    "X_scale = scaler.fit_transform(X)\n",
    "hc_comp_scale = HClust(distance_threshold=0, n_clusters=None, linkage='complete').fit(X_scale)"
   ]
  },
  {
   "cell_type": "markdown",
   "id": "f6566832-9d99-482a-aa0f-f4ffc84d2429",
   "metadata": {},
   "source": [
    "#### **未缩放的树图在高度=9时分4个主分支，而标准化后变成了2个主分支**\n",
    "这是非常典型的现象 —— 变量标准化 极大影响 层次聚类的结构\n",
    "\n",
    "**标准化前（未缩放）**：  \n",
    "- 如果某个变量的数值差异更大，可能形成更多“方向”的差异，导致聚类树出现更多主分支  \n",
    "- 比如原始数据在某个方向拉得更长（如 x 轴），聚类结构呈现多样性 → 形成更多分支  \n",
    "\n",
    "**标准化后**：  \n",
    "- 所有变量被压缩为 同一尺度（均值为0，方差为1）  \n",
    "- 聚类结构只反映出形状差异而非原始大小差异  \n",
    "- 会聚合更多看似相似的样本 → 主分支更少  "
   ]
  },
  {
   "cell_type": "markdown",
   "id": "e721a697-a9d8-49cb-bc5d-92ed0d13b0d7",
   "metadata": {},
   "source": [
    "**在层次聚类中，不同特征的尺度会严重影响聚类结构**。\n",
    "\n",
    "- 比如有两个特征：\n",
    "    - 一个在 [0, 100] 之间\n",
    "    - 一个在 [-2, 2] 之间\n",
    "\n",
    "**那么第一维将主导距离计算，扭曲聚类结构，因此标准化是必要的**。"
   ]
  },
  {
   "cell_type": "code",
   "execution_count": 49,
   "id": "b59b3896-d607-4856-af5a-ff5fc68f39b7",
   "metadata": {},
   "outputs": [
    {
     "data": {
      "image/png": "[encoded data removed]",
      "text/plain": [
       "<Figure size 800x800 with 1 Axes>"
      ]
     },
     "metadata": {},
     "output_type": "display_data"
    }
   ],
   "source": [
    "linkage_comp_scale = compute_linkage(hc_comp_scale)\n",
    "\n",
    "fig, ax = plt.subplots(1, 1, figsize=(8, 8))\n",
    "dendrogram(linkage_comp_scale, ax=ax, **cargs)\n",
    "ax.set_title(\"具有缩放特征的层次聚类\");"
   ]
  },
  {
   "cell_type": "markdown",
   "id": "1b2a882c-9c57-49b4-b8f9-c70ae9ca1555",
   "metadata": {},
   "source": [
    "### **层次聚类 vs K-Means 的关键区别**\n",
    "| 特征       | 层次聚类（Hierarchical）                  | K-Means                       |\n",
    "| -------- | ----------------------------------- | ----------------------------- |\n",
    "| 是否需要指定 K | ❌ **不需要**提前指定 K                     | ✅ **需要**指定 K                  |\n",
    "| 聚类结构     | 返回**一棵树（dendrogram）**，可选择任意层次进行剪切 | 返回固定的 K 个簇标签                  |\n",
    "| 原理       | 迭代合并（或分裂）簇，基于 `linkage` 的距离定义       | 不断移动 K 个中心，最小化平方距离误差（inertia） |\n",
    "| 类型       | 层次式聚类，适合探索数据结构                      | 分区式聚类，适合快速聚类大量数据              |\n",
    "| 稳定性      | 比较稳定，对初始值不敏感                        | 对初始中心敏感（需要多次运行）               |\n",
    "| 算法复杂度    | 较高，适合小数据                   | 较快，适合大数据               |\n",
    "| 可解释性     | 有 dendrogram，层级关系明确                 | 中心+标签，没有层级结构                  |\n"
   ]
  },
  {
   "cell_type": "markdown",
   "id": "531e1f64-a58c-4556-9ca3-ce8e5951677f",
   "metadata": {},
   "source": [
    "## **4. NCI60 Data Example**\n",
    "- **无监督学习技术常用于分析基因组数据**。\n",
    "- *PCA和层次聚类*是流行的工具。\n",
    "- 本节在NCI60癌症细胞系微阵列数据上说明了这些技术，该数据由：  \n",
    "**64 个癌症细胞系的6830 个基因的表达数据测量组成**。"
   ]
  },
  {
   "cell_type": "code",
   "execution_count": 50,
   "id": "5b4dcc83-858a-417a-8706-00ba2882b80f",
   "metadata": {},
   "outputs": [
    {
     "data": {
      "text/plain": [
       "{'data': array([[ 0.3     ,  1.18    ,  0.55    , ...,  0.28    , -0.34    ,\n",
       "         -1.93    ],\n",
       "        [ 0.679961,  1.289961,  0.169961, ..., -0.770039, -0.390039,\n",
       "         -2.000039],\n",
       "        [ 0.94    , -0.04    , -0.17    , ..., -0.12    , -0.41    ,\n",
       "          0.      ],\n",
       "        ...,\n",
       "        [ 0.21    , -0.62    , -0.15    , ...,  0.16    ,  2.03    ,\n",
       "          3.94    ],\n",
       "        [-0.05    ,  0.14    , -0.09    , ..., -0.49    ,  0.01    ,\n",
       "         -1.72    ],\n",
       "        [ 0.35    , -0.27    ,  0.02    , ...,  0.29    , -0.15    ,\n",
       "          1.21    ]]),\n",
       " 'labels':        label\n",
       " 0        CNS\n",
       " 1        CNS\n",
       " 2        CNS\n",
       " 3      RENAL\n",
       " 4     BREAST\n",
       " ..       ...\n",
       " 59  MELANOMA\n",
       " 60  MELANOMA\n",
       " 61  MELANOMA\n",
       " 62  MELANOMA\n",
       " 63  MELANOMA\n",
       " \n",
       " [64 rows x 1 columns]}"
      ]
     },
     "execution_count": 50,
     "metadata": {},
     "output_type": "execute_result"
    }
   ],
   "source": [
    "NCI60 = load_data('NCI60')\n",
    "nci_labs = NCI60['labels']\n",
    "nci_data = NCI60['data']\n",
    "NCI60"
   ]
  },
  {
   "cell_type": "code",
   "execution_count": 51,
   "id": "b5fcd8ae-42c1-45da-99ad-db3df520dbc6",
   "metadata": {},
   "outputs": [
    {
     "data": {
      "text/plain": [
       "(64, 6830)"
      ]
     },
     "execution_count": 51,
     "metadata": {},
     "output_type": "execute_result"
    }
   ],
   "source": [
    "# 数据有64行6830列。\n",
    "nci_data.shape"
   ]
  },
  {
   "cell_type": "code",
   "execution_count": 52,
   "id": "74c62fe8-6522-4d2c-a88b-787cb2b86e5a",
   "metadata": {},
   "outputs": [
    {
     "data": {
      "text/plain": [
       "label      \n",
       "NSCLC          9\n",
       "RENAL          9\n",
       "MELANOMA       8\n",
       "BREAST         7\n",
       "COLON          7\n",
       "LEUKEMIA       6\n",
       "OVARIAN        6\n",
       "CNS            5\n",
       "PROSTATE       2\n",
       "K562A-repro    1\n",
       "K562B-repro    1\n",
       "MCF7A-repro    1\n",
       "MCF7D-repro    1\n",
       "UNKNOWN        1\n",
       "Name: count, dtype: int64"
      ]
     },
     "execution_count": 52,
     "metadata": {},
     "output_type": "execute_result"
    }
   ],
   "source": [
    "# 首先检查癌症类型的细胞系\n",
    "nci_labs.value_counts()"
   ]
  },
  {
   "cell_type": "markdown",
   "id": "906a8c9c-fab6-4e93-a5c9-3a84c9d92c1f",
   "metadata": {},
   "source": [
    "### **4.1 应用PCA**\n",
    "每个基因（变量）的表达值可能量纲不同、方差不同。因此需要标准化。\n",
    "\n",
    "将 6830 维数据压缩为更少的维度（例如前2个主成分），同时尽量保留原始信息。\n",
    "\n",
    "提取出 主成分得分（scores），表示每个样本在各主成分上的坐标位置。"
   ]
  },
  {
   "cell_type": "code",
   "execution_count": 53,
   "id": "d03714b4-5233-4cd5-a963-5bcdb45e9782",
   "metadata": {},
   "outputs": [
    {
     "data": {
      "text/plain": [
       "array([[ 1.98380417e+01, -3.55563601e+00, -9.81239940e+00, ...,\n",
       "         3.92266143e-01,  8.94903994e-01, -2.34306017e-14],\n",
       "       [ 2.30892149e+01, -6.44145978e+00, -1.34782512e+01, ...,\n",
       "        -7.76330257e-01, -9.69009169e-01, -2.34306017e-14],\n",
       "       [ 2.74561144e+01, -2.46514326e+00, -3.53305434e+00, ...,\n",
       "         4.98404578e-01,  8.44417986e-01, -2.34306017e-14],\n",
       "       ...,\n",
       "       [ 2.29669875e+01,  3.61020384e+01,  1.81165786e+01, ...,\n",
       "        -3.37372043e-01,  2.68801414e-01, -2.34306017e-14],\n",
       "       [ 1.91760072e+01,  5.03984409e+01,  4.21115253e+00, ...,\n",
       "        -1.51507990e+00, -1.01150699e+00, -2.34306017e-14],\n",
       "       [ 1.32328698e+01,  3.51252492e+01,  3.43355443e+00, ...,\n",
       "         5.92331292e-01,  6.70834261e-01, -2.34306017e-14]])"
      ]
     },
     "execution_count": 53,
     "metadata": {},
     "output_type": "execute_result"
    }
   ],
   "source": [
    "scaler = StandardScaler()\n",
    "nci_scaled = scaler.fit_transform(nci_data)\n",
    "nci_pca = PCA()\n",
    "nci_scores = nci_pca.fit_transform(nci_scaled)\n",
    "nci_scores"
   ]
  },
  {
   "cell_type": "markdown",
   "id": "5668ffa9-15d0-4e50-91a7-3d7a521b193d",
   "metadata": {},
   "source": [
    "**形状为 (64, 64) 的矩阵，表示 64 个样本在前 64 个主成分方向上的投影（因为最多只有 64 个非零特征方向）**  \n",
    "\n",
    "每一行：表示一个癌症细胞系在 PCA 空间的坐标（投影）\n",
    "\n",
    "每一列：对应一个主成分（PC1, PC2, ..., PC64）"
   ]
  },
  {
   "cell_type": "code",
   "execution_count": 54,
   "id": "6fc60070-dbdc-48c7-a009-d66bb70a71b3",
   "metadata": {},
   "outputs": [
    {
     "data": {
      "image/png": "[encoded data removed]",
      "text/plain": [
       "<Figure size 1500x600 with 2 Axes>"
      ]
     },
     "metadata": {},
     "output_type": "display_data"
    }
   ],
   "source": [
    "# 获取独特癌症种类\n",
    "cancer_types = list(np.unique(nci_labs))\n",
    "# nci_groups 是每个样本对应的整数型类别索引\n",
    "nci_groups = np.array([cancer_types.index(lab)\n",
    "                       for lab in nci_labs.values])\n",
    "\n",
    "fig, axes = plt.subplots(1, 2, figsize=(15,6))\n",
    "# 最能解释数据差异的两个主方向的投影\n",
    "ax = axes[0]\n",
    "ax.scatter(nci_scores[:,0], nci_scores[:,1], c=nci_groups, marker='o', s=50)\n",
    "ax.set_xlabel('PC1'); ax.set_ylabel('PC2')\n",
    "# 替换了 y 轴为 PC3，用于探索主成分3是否能进一步分离样本。\n",
    "ax = axes[1]\n",
    "ax.scatter(nci_scores[:,0], nci_scores[:,2], c=nci_groups, marker='o', s=50)\n",
    "ax.set_xlabel('PC1'); ax.set_ylabel('PC3');"
   ]
  },
  {
   "cell_type": "markdown",
   "id": "a816d623-c405-4654-9270-70396958ca62",
   "metadata": {},
   "source": [
    "#### **分析**\n",
    "1. 不同颜色代表不同癌症类型（比如紫色、绿色、黄色等）。\n",
    "\n",
    "2. 可以看到一些颜色的样本在二维空间中形成了清晰的聚类（例如左上角或右下角的紫色团，或靠近原点的一些绿色团块）。  \n",
    "**这说明这些细胞系在主成分1 和 主成分2上具有相似的投影方向，暗示基因表达模式接近**。\n",
    "\n",
    "**对应于单个癌症类型的细胞系在前几个主成分得分向量上往往具有相似的值**。  \n",
    "- 图中颜色团块的结构验证了PCA能揭示潜在结构。  \n",
    "- 主成分得分相似 → 原始表达值相似 → 同类型癌症的细胞系表现相近 → 说明无监督学习揭示了真实的生物学分组现象。  \n",
    "\n",
    "**将PC2换成PC3，有时能更好地区分某些类别（尤其是PC2不能很好区分时）**。  \n",
    "- 可观察到某些颜色（如黄色、深绿色）在这个投影中分得更散，这说明第三主成分可能提供了额外的区分维度，但整体分布仍较为连续。\n",
    "\n",
    "---"
   ]
  },
  {
   "cell_type": "markdown",
   "id": "c2366955-69fd-4f14-bb47-766163ff99bb",
   "metadata": {},
   "source": [
    "#### **还可以绘制由主成分解释的百分比方差以及解释的累积百分比方差**。\n",
    "- 这与之前为USArrests数据绘制的图类似。"
   ]
  },
  {
   "cell_type": "code",
   "execution_count": 55,
   "id": "02782671-2ade-4884-b5bd-75e6d02a8d9f",
   "metadata": {},
   "outputs": [
    {
     "data": {
      "image/png": "[encoded data removed]",
      "text/plain": [
       "<Figure size 1500x600 with 2 Axes>"
      ]
     },
     "metadata": {},
     "output_type": "display_data"
    }
   ],
   "source": [
    "fig, axes = plt.subplots(1, 2, figsize=(15,6))\n",
    "\n",
    "ax = axes[0]\n",
    "ticks = np.arange(nci_pca.n_components_)+1\n",
    "ax.plot(ticks, nci_pca.explained_variance_ratio_, marker='o')\n",
    "ax.set_xlabel('Principal Component');\n",
    "ax.set_ylabel('PVE')\n",
    "\n",
    "ax = axes[1]\n",
    "ax.plot(ticks, nci_pca.explained_variance_ratio_.cumsum(), marker='o');\n",
    "ax.set_xlabel('Principal Component')\n",
    "ax.set_ylabel('Cumulative PVE');"
   ]
  },
  {
   "cell_type": "markdown",
   "id": "7a507e44-99f4-42b6-8863-b7fc71cd7a58",
   "metadata": {},
   "source": [
    "**可以观察到，前七个主成分共同解释了数据中约40%的方差。**。\n",
    "- 观察scree图，可以发现，**前七个主成分中的每一个都解释了大量的方差（每个主成分的解释方差（PVE）），由其他主成分解释的方差明显减小**。\n",
    "- 也就是说，在大约第七个主成分之后的图中有一个弯头。\n",
    "- 这表明，检查超过七个左右的主成分可能没有什么好处（尽管即使检查七个主成分也可能很困难）。"
   ]
  },
  {
   "cell_type": "markdown",
   "id": "48ba4dd8-3807-47b2-b3ea-d5202cf58514",
   "metadata": {},
   "source": [
    "### **4.2 对NCI60数据的观察结果进行聚类**\n",
    "- 现在使用完全、单一和平均连锁对NCI60数据中的细胞系进行分层聚类。\n",
    "- 目标是找出观察结果是否属于不同类型的癌症。\n",
    "- 欧几里德距离被用作相异度度量。"
   ]
  },
  {
   "cell_type": "code",
   "execution_count": 56,
   "id": "3a61821f-d429-4cb2-85cd-07f4d8e9551f",
   "metadata": {},
   "outputs": [],
   "source": [
    "# 生成三个树状图。\n",
    "def plot_nci(linkage, ax, cut=-np.inf):\n",
    "    # 树状图中“高于 cut 的链接”使用黑色线\n",
    "    cargs = {'above_threshold_color':'black', 'color_threshold':cut}\n",
    "    # 设置聚类方式，函数中自动转换为小写\n",
    "    hc = HClust(n_clusters=None, distance_threshold=0, linkage=linkage.lower()).fit(nci_scaled)\n",
    "    \n",
    "    linkage_ = compute_linkage(hc)\n",
    "    # 每个叶子节点显示原始癌症类型标签\n",
    "    dendrogram(linkage_, ax=ax, labels=np.asarray(nci_labs), leaf_font_size=10, **cargs)\n",
    "    ax.set_title('%s Linkage' % linkage)\n",
    "    return hc"
   ]
  },
  {
   "cell_type": "code",
   "execution_count": 57,
   "id": "1de9de15-7247-4b48-a636-5ba816a9ab0d",
   "metadata": {},
   "outputs": [
    {
     "data": {
      "image/png": "[encoded data removed]",
      "text/plain": [
       "<Figure size 1500x3000 with 3 Axes>"
      ]
     },
     "metadata": {},
     "output_type": "display_data"
    }
   ],
   "source": [
    "# 绘制结果\n",
    "fig, axes = plt.subplots(3, 1, figsize=(15,30))      \n",
    "ax = axes[0]; hc_comp = plot_nci('Complete', ax)\n",
    "ax = axes[1]; hc_avg = plot_nci('Average', ax)\n",
    "ax = axes[2]; hc_sing = plot_nci('Single', ax)"
   ]
  },
  {
   "cell_type": "markdown",
   "id": "2d91e0a6-87a3-4a1a-9071-e81f3df1a142",
   "metadata": {},
   "source": [
    "**结果看来，linkage的选择确实会影响所获得的结果**。\n",
    "\n",
    "**1. Complete Linkage 图（图一）**\n",
    "- 树状图分支结构 比较平衡，每次合并前需要考虑两个簇最远点的距离，使得每个簇内部紧凑。\n",
    "- 聚类倾向于形成球状紧密的簇。效果最好，因为它让每类内部更紧凑，树状图分支更清晰（更适合做类的划分）。\n",
    "\n",
    "**2. Average Linkage 图（图二）**\n",
    "- 平衡性居中，合并时考虑所有点的平均距离。\n",
    "- 对异常值不如 complete robust，但比 single 好。通常被认为是一个 折中方案，适合中等数量样本和中等噪声。\n",
    "\n",
    "**3. Single Linkage 图（图三）**\n",
    "- 可见很多簇像链条一样逐步连接（尤其右侧部分高度变化小） → 这是“链状效应”（chaining effect）。\n",
    "- 只需要最近两个点近，就可以合并 → 很容易受到噪声和异常点影响。因其链式结构会影响聚类判断力，尤其在基因表达这类高维数据中。\n",
    "\n",
    "---"
   ]
  },
  {
   "cell_type": "code",
   "execution_count": 58,
   "id": "09d0cb32-b4ef-41a1-9933-24d721ace5fd",
   "metadata": {},
   "outputs": [
    {
     "data": {
      "text/html": [
       "<div>\n",
       "<style scoped>\n",
       "    .dataframe tbody tr th:only-of-type {\n",
       "        vertical-align: middle;\n",
       "    }\n",
       "\n",
       "    .dataframe tbody tr th {\n",
       "        vertical-align: top;\n",
       "    }\n",
       "\n",
       "    .dataframe thead th {\n",
       "        text-align: right;\n",
       "    }\n",
       "</style>\n",
       "<table border=\"1\" class=\"dataframe\">\n",
       "  <thead>\n",
       "    <tr style=\"text-align: right;\">\n",
       "      <th>Complete</th>\n",
       "      <th>0</th>\n",
       "      <th>1</th>\n",
       "      <th>2</th>\n",
       "      <th>3</th>\n",
       "    </tr>\n",
       "    <tr>\n",
       "      <th>label</th>\n",
       "      <th></th>\n",
       "      <th></th>\n",
       "      <th></th>\n",
       "      <th></th>\n",
       "    </tr>\n",
       "  </thead>\n",
       "  <tbody>\n",
       "    <tr>\n",
       "      <th>BREAST</th>\n",
       "      <td>2</td>\n",
       "      <td>3</td>\n",
       "      <td>0</td>\n",
       "      <td>2</td>\n",
       "    </tr>\n",
       "    <tr>\n",
       "      <th>CNS</th>\n",
       "      <td>3</td>\n",
       "      <td>2</td>\n",
       "      <td>0</td>\n",
       "      <td>0</td>\n",
       "    </tr>\n",
       "    <tr>\n",
       "      <th>COLON</th>\n",
       "      <td>2</td>\n",
       "      <td>0</td>\n",
       "      <td>0</td>\n",
       "      <td>5</td>\n",
       "    </tr>\n",
       "    <tr>\n",
       "      <th>K562A-repro</th>\n",
       "      <td>0</td>\n",
       "      <td>0</td>\n",
       "      <td>1</td>\n",
       "      <td>0</td>\n",
       "    </tr>\n",
       "    <tr>\n",
       "      <th>K562B-repro</th>\n",
       "      <td>0</td>\n",
       "      <td>0</td>\n",
       "      <td>1</td>\n",
       "      <td>0</td>\n",
       "    </tr>\n",
       "    <tr>\n",
       "      <th>LEUKEMIA</th>\n",
       "      <td>0</td>\n",
       "      <td>0</td>\n",
       "      <td>6</td>\n",
       "      <td>0</td>\n",
       "    </tr>\n",
       "    <tr>\n",
       "      <th>MCF7A-repro</th>\n",
       "      <td>0</td>\n",
       "      <td>0</td>\n",
       "      <td>0</td>\n",
       "      <td>1</td>\n",
       "    </tr>\n",
       "    <tr>\n",
       "      <th>MCF7D-repro</th>\n",
       "      <td>0</td>\n",
       "      <td>0</td>\n",
       "      <td>0</td>\n",
       "      <td>1</td>\n",
       "    </tr>\n",
       "    <tr>\n",
       "      <th>MELANOMA</th>\n",
       "      <td>8</td>\n",
       "      <td>0</td>\n",
       "      <td>0</td>\n",
       "      <td>0</td>\n",
       "    </tr>\n",
       "    <tr>\n",
       "      <th>NSCLC</th>\n",
       "      <td>8</td>\n",
       "      <td>1</td>\n",
       "      <td>0</td>\n",
       "      <td>0</td>\n",
       "    </tr>\n",
       "    <tr>\n",
       "      <th>OVARIAN</th>\n",
       "      <td>6</td>\n",
       "      <td>0</td>\n",
       "      <td>0</td>\n",
       "      <td>0</td>\n",
       "    </tr>\n",
       "    <tr>\n",
       "      <th>PROSTATE</th>\n",
       "      <td>2</td>\n",
       "      <td>0</td>\n",
       "      <td>0</td>\n",
       "      <td>0</td>\n",
       "    </tr>\n",
       "    <tr>\n",
       "      <th>RENAL</th>\n",
       "      <td>8</td>\n",
       "      <td>1</td>\n",
       "      <td>0</td>\n",
       "      <td>0</td>\n",
       "    </tr>\n",
       "    <tr>\n",
       "      <th>UNKNOWN</th>\n",
       "      <td>1</td>\n",
       "      <td>0</td>\n",
       "      <td>0</td>\n",
       "      <td>0</td>\n",
       "    </tr>\n",
       "  </tbody>\n",
       "</table>\n",
       "</div>"
      ],
      "text/plain": [
       "Complete     0  1  2  3\n",
       "label                  \n",
       "BREAST       2  3  0  2\n",
       "CNS          3  2  0  0\n",
       "COLON        2  0  0  5\n",
       "K562A-repro  0  0  1  0\n",
       "K562B-repro  0  0  1  0\n",
       "LEUKEMIA     0  0  6  0\n",
       "MCF7A-repro  0  0  0  1\n",
       "MCF7D-repro  0  0  0  1\n",
       "MELANOMA     8  0  0  0\n",
       "NSCLC        8  1  0  0\n",
       "OVARIAN      6  0  0  0\n",
       "PROSTATE     2  0  0  0\n",
       "RENAL        8  1  0  0\n",
       "UNKNOWN      1  0  0  0"
      ]
     },
     "execution_count": 58,
     "metadata": {},
     "output_type": "execute_result"
    }
   ],
   "source": [
    "# 使用完整的complete linkage层次聚类进行分析。\n",
    "linkage_comp = compute_linkage(hc_comp)\n",
    "# 我们可以在树高处切割树状图，得到特定数量的簇，比如四个：\n",
    "comp_cut = cut_tree(linkage_comp, n_clusters=4).reshape(-1)\n",
    "# 构建一个交叉表，行是已知的癌症标签，列是聚类编号\n",
    "pd.crosstab(nci_labs['label'], pd.Series(comp_cut.reshape(-1), name='Complete'))"
   ]
  },
  {
   "cell_type": "markdown",
   "id": "f6ca2412-71e8-41b8-a48d-0c4fdd94e997",
   "metadata": {},
   "source": [
    "**LEUKEMIA（白血病）全部被聚为 cluster 2**，表示这一类具有高度相似性，聚类效果很好。\n",
    "\n",
    "**MELANOMA、OVARIAN、RENAL、NSCLC 等实体瘤癌种大多被归为 cluster 0**，说明这些癌种的表达谱存在一定的共性。\n",
    "\n",
    "**COLON 分布在 cluster 0 和 3，但 5 个集中在 cluster 3**，也提示 cluster 3 可能代表结直肠癌相关特征。\n",
    "\n",
    "**BREAST 较为分散**，表明乳腺癌内部存在异质性（不同子型？或技术变异？）\n",
    "\n",
    "**样本分布参考**：\n",
    "- 数据集中有约 14 类癌症标签，但某些标签样本极少（如 K562A、MCF7D 只有 1 个样本），所以真实可区分的类可能没那么多。\n",
    "- 选择 4 个簇是希望避免聚类过细导致结果不稳定。"
   ]
  },
  {
   "cell_type": "code",
   "execution_count": 59,
   "id": "c3c446db-41ac-4a6b-8d72-ebc5e7914dae",
   "metadata": {},
   "outputs": [
    {
     "data": {
      "image/png": "[encoded data removed]",
      "text/plain": [
       "<Figure size 1000x1000 with 1 Axes>"
      ]
     },
     "metadata": {},
     "output_type": "display_data"
    }
   ],
   "source": [
    "fig, ax = plt.subplots(figsize=(10,10))\n",
    "# 顶部绘制一条水平线，高亮不同聚类的颜色\n",
    "plot_nci('Complete', ax, cut=140)\n",
    "# 表示在该树高水平切断 → 即定义了“4 个聚类”的切割标准。\n",
    "ax.axhline(140, c='r', linewidth=4);"
   ]
  },
  {
   "cell_type": "markdown",
   "id": "5506c242-75f4-4ad4-9186-000ff1909322",
   "metadata": {},
   "source": [
    "### **案例结论**\n",
    "\n",
    "**1**. 选择4 个簇（聚类数量）的核心目的是在**捕捉数据的主要结构特征和保持模型简洁性之间取得平衡**。\n",
    "\n",
    "**2. 观察树状图的结构**：  \n",
    "- 树状图中在高度约为 140 的地方，出现了一个“明显跳跃”或较大的垂直距离差异，**意味着数据在该层次上分成了相对稳定的 4 个聚类结构**。\n",
    "- 这种“跳跃”通常被称为 最大联接距离差，表示形成新的簇时需要额外“牺牲”的距离。\n",
    "\n",
    "**3. 简洁性与可视化清晰度**：  \n",
    "- 从分析和解释角度看，4 个簇足以揭示 LEUKEMIA 的分离性、实体瘤的异质性，且可清楚在树状图中呈现不同颜色块。\n",
    "\n",
    "\n",
    "| 项目   | 结论                                                            |\n",
    "| ---- | ------------------------------------------------------------- |\n",
    "| **聚类方法** | 使用 complete linkage，生成结构清晰、类内紧密的聚类结果                          |\n",
    "| **聚类数量** | 指定为 4，能够捕捉癌症细胞类型的主要变异方向                                       |\n",
    "| **效果表现** | 白血病细胞被完美聚类；其他癌种中 MELANOMA、RENAL 等也表现不错；乳腺癌具有较大异质性             |\n",
    "| **结论意义** | 聚类结果在无监督条件下成功揭示了某些癌症类型的生物学一致性|\n",
    "\n",
    "**该数据具有潜在的结构性，可用于后续分类建模或特征选择等任务** "
   ]
  }
 ],
 "metadata": {
  "kernelspec": {
   "display_name": "Python 3 (ipykernel)",
   "language": "python",
   "name": "python3"
  },
  "language_info": {
   "codemirror_mode": {
    "name": "ipython",
    "version": 3
   },
   "file_extension": ".py",
   "mimetype": "text/x-python",
   "name": "python",
   "nbconvert_exporter": "python",
   "pygments_lexer": "ipython3",
   "version": "3.12.3"
  }
 },
 "nbformat": 4,
 "nbformat_minor": 5
}
